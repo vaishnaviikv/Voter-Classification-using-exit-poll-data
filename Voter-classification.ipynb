{
  "cells": [
    {
      "cell_type": "markdown",
      "metadata": {
        "id": "5utDL7u6jA39"
      },
      "source": [
        "# Voter classification using exit poll data"
      ]
    },
    {
      "cell_type": "markdown",
      "metadata": {
        "id": "wTUXZ247jA4J"
      },
      "source": [
        "In this notebook, we will explore the problem of voter classification.\n",
        "\n",
        "Given demographic data about a voter and their opinions on certain key issues, can we predict their vote in the 2016 U.S. presidential election? We will attempt this using a K nearest neighbor classifier.\n",
        "\n",
        "In the first few sections of this notebook, I will show you how to prepare the data and and use a K nearest neighbors classifier for this task, including:\n",
        "\n",
        "-   getting the data and loading it into the workspace.\n",
        "-   preparing the data: dealing with missing data, encoding categorical data in numeric format, and splitting into training and test.\n",
        "\n",
        "In the last few sections of the notebook, you will have to improve the basic model for better performance, using a custom distance metric and using feature weighting. In these sections, you will have specific criteria to satisfy for each task.\n",
        "\n",
        "**However, you should also make sure your overall solution is good!** An excellent solution to this problem will achieve greater than 80% validation accuracy. A great solution will achieve 75% or higher."
      ]
    },
    {
      "cell_type": "markdown",
      "metadata": {
        "id": "_xupv10zjA4M"
      },
      "source": [
        "## Import libraries"
      ]
    },
    {
      "cell_type": "code",
      "execution_count": 1,
      "metadata": {
        "id": "Inp29SFtjA4N"
      },
      "outputs": [],
      "source": [
        "import pandas as pd\n",
        "import numpy as np\n",
        "import matplotlib.pyplot as plt\n",
        "import seaborn as sns\n",
        "from tqdm import tqdm\n",
        "\n",
        "from sklearn.preprocessing import MinMaxScaler\n",
        "from sklearn.model_selection import ShuffleSplit, KFold\n",
        "from sklearn.neighbors import KNeighborsClassifier\n",
        "from sklearn.metrics import accuracy_score\n",
        "\n",
        "np.set_printoptions(suppress=True)"
      ]
    },
    {
      "cell_type": "markdown",
      "metadata": {
        "id": "0YS5ANpwjA4R"
      },
      "source": [
        "## Load data"
      ]
    },
    {
      "cell_type": "markdown",
      "metadata": {
        "id": "KzzG81zCjA4S"
      },
      "source": [
        "The data for this notebook comes from the [U.S. National Election Day Exit Polls](https://ropercenter.cornell.edu/exit-polls/us-national-election-day-exit-polls).\n",
        "\n",
        "Here’s a brief description of how exit polls work.\n",
        "\n",
        "Exit polls are conducted by Edison Research on behalf of a consortium of media organizations.\n",
        "\n",
        "First, the member organizations decide what races to cover, what sample size they want, what questions should be asks, and other details. Then, sample precincts are selected, and local interviewers are hired and trained. Then, at those precincts, the local interviewer approaches a subset of voters as they exit the polls (for example, every third voter, or every fifth voter, depending on the required sample size).\n",
        "\n",
        "When a voter is approached, they are asked if they are willing to fill out a questionnaire. Typically about 40-50% agree. (For those that decline, the interviewer visually estimates their age, race, and gender, and notes this information, so that the response rate by demographic is known and responses can be weighted accordingly in order to be more representative of the population.)\n",
        "\n",
        "Voters that agree to participate are then given an form with 15-20 questions. They fill in the form (anonymously), fold it, and put it in a small ballot box.\n",
        "\n",
        "Three times during the day, the interviewers will stop, take the questionnaires, compile the results, and call them in to the Edison Research phone center. The results are reported immediately to the media organizations that are consortium members.\n",
        "\n",
        "In addition to the poll of in-person voters, absentee and early voters (who are not at the polls on Election Day) are surveyed by telephone."
      ]
    },
    {
      "cell_type": "markdown",
      "metadata": {
        "id": "HJhINKOwjA4U"
      },
      "source": [
        "### Download the data and documentation\n",
        "\n",
        "The exit poll data is not freely available on the web, but is available to those with institutional membership. You will be able to use your NYU email address to create an account with which you can download the exit poll data.\n",
        "\n",
        "To get the data:\n",
        "\n",
        "1.  Visit [the Roper Center website via NYU Libraries link](https://persistent.library.nyu.edu/arch/NYU02495). Click on the user icon in the top right of the page, and choose “Log in”.\n",
        "2.  For “Your Affiliation”, choose “New York University”.\n",
        "3.  Then, click on the small red text “Register” below the password input field. The email and password fields will be replaced by a new email field with two parts.\n",
        "4.  Enter your NYU email address in the email field, and then click the red “Register” button.\n",
        "5.  You will get an email at your NYU email address with the subject “Roper iPoll Account Registration”. Open the email and click “Confirm Account” to create a password and finish your account registration.\n",
        "6.  Once you have completed your account registration, log in to Roper iPoll by clicking the user icon in the top right of the page, choosing “Log in”, and entering your NYU email address and password.\n",
        "7.  Then, open the Study Record for the [2016 National Election Day Exit Poll](https://ropercenter.cornell.edu/ipoll/study/31116396).\n",
        "8.  Click on the “Downloads” tab, and then click on the CSV data file in the “Datasets” section of this tab. Press “Accept” to accept the terms and conditions. Find the file `31116396_National2016.csv` in your browser’s default download location.\n",
        "9.  After you download the CSV file, scroll down a bit until you see the “Study Documentation, Questionnaire and Codebooks” PDF file. Download this file as well."
      ]
    },
    {
      "cell_type": "markdown",
      "metadata": {
        "id": "H2AFfddhjA4V"
      },
      "source": [
        "### Upload into Colab filesystem\n",
        "\n",
        "To get the data into Colab, run the following cell. Upload the CSV file you just downloaded (`31116396_National2016.csv`) to your Colab workspace. Wait until the uploaded has **completely** finished - it may take a while, depending on the quality of your network connection."
      ]
    },
    {
      "cell_type": "code",
      "execution_count": 2,
      "metadata": {
        "colab": {
          "base_uri": "https://localhost:8080/",
          "height": 54
        },
        "id": "Or96qFfRjA4W",
        "outputId": "93f10740-8ba7-467a-ff8d-cf645b70e13e"
      },
      "outputs": [
        {
          "data": {
            "text/html": [
              "\n",
              "     <input type=\"file\" id=\"files-a62a6560-020b-4574-bffe-19e8d9ac4704\" name=\"files[]\" multiple disabled\n",
              "        style=\"border:none\" />\n",
              "     <output id=\"result-a62a6560-020b-4574-bffe-19e8d9ac4704\">\n",
              "      Upload widget is only available when the cell has been executed in the\n",
              "      current browser session. Please rerun this cell to enable.\n",
              "      </output>\n",
              "      <script>// Copyright 2017 Google LLC\n",
              "//\n",
              "// Licensed under the Apache License, Version 2.0 (the \"License\");\n",
              "// you may not use this file except in compliance with the License.\n",
              "// You may obtain a copy of the License at\n",
              "//\n",
              "//      http://www.apache.org/licenses/LICENSE-2.0\n",
              "//\n",
              "// Unless required by applicable law or agreed to in writing, software\n",
              "// distributed under the License is distributed on an \"AS IS\" BASIS,\n",
              "// WITHOUT WARRANTIES OR CONDITIONS OF ANY KIND, either express or implied.\n",
              "// See the License for the specific language governing permissions and\n",
              "// limitations under the License.\n",
              "\n",
              "/**\n",
              " * @fileoverview Helpers for google.colab Python module.\n",
              " */\n",
              "(function(scope) {\n",
              "function span(text, styleAttributes = {}) {\n",
              "  const element = document.createElement('span');\n",
              "  element.textContent = text;\n",
              "  for (const key of Object.keys(styleAttributes)) {\n",
              "    element.style[key] = styleAttributes[key];\n",
              "  }\n",
              "  return element;\n",
              "}\n",
              "\n",
              "// Max number of bytes which will be uploaded at a time.\n",
              "const MAX_PAYLOAD_SIZE = 100 * 1024;\n",
              "\n",
              "function _uploadFiles(inputId, outputId) {\n",
              "  const steps = uploadFilesStep(inputId, outputId);\n",
              "  const outputElement = document.getElementById(outputId);\n",
              "  // Cache steps on the outputElement to make it available for the next call\n",
              "  // to uploadFilesContinue from Python.\n",
              "  outputElement.steps = steps;\n",
              "\n",
              "  return _uploadFilesContinue(outputId);\n",
              "}\n",
              "\n",
              "// This is roughly an async generator (not supported in the browser yet),\n",
              "// where there are multiple asynchronous steps and the Python side is going\n",
              "// to poll for completion of each step.\n",
              "// This uses a Promise to block the python side on completion of each step,\n",
              "// then passes the result of the previous step as the input to the next step.\n",
              "function _uploadFilesContinue(outputId) {\n",
              "  const outputElement = document.getElementById(outputId);\n",
              "  const steps = outputElement.steps;\n",
              "\n",
              "  const next = steps.next(outputElement.lastPromiseValue);\n",
              "  return Promise.resolve(next.value.promise).then((value) => {\n",
              "    // Cache the last promise value to make it available to the next\n",
              "    // step of the generator.\n",
              "    outputElement.lastPromiseValue = value;\n",
              "    return next.value.response;\n",
              "  });\n",
              "}\n",
              "\n",
              "/**\n",
              " * Generator function which is called between each async step of the upload\n",
              " * process.\n",
              " * @param {string} inputId Element ID of the input file picker element.\n",
              " * @param {string} outputId Element ID of the output display.\n",
              " * @return {!Iterable<!Object>} Iterable of next steps.\n",
              " */\n",
              "function* uploadFilesStep(inputId, outputId) {\n",
              "  const inputElement = document.getElementById(inputId);\n",
              "  inputElement.disabled = false;\n",
              "\n",
              "  const outputElement = document.getElementById(outputId);\n",
              "  outputElement.innerHTML = '';\n",
              "\n",
              "  const pickedPromise = new Promise((resolve) => {\n",
              "    inputElement.addEventListener('change', (e) => {\n",
              "      resolve(e.target.files);\n",
              "    });\n",
              "  });\n",
              "\n",
              "  const cancel = document.createElement('button');\n",
              "  inputElement.parentElement.appendChild(cancel);\n",
              "  cancel.textContent = 'Cancel upload';\n",
              "  const cancelPromise = new Promise((resolve) => {\n",
              "    cancel.onclick = () => {\n",
              "      resolve(null);\n",
              "    };\n",
              "  });\n",
              "\n",
              "  // Wait for the user to pick the files.\n",
              "  const files = yield {\n",
              "    promise: Promise.race([pickedPromise, cancelPromise]),\n",
              "    response: {\n",
              "      action: 'starting',\n",
              "    }\n",
              "  };\n",
              "\n",
              "  cancel.remove();\n",
              "\n",
              "  // Disable the input element since further picks are not allowed.\n",
              "  inputElement.disabled = true;\n",
              "\n",
              "  if (!files) {\n",
              "    return {\n",
              "      response: {\n",
              "        action: 'complete',\n",
              "      }\n",
              "    };\n",
              "  }\n",
              "\n",
              "  for (const file of files) {\n",
              "    const li = document.createElement('li');\n",
              "    li.append(span(file.name, {fontWeight: 'bold'}));\n",
              "    li.append(span(\n",
              "        `(${file.type || 'n/a'}) - ${file.size} bytes, ` +\n",
              "        `last modified: ${\n",
              "            file.lastModifiedDate ? file.lastModifiedDate.toLocaleDateString() :\n",
              "                                    'n/a'} - `));\n",
              "    const percent = span('0% done');\n",
              "    li.appendChild(percent);\n",
              "\n",
              "    outputElement.appendChild(li);\n",
              "\n",
              "    const fileDataPromise = new Promise((resolve) => {\n",
              "      const reader = new FileReader();\n",
              "      reader.onload = (e) => {\n",
              "        resolve(e.target.result);\n",
              "      };\n",
              "      reader.readAsArrayBuffer(file);\n",
              "    });\n",
              "    // Wait for the data to be ready.\n",
              "    let fileData = yield {\n",
              "      promise: fileDataPromise,\n",
              "      response: {\n",
              "        action: 'continue',\n",
              "      }\n",
              "    };\n",
              "\n",
              "    // Use a chunked sending to avoid message size limits. See b/62115660.\n",
              "    let position = 0;\n",
              "    do {\n",
              "      const length = Math.min(fileData.byteLength - position, MAX_PAYLOAD_SIZE);\n",
              "      const chunk = new Uint8Array(fileData, position, length);\n",
              "      position += length;\n",
              "\n",
              "      const base64 = btoa(String.fromCharCode.apply(null, chunk));\n",
              "      yield {\n",
              "        response: {\n",
              "          action: 'append',\n",
              "          file: file.name,\n",
              "          data: base64,\n",
              "        },\n",
              "      };\n",
              "\n",
              "      let percentDone = fileData.byteLength === 0 ?\n",
              "          100 :\n",
              "          Math.round((position / fileData.byteLength) * 100);\n",
              "      percent.textContent = `${percentDone}% done`;\n",
              "\n",
              "    } while (position < fileData.byteLength);\n",
              "  }\n",
              "\n",
              "  // All done.\n",
              "  yield {\n",
              "    response: {\n",
              "      action: 'complete',\n",
              "    }\n",
              "  };\n",
              "}\n",
              "\n",
              "scope.google = scope.google || {};\n",
              "scope.google.colab = scope.google.colab || {};\n",
              "scope.google.colab._files = {\n",
              "  _uploadFiles,\n",
              "  _uploadFilesContinue,\n",
              "};\n",
              "})(self);\n",
              "</script> "
            ],
            "text/plain": [
              "<IPython.core.display.HTML object>"
            ]
          },
          "metadata": {},
          "output_type": "display_data"
        }
      ],
      "source": [
        "try:\n",
        "  from google.colab import files\n",
        "\n",
        "  uploaded = files.upload()\n",
        "\n",
        "  for fn in uploaded.keys():\n",
        "    print('User uploaded file \"{name}\" with length {length} bytes'.format(\n",
        "        name=fn, length=len(uploaded[fn])))\n",
        "\n",
        "except:\n",
        "  pass # not running in Colab"
      ]
    },
    {
      "cell_type": "markdown",
      "metadata": {
        "id": "Y1rw2oXgjA4X"
      },
      "source": [
        "### Load data with pandas\n",
        "\n",
        "Now, use the `read_csv` function in `pandas` to read in the file.\n",
        "\n",
        "Also use `head` to view the first few rows of data and make sure that everything is read in correctly."
      ]
    },
    {
      "cell_type": "code",
      "execution_count": 3,
      "metadata": {
        "colab": {
          "base_uri": "https://localhost:8080/",
          "height": 236
        },
        "id": "wjTAqueJjA4X",
        "outputId": "97aa4150-8b66-42a5-a053-75043d2e7721"
      },
      "outputs": [
        {
          "data": {
            "application/vnd.google.colaboratory.intrinsic+json": {
              "type": "dataframe",
              "variable_name": "df"
            },
            "text/html": [
              "\n",
              "  <div id=\"df-1ec89193-1b52-4d53-9c93-06c44dd46101\" class=\"colab-df-container\">\n",
              "    <div>\n",
              "<style scoped>\n",
              "    .dataframe tbody tr th:only-of-type {\n",
              "        vertical-align: middle;\n",
              "    }\n",
              "\n",
              "    .dataframe tbody tr th {\n",
              "        vertical-align: top;\n",
              "    }\n",
              "\n",
              "    .dataframe thead th {\n",
              "        text-align: right;\n",
              "    }\n",
              "</style>\n",
              "<table border=\"1\" class=\"dataframe\">\n",
              "  <thead>\n",
              "    <tr style=\"text-align: right;\">\n",
              "      <th></th>\n",
              "      <th>ID</th>\n",
              "      <th>PRES</th>\n",
              "      <th>HOU</th>\n",
              "      <th>WEIGHT</th>\n",
              "      <th>@2WAYPRES16</th>\n",
              "      <th>AGE</th>\n",
              "      <th>AGE3</th>\n",
              "      <th>AGE8</th>\n",
              "      <th>AGE45</th>\n",
              "      <th>AGE49</th>\n",
              "      <th>...</th>\n",
              "      <th>TRUMPWOMEN</th>\n",
              "      <th>TRUMPWOMENB</th>\n",
              "      <th>UNIONHH12</th>\n",
              "      <th>VERSION</th>\n",
              "      <th>VETVOTER</th>\n",
              "      <th>WHITEREL</th>\n",
              "      <th>WHNCLINC</th>\n",
              "      <th>WHTEVANG</th>\n",
              "      <th>WPROTBRN</th>\n",
              "      <th>WPROTBRN3</th>\n",
              "    </tr>\n",
              "  </thead>\n",
              "  <tbody>\n",
              "    <tr>\n",
              "      <th>0</th>\n",
              "      <td>135355</td>\n",
              "      <td>Hillary Clinton</td>\n",
              "      <td>The Democratic candidate</td>\n",
              "      <td>6.530935</td>\n",
              "      <td></td>\n",
              "      <td>18-29</td>\n",
              "      <td>18-29</td>\n",
              "      <td>18-24</td>\n",
              "      <td>18-44</td>\n",
              "      <td>18-49</td>\n",
              "      <td>...</td>\n",
              "      <td></td>\n",
              "      <td></td>\n",
              "      <td></td>\n",
              "      <td>Version 1</td>\n",
              "      <td></td>\n",
              "      <td></td>\n",
              "      <td>No</td>\n",
              "      <td></td>\n",
              "      <td></td>\n",
              "      <td></td>\n",
              "    </tr>\n",
              "    <tr>\n",
              "      <th>1</th>\n",
              "      <td>135356</td>\n",
              "      <td>Hillary Clinton</td>\n",
              "      <td>The Democratic candidate</td>\n",
              "      <td>6.479016</td>\n",
              "      <td></td>\n",
              "      <td>18-29</td>\n",
              "      <td>18-29</td>\n",
              "      <td>25-29</td>\n",
              "      <td>18-44</td>\n",
              "      <td>18-49</td>\n",
              "      <td>...</td>\n",
              "      <td></td>\n",
              "      <td></td>\n",
              "      <td></td>\n",
              "      <td>Version 1</td>\n",
              "      <td></td>\n",
              "      <td></td>\n",
              "      <td>No</td>\n",
              "      <td></td>\n",
              "      <td></td>\n",
              "      <td></td>\n",
              "    </tr>\n",
              "    <tr>\n",
              "      <th>2</th>\n",
              "      <td>135357</td>\n",
              "      <td>Hillary Clinton</td>\n",
              "      <td>The Democratic candidate</td>\n",
              "      <td>8.493230</td>\n",
              "      <td></td>\n",
              "      <td>30-44</td>\n",
              "      <td>30-59</td>\n",
              "      <td>30-39</td>\n",
              "      <td>18-44</td>\n",
              "      <td>18-49</td>\n",
              "      <td>...</td>\n",
              "      <td></td>\n",
              "      <td></td>\n",
              "      <td></td>\n",
              "      <td>Version 1</td>\n",
              "      <td></td>\n",
              "      <td></td>\n",
              "      <td>No</td>\n",
              "      <td></td>\n",
              "      <td></td>\n",
              "      <td></td>\n",
              "    </tr>\n",
              "    <tr>\n",
              "      <th>3</th>\n",
              "      <td>135358</td>\n",
              "      <td>Hillary Clinton</td>\n",
              "      <td>The Democratic candidate</td>\n",
              "      <td>3.761814</td>\n",
              "      <td></td>\n",
              "      <td>30-44</td>\n",
              "      <td>30-59</td>\n",
              "      <td>30-39</td>\n",
              "      <td>18-44</td>\n",
              "      <td>18-49</td>\n",
              "      <td>...</td>\n",
              "      <td></td>\n",
              "      <td></td>\n",
              "      <td></td>\n",
              "      <td>Version 1</td>\n",
              "      <td></td>\n",
              "      <td></td>\n",
              "      <td>No</td>\n",
              "      <td></td>\n",
              "      <td></td>\n",
              "      <td></td>\n",
              "    </tr>\n",
              "    <tr>\n",
              "      <th>4</th>\n",
              "      <td>135359</td>\n",
              "      <td>Hillary Clinton</td>\n",
              "      <td>The Democratic candidate</td>\n",
              "      <td>3.470473</td>\n",
              "      <td></td>\n",
              "      <td>45-65</td>\n",
              "      <td>30-59</td>\n",
              "      <td>45-49</td>\n",
              "      <td>45+</td>\n",
              "      <td>18-49</td>\n",
              "      <td>...</td>\n",
              "      <td></td>\n",
              "      <td></td>\n",
              "      <td></td>\n",
              "      <td>Version 1</td>\n",
              "      <td></td>\n",
              "      <td></td>\n",
              "      <td>No</td>\n",
              "      <td></td>\n",
              "      <td></td>\n",
              "      <td></td>\n",
              "    </tr>\n",
              "  </tbody>\n",
              "</table>\n",
              "<p>5 rows × 138 columns</p>\n",
              "</div>\n",
              "    <div class=\"colab-df-buttons\">\n",
              "\n",
              "  <div class=\"colab-df-container\">\n",
              "    <button class=\"colab-df-convert\" onclick=\"convertToInteractive('df-1ec89193-1b52-4d53-9c93-06c44dd46101')\"\n",
              "            title=\"Convert this dataframe to an interactive table.\"\n",
              "            style=\"display:none;\">\n",
              "\n",
              "  <svg xmlns=\"http://www.w3.org/2000/svg\" height=\"24px\" viewBox=\"0 -960 960 960\">\n",
              "    <path d=\"M120-120v-720h720v720H120Zm60-500h600v-160H180v160Zm220 220h160v-160H400v160Zm0 220h160v-160H400v160ZM180-400h160v-160H180v160Zm440 0h160v-160H620v160ZM180-180h160v-160H180v160Zm440 0h160v-160H620v160Z\"/>\n",
              "  </svg>\n",
              "    </button>\n",
              "\n",
              "  <style>\n",
              "    .colab-df-container {\n",
              "      display:flex;\n",
              "      gap: 12px;\n",
              "    }\n",
              "\n",
              "    .colab-df-convert {\n",
              "      background-color: #E8F0FE;\n",
              "      border: none;\n",
              "      border-radius: 50%;\n",
              "      cursor: pointer;\n",
              "      display: none;\n",
              "      fill: #1967D2;\n",
              "      height: 32px;\n",
              "      padding: 0 0 0 0;\n",
              "      width: 32px;\n",
              "    }\n",
              "\n",
              "    .colab-df-convert:hover {\n",
              "      background-color: #E2EBFA;\n",
              "      box-shadow: 0px 1px 2px rgba(60, 64, 67, 0.3), 0px 1px 3px 1px rgba(60, 64, 67, 0.15);\n",
              "      fill: #174EA6;\n",
              "    }\n",
              "\n",
              "    .colab-df-buttons div {\n",
              "      margin-bottom: 4px;\n",
              "    }\n",
              "\n",
              "    [theme=dark] .colab-df-convert {\n",
              "      background-color: #3B4455;\n",
              "      fill: #D2E3FC;\n",
              "    }\n",
              "\n",
              "    [theme=dark] .colab-df-convert:hover {\n",
              "      background-color: #434B5C;\n",
              "      box-shadow: 0px 1px 3px 1px rgba(0, 0, 0, 0.15);\n",
              "      filter: drop-shadow(0px 1px 2px rgba(0, 0, 0, 0.3));\n",
              "      fill: #FFFFFF;\n",
              "    }\n",
              "  </style>\n",
              "\n",
              "    <script>\n",
              "      const buttonEl =\n",
              "        document.querySelector('#df-1ec89193-1b52-4d53-9c93-06c44dd46101 button.colab-df-convert');\n",
              "      buttonEl.style.display =\n",
              "        google.colab.kernel.accessAllowed ? 'block' : 'none';\n",
              "\n",
              "      async function convertToInteractive(key) {\n",
              "        const element = document.querySelector('#df-1ec89193-1b52-4d53-9c93-06c44dd46101');\n",
              "        const dataTable =\n",
              "          await google.colab.kernel.invokeFunction('convertToInteractive',\n",
              "                                                    [key], {});\n",
              "        if (!dataTable) return;\n",
              "\n",
              "        const docLinkHtml = 'Like what you see? Visit the ' +\n",
              "          '<a target=\"_blank\" href=https://colab.research.google.com/notebooks/data_table.ipynb>data table notebook</a>'\n",
              "          + ' to learn more about interactive tables.';\n",
              "        element.innerHTML = '';\n",
              "        dataTable['output_type'] = 'display_data';\n",
              "        await google.colab.output.renderOutput(dataTable, element);\n",
              "        const docLink = document.createElement('div');\n",
              "        docLink.innerHTML = docLinkHtml;\n",
              "        element.appendChild(docLink);\n",
              "      }\n",
              "    </script>\n",
              "  </div>\n",
              "\n",
              "\n",
              "<div id=\"df-7fc6f5ed-3794-4f60-b192-fcd4d52ad676\">\n",
              "  <button class=\"colab-df-quickchart\" onclick=\"quickchart('df-7fc6f5ed-3794-4f60-b192-fcd4d52ad676')\"\n",
              "            title=\"Suggest charts\"\n",
              "            style=\"display:none;\">\n",
              "\n",
              "<svg xmlns=\"http://www.w3.org/2000/svg\" height=\"24px\"viewBox=\"0 0 24 24\"\n",
              "     width=\"24px\">\n",
              "    <g>\n",
              "        <path d=\"M19 3H5c-1.1 0-2 .9-2 2v14c0 1.1.9 2 2 2h14c1.1 0 2-.9 2-2V5c0-1.1-.9-2-2-2zM9 17H7v-7h2v7zm4 0h-2V7h2v10zm4 0h-2v-4h2v4z\"/>\n",
              "    </g>\n",
              "</svg>\n",
              "  </button>\n",
              "\n",
              "<style>\n",
              "  .colab-df-quickchart {\n",
              "      --bg-color: #E8F0FE;\n",
              "      --fill-color: #1967D2;\n",
              "      --hover-bg-color: #E2EBFA;\n",
              "      --hover-fill-color: #174EA6;\n",
              "      --disabled-fill-color: #AAA;\n",
              "      --disabled-bg-color: #DDD;\n",
              "  }\n",
              "\n",
              "  [theme=dark] .colab-df-quickchart {\n",
              "      --bg-color: #3B4455;\n",
              "      --fill-color: #D2E3FC;\n",
              "      --hover-bg-color: #434B5C;\n",
              "      --hover-fill-color: #FFFFFF;\n",
              "      --disabled-bg-color: #3B4455;\n",
              "      --disabled-fill-color: #666;\n",
              "  }\n",
              "\n",
              "  .colab-df-quickchart {\n",
              "    background-color: var(--bg-color);\n",
              "    border: none;\n",
              "    border-radius: 50%;\n",
              "    cursor: pointer;\n",
              "    display: none;\n",
              "    fill: var(--fill-color);\n",
              "    height: 32px;\n",
              "    padding: 0;\n",
              "    width: 32px;\n",
              "  }\n",
              "\n",
              "  .colab-df-quickchart:hover {\n",
              "    background-color: var(--hover-bg-color);\n",
              "    box-shadow: 0 1px 2px rgba(60, 64, 67, 0.3), 0 1px 3px 1px rgba(60, 64, 67, 0.15);\n",
              "    fill: var(--button-hover-fill-color);\n",
              "  }\n",
              "\n",
              "  .colab-df-quickchart-complete:disabled,\n",
              "  .colab-df-quickchart-complete:disabled:hover {\n",
              "    background-color: var(--disabled-bg-color);\n",
              "    fill: var(--disabled-fill-color);\n",
              "    box-shadow: none;\n",
              "  }\n",
              "\n",
              "  .colab-df-spinner {\n",
              "    border: 2px solid var(--fill-color);\n",
              "    border-color: transparent;\n",
              "    border-bottom-color: var(--fill-color);\n",
              "    animation:\n",
              "      spin 1s steps(1) infinite;\n",
              "  }\n",
              "\n",
              "  @keyframes spin {\n",
              "    0% {\n",
              "      border-color: transparent;\n",
              "      border-bottom-color: var(--fill-color);\n",
              "      border-left-color: var(--fill-color);\n",
              "    }\n",
              "    20% {\n",
              "      border-color: transparent;\n",
              "      border-left-color: var(--fill-color);\n",
              "      border-top-color: var(--fill-color);\n",
              "    }\n",
              "    30% {\n",
              "      border-color: transparent;\n",
              "      border-left-color: var(--fill-color);\n",
              "      border-top-color: var(--fill-color);\n",
              "      border-right-color: var(--fill-color);\n",
              "    }\n",
              "    40% {\n",
              "      border-color: transparent;\n",
              "      border-right-color: var(--fill-color);\n",
              "      border-top-color: var(--fill-color);\n",
              "    }\n",
              "    60% {\n",
              "      border-color: transparent;\n",
              "      border-right-color: var(--fill-color);\n",
              "    }\n",
              "    80% {\n",
              "      border-color: transparent;\n",
              "      border-right-color: var(--fill-color);\n",
              "      border-bottom-color: var(--fill-color);\n",
              "    }\n",
              "    90% {\n",
              "      border-color: transparent;\n",
              "      border-bottom-color: var(--fill-color);\n",
              "    }\n",
              "  }\n",
              "</style>\n",
              "\n",
              "  <script>\n",
              "    async function quickchart(key) {\n",
              "      const quickchartButtonEl =\n",
              "        document.querySelector('#' + key + ' button');\n",
              "      quickchartButtonEl.disabled = true;  // To prevent multiple clicks.\n",
              "      quickchartButtonEl.classList.add('colab-df-spinner');\n",
              "      try {\n",
              "        const charts = await google.colab.kernel.invokeFunction(\n",
              "            'suggestCharts', [key], {});\n",
              "      } catch (error) {\n",
              "        console.error('Error during call to suggestCharts:', error);\n",
              "      }\n",
              "      quickchartButtonEl.classList.remove('colab-df-spinner');\n",
              "      quickchartButtonEl.classList.add('colab-df-quickchart-complete');\n",
              "    }\n",
              "    (() => {\n",
              "      let quickchartButtonEl =\n",
              "        document.querySelector('#df-7fc6f5ed-3794-4f60-b192-fcd4d52ad676 button');\n",
              "      quickchartButtonEl.style.display =\n",
              "        google.colab.kernel.accessAllowed ? 'block' : 'none';\n",
              "    })();\n",
              "  </script>\n",
              "</div>\n",
              "\n",
              "    </div>\n",
              "  </div>\n"
            ],
            "text/plain": [
              "       ID             PRES                       HOU    WEIGHT @2WAYPRES16  \\\n",
              "0  135355  Hillary Clinton  The Democratic candidate  6.530935               \n",
              "1  135356  Hillary Clinton  The Democratic candidate  6.479016               \n",
              "2  135357  Hillary Clinton  The Democratic candidate  8.493230               \n",
              "3  135358  Hillary Clinton  The Democratic candidate  3.761814               \n",
              "4  135359  Hillary Clinton  The Democratic candidate  3.470473               \n",
              "\n",
              "     AGE   AGE3   AGE8  AGE45  AGE49  ... TRUMPWOMEN TRUMPWOMENB UNIONHH12  \\\n",
              "0  18-29  18-29  18-24  18-44  18-49  ...                                    \n",
              "1  18-29  18-29  25-29  18-44  18-49  ...                                    \n",
              "2  30-44  30-59  30-39  18-44  18-49  ...                                    \n",
              "3  30-44  30-59  30-39  18-44  18-49  ...                                    \n",
              "4  45-65  30-59  45-49    45+  18-49  ...                                    \n",
              "\n",
              "     VERSION VETVOTER WHITEREL WHNCLINC WHTEVANG WPROTBRN WPROTBRN3  \n",
              "0  Version 1                         No                              \n",
              "1  Version 1                         No                              \n",
              "2  Version 1                         No                              \n",
              "3  Version 1                         No                              \n",
              "4  Version 1                         No                              \n",
              "\n",
              "[5 rows x 138 columns]"
            ]
          },
          "execution_count": 3,
          "metadata": {},
          "output_type": "execute_result"
        }
      ],
      "source": [
        "df = pd.read_csv('31116396_National2016.csv')\n",
        "df.head()"
      ]
    },
    {
      "cell_type": "markdown",
      "metadata": {
        "id": "mCpk2Hm6jA4Y"
      },
      "source": [
        "## Prepare data"
      ]
    },
    {
      "cell_type": "markdown",
      "metadata": {
        "id": "MSHevuLZjA4Z"
      },
      "source": [
        "Survey data can be tricky to work with, because surveys often “branch”; the questions that are asked depends on a respondent’s answers to other questions.\n",
        "\n",
        "In this case, different respondents fill out different versions of the survey. Review pages 7-11 of the “Study Documentation, Questionnaire, and Codebooks” PDF file you downloaded earlier, which shows the five different questionnaire versions used for the 2016 exit polls.\n",
        "\n",
        "Note that in a red box next to each question, you can see the name of the variable (column name) that the respondent’s answer will be stored in."
      ]
    },
    {
      "cell_type": "markdown",
      "metadata": {
        "id": "7R8g7UfvjA4a"
      },
      "source": [
        "<figure>\n",
        "<img src=\"https://raw.githubusercontent.com/ffund/ml-notebooks/master/notebooks/images/exit-poll-survey-versions.png\" alt=\"Exit poll versions\" />\n",
        "<figcaption aria-hidden=\"true\">Exit poll versions</figcaption>\n",
        "</figure>"
      ]
    },
    {
      "cell_type": "markdown",
      "metadata": {
        "id": "2xm1jxeSjA4b"
      },
      "source": [
        "This cell will tell us how many respondents answered each version of the survey:"
      ]
    },
    {
      "cell_type": "code",
      "execution_count": 4,
      "metadata": {
        "colab": {
          "base_uri": "https://localhost:8080/"
        },
        "id": "kxLD64XtjA4b",
        "outputId": "59043c21-075d-4611-a856-5db9f8adcbbc"
      },
      "outputs": [
        {
          "data": {
            "text/plain": [
              "VERSION\n",
              "Version 2    713\n",
              "Version 3    687\n",
              "Version 1    678\n",
              "Version 4    676\n",
              "Version 5    366\n",
              "Name: count, dtype: int64"
            ]
          },
          "execution_count": 4,
          "metadata": {},
          "output_type": "execute_result"
        }
      ],
      "source": [
        "df['VERSION'].value_counts()"
      ]
    },
    {
      "cell_type": "markdown",
      "metadata": {
        "id": "ir7F-hu4jA4c"
      },
      "source": [
        "Because each respondent answers different questions, for each row in the data, only some of the columns - the columns corresponding to questions included in that version of the survey - have data. Our classifier will need to handle that."
      ]
    },
    {
      "cell_type": "markdown",
      "metadata": {
        "id": "jYCyCxu_jA4d"
      },
      "source": [
        "You may also notice that the data is *categorical*, not *numeric* - for each question, users choose their response from a finite set of possible answers. We will need to convert this type of data into something that our classifier can work with."
      ]
    },
    {
      "cell_type": "markdown",
      "metadata": {
        "id": "V_aGHulNjA4d"
      },
      "source": [
        "### Label missing data"
      ]
    },
    {
      "cell_type": "markdown",
      "metadata": {
        "id": "vvmgv2m6jA4e"
      },
      "source": [
        "Since each respondent only saw a subset of questions, we expect to see missing values in each column.\n",
        "\n",
        "However, if we look at the **count** of values in each column, we see that there are no missing values - every column has the full count!"
      ]
    },
    {
      "cell_type": "code",
      "execution_count": 5,
      "metadata": {
        "colab": {
          "base_uri": "https://localhost:8080/",
          "height": 424
        },
        "id": "nFtJQOKzjA4e",
        "outputId": "e509775a-a1b3-4626-e59c-52543e3791cf"
      },
      "outputs": [
        {
          "data": {
            "application/vnd.google.colaboratory.intrinsic+json": {
              "type": "dataframe"
            },
            "text/html": [
              "\n",
              "  <div id=\"df-712eaee2-0d6f-44a7-9cd3-b3b1885c4f03\" class=\"colab-df-container\">\n",
              "    <div>\n",
              "<style scoped>\n",
              "    .dataframe tbody tr th:only-of-type {\n",
              "        vertical-align: middle;\n",
              "    }\n",
              "\n",
              "    .dataframe tbody tr th {\n",
              "        vertical-align: top;\n",
              "    }\n",
              "\n",
              "    .dataframe thead th {\n",
              "        text-align: right;\n",
              "    }\n",
              "</style>\n",
              "<table border=\"1\" class=\"dataframe\">\n",
              "  <thead>\n",
              "    <tr style=\"text-align: right;\">\n",
              "      <th></th>\n",
              "      <th>ID</th>\n",
              "      <th>PRES</th>\n",
              "      <th>HOU</th>\n",
              "      <th>WEIGHT</th>\n",
              "      <th>@2WAYPRES16</th>\n",
              "      <th>AGE</th>\n",
              "      <th>AGE3</th>\n",
              "      <th>AGE8</th>\n",
              "      <th>AGE45</th>\n",
              "      <th>AGE49</th>\n",
              "      <th>...</th>\n",
              "      <th>TRUMPWOMEN</th>\n",
              "      <th>TRUMPWOMENB</th>\n",
              "      <th>UNIONHH12</th>\n",
              "      <th>VERSION</th>\n",
              "      <th>VETVOTER</th>\n",
              "      <th>WHITEREL</th>\n",
              "      <th>WHNCLINC</th>\n",
              "      <th>WHTEVANG</th>\n",
              "      <th>WPROTBRN</th>\n",
              "      <th>WPROTBRN3</th>\n",
              "    </tr>\n",
              "  </thead>\n",
              "  <tbody>\n",
              "    <tr>\n",
              "      <th>count</th>\n",
              "      <td>3121.000000</td>\n",
              "      <td>3121</td>\n",
              "      <td>3121</td>\n",
              "      <td>3121.000000</td>\n",
              "      <td>3121</td>\n",
              "      <td>3121</td>\n",
              "      <td>3121</td>\n",
              "      <td>3121</td>\n",
              "      <td>3121</td>\n",
              "      <td>3121</td>\n",
              "      <td>...</td>\n",
              "      <td>3120</td>\n",
              "      <td>3120</td>\n",
              "      <td>3120</td>\n",
              "      <td>3120</td>\n",
              "      <td>3120</td>\n",
              "      <td>3120</td>\n",
              "      <td>3120</td>\n",
              "      <td>3120</td>\n",
              "      <td>3120</td>\n",
              "      <td>3120</td>\n",
              "    </tr>\n",
              "    <tr>\n",
              "      <th>unique</th>\n",
              "      <td>NaN</td>\n",
              "      <td>7</td>\n",
              "      <td>5</td>\n",
              "      <td>NaN</td>\n",
              "      <td>5</td>\n",
              "      <td>5</td>\n",
              "      <td>4</td>\n",
              "      <td>9</td>\n",
              "      <td>3</td>\n",
              "      <td>3</td>\n",
              "      <td>...</td>\n",
              "      <td>6</td>\n",
              "      <td>4</td>\n",
              "      <td>3</td>\n",
              "      <td>5</td>\n",
              "      <td>3</td>\n",
              "      <td>7</td>\n",
              "      <td>3</td>\n",
              "      <td>3</td>\n",
              "      <td>3</td>\n",
              "      <td>4</td>\n",
              "    </tr>\n",
              "    <tr>\n",
              "      <th>top</th>\n",
              "      <td>NaN</td>\n",
              "      <td>Hillary Clinton</td>\n",
              "      <td>The Democratic candidate</td>\n",
              "      <td>NaN</td>\n",
              "      <td></td>\n",
              "      <td>65+</td>\n",
              "      <td>60+</td>\n",
              "      <td>65 or over</td>\n",
              "      <td>45+</td>\n",
              "      <td>50+</td>\n",
              "      <td>...</td>\n",
              "      <td></td>\n",
              "      <td></td>\n",
              "      <td></td>\n",
              "      <td>Version 2</td>\n",
              "      <td></td>\n",
              "      <td></td>\n",
              "      <td></td>\n",
              "      <td></td>\n",
              "      <td></td>\n",
              "      <td></td>\n",
              "    </tr>\n",
              "    <tr>\n",
              "      <th>freq</th>\n",
              "      <td>NaN</td>\n",
              "      <td>1484</td>\n",
              "      <td>1496</td>\n",
              "      <td>NaN</td>\n",
              "      <td>2184</td>\n",
              "      <td>1268</td>\n",
              "      <td>1622</td>\n",
              "      <td>1268</td>\n",
              "      <td>2428</td>\n",
              "      <td>2233</td>\n",
              "      <td>...</td>\n",
              "      <td>2754</td>\n",
              "      <td>2754</td>\n",
              "      <td>2455</td>\n",
              "      <td>713</td>\n",
              "      <td>2446</td>\n",
              "      <td>2655</td>\n",
              "      <td>1842</td>\n",
              "      <td>2756</td>\n",
              "      <td>2833</td>\n",
              "      <td>3032</td>\n",
              "    </tr>\n",
              "    <tr>\n",
              "      <th>mean</th>\n",
              "      <td>136930.888177</td>\n",
              "      <td>NaN</td>\n",
              "      <td>NaN</td>\n",
              "      <td>2.229150</td>\n",
              "      <td>NaN</td>\n",
              "      <td>NaN</td>\n",
              "      <td>NaN</td>\n",
              "      <td>NaN</td>\n",
              "      <td>NaN</td>\n",
              "      <td>NaN</td>\n",
              "      <td>...</td>\n",
              "      <td>NaN</td>\n",
              "      <td>NaN</td>\n",
              "      <td>NaN</td>\n",
              "      <td>NaN</td>\n",
              "      <td>NaN</td>\n",
              "      <td>NaN</td>\n",
              "      <td>NaN</td>\n",
              "      <td>NaN</td>\n",
              "      <td>NaN</td>\n",
              "      <td>NaN</td>\n",
              "    </tr>\n",
              "    <tr>\n",
              "      <th>std</th>\n",
              "      <td>908.812958</td>\n",
              "      <td>NaN</td>\n",
              "      <td>NaN</td>\n",
              "      <td>1.961622</td>\n",
              "      <td>NaN</td>\n",
              "      <td>NaN</td>\n",
              "      <td>NaN</td>\n",
              "      <td>NaN</td>\n",
              "      <td>NaN</td>\n",
              "      <td>NaN</td>\n",
              "      <td>...</td>\n",
              "      <td>NaN</td>\n",
              "      <td>NaN</td>\n",
              "      <td>NaN</td>\n",
              "      <td>NaN</td>\n",
              "      <td>NaN</td>\n",
              "      <td>NaN</td>\n",
              "      <td>NaN</td>\n",
              "      <td>NaN</td>\n",
              "      <td>NaN</td>\n",
              "      <td>NaN</td>\n",
              "    </tr>\n",
              "    <tr>\n",
              "      <th>min</th>\n",
              "      <td>135355.000000</td>\n",
              "      <td>NaN</td>\n",
              "      <td>NaN</td>\n",
              "      <td>0.051402</td>\n",
              "      <td>NaN</td>\n",
              "      <td>NaN</td>\n",
              "      <td>NaN</td>\n",
              "      <td>NaN</td>\n",
              "      <td>NaN</td>\n",
              "      <td>NaN</td>\n",
              "      <td>...</td>\n",
              "      <td>NaN</td>\n",
              "      <td>NaN</td>\n",
              "      <td>NaN</td>\n",
              "      <td>NaN</td>\n",
              "      <td>NaN</td>\n",
              "      <td>NaN</td>\n",
              "      <td>NaN</td>\n",
              "      <td>NaN</td>\n",
              "      <td>NaN</td>\n",
              "      <td>NaN</td>\n",
              "    </tr>\n",
              "    <tr>\n",
              "      <th>25%</th>\n",
              "      <td>136145.000000</td>\n",
              "      <td>NaN</td>\n",
              "      <td>NaN</td>\n",
              "      <td>0.828979</td>\n",
              "      <td>NaN</td>\n",
              "      <td>NaN</td>\n",
              "      <td>NaN</td>\n",
              "      <td>NaN</td>\n",
              "      <td>NaN</td>\n",
              "      <td>NaN</td>\n",
              "      <td>...</td>\n",
              "      <td>NaN</td>\n",
              "      <td>NaN</td>\n",
              "      <td>NaN</td>\n",
              "      <td>NaN</td>\n",
              "      <td>NaN</td>\n",
              "      <td>NaN</td>\n",
              "      <td>NaN</td>\n",
              "      <td>NaN</td>\n",
              "      <td>NaN</td>\n",
              "      <td>NaN</td>\n",
              "    </tr>\n",
              "    <tr>\n",
              "      <th>50%</th>\n",
              "      <td>136932.000000</td>\n",
              "      <td>NaN</td>\n",
              "      <td>NaN</td>\n",
              "      <td>1.585026</td>\n",
              "      <td>NaN</td>\n",
              "      <td>NaN</td>\n",
              "      <td>NaN</td>\n",
              "      <td>NaN</td>\n",
              "      <td>NaN</td>\n",
              "      <td>NaN</td>\n",
              "      <td>...</td>\n",
              "      <td>NaN</td>\n",
              "      <td>NaN</td>\n",
              "      <td>NaN</td>\n",
              "      <td>NaN</td>\n",
              "      <td>NaN</td>\n",
              "      <td>NaN</td>\n",
              "      <td>NaN</td>\n",
              "      <td>NaN</td>\n",
              "      <td>NaN</td>\n",
              "      <td>NaN</td>\n",
              "    </tr>\n",
              "    <tr>\n",
              "      <th>75%</th>\n",
              "      <td>137717.000000</td>\n",
              "      <td>NaN</td>\n",
              "      <td>NaN</td>\n",
              "      <td>3.207638</td>\n",
              "      <td>NaN</td>\n",
              "      <td>NaN</td>\n",
              "      <td>NaN</td>\n",
              "      <td>NaN</td>\n",
              "      <td>NaN</td>\n",
              "      <td>NaN</td>\n",
              "      <td>...</td>\n",
              "      <td>NaN</td>\n",
              "      <td>NaN</td>\n",
              "      <td>NaN</td>\n",
              "      <td>NaN</td>\n",
              "      <td>NaN</td>\n",
              "      <td>NaN</td>\n",
              "      <td>NaN</td>\n",
              "      <td>NaN</td>\n",
              "      <td>NaN</td>\n",
              "      <td>NaN</td>\n",
              "    </tr>\n",
              "    <tr>\n",
              "      <th>max</th>\n",
              "      <td>138504.000000</td>\n",
              "      <td>NaN</td>\n",
              "      <td>NaN</td>\n",
              "      <td>18.407688</td>\n",
              "      <td>NaN</td>\n",
              "      <td>NaN</td>\n",
              "      <td>NaN</td>\n",
              "      <td>NaN</td>\n",
              "      <td>NaN</td>\n",
              "      <td>NaN</td>\n",
              "      <td>...</td>\n",
              "      <td>NaN</td>\n",
              "      <td>NaN</td>\n",
              "      <td>NaN</td>\n",
              "      <td>NaN</td>\n",
              "      <td>NaN</td>\n",
              "      <td>NaN</td>\n",
              "      <td>NaN</td>\n",
              "      <td>NaN</td>\n",
              "      <td>NaN</td>\n",
              "      <td>NaN</td>\n",
              "    </tr>\n",
              "  </tbody>\n",
              "</table>\n",
              "<p>11 rows × 138 columns</p>\n",
              "</div>\n",
              "    <div class=\"colab-df-buttons\">\n",
              "\n",
              "  <div class=\"colab-df-container\">\n",
              "    <button class=\"colab-df-convert\" onclick=\"convertToInteractive('df-712eaee2-0d6f-44a7-9cd3-b3b1885c4f03')\"\n",
              "            title=\"Convert this dataframe to an interactive table.\"\n",
              "            style=\"display:none;\">\n",
              "\n",
              "  <svg xmlns=\"http://www.w3.org/2000/svg\" height=\"24px\" viewBox=\"0 -960 960 960\">\n",
              "    <path d=\"M120-120v-720h720v720H120Zm60-500h600v-160H180v160Zm220 220h160v-160H400v160Zm0 220h160v-160H400v160ZM180-400h160v-160H180v160Zm440 0h160v-160H620v160ZM180-180h160v-160H180v160Zm440 0h160v-160H620v160Z\"/>\n",
              "  </svg>\n",
              "    </button>\n",
              "\n",
              "  <style>\n",
              "    .colab-df-container {\n",
              "      display:flex;\n",
              "      gap: 12px;\n",
              "    }\n",
              "\n",
              "    .colab-df-convert {\n",
              "      background-color: #E8F0FE;\n",
              "      border: none;\n",
              "      border-radius: 50%;\n",
              "      cursor: pointer;\n",
              "      display: none;\n",
              "      fill: #1967D2;\n",
              "      height: 32px;\n",
              "      padding: 0 0 0 0;\n",
              "      width: 32px;\n",
              "    }\n",
              "\n",
              "    .colab-df-convert:hover {\n",
              "      background-color: #E2EBFA;\n",
              "      box-shadow: 0px 1px 2px rgba(60, 64, 67, 0.3), 0px 1px 3px 1px rgba(60, 64, 67, 0.15);\n",
              "      fill: #174EA6;\n",
              "    }\n",
              "\n",
              "    .colab-df-buttons div {\n",
              "      margin-bottom: 4px;\n",
              "    }\n",
              "\n",
              "    [theme=dark] .colab-df-convert {\n",
              "      background-color: #3B4455;\n",
              "      fill: #D2E3FC;\n",
              "    }\n",
              "\n",
              "    [theme=dark] .colab-df-convert:hover {\n",
              "      background-color: #434B5C;\n",
              "      box-shadow: 0px 1px 3px 1px rgba(0, 0, 0, 0.15);\n",
              "      filter: drop-shadow(0px 1px 2px rgba(0, 0, 0, 0.3));\n",
              "      fill: #FFFFFF;\n",
              "    }\n",
              "  </style>\n",
              "\n",
              "    <script>\n",
              "      const buttonEl =\n",
              "        document.querySelector('#df-712eaee2-0d6f-44a7-9cd3-b3b1885c4f03 button.colab-df-convert');\n",
              "      buttonEl.style.display =\n",
              "        google.colab.kernel.accessAllowed ? 'block' : 'none';\n",
              "\n",
              "      async function convertToInteractive(key) {\n",
              "        const element = document.querySelector('#df-712eaee2-0d6f-44a7-9cd3-b3b1885c4f03');\n",
              "        const dataTable =\n",
              "          await google.colab.kernel.invokeFunction('convertToInteractive',\n",
              "                                                    [key], {});\n",
              "        if (!dataTable) return;\n",
              "\n",
              "        const docLinkHtml = 'Like what you see? Visit the ' +\n",
              "          '<a target=\"_blank\" href=https://colab.research.google.com/notebooks/data_table.ipynb>data table notebook</a>'\n",
              "          + ' to learn more about interactive tables.';\n",
              "        element.innerHTML = '';\n",
              "        dataTable['output_type'] = 'display_data';\n",
              "        await google.colab.output.renderOutput(dataTable, element);\n",
              "        const docLink = document.createElement('div');\n",
              "        docLink.innerHTML = docLinkHtml;\n",
              "        element.appendChild(docLink);\n",
              "      }\n",
              "    </script>\n",
              "  </div>\n",
              "\n",
              "\n",
              "<div id=\"df-a387f599-2103-4f60-8acb-995d06a0a072\">\n",
              "  <button class=\"colab-df-quickchart\" onclick=\"quickchart('df-a387f599-2103-4f60-8acb-995d06a0a072')\"\n",
              "            title=\"Suggest charts\"\n",
              "            style=\"display:none;\">\n",
              "\n",
              "<svg xmlns=\"http://www.w3.org/2000/svg\" height=\"24px\"viewBox=\"0 0 24 24\"\n",
              "     width=\"24px\">\n",
              "    <g>\n",
              "        <path d=\"M19 3H5c-1.1 0-2 .9-2 2v14c0 1.1.9 2 2 2h14c1.1 0 2-.9 2-2V5c0-1.1-.9-2-2-2zM9 17H7v-7h2v7zm4 0h-2V7h2v10zm4 0h-2v-4h2v4z\"/>\n",
              "    </g>\n",
              "</svg>\n",
              "  </button>\n",
              "\n",
              "<style>\n",
              "  .colab-df-quickchart {\n",
              "      --bg-color: #E8F0FE;\n",
              "      --fill-color: #1967D2;\n",
              "      --hover-bg-color: #E2EBFA;\n",
              "      --hover-fill-color: #174EA6;\n",
              "      --disabled-fill-color: #AAA;\n",
              "      --disabled-bg-color: #DDD;\n",
              "  }\n",
              "\n",
              "  [theme=dark] .colab-df-quickchart {\n",
              "      --bg-color: #3B4455;\n",
              "      --fill-color: #D2E3FC;\n",
              "      --hover-bg-color: #434B5C;\n",
              "      --hover-fill-color: #FFFFFF;\n",
              "      --disabled-bg-color: #3B4455;\n",
              "      --disabled-fill-color: #666;\n",
              "  }\n",
              "\n",
              "  .colab-df-quickchart {\n",
              "    background-color: var(--bg-color);\n",
              "    border: none;\n",
              "    border-radius: 50%;\n",
              "    cursor: pointer;\n",
              "    display: none;\n",
              "    fill: var(--fill-color);\n",
              "    height: 32px;\n",
              "    padding: 0;\n",
              "    width: 32px;\n",
              "  }\n",
              "\n",
              "  .colab-df-quickchart:hover {\n",
              "    background-color: var(--hover-bg-color);\n",
              "    box-shadow: 0 1px 2px rgba(60, 64, 67, 0.3), 0 1px 3px 1px rgba(60, 64, 67, 0.15);\n",
              "    fill: var(--button-hover-fill-color);\n",
              "  }\n",
              "\n",
              "  .colab-df-quickchart-complete:disabled,\n",
              "  .colab-df-quickchart-complete:disabled:hover {\n",
              "    background-color: var(--disabled-bg-color);\n",
              "    fill: var(--disabled-fill-color);\n",
              "    box-shadow: none;\n",
              "  }\n",
              "\n",
              "  .colab-df-spinner {\n",
              "    border: 2px solid var(--fill-color);\n",
              "    border-color: transparent;\n",
              "    border-bottom-color: var(--fill-color);\n",
              "    animation:\n",
              "      spin 1s steps(1) infinite;\n",
              "  }\n",
              "\n",
              "  @keyframes spin {\n",
              "    0% {\n",
              "      border-color: transparent;\n",
              "      border-bottom-color: var(--fill-color);\n",
              "      border-left-color: var(--fill-color);\n",
              "    }\n",
              "    20% {\n",
              "      border-color: transparent;\n",
              "      border-left-color: var(--fill-color);\n",
              "      border-top-color: var(--fill-color);\n",
              "    }\n",
              "    30% {\n",
              "      border-color: transparent;\n",
              "      border-left-color: var(--fill-color);\n",
              "      border-top-color: var(--fill-color);\n",
              "      border-right-color: var(--fill-color);\n",
              "    }\n",
              "    40% {\n",
              "      border-color: transparent;\n",
              "      border-right-color: var(--fill-color);\n",
              "      border-top-color: var(--fill-color);\n",
              "    }\n",
              "    60% {\n",
              "      border-color: transparent;\n",
              "      border-right-color: var(--fill-color);\n",
              "    }\n",
              "    80% {\n",
              "      border-color: transparent;\n",
              "      border-right-color: var(--fill-color);\n",
              "      border-bottom-color: var(--fill-color);\n",
              "    }\n",
              "    90% {\n",
              "      border-color: transparent;\n",
              "      border-bottom-color: var(--fill-color);\n",
              "    }\n",
              "  }\n",
              "</style>\n",
              "\n",
              "  <script>\n",
              "    async function quickchart(key) {\n",
              "      const quickchartButtonEl =\n",
              "        document.querySelector('#' + key + ' button');\n",
              "      quickchartButtonEl.disabled = true;  // To prevent multiple clicks.\n",
              "      quickchartButtonEl.classList.add('colab-df-spinner');\n",
              "      try {\n",
              "        const charts = await google.colab.kernel.invokeFunction(\n",
              "            'suggestCharts', [key], {});\n",
              "      } catch (error) {\n",
              "        console.error('Error during call to suggestCharts:', error);\n",
              "      }\n",
              "      quickchartButtonEl.classList.remove('colab-df-spinner');\n",
              "      quickchartButtonEl.classList.add('colab-df-quickchart-complete');\n",
              "    }\n",
              "    (() => {\n",
              "      let quickchartButtonEl =\n",
              "        document.querySelector('#df-a387f599-2103-4f60-8acb-995d06a0a072 button');\n",
              "      quickchartButtonEl.style.display =\n",
              "        google.colab.kernel.accessAllowed ? 'block' : 'none';\n",
              "    })();\n",
              "  </script>\n",
              "</div>\n",
              "\n",
              "    </div>\n",
              "  </div>\n"
            ],
            "text/plain": [
              "                   ID             PRES                       HOU       WEIGHT  \\\n",
              "count     3121.000000             3121                      3121  3121.000000   \n",
              "unique            NaN                7                         5          NaN   \n",
              "top               NaN  Hillary Clinton  The Democratic candidate          NaN   \n",
              "freq              NaN             1484                      1496          NaN   \n",
              "mean    136930.888177              NaN                       NaN     2.229150   \n",
              "std        908.812958              NaN                       NaN     1.961622   \n",
              "min     135355.000000              NaN                       NaN     0.051402   \n",
              "25%     136145.000000              NaN                       NaN     0.828979   \n",
              "50%     136932.000000              NaN                       NaN     1.585026   \n",
              "75%     137717.000000              NaN                       NaN     3.207638   \n",
              "max     138504.000000              NaN                       NaN    18.407688   \n",
              "\n",
              "       @2WAYPRES16   AGE  AGE3        AGE8 AGE45 AGE49  ... TRUMPWOMEN  \\\n",
              "count         3121  3121  3121        3121  3121  3121  ...       3120   \n",
              "unique           5     5     4           9     3     3  ...          6   \n",
              "top                  65+   60+  65 or over   45+   50+  ...              \n",
              "freq          2184  1268  1622        1268  2428  2233  ...       2754   \n",
              "mean           NaN   NaN   NaN         NaN   NaN   NaN  ...        NaN   \n",
              "std            NaN   NaN   NaN         NaN   NaN   NaN  ...        NaN   \n",
              "min            NaN   NaN   NaN         NaN   NaN   NaN  ...        NaN   \n",
              "25%            NaN   NaN   NaN         NaN   NaN   NaN  ...        NaN   \n",
              "50%            NaN   NaN   NaN         NaN   NaN   NaN  ...        NaN   \n",
              "75%            NaN   NaN   NaN         NaN   NaN   NaN  ...        NaN   \n",
              "max            NaN   NaN   NaN         NaN   NaN   NaN  ...        NaN   \n",
              "\n",
              "       TRUMPWOMENB UNIONHH12    VERSION VETVOTER WHITEREL WHNCLINC WHTEVANG  \\\n",
              "count         3120      3120       3120     3120     3120     3120     3120   \n",
              "unique           4         3          5        3        7        3        3   \n",
              "top                           Version 2                                       \n",
              "freq          2754      2455        713     2446     2655     1842     2756   \n",
              "mean           NaN       NaN        NaN      NaN      NaN      NaN      NaN   \n",
              "std            NaN       NaN        NaN      NaN      NaN      NaN      NaN   \n",
              "min            NaN       NaN        NaN      NaN      NaN      NaN      NaN   \n",
              "25%            NaN       NaN        NaN      NaN      NaN      NaN      NaN   \n",
              "50%            NaN       NaN        NaN      NaN      NaN      NaN      NaN   \n",
              "75%            NaN       NaN        NaN      NaN      NaN      NaN      NaN   \n",
              "max            NaN       NaN        NaN      NaN      NaN      NaN      NaN   \n",
              "\n",
              "       WPROTBRN WPROTBRN3  \n",
              "count      3120      3120  \n",
              "unique        3         4  \n",
              "top                        \n",
              "freq       2833      3032  \n",
              "mean        NaN       NaN  \n",
              "std         NaN       NaN  \n",
              "min         NaN       NaN  \n",
              "25%         NaN       NaN  \n",
              "50%         NaN       NaN  \n",
              "75%         NaN       NaN  \n",
              "max         NaN       NaN  \n",
              "\n",
              "[11 rows x 138 columns]"
            ]
          },
          "execution_count": 5,
          "metadata": {},
          "output_type": "execute_result"
        }
      ],
      "source": [
        "df.describe(include='all')"
      ]
    },
    {
      "cell_type": "markdown",
      "metadata": {
        "id": "hBRihbxJjA4f"
      },
      "source": [
        "This is because missing values are recorded as a single space, and not with a NaN.\n",
        "\n",
        "Let’s change that:"
      ]
    },
    {
      "cell_type": "code",
      "execution_count": 6,
      "metadata": {
        "id": "coZlQv2KjA4f"
      },
      "outputs": [],
      "source": [
        "df.replace(\" \", float(\"NaN\"), inplace=True)"
      ]
    },
    {
      "cell_type": "markdown",
      "metadata": {
        "id": "h3zKOc5rjA4g"
      },
      "source": [
        "Now we can see an accurate count of the number of responses in each column:"
      ]
    },
    {
      "cell_type": "code",
      "execution_count": 7,
      "metadata": {
        "colab": {
          "base_uri": "https://localhost:8080/",
          "height": 441
        },
        "id": "MeSNQ5IEjA4h",
        "outputId": "9e8388f1-ebb1-452e-ec71-7e5d8a02e9e1"
      },
      "outputs": [
        {
          "data": {
            "application/vnd.google.colaboratory.intrinsic+json": {
              "type": "dataframe"
            },
            "text/html": [
              "\n",
              "  <div id=\"df-dfb0727d-e3cd-48a9-9707-7745564f7584\" class=\"colab-df-container\">\n",
              "    <div>\n",
              "<style scoped>\n",
              "    .dataframe tbody tr th:only-of-type {\n",
              "        vertical-align: middle;\n",
              "    }\n",
              "\n",
              "    .dataframe tbody tr th {\n",
              "        vertical-align: top;\n",
              "    }\n",
              "\n",
              "    .dataframe thead th {\n",
              "        text-align: right;\n",
              "    }\n",
              "</style>\n",
              "<table border=\"1\" class=\"dataframe\">\n",
              "  <thead>\n",
              "    <tr style=\"text-align: right;\">\n",
              "      <th></th>\n",
              "      <th>ID</th>\n",
              "      <th>PRES</th>\n",
              "      <th>HOU</th>\n",
              "      <th>WEIGHT</th>\n",
              "      <th>@2WAYPRES16</th>\n",
              "      <th>AGE</th>\n",
              "      <th>AGE3</th>\n",
              "      <th>AGE8</th>\n",
              "      <th>AGE45</th>\n",
              "      <th>AGE49</th>\n",
              "      <th>...</th>\n",
              "      <th>TRUMPWOMEN</th>\n",
              "      <th>TRUMPWOMENB</th>\n",
              "      <th>UNIONHH12</th>\n",
              "      <th>VERSION</th>\n",
              "      <th>VETVOTER</th>\n",
              "      <th>WHITEREL</th>\n",
              "      <th>WHNCLINC</th>\n",
              "      <th>WHTEVANG</th>\n",
              "      <th>WPROTBRN</th>\n",
              "      <th>WPROTBRN3</th>\n",
              "    </tr>\n",
              "  </thead>\n",
              "  <tbody>\n",
              "    <tr>\n",
              "      <th>count</th>\n",
              "      <td>3121.000000</td>\n",
              "      <td>3021</td>\n",
              "      <td>2987</td>\n",
              "      <td>3121.000000</td>\n",
              "      <td>937</td>\n",
              "      <td>3076</td>\n",
              "      <td>3076</td>\n",
              "      <td>3076</td>\n",
              "      <td>3076</td>\n",
              "      <td>3076</td>\n",
              "      <td>...</td>\n",
              "      <td>366</td>\n",
              "      <td>366</td>\n",
              "      <td>665</td>\n",
              "      <td>3120</td>\n",
              "      <td>674</td>\n",
              "      <td>465</td>\n",
              "      <td>1278</td>\n",
              "      <td>364</td>\n",
              "      <td>287</td>\n",
              "      <td>88</td>\n",
              "    </tr>\n",
              "    <tr>\n",
              "      <th>unique</th>\n",
              "      <td>NaN</td>\n",
              "      <td>6</td>\n",
              "      <td>4</td>\n",
              "      <td>NaN</td>\n",
              "      <td>4</td>\n",
              "      <td>4</td>\n",
              "      <td>3</td>\n",
              "      <td>8</td>\n",
              "      <td>2</td>\n",
              "      <td>2</td>\n",
              "      <td>...</td>\n",
              "      <td>5</td>\n",
              "      <td>3</td>\n",
              "      <td>2</td>\n",
              "      <td>5</td>\n",
              "      <td>2</td>\n",
              "      <td>6</td>\n",
              "      <td>2</td>\n",
              "      <td>2</td>\n",
              "      <td>2</td>\n",
              "      <td>3</td>\n",
              "    </tr>\n",
              "    <tr>\n",
              "      <th>top</th>\n",
              "      <td>NaN</td>\n",
              "      <td>Hillary Clinton</td>\n",
              "      <td>The Democratic candidate</td>\n",
              "      <td>NaN</td>\n",
              "      <td>Hillary Clinton</td>\n",
              "      <td>65+</td>\n",
              "      <td>60+</td>\n",
              "      <td>65 or over</td>\n",
              "      <td>45+</td>\n",
              "      <td>50+</td>\n",
              "      <td>...</td>\n",
              "      <td>A lot</td>\n",
              "      <td>A lot or some</td>\n",
              "      <td>No</td>\n",
              "      <td>Version 2</td>\n",
              "      <td>No</td>\n",
              "      <td>Non-white</td>\n",
              "      <td>No</td>\n",
              "      <td>All others</td>\n",
              "      <td>No</td>\n",
              "      <td>White Protestant evangelical</td>\n",
              "    </tr>\n",
              "    <tr>\n",
              "      <th>freq</th>\n",
              "      <td>NaN</td>\n",
              "      <td>1484</td>\n",
              "      <td>1496</td>\n",
              "      <td>NaN</td>\n",
              "      <td>442</td>\n",
              "      <td>1268</td>\n",
              "      <td>1622</td>\n",
              "      <td>1268</td>\n",
              "      <td>2428</td>\n",
              "      <td>2233</td>\n",
              "      <td>...</td>\n",
              "      <td>172</td>\n",
              "      <td>239</td>\n",
              "      <td>583</td>\n",
              "      <td>713</td>\n",
              "      <td>558</td>\n",
              "      <td>267</td>\n",
              "      <td>1075</td>\n",
              "      <td>254</td>\n",
              "      <td>240</td>\n",
              "      <td>47</td>\n",
              "    </tr>\n",
              "    <tr>\n",
              "      <th>mean</th>\n",
              "      <td>136930.888177</td>\n",
              "      <td>NaN</td>\n",
              "      <td>NaN</td>\n",
              "      <td>2.229150</td>\n",
              "      <td>NaN</td>\n",
              "      <td>NaN</td>\n",
              "      <td>NaN</td>\n",
              "      <td>NaN</td>\n",
              "      <td>NaN</td>\n",
              "      <td>NaN</td>\n",
              "      <td>...</td>\n",
              "      <td>NaN</td>\n",
              "      <td>NaN</td>\n",
              "      <td>NaN</td>\n",
              "      <td>NaN</td>\n",
              "      <td>NaN</td>\n",
              "      <td>NaN</td>\n",
              "      <td>NaN</td>\n",
              "      <td>NaN</td>\n",
              "      <td>NaN</td>\n",
              "      <td>NaN</td>\n",
              "    </tr>\n",
              "    <tr>\n",
              "      <th>std</th>\n",
              "      <td>908.812958</td>\n",
              "      <td>NaN</td>\n",
              "      <td>NaN</td>\n",
              "      <td>1.961622</td>\n",
              "      <td>NaN</td>\n",
              "      <td>NaN</td>\n",
              "      <td>NaN</td>\n",
              "      <td>NaN</td>\n",
              "      <td>NaN</td>\n",
              "      <td>NaN</td>\n",
              "      <td>...</td>\n",
              "      <td>NaN</td>\n",
              "      <td>NaN</td>\n",
              "      <td>NaN</td>\n",
              "      <td>NaN</td>\n",
              "      <td>NaN</td>\n",
              "      <td>NaN</td>\n",
              "      <td>NaN</td>\n",
              "      <td>NaN</td>\n",
              "      <td>NaN</td>\n",
              "      <td>NaN</td>\n",
              "    </tr>\n",
              "    <tr>\n",
              "      <th>min</th>\n",
              "      <td>135355.000000</td>\n",
              "      <td>NaN</td>\n",
              "      <td>NaN</td>\n",
              "      <td>0.051402</td>\n",
              "      <td>NaN</td>\n",
              "      <td>NaN</td>\n",
              "      <td>NaN</td>\n",
              "      <td>NaN</td>\n",
              "      <td>NaN</td>\n",
              "      <td>NaN</td>\n",
              "      <td>...</td>\n",
              "      <td>NaN</td>\n",
              "      <td>NaN</td>\n",
              "      <td>NaN</td>\n",
              "      <td>NaN</td>\n",
              "      <td>NaN</td>\n",
              "      <td>NaN</td>\n",
              "      <td>NaN</td>\n",
              "      <td>NaN</td>\n",
              "      <td>NaN</td>\n",
              "      <td>NaN</td>\n",
              "    </tr>\n",
              "    <tr>\n",
              "      <th>25%</th>\n",
              "      <td>136145.000000</td>\n",
              "      <td>NaN</td>\n",
              "      <td>NaN</td>\n",
              "      <td>0.828979</td>\n",
              "      <td>NaN</td>\n",
              "      <td>NaN</td>\n",
              "      <td>NaN</td>\n",
              "      <td>NaN</td>\n",
              "      <td>NaN</td>\n",
              "      <td>NaN</td>\n",
              "      <td>...</td>\n",
              "      <td>NaN</td>\n",
              "      <td>NaN</td>\n",
              "      <td>NaN</td>\n",
              "      <td>NaN</td>\n",
              "      <td>NaN</td>\n",
              "      <td>NaN</td>\n",
              "      <td>NaN</td>\n",
              "      <td>NaN</td>\n",
              "      <td>NaN</td>\n",
              "      <td>NaN</td>\n",
              "    </tr>\n",
              "    <tr>\n",
              "      <th>50%</th>\n",
              "      <td>136932.000000</td>\n",
              "      <td>NaN</td>\n",
              "      <td>NaN</td>\n",
              "      <td>1.585026</td>\n",
              "      <td>NaN</td>\n",
              "      <td>NaN</td>\n",
              "      <td>NaN</td>\n",
              "      <td>NaN</td>\n",
              "      <td>NaN</td>\n",
              "      <td>NaN</td>\n",
              "      <td>...</td>\n",
              "      <td>NaN</td>\n",
              "      <td>NaN</td>\n",
              "      <td>NaN</td>\n",
              "      <td>NaN</td>\n",
              "      <td>NaN</td>\n",
              "      <td>NaN</td>\n",
              "      <td>NaN</td>\n",
              "      <td>NaN</td>\n",
              "      <td>NaN</td>\n",
              "      <td>NaN</td>\n",
              "    </tr>\n",
              "    <tr>\n",
              "      <th>75%</th>\n",
              "      <td>137717.000000</td>\n",
              "      <td>NaN</td>\n",
              "      <td>NaN</td>\n",
              "      <td>3.207638</td>\n",
              "      <td>NaN</td>\n",
              "      <td>NaN</td>\n",
              "      <td>NaN</td>\n",
              "      <td>NaN</td>\n",
              "      <td>NaN</td>\n",
              "      <td>NaN</td>\n",
              "      <td>...</td>\n",
              "      <td>NaN</td>\n",
              "      <td>NaN</td>\n",
              "      <td>NaN</td>\n",
              "      <td>NaN</td>\n",
              "      <td>NaN</td>\n",
              "      <td>NaN</td>\n",
              "      <td>NaN</td>\n",
              "      <td>NaN</td>\n",
              "      <td>NaN</td>\n",
              "      <td>NaN</td>\n",
              "    </tr>\n",
              "    <tr>\n",
              "      <th>max</th>\n",
              "      <td>138504.000000</td>\n",
              "      <td>NaN</td>\n",
              "      <td>NaN</td>\n",
              "      <td>18.407688</td>\n",
              "      <td>NaN</td>\n",
              "      <td>NaN</td>\n",
              "      <td>NaN</td>\n",
              "      <td>NaN</td>\n",
              "      <td>NaN</td>\n",
              "      <td>NaN</td>\n",
              "      <td>...</td>\n",
              "      <td>NaN</td>\n",
              "      <td>NaN</td>\n",
              "      <td>NaN</td>\n",
              "      <td>NaN</td>\n",
              "      <td>NaN</td>\n",
              "      <td>NaN</td>\n",
              "      <td>NaN</td>\n",
              "      <td>NaN</td>\n",
              "      <td>NaN</td>\n",
              "      <td>NaN</td>\n",
              "    </tr>\n",
              "  </tbody>\n",
              "</table>\n",
              "<p>11 rows × 138 columns</p>\n",
              "</div>\n",
              "    <div class=\"colab-df-buttons\">\n",
              "\n",
              "  <div class=\"colab-df-container\">\n",
              "    <button class=\"colab-df-convert\" onclick=\"convertToInteractive('df-dfb0727d-e3cd-48a9-9707-7745564f7584')\"\n",
              "            title=\"Convert this dataframe to an interactive table.\"\n",
              "            style=\"display:none;\">\n",
              "\n",
              "  <svg xmlns=\"http://www.w3.org/2000/svg\" height=\"24px\" viewBox=\"0 -960 960 960\">\n",
              "    <path d=\"M120-120v-720h720v720H120Zm60-500h600v-160H180v160Zm220 220h160v-160H400v160Zm0 220h160v-160H400v160ZM180-400h160v-160H180v160Zm440 0h160v-160H620v160ZM180-180h160v-160H180v160Zm440 0h160v-160H620v160Z\"/>\n",
              "  </svg>\n",
              "    </button>\n",
              "\n",
              "  <style>\n",
              "    .colab-df-container {\n",
              "      display:flex;\n",
              "      gap: 12px;\n",
              "    }\n",
              "\n",
              "    .colab-df-convert {\n",
              "      background-color: #E8F0FE;\n",
              "      border: none;\n",
              "      border-radius: 50%;\n",
              "      cursor: pointer;\n",
              "      display: none;\n",
              "      fill: #1967D2;\n",
              "      height: 32px;\n",
              "      padding: 0 0 0 0;\n",
              "      width: 32px;\n",
              "    }\n",
              "\n",
              "    .colab-df-convert:hover {\n",
              "      background-color: #E2EBFA;\n",
              "      box-shadow: 0px 1px 2px rgba(60, 64, 67, 0.3), 0px 1px 3px 1px rgba(60, 64, 67, 0.15);\n",
              "      fill: #174EA6;\n",
              "    }\n",
              "\n",
              "    .colab-df-buttons div {\n",
              "      margin-bottom: 4px;\n",
              "    }\n",
              "\n",
              "    [theme=dark] .colab-df-convert {\n",
              "      background-color: #3B4455;\n",
              "      fill: #D2E3FC;\n",
              "    }\n",
              "\n",
              "    [theme=dark] .colab-df-convert:hover {\n",
              "      background-color: #434B5C;\n",
              "      box-shadow: 0px 1px 3px 1px rgba(0, 0, 0, 0.15);\n",
              "      filter: drop-shadow(0px 1px 2px rgba(0, 0, 0, 0.3));\n",
              "      fill: #FFFFFF;\n",
              "    }\n",
              "  </style>\n",
              "\n",
              "    <script>\n",
              "      const buttonEl =\n",
              "        document.querySelector('#df-dfb0727d-e3cd-48a9-9707-7745564f7584 button.colab-df-convert');\n",
              "      buttonEl.style.display =\n",
              "        google.colab.kernel.accessAllowed ? 'block' : 'none';\n",
              "\n",
              "      async function convertToInteractive(key) {\n",
              "        const element = document.querySelector('#df-dfb0727d-e3cd-48a9-9707-7745564f7584');\n",
              "        const dataTable =\n",
              "          await google.colab.kernel.invokeFunction('convertToInteractive',\n",
              "                                                    [key], {});\n",
              "        if (!dataTable) return;\n",
              "\n",
              "        const docLinkHtml = 'Like what you see? Visit the ' +\n",
              "          '<a target=\"_blank\" href=https://colab.research.google.com/notebooks/data_table.ipynb>data table notebook</a>'\n",
              "          + ' to learn more about interactive tables.';\n",
              "        element.innerHTML = '';\n",
              "        dataTable['output_type'] = 'display_data';\n",
              "        await google.colab.output.renderOutput(dataTable, element);\n",
              "        const docLink = document.createElement('div');\n",
              "        docLink.innerHTML = docLinkHtml;\n",
              "        element.appendChild(docLink);\n",
              "      }\n",
              "    </script>\n",
              "  </div>\n",
              "\n",
              "\n",
              "<div id=\"df-a1a35032-fb73-4db5-9fb3-be39b5857cc1\">\n",
              "  <button class=\"colab-df-quickchart\" onclick=\"quickchart('df-a1a35032-fb73-4db5-9fb3-be39b5857cc1')\"\n",
              "            title=\"Suggest charts\"\n",
              "            style=\"display:none;\">\n",
              "\n",
              "<svg xmlns=\"http://www.w3.org/2000/svg\" height=\"24px\"viewBox=\"0 0 24 24\"\n",
              "     width=\"24px\">\n",
              "    <g>\n",
              "        <path d=\"M19 3H5c-1.1 0-2 .9-2 2v14c0 1.1.9 2 2 2h14c1.1 0 2-.9 2-2V5c0-1.1-.9-2-2-2zM9 17H7v-7h2v7zm4 0h-2V7h2v10zm4 0h-2v-4h2v4z\"/>\n",
              "    </g>\n",
              "</svg>\n",
              "  </button>\n",
              "\n",
              "<style>\n",
              "  .colab-df-quickchart {\n",
              "      --bg-color: #E8F0FE;\n",
              "      --fill-color: #1967D2;\n",
              "      --hover-bg-color: #E2EBFA;\n",
              "      --hover-fill-color: #174EA6;\n",
              "      --disabled-fill-color: #AAA;\n",
              "      --disabled-bg-color: #DDD;\n",
              "  }\n",
              "\n",
              "  [theme=dark] .colab-df-quickchart {\n",
              "      --bg-color: #3B4455;\n",
              "      --fill-color: #D2E3FC;\n",
              "      --hover-bg-color: #434B5C;\n",
              "      --hover-fill-color: #FFFFFF;\n",
              "      --disabled-bg-color: #3B4455;\n",
              "      --disabled-fill-color: #666;\n",
              "  }\n",
              "\n",
              "  .colab-df-quickchart {\n",
              "    background-color: var(--bg-color);\n",
              "    border: none;\n",
              "    border-radius: 50%;\n",
              "    cursor: pointer;\n",
              "    display: none;\n",
              "    fill: var(--fill-color);\n",
              "    height: 32px;\n",
              "    padding: 0;\n",
              "    width: 32px;\n",
              "  }\n",
              "\n",
              "  .colab-df-quickchart:hover {\n",
              "    background-color: var(--hover-bg-color);\n",
              "    box-shadow: 0 1px 2px rgba(60, 64, 67, 0.3), 0 1px 3px 1px rgba(60, 64, 67, 0.15);\n",
              "    fill: var(--button-hover-fill-color);\n",
              "  }\n",
              "\n",
              "  .colab-df-quickchart-complete:disabled,\n",
              "  .colab-df-quickchart-complete:disabled:hover {\n",
              "    background-color: var(--disabled-bg-color);\n",
              "    fill: var(--disabled-fill-color);\n",
              "    box-shadow: none;\n",
              "  }\n",
              "\n",
              "  .colab-df-spinner {\n",
              "    border: 2px solid var(--fill-color);\n",
              "    border-color: transparent;\n",
              "    border-bottom-color: var(--fill-color);\n",
              "    animation:\n",
              "      spin 1s steps(1) infinite;\n",
              "  }\n",
              "\n",
              "  @keyframes spin {\n",
              "    0% {\n",
              "      border-color: transparent;\n",
              "      border-bottom-color: var(--fill-color);\n",
              "      border-left-color: var(--fill-color);\n",
              "    }\n",
              "    20% {\n",
              "      border-color: transparent;\n",
              "      border-left-color: var(--fill-color);\n",
              "      border-top-color: var(--fill-color);\n",
              "    }\n",
              "    30% {\n",
              "      border-color: transparent;\n",
              "      border-left-color: var(--fill-color);\n",
              "      border-top-color: var(--fill-color);\n",
              "      border-right-color: var(--fill-color);\n",
              "    }\n",
              "    40% {\n",
              "      border-color: transparent;\n",
              "      border-right-color: var(--fill-color);\n",
              "      border-top-color: var(--fill-color);\n",
              "    }\n",
              "    60% {\n",
              "      border-color: transparent;\n",
              "      border-right-color: var(--fill-color);\n",
              "    }\n",
              "    80% {\n",
              "      border-color: transparent;\n",
              "      border-right-color: var(--fill-color);\n",
              "      border-bottom-color: var(--fill-color);\n",
              "    }\n",
              "    90% {\n",
              "      border-color: transparent;\n",
              "      border-bottom-color: var(--fill-color);\n",
              "    }\n",
              "  }\n",
              "</style>\n",
              "\n",
              "  <script>\n",
              "    async function quickchart(key) {\n",
              "      const quickchartButtonEl =\n",
              "        document.querySelector('#' + key + ' button');\n",
              "      quickchartButtonEl.disabled = true;  // To prevent multiple clicks.\n",
              "      quickchartButtonEl.classList.add('colab-df-spinner');\n",
              "      try {\n",
              "        const charts = await google.colab.kernel.invokeFunction(\n",
              "            'suggestCharts', [key], {});\n",
              "      } catch (error) {\n",
              "        console.error('Error during call to suggestCharts:', error);\n",
              "      }\n",
              "      quickchartButtonEl.classList.remove('colab-df-spinner');\n",
              "      quickchartButtonEl.classList.add('colab-df-quickchart-complete');\n",
              "    }\n",
              "    (() => {\n",
              "      let quickchartButtonEl =\n",
              "        document.querySelector('#df-a1a35032-fb73-4db5-9fb3-be39b5857cc1 button');\n",
              "      quickchartButtonEl.style.display =\n",
              "        google.colab.kernel.accessAllowed ? 'block' : 'none';\n",
              "    })();\n",
              "  </script>\n",
              "</div>\n",
              "\n",
              "    </div>\n",
              "  </div>\n"
            ],
            "text/plain": [
              "                   ID             PRES                       HOU       WEIGHT  \\\n",
              "count     3121.000000             3021                      2987  3121.000000   \n",
              "unique            NaN                6                         4          NaN   \n",
              "top               NaN  Hillary Clinton  The Democratic candidate          NaN   \n",
              "freq              NaN             1484                      1496          NaN   \n",
              "mean    136930.888177              NaN                       NaN     2.229150   \n",
              "std        908.812958              NaN                       NaN     1.961622   \n",
              "min     135355.000000              NaN                       NaN     0.051402   \n",
              "25%     136145.000000              NaN                       NaN     0.828979   \n",
              "50%     136932.000000              NaN                       NaN     1.585026   \n",
              "75%     137717.000000              NaN                       NaN     3.207638   \n",
              "max     138504.000000              NaN                       NaN    18.407688   \n",
              "\n",
              "            @2WAYPRES16   AGE  AGE3        AGE8 AGE45 AGE49  ... TRUMPWOMEN  \\\n",
              "count               937  3076  3076        3076  3076  3076  ...        366   \n",
              "unique                4     4     3           8     2     2  ...          5   \n",
              "top     Hillary Clinton   65+   60+  65 or over   45+   50+  ...      A lot   \n",
              "freq                442  1268  1622        1268  2428  2233  ...        172   \n",
              "mean                NaN   NaN   NaN         NaN   NaN   NaN  ...        NaN   \n",
              "std                 NaN   NaN   NaN         NaN   NaN   NaN  ...        NaN   \n",
              "min                 NaN   NaN   NaN         NaN   NaN   NaN  ...        NaN   \n",
              "25%                 NaN   NaN   NaN         NaN   NaN   NaN  ...        NaN   \n",
              "50%                 NaN   NaN   NaN         NaN   NaN   NaN  ...        NaN   \n",
              "75%                 NaN   NaN   NaN         NaN   NaN   NaN  ...        NaN   \n",
              "max                 NaN   NaN   NaN         NaN   NaN   NaN  ...        NaN   \n",
              "\n",
              "          TRUMPWOMENB UNIONHH12    VERSION VETVOTER   WHITEREL WHNCLINC  \\\n",
              "count             366       665       3120      674        465     1278   \n",
              "unique              3         2          5        2          6        2   \n",
              "top     A lot or some        No  Version 2       No  Non-white       No   \n",
              "freq              239       583        713      558        267     1075   \n",
              "mean              NaN       NaN        NaN      NaN        NaN      NaN   \n",
              "std               NaN       NaN        NaN      NaN        NaN      NaN   \n",
              "min               NaN       NaN        NaN      NaN        NaN      NaN   \n",
              "25%               NaN       NaN        NaN      NaN        NaN      NaN   \n",
              "50%               NaN       NaN        NaN      NaN        NaN      NaN   \n",
              "75%               NaN       NaN        NaN      NaN        NaN      NaN   \n",
              "max               NaN       NaN        NaN      NaN        NaN      NaN   \n",
              "\n",
              "          WHTEVANG WPROTBRN                     WPROTBRN3  \n",
              "count          364      287                            88  \n",
              "unique           2        2                             3  \n",
              "top     All others       No  White Protestant evangelical  \n",
              "freq           254      240                            47  \n",
              "mean           NaN      NaN                           NaN  \n",
              "std            NaN      NaN                           NaN  \n",
              "min            NaN      NaN                           NaN  \n",
              "25%            NaN      NaN                           NaN  \n",
              "50%            NaN      NaN                           NaN  \n",
              "75%            NaN      NaN                           NaN  \n",
              "max            NaN      NaN                           NaN  \n",
              "\n",
              "[11 rows x 138 columns]"
            ]
          },
          "execution_count": 7,
          "metadata": {},
          "output_type": "execute_result"
        }
      ],
      "source": [
        "df.describe(include='all')"
      ]
    },
    {
      "cell_type": "markdown",
      "metadata": {
        "id": "aWXFkIaYjA4h"
      },
      "source": [
        "Notice that *every* row has some missing data! If we drop the rows with missing values, we’re left with an empty data frame (0 rows):"
      ]
    },
    {
      "cell_type": "code",
      "execution_count": 8,
      "metadata": {
        "colab": {
          "base_uri": "https://localhost:8080/",
          "height": 78
        },
        "id": "JC-EvXWmjA4i",
        "outputId": "bb1d6f7a-aa13-49e3-d6ce-b38fdac4654e"
      },
      "outputs": [
        {
          "data": {
            "application/vnd.google.colaboratory.intrinsic+json": {
              "type": "dataframe"
            },
            "text/html": [
              "\n",
              "  <div id=\"df-e5af8701-18f5-4ba3-9432-0a5c9a7c1daf\" class=\"colab-df-container\">\n",
              "    <div>\n",
              "<style scoped>\n",
              "    .dataframe tbody tr th:only-of-type {\n",
              "        vertical-align: middle;\n",
              "    }\n",
              "\n",
              "    .dataframe tbody tr th {\n",
              "        vertical-align: top;\n",
              "    }\n",
              "\n",
              "    .dataframe thead th {\n",
              "        text-align: right;\n",
              "    }\n",
              "</style>\n",
              "<table border=\"1\" class=\"dataframe\">\n",
              "  <thead>\n",
              "    <tr style=\"text-align: right;\">\n",
              "      <th></th>\n",
              "      <th>ID</th>\n",
              "      <th>PRES</th>\n",
              "      <th>HOU</th>\n",
              "      <th>WEIGHT</th>\n",
              "      <th>@2WAYPRES16</th>\n",
              "      <th>AGE</th>\n",
              "      <th>AGE3</th>\n",
              "      <th>AGE8</th>\n",
              "      <th>AGE45</th>\n",
              "      <th>AGE49</th>\n",
              "      <th>...</th>\n",
              "      <th>TRUMPWOMEN</th>\n",
              "      <th>TRUMPWOMENB</th>\n",
              "      <th>UNIONHH12</th>\n",
              "      <th>VERSION</th>\n",
              "      <th>VETVOTER</th>\n",
              "      <th>WHITEREL</th>\n",
              "      <th>WHNCLINC</th>\n",
              "      <th>WHTEVANG</th>\n",
              "      <th>WPROTBRN</th>\n",
              "      <th>WPROTBRN3</th>\n",
              "    </tr>\n",
              "  </thead>\n",
              "  <tbody>\n",
              "  </tbody>\n",
              "</table>\n",
              "<p>0 rows × 138 columns</p>\n",
              "</div>\n",
              "    <div class=\"colab-df-buttons\">\n",
              "\n",
              "  <div class=\"colab-df-container\">\n",
              "    <button class=\"colab-df-convert\" onclick=\"convertToInteractive('df-e5af8701-18f5-4ba3-9432-0a5c9a7c1daf')\"\n",
              "            title=\"Convert this dataframe to an interactive table.\"\n",
              "            style=\"display:none;\">\n",
              "\n",
              "  <svg xmlns=\"http://www.w3.org/2000/svg\" height=\"24px\" viewBox=\"0 -960 960 960\">\n",
              "    <path d=\"M120-120v-720h720v720H120Zm60-500h600v-160H180v160Zm220 220h160v-160H400v160Zm0 220h160v-160H400v160ZM180-400h160v-160H180v160Zm440 0h160v-160H620v160ZM180-180h160v-160H180v160Zm440 0h160v-160H620v160Z\"/>\n",
              "  </svg>\n",
              "    </button>\n",
              "\n",
              "  <style>\n",
              "    .colab-df-container {\n",
              "      display:flex;\n",
              "      gap: 12px;\n",
              "    }\n",
              "\n",
              "    .colab-df-convert {\n",
              "      background-color: #E8F0FE;\n",
              "      border: none;\n",
              "      border-radius: 50%;\n",
              "      cursor: pointer;\n",
              "      display: none;\n",
              "      fill: #1967D2;\n",
              "      height: 32px;\n",
              "      padding: 0 0 0 0;\n",
              "      width: 32px;\n",
              "    }\n",
              "\n",
              "    .colab-df-convert:hover {\n",
              "      background-color: #E2EBFA;\n",
              "      box-shadow: 0px 1px 2px rgba(60, 64, 67, 0.3), 0px 1px 3px 1px rgba(60, 64, 67, 0.15);\n",
              "      fill: #174EA6;\n",
              "    }\n",
              "\n",
              "    .colab-df-buttons div {\n",
              "      margin-bottom: 4px;\n",
              "    }\n",
              "\n",
              "    [theme=dark] .colab-df-convert {\n",
              "      background-color: #3B4455;\n",
              "      fill: #D2E3FC;\n",
              "    }\n",
              "\n",
              "    [theme=dark] .colab-df-convert:hover {\n",
              "      background-color: #434B5C;\n",
              "      box-shadow: 0px 1px 3px 1px rgba(0, 0, 0, 0.15);\n",
              "      filter: drop-shadow(0px 1px 2px rgba(0, 0, 0, 0.3));\n",
              "      fill: #FFFFFF;\n",
              "    }\n",
              "  </style>\n",
              "\n",
              "    <script>\n",
              "      const buttonEl =\n",
              "        document.querySelector('#df-e5af8701-18f5-4ba3-9432-0a5c9a7c1daf button.colab-df-convert');\n",
              "      buttonEl.style.display =\n",
              "        google.colab.kernel.accessAllowed ? 'block' : 'none';\n",
              "\n",
              "      async function convertToInteractive(key) {\n",
              "        const element = document.querySelector('#df-e5af8701-18f5-4ba3-9432-0a5c9a7c1daf');\n",
              "        const dataTable =\n",
              "          await google.colab.kernel.invokeFunction('convertToInteractive',\n",
              "                                                    [key], {});\n",
              "        if (!dataTable) return;\n",
              "\n",
              "        const docLinkHtml = 'Like what you see? Visit the ' +\n",
              "          '<a target=\"_blank\" href=https://colab.research.google.com/notebooks/data_table.ipynb>data table notebook</a>'\n",
              "          + ' to learn more about interactive tables.';\n",
              "        element.innerHTML = '';\n",
              "        dataTable['output_type'] = 'display_data';\n",
              "        await google.colab.output.renderOutput(dataTable, element);\n",
              "        const docLink = document.createElement('div');\n",
              "        docLink.innerHTML = docLinkHtml;\n",
              "        element.appendChild(docLink);\n",
              "      }\n",
              "    </script>\n",
              "  </div>\n",
              "\n",
              "\n",
              "    </div>\n",
              "  </div>\n"
            ],
            "text/plain": [
              "Empty DataFrame\n",
              "Columns: [ID, PRES, HOU, WEIGHT, @2WAYPRES16, AGE, AGE3, AGE8, AGE45, AGE49, AGE60, AGE65, AGEBLACK, AGEBYRACE, AGEBYRACE08, ATTEND16, ATTEND16B, ATTREL, BACKSIDE, BORNCITIZEN, BREAK12, BREAK12A, BREAK12B, BRNAGAIN, CALL, CDNUM, CHIEF16, CLINHONEST, CLINTONEMAIL, CLINTONEMAILB, CLINTONWINGEN, CLINTONWINGENB, COUNT2, COUNTACC, CUBAN3, DESCRIBP12, EDUC12R, EDUCCOLL, EDUCHS, EDUCWHITE, EDUCWHITEBYSEX, FAIRJUSTICE, FAVDEM2, FAVHCLIN16, FAVPRES16, FAVREP2, FAVTRUMP, FINSIT, FTVOTER, GOVTANGR16, GOVTANGR16B, GOVTDO10, HANDLEECON16, HANDLEFP16, HEALTHCARE16, HONEST16, IMMDEPORT, IMMWALL, INC100K, INC50K, INCOME3, INCOME16GEN, INCWHITE, ISIS16, ISIS16B, ISSUE16, LATINO, LGBT, LIFE, MARRIED, MORMON, NEC, NEC2, OBAMA2, OBAMA4, OBAMAPLCY16, OVER45, OVER65, PARTY, PARTYBLACK, PARTYBYRACE, PARTYGENDER, PARTYID, PARTYWHITE, PHIL3, PRECINCT, PTYIDEO, PTYIDEO7, QLT16, QRACE3, QRACEAI, QRACEAK, QRACEHI, QTYPE, QUALCLINTON, QUALIFIED16, QUALTRUMP, RACE, RACE2B, RACEAI, ...]\n",
              "Index: []\n",
              "\n",
              "[0 rows x 138 columns]"
            ]
          },
          "execution_count": 8,
          "metadata": {},
          "output_type": "execute_result"
        }
      ],
      "source": [
        "df.dropna()"
      ]
    },
    {
      "cell_type": "markdown",
      "metadata": {
        "id": "IN-yCH1hjA4j"
      },
      "source": [
        "Instead, we’ll have to make sure that the classifier we use is able to work with partial data. One nice benefit of K nearest neighbors is that it can work well with data that has missing values, as long as we use a distance metric that behaves reasonably under these conditions."
      ]
    },
    {
      "cell_type": "markdown",
      "metadata": {
        "id": "1UuLcmEDjA4k"
      },
      "source": [
        "### Encode target variable as a binary variable"
      ]
    },
    {
      "cell_type": "markdown",
      "metadata": {
        "id": "Ec_e1UYOjA4k"
      },
      "source": [
        "Our goal is to classify voters based on their vote in the 2016 presidential election, i.e. the value of the `PRES` column. We will restrict our attention to the candidates from the two major parties, so we will throw out the rows representing voters who chose other candidates:"
      ]
    },
    {
      "cell_type": "code",
      "execution_count": 9,
      "metadata": {
        "colab": {
          "base_uri": "https://localhost:8080/"
        },
        "id": "aONr_krUjA4l",
        "outputId": "1684af0f-e060-47f7-de65-fd3c31a4b935"
      },
      "outputs": [
        {
          "name": "stdout",
          "output_type": "stream",
          "text": [
            "<class 'pandas.core.frame.DataFrame'>\n",
            "RangeIndex: 2829 entries, 0 to 2828\n",
            "Columns: 138 entries, ID to WPROTBRN3\n",
            "dtypes: float64(9), int64(1), object(128)\n",
            "memory usage: 3.0+ MB\n"
          ]
        }
      ],
      "source": [
        "df = df[df['PRES'].isin(['Donald Trump', 'Hillary Clinton'])]\n",
        "df.reset_index(inplace=True, drop=True)\n",
        "df.info()"
      ]
    },
    {
      "cell_type": "code",
      "execution_count": 10,
      "metadata": {
        "colab": {
          "base_uri": "https://localhost:8080/"
        },
        "id": "SpKraGAsjA4m",
        "outputId": "405640a1-124f-42c7-bcd4-b8667df42c2c"
      },
      "outputs": [
        {
          "data": {
            "text/plain": [
              "PRES\n",
              "Hillary Clinton    1484\n",
              "Donald Trump       1345\n",
              "Name: count, dtype: int64"
            ]
          },
          "execution_count": 10,
          "metadata": {},
          "output_type": "execute_result"
        }
      ],
      "source": [
        "df['PRES'].value_counts()"
      ]
    },
    {
      "cell_type": "markdown",
      "metadata": {
        "id": "1AjJCsREjA4n"
      },
      "source": [
        "Now, we will transform the string value into a binary variable, and save the result in `y`. We will build a binary classifier that predicts `1` if it thinks a sample is Trump voter, and `0` if it thinks a sample is a Clinton voter."
      ]
    },
    {
      "cell_type": "code",
      "execution_count": 11,
      "metadata": {
        "colab": {
          "base_uri": "https://localhost:8080/"
        },
        "id": "RzBYaH33jA4p",
        "outputId": "0febb2cd-2d76-4580-d0d3-022511d7846d"
      },
      "outputs": [
        {
          "data": {
            "text/plain": [
              "PRES\n",
              "0    1484\n",
              "1    1345\n",
              "Name: count, dtype: int64"
            ]
          },
          "execution_count": 11,
          "metadata": {},
          "output_type": "execute_result"
        }
      ],
      "source": [
        "y = df['PRES'].map({'Donald Trump': 1, 'Hillary Clinton': 0})\n",
        "y.value_counts()"
      ]
    },
    {
      "cell_type": "markdown",
      "metadata": {
        "id": "wJDYfHNbjA4q"
      },
      "source": [
        "### Encode ordinal features"
      ]
    },
    {
      "cell_type": "markdown",
      "metadata": {},
      "source": []
    },
    {
      "cell_type": "markdown",
      "metadata": {
        "id": "-20PeAONjA4r"
      },
      "source": [
        "Next, we need to encode our features. All of the features are represented as strings, but we will have to transform them into something over which we can compute a meaningful distance measure.\n",
        "\n",
        "Columns that have a **logical order** should be encoded using ordinal encoding, so that the distance metric will be meaningful.\n",
        "\n",
        "For example, consider the `AGE` column, in which users select an option from the following:"
      ]
    },
    {
      "cell_type": "code",
      "execution_count": 12,
      "metadata": {
        "colab": {
          "base_uri": "https://localhost:8080/"
        },
        "id": "TlUYFXecjA4s",
        "outputId": "989a78fd-8f5c-422a-f7e8-6633b38ab132"
      },
      "outputs": [
        {
          "data": {
            "text/plain": [
              "array(['18-29', '30-44', '45-65', '65+', nan], dtype=object)"
            ]
          },
          "execution_count": 12,
          "metadata": {},
          "output_type": "execute_result"
        }
      ],
      "source": [
        "df['AGE'].unique()"
      ]
    },
    {
      "cell_type": "markdown",
      "metadata": {
        "id": "7UXR7BjkjA4u"
      },
      "source": [
        "What if we transform the `AGE` column using four binary columns: `AGE_18-29`, `AGE_30-44`, `AGE_45-65`, `AGE_65+`, with a 0 or a 1 in each column to indicate the respondent’s age?\n",
        "\n",
        "If we did this, we would lose meaningful information about the distance between ages; a respondent whose age is 18-29 would have the same distance to one whose age is 45-65 as to one whose age is 65+. Logically, we expect that a respondent whose age is 18-29 is most similar to the other 18-29 respondents, less similar to the 30-44 respondents, even less similar to the 45-65 respondents, and least similar to the 65+ respondents.\n",
        "\n",
        "To realize this, we will use **ordinal encoding**, which will represent `AGE` in a single column with *ordered* integer values."
      ]
    },
    {
      "cell_type": "markdown",
      "metadata": {
        "id": "onaM2HmJjA4v"
      },
      "source": [
        "First, we define a dictionary that maps each possible value to an integer."
      ]
    },
    {
      "cell_type": "code",
      "execution_count": 13,
      "metadata": {
        "id": "2qqVc-FVjA4x"
      },
      "outputs": [],
      "source": [
        "mapping_dict_age = {'18-29': 1,\n",
        "                 '30-44': 2,\n",
        "                 '45-65': 3,\n",
        "                 '65+': 4}"
      ]
    },
    {
      "cell_type": "markdown",
      "metadata": {
        "id": "qoI0K9t8jA4y"
      },
      "source": [
        "Then we can create a new data frame, `df_enc_ord`, by calling `map` on the original `df['AGE']` and passing this mapping dictionary. We will also specify that the index should be the same as the original data frame:"
      ]
    },
    {
      "cell_type": "code",
      "execution_count": 14,
      "metadata": {
        "id": "GWEt_n_xjA4z"
      },
      "outputs": [],
      "source": [
        "df_enc_ord = pd.DataFrame( {'AGE': df['AGE'].map( mapping_dict_age) },\n",
        "    index = df.index\n",
        ")"
      ]
    },
    {
      "cell_type": "markdown",
      "metadata": {
        "id": "iBqQLESajA40"
      },
      "source": [
        "We can extend this approach to encode more than one ordinal feature. For example, let us consider the column `EDUC12R`, which includes the respondent’s answer to the question:\n",
        "\n",
        "> Which best describes your education?\n",
        ">\n",
        "> 1.  High school or less\n",
        "> 2.  Some college/assoc. degree\n",
        "> 3.  College graduate\n",
        "> 4.  Postgraduate study"
      ]
    },
    {
      "cell_type": "code",
      "execution_count": 15,
      "metadata": {
        "colab": {
          "base_uri": "https://localhost:8080/"
        },
        "id": "Sqm-pSobjA40",
        "outputId": "e27c8c5a-0f57-43f3-eaa6-a797184ca01d"
      },
      "outputs": [
        {
          "data": {
            "text/plain": [
              "EDUC12R\n",
              "College graduate              852\n",
              "Some college/assoc. degree    813\n",
              "High school or less           576\n",
              "Postgraduate study            555\n",
              "Name: count, dtype: int64"
            ]
          },
          "execution_count": 15,
          "metadata": {},
          "output_type": "execute_result"
        }
      ],
      "source": [
        "df['EDUC12R'].value_counts()"
      ]
    },
    {
      "cell_type": "markdown",
      "metadata": {
        "id": "e8uCUoP_jA40"
      },
      "source": [
        "We can map both `AGE` and `EDUC12R` to ordinal-encoded columns in a new data frame:"
      ]
    },
    {
      "cell_type": "code",
      "execution_count": 16,
      "metadata": {
        "id": "1kaV52dnjA40"
      },
      "outputs": [],
      "source": [
        "mapping_dict_age = {'18-29': 1,\n",
        "                 '30-44': 2,\n",
        "                 '45-65': 3,\n",
        "                 '65+': 4}\n",
        "mapping_dict_educ12r =  {'High school or less': 1,\n",
        "                   'Some college/assoc. degree': 2,\n",
        "                   'College graduate': 3,\n",
        "                   'Postgraduate study': 4}\n",
        "df_enc_ord = pd.DataFrame( {\n",
        "    'AGE': df['AGE'].map( mapping_dict_age) ,\n",
        "    'EDUC12R': df['EDUC12R'].map( mapping_dict_educ12r)\n",
        "    },\n",
        "    index = df.index\n",
        ")"
      ]
    },
    {
      "cell_type": "markdown",
      "metadata": {
        "id": "hrm-6QFmjA41"
      },
      "source": [
        "Note that the order matters - the “High school or less” answer should have the smallest value, followed by “Some college/assoc. degree”, then “College graduate”, then “Postgraduate study”."
      ]
    },
    {
      "cell_type": "markdown",
      "metadata": {
        "id": "c81l53mWjA42"
      },
      "source": [
        "Also note that missing values are still treated as missing (not mapped to some value) - this is going to be important, since we are going to design a distance metric that treats missing values sensibly:"
      ]
    },
    {
      "cell_type": "code",
      "execution_count": 17,
      "metadata": {
        "colab": {
          "base_uri": "https://localhost:8080/"
        },
        "id": "MuGqCToqjA42",
        "outputId": "081ffbde-0bc7-4c61-c53c-bb34e160cc63"
      },
      "outputs": [
        {
          "data": {
            "text/plain": [
              "AGE        41\n",
              "EDUC12R    33\n",
              "dtype: int64"
            ]
          },
          "execution_count": 17,
          "metadata": {},
          "output_type": "execute_result"
        }
      ],
      "source": [
        "df_enc_ord.isna().sum()"
      ]
    },
    {
      "cell_type": "markdown",
      "metadata": {
        "id": "PnKShnjAjA43"
      },
      "source": [
        "There’s one more important step before we can use our ordinal-encoded values with KNN.\n",
        "\n",
        "Note that the values in the encoded columns range from 1 to the number of categories. For K nearest neighbors, the “importance” of each feature in determining the class label would be proportional to its scale (because the value of the feature is used directly in the distance metric). If we leave it as is, any feature with a larger range of possible values will be considered more “important!”, i.e. would count more in the distance metric.\n",
        "\n",
        "So, we will re-scale our encoded features to the unit interval. We can do this with the `MinMaxScaler` in `sklearn`.\n",
        "\n",
        "(Note: in general, you’d “fit” scalers etc. on only the training data, not the test data! In this case, however, the min and max in the training data is just due to our encoding, and will definitely be the same as the test data, so it doesn’t really matter.)"
      ]
    },
    {
      "cell_type": "code",
      "execution_count": 18,
      "metadata": {
        "id": "Ja_kCGN6jA44"
      },
      "outputs": [],
      "source": [
        "scaler = MinMaxScaler()\n",
        "\n",
        "# first scale in numpy format, then convert back to pandas df\n",
        "df_scaled = scaler.fit_transform(df_enc_ord)\n",
        "df_enc_ord = pd.DataFrame(df_scaled, columns=df_enc_ord.columns)"
      ]
    },
    {
      "cell_type": "code",
      "execution_count": 19,
      "metadata": {
        "colab": {
          "base_uri": "https://localhost:8080/",
          "height": 300
        },
        "id": "Jxl2N0bmjA44",
        "outputId": "a3befe15-eb7b-435e-9e2a-967b044b261f"
      },
      "outputs": [
        {
          "data": {
            "application/vnd.google.colaboratory.intrinsic+json": {
              "summary": "{\n  \"name\": \"df_enc_ord\",\n  \"rows\": 8,\n  \"fields\": [\n    {\n      \"column\": \"AGE\",\n      \"properties\": {\n        \"dtype\": \"number\",\n        \"std\": 985.4871302499416,\n        \"min\": 0.0,\n        \"max\": 2788.0,\n        \"num_unique_values\": 6,\n        \"samples\": [\n          2788.0,\n          0.7185557149689145,\n          1.0\n        ],\n        \"semantic_type\": \"\",\n        \"description\": \"\"\n      }\n    },\n    {\n      \"column\": \"EDUC12R\",\n      \"properties\": {\n        \"dtype\": \"number\",\n        \"std\": 988.3581270019936,\n        \"min\": 0.0,\n        \"max\": 2796.0,\n        \"num_unique_values\": 7,\n        \"samples\": [\n          2796.0,\n          0.49856938483547925,\n          0.6666666666666667\n        ],\n        \"semantic_type\": \"\",\n        \"description\": \"\"\n      }\n    }\n  ]\n}",
              "type": "dataframe"
            },
            "text/html": [
              "\n",
              "  <div id=\"df-795114b5-2b09-4920-aa88-1ae94f3a135d\" class=\"colab-df-container\">\n",
              "    <div>\n",
              "<style scoped>\n",
              "    .dataframe tbody tr th:only-of-type {\n",
              "        vertical-align: middle;\n",
              "    }\n",
              "\n",
              "    .dataframe tbody tr th {\n",
              "        vertical-align: top;\n",
              "    }\n",
              "\n",
              "    .dataframe thead th {\n",
              "        text-align: right;\n",
              "    }\n",
              "</style>\n",
              "<table border=\"1\" class=\"dataframe\">\n",
              "  <thead>\n",
              "    <tr style=\"text-align: right;\">\n",
              "      <th></th>\n",
              "      <th>AGE</th>\n",
              "      <th>EDUC12R</th>\n",
              "    </tr>\n",
              "  </thead>\n",
              "  <tbody>\n",
              "    <tr>\n",
              "      <th>count</th>\n",
              "      <td>2788.000000</td>\n",
              "      <td>2796.000000</td>\n",
              "    </tr>\n",
              "    <tr>\n",
              "      <th>mean</th>\n",
              "      <td>0.718556</td>\n",
              "      <td>0.498569</td>\n",
              "    </tr>\n",
              "    <tr>\n",
              "      <th>std</th>\n",
              "      <td>0.299533</td>\n",
              "      <td>0.343086</td>\n",
              "    </tr>\n",
              "    <tr>\n",
              "      <th>min</th>\n",
              "      <td>0.000000</td>\n",
              "      <td>0.000000</td>\n",
              "    </tr>\n",
              "    <tr>\n",
              "      <th>25%</th>\n",
              "      <td>0.666667</td>\n",
              "      <td>0.333333</td>\n",
              "    </tr>\n",
              "    <tr>\n",
              "      <th>50%</th>\n",
              "      <td>0.666667</td>\n",
              "      <td>0.666667</td>\n",
              "    </tr>\n",
              "    <tr>\n",
              "      <th>75%</th>\n",
              "      <td>1.000000</td>\n",
              "      <td>0.666667</td>\n",
              "    </tr>\n",
              "    <tr>\n",
              "      <th>max</th>\n",
              "      <td>1.000000</td>\n",
              "      <td>1.000000</td>\n",
              "    </tr>\n",
              "  </tbody>\n",
              "</table>\n",
              "</div>\n",
              "    <div class=\"colab-df-buttons\">\n",
              "\n",
              "  <div class=\"colab-df-container\">\n",
              "    <button class=\"colab-df-convert\" onclick=\"convertToInteractive('df-795114b5-2b09-4920-aa88-1ae94f3a135d')\"\n",
              "            title=\"Convert this dataframe to an interactive table.\"\n",
              "            style=\"display:none;\">\n",
              "\n",
              "  <svg xmlns=\"http://www.w3.org/2000/svg\" height=\"24px\" viewBox=\"0 -960 960 960\">\n",
              "    <path d=\"M120-120v-720h720v720H120Zm60-500h600v-160H180v160Zm220 220h160v-160H400v160Zm0 220h160v-160H400v160ZM180-400h160v-160H180v160Zm440 0h160v-160H620v160ZM180-180h160v-160H180v160Zm440 0h160v-160H620v160Z\"/>\n",
              "  </svg>\n",
              "    </button>\n",
              "\n",
              "  <style>\n",
              "    .colab-df-container {\n",
              "      display:flex;\n",
              "      gap: 12px;\n",
              "    }\n",
              "\n",
              "    .colab-df-convert {\n",
              "      background-color: #E8F0FE;\n",
              "      border: none;\n",
              "      border-radius: 50%;\n",
              "      cursor: pointer;\n",
              "      display: none;\n",
              "      fill: #1967D2;\n",
              "      height: 32px;\n",
              "      padding: 0 0 0 0;\n",
              "      width: 32px;\n",
              "    }\n",
              "\n",
              "    .colab-df-convert:hover {\n",
              "      background-color: #E2EBFA;\n",
              "      box-shadow: 0px 1px 2px rgba(60, 64, 67, 0.3), 0px 1px 3px 1px rgba(60, 64, 67, 0.15);\n",
              "      fill: #174EA6;\n",
              "    }\n",
              "\n",
              "    .colab-df-buttons div {\n",
              "      margin-bottom: 4px;\n",
              "    }\n",
              "\n",
              "    [theme=dark] .colab-df-convert {\n",
              "      background-color: #3B4455;\n",
              "      fill: #D2E3FC;\n",
              "    }\n",
              "\n",
              "    [theme=dark] .colab-df-convert:hover {\n",
              "      background-color: #434B5C;\n",
              "      box-shadow: 0px 1px 3px 1px rgba(0, 0, 0, 0.15);\n",
              "      filter: drop-shadow(0px 1px 2px rgba(0, 0, 0, 0.3));\n",
              "      fill: #FFFFFF;\n",
              "    }\n",
              "  </style>\n",
              "\n",
              "    <script>\n",
              "      const buttonEl =\n",
              "        document.querySelector('#df-795114b5-2b09-4920-aa88-1ae94f3a135d button.colab-df-convert');\n",
              "      buttonEl.style.display =\n",
              "        google.colab.kernel.accessAllowed ? 'block' : 'none';\n",
              "\n",
              "      async function convertToInteractive(key) {\n",
              "        const element = document.querySelector('#df-795114b5-2b09-4920-aa88-1ae94f3a135d');\n",
              "        const dataTable =\n",
              "          await google.colab.kernel.invokeFunction('convertToInteractive',\n",
              "                                                    [key], {});\n",
              "        if (!dataTable) return;\n",
              "\n",
              "        const docLinkHtml = 'Like what you see? Visit the ' +\n",
              "          '<a target=\"_blank\" href=https://colab.research.google.com/notebooks/data_table.ipynb>data table notebook</a>'\n",
              "          + ' to learn more about interactive tables.';\n",
              "        element.innerHTML = '';\n",
              "        dataTable['output_type'] = 'display_data';\n",
              "        await google.colab.output.renderOutput(dataTable, element);\n",
              "        const docLink = document.createElement('div');\n",
              "        docLink.innerHTML = docLinkHtml;\n",
              "        element.appendChild(docLink);\n",
              "      }\n",
              "    </script>\n",
              "  </div>\n",
              "\n",
              "\n",
              "<div id=\"df-1cf97729-6b54-4dc8-ab89-169b90eac910\">\n",
              "  <button class=\"colab-df-quickchart\" onclick=\"quickchart('df-1cf97729-6b54-4dc8-ab89-169b90eac910')\"\n",
              "            title=\"Suggest charts\"\n",
              "            style=\"display:none;\">\n",
              "\n",
              "<svg xmlns=\"http://www.w3.org/2000/svg\" height=\"24px\"viewBox=\"0 0 24 24\"\n",
              "     width=\"24px\">\n",
              "    <g>\n",
              "        <path d=\"M19 3H5c-1.1 0-2 .9-2 2v14c0 1.1.9 2 2 2h14c1.1 0 2-.9 2-2V5c0-1.1-.9-2-2-2zM9 17H7v-7h2v7zm4 0h-2V7h2v10zm4 0h-2v-4h2v4z\"/>\n",
              "    </g>\n",
              "</svg>\n",
              "  </button>\n",
              "\n",
              "<style>\n",
              "  .colab-df-quickchart {\n",
              "      --bg-color: #E8F0FE;\n",
              "      --fill-color: #1967D2;\n",
              "      --hover-bg-color: #E2EBFA;\n",
              "      --hover-fill-color: #174EA6;\n",
              "      --disabled-fill-color: #AAA;\n",
              "      --disabled-bg-color: #DDD;\n",
              "  }\n",
              "\n",
              "  [theme=dark] .colab-df-quickchart {\n",
              "      --bg-color: #3B4455;\n",
              "      --fill-color: #D2E3FC;\n",
              "      --hover-bg-color: #434B5C;\n",
              "      --hover-fill-color: #FFFFFF;\n",
              "      --disabled-bg-color: #3B4455;\n",
              "      --disabled-fill-color: #666;\n",
              "  }\n",
              "\n",
              "  .colab-df-quickchart {\n",
              "    background-color: var(--bg-color);\n",
              "    border: none;\n",
              "    border-radius: 50%;\n",
              "    cursor: pointer;\n",
              "    display: none;\n",
              "    fill: var(--fill-color);\n",
              "    height: 32px;\n",
              "    padding: 0;\n",
              "    width: 32px;\n",
              "  }\n",
              "\n",
              "  .colab-df-quickchart:hover {\n",
              "    background-color: var(--hover-bg-color);\n",
              "    box-shadow: 0 1px 2px rgba(60, 64, 67, 0.3), 0 1px 3px 1px rgba(60, 64, 67, 0.15);\n",
              "    fill: var(--button-hover-fill-color);\n",
              "  }\n",
              "\n",
              "  .colab-df-quickchart-complete:disabled,\n",
              "  .colab-df-quickchart-complete:disabled:hover {\n",
              "    background-color: var(--disabled-bg-color);\n",
              "    fill: var(--disabled-fill-color);\n",
              "    box-shadow: none;\n",
              "  }\n",
              "\n",
              "  .colab-df-spinner {\n",
              "    border: 2px solid var(--fill-color);\n",
              "    border-color: transparent;\n",
              "    border-bottom-color: var(--fill-color);\n",
              "    animation:\n",
              "      spin 1s steps(1) infinite;\n",
              "  }\n",
              "\n",
              "  @keyframes spin {\n",
              "    0% {\n",
              "      border-color: transparent;\n",
              "      border-bottom-color: var(--fill-color);\n",
              "      border-left-color: var(--fill-color);\n",
              "    }\n",
              "    20% {\n",
              "      border-color: transparent;\n",
              "      border-left-color: var(--fill-color);\n",
              "      border-top-color: var(--fill-color);\n",
              "    }\n",
              "    30% {\n",
              "      border-color: transparent;\n",
              "      border-left-color: var(--fill-color);\n",
              "      border-top-color: var(--fill-color);\n",
              "      border-right-color: var(--fill-color);\n",
              "    }\n",
              "    40% {\n",
              "      border-color: transparent;\n",
              "      border-right-color: var(--fill-color);\n",
              "      border-top-color: var(--fill-color);\n",
              "    }\n",
              "    60% {\n",
              "      border-color: transparent;\n",
              "      border-right-color: var(--fill-color);\n",
              "    }\n",
              "    80% {\n",
              "      border-color: transparent;\n",
              "      border-right-color: var(--fill-color);\n",
              "      border-bottom-color: var(--fill-color);\n",
              "    }\n",
              "    90% {\n",
              "      border-color: transparent;\n",
              "      border-bottom-color: var(--fill-color);\n",
              "    }\n",
              "  }\n",
              "</style>\n",
              "\n",
              "  <script>\n",
              "    async function quickchart(key) {\n",
              "      const quickchartButtonEl =\n",
              "        document.querySelector('#' + key + ' button');\n",
              "      quickchartButtonEl.disabled = true;  // To prevent multiple clicks.\n",
              "      quickchartButtonEl.classList.add('colab-df-spinner');\n",
              "      try {\n",
              "        const charts = await google.colab.kernel.invokeFunction(\n",
              "            'suggestCharts', [key], {});\n",
              "      } catch (error) {\n",
              "        console.error('Error during call to suggestCharts:', error);\n",
              "      }\n",
              "      quickchartButtonEl.classList.remove('colab-df-spinner');\n",
              "      quickchartButtonEl.classList.add('colab-df-quickchart-complete');\n",
              "    }\n",
              "    (() => {\n",
              "      let quickchartButtonEl =\n",
              "        document.querySelector('#df-1cf97729-6b54-4dc8-ab89-169b90eac910 button');\n",
              "      quickchartButtonEl.style.display =\n",
              "        google.colab.kernel.accessAllowed ? 'block' : 'none';\n",
              "    })();\n",
              "  </script>\n",
              "</div>\n",
              "\n",
              "    </div>\n",
              "  </div>\n"
            ],
            "text/plain": [
              "               AGE      EDUC12R\n",
              "count  2788.000000  2796.000000\n",
              "mean      0.718556     0.498569\n",
              "std       0.299533     0.343086\n",
              "min       0.000000     0.000000\n",
              "25%       0.666667     0.333333\n",
              "50%       0.666667     0.666667\n",
              "75%       1.000000     0.666667\n",
              "max       1.000000     1.000000"
            ]
          },
          "execution_count": 19,
          "metadata": {},
          "output_type": "execute_result"
        }
      ],
      "source": [
        "df_enc_ord.describe()"
      ]
    },
    {
      "cell_type": "code",
      "execution_count": 20,
      "metadata": {
        "colab": {
          "base_uri": "https://localhost:8080/"
        },
        "id": "I-VKhh1MjA45",
        "outputId": "23b419d1-5469-439b-e104-7747e65f14be"
      },
      "outputs": [
        {
          "data": {
            "text/plain": [
              "EDUC12R\n",
              "0.666667    852\n",
              "0.333333    813\n",
              "0.000000    576\n",
              "1.000000    555\n",
              "Name: count, dtype: int64"
            ]
          },
          "execution_count": 20,
          "metadata": {},
          "output_type": "execute_result"
        }
      ],
      "source": [
        "df_enc_ord['EDUC12R'].value_counts()"
      ]
    },
    {
      "cell_type": "code",
      "execution_count": 21,
      "metadata": {
        "colab": {
          "base_uri": "https://localhost:8080/"
        },
        "id": "8fziZCPUjA45",
        "outputId": "82e695fc-8350-4df7-8897-8d962f9b66de"
      },
      "outputs": [
        {
          "data": {
            "text/plain": [
              "AGE        41\n",
              "EDUC12R    33\n",
              "dtype: int64"
            ]
          },
          "execution_count": 21,
          "metadata": {},
          "output_type": "execute_result"
        }
      ],
      "source": [
        "df_enc_ord.isna().sum()"
      ]
    },
    {
      "cell_type": "markdown",
      "metadata": {
        "id": "9ZJFDNhejA46"
      },
      "source": [
        "Later, you’ll design a model with more ordinal features. For this initial demo, though, we’ll stick to just those two - age and education - and continue to the next step."
      ]
    },
    {
      "cell_type": "markdown",
      "metadata": {
        "id": "qltAxHKAjA46"
      },
      "source": [
        "### Encode categorical features"
      ]
    },
    {
      "cell_type": "markdown",
      "metadata": {
        "id": "UFpjJxPCjA47"
      },
      "source": [
        "In the previous section, we encoded features that have a logical ordering.\n",
        "\n",
        "Other categorical features, such as `RACE`, have no logical ordering. It would be wrong to assign an ordered mapping to these features. These should be encoded using **one-hot encoding**, which will create a new column for each unique value, and then put a 1 or 0 in each column to indicate the respondent’s answer.\n",
        "\n",
        "(Note: for features that have two possible values - binary features - either categorical encoding or one-hot encoding would be valid in this case!)"
      ]
    },
    {
      "cell_type": "code",
      "execution_count": 22,
      "metadata": {
        "colab": {
          "base_uri": "https://localhost:8080/"
        },
        "id": "sT_l6h1kjA47",
        "outputId": "6421bacb-b7b0-44c6-e5b6-3bcf27a6e2fd"
      },
      "outputs": [
        {
          "data": {
            "text/plain": [
              "RACE\n",
              "White              2007\n",
              "Hispanic/Latino     335\n",
              "Black               247\n",
              "Other                81\n",
              "Asian                68\n",
              "Name: count, dtype: int64"
            ]
          },
          "execution_count": 22,
          "metadata": {},
          "output_type": "execute_result"
        }
      ],
      "source": [
        "df['RACE'].value_counts()"
      ]
    },
    {
      "cell_type": "markdown",
      "metadata": {
        "id": "U-4zEQyojA47"
      },
      "source": [
        "We can one-hot encode this column using the `get_dummies` function in `pandas`."
      ]
    },
    {
      "cell_type": "code",
      "execution_count": 23,
      "metadata": {
        "id": "ISPswrRNjA47"
      },
      "outputs": [],
      "source": [
        "df_enc_oh = pd.get_dummies(df['RACE'], prefix='RACE', dtype=np.int32)"
      ]
    },
    {
      "cell_type": "code",
      "execution_count": 24,
      "metadata": {
        "colab": {
          "base_uri": "https://localhost:8080/",
          "height": 300
        },
        "id": "N0zJxyv1jA48",
        "outputId": "120e7a06-8bf7-4490-f172-85a3e4ec2176"
      },
      "outputs": [
        {
          "data": {
            "application/vnd.google.colaboratory.intrinsic+json": {
              "summary": "{\n  \"name\": \"df_enc_oh\",\n  \"rows\": 8,\n  \"fields\": [\n    {\n      \"column\": \"RACE_Asian\",\n      \"properties\": {\n        \"dtype\": \"number\",\n        \"std\": 1000.1431420350611,\n        \"min\": 0.0,\n        \"max\": 2829.0,\n        \"num_unique_values\": 5,\n        \"samples\": [\n          0.024036762106751503,\n          1.0,\n          0.1531903764421614\n        ],\n        \"semantic_type\": \"\",\n        \"description\": \"\"\n      }\n    },\n    {\n      \"column\": \"RACE_Black\",\n      \"properties\": {\n        \"dtype\": \"number\",\n        \"std\": 1000.1334227989255,\n        \"min\": 0.0,\n        \"max\": 2829.0,\n        \"num_unique_values\": 5,\n        \"samples\": [\n          0.08731000353481795,\n          1.0,\n          0.2823387055825848\n        ],\n        \"semantic_type\": \"\",\n        \"description\": \"\"\n      }\n    },\n    {\n      \"column\": \"RACE_Hispanic/Latino\",\n      \"properties\": {\n        \"dtype\": \"number\",\n        \"std\": 1000.129790179601,\n        \"min\": 0.0,\n        \"max\": 2829.0,\n        \"num_unique_values\": 5,\n        \"samples\": [\n          0.1184164015553199,\n          1.0,\n          0.32315765782370337\n        ],\n        \"semantic_type\": \"\",\n        \"description\": \"\"\n      }\n    },\n    {\n      \"column\": \"RACE_Other\",\n      \"properties\": {\n        \"dtype\": \"number\",\n        \"std\": 1000.1422224632585,\n        \"min\": 0.0,\n        \"max\": 2829.0,\n        \"num_unique_values\": 5,\n        \"samples\": [\n          0.02863202545068929,\n          1.0,\n          0.1667994819042945\n        ],\n        \"semantic_type\": \"\",\n        \"description\": \"\"\n      }\n    },\n    {\n      \"column\": \"RACE_White\",\n      \"properties\": {\n        \"dtype\": \"number\",\n        \"std\": 999.9923395410318,\n        \"min\": 0.0,\n        \"max\": 2829.0,\n        \"num_unique_values\": 5,\n        \"samples\": [\n          0.7094379639448568,\n          1.0,\n          0.45410200424083336\n        ],\n        \"semantic_type\": \"\",\n        \"description\": \"\"\n      }\n    }\n  ]\n}",
              "type": "dataframe"
            },
            "text/html": [
              "\n",
              "  <div id=\"df-2513ac7a-1b1b-4495-9a0e-f843eaee2315\" class=\"colab-df-container\">\n",
              "    <div>\n",
              "<style scoped>\n",
              "    .dataframe tbody tr th:only-of-type {\n",
              "        vertical-align: middle;\n",
              "    }\n",
              "\n",
              "    .dataframe tbody tr th {\n",
              "        vertical-align: top;\n",
              "    }\n",
              "\n",
              "    .dataframe thead th {\n",
              "        text-align: right;\n",
              "    }\n",
              "</style>\n",
              "<table border=\"1\" class=\"dataframe\">\n",
              "  <thead>\n",
              "    <tr style=\"text-align: right;\">\n",
              "      <th></th>\n",
              "      <th>RACE_Asian</th>\n",
              "      <th>RACE_Black</th>\n",
              "      <th>RACE_Hispanic/Latino</th>\n",
              "      <th>RACE_Other</th>\n",
              "      <th>RACE_White</th>\n",
              "    </tr>\n",
              "  </thead>\n",
              "  <tbody>\n",
              "    <tr>\n",
              "      <th>count</th>\n",
              "      <td>2829.000000</td>\n",
              "      <td>2829.000000</td>\n",
              "      <td>2829.000000</td>\n",
              "      <td>2829.000000</td>\n",
              "      <td>2829.000000</td>\n",
              "    </tr>\n",
              "    <tr>\n",
              "      <th>mean</th>\n",
              "      <td>0.024037</td>\n",
              "      <td>0.087310</td>\n",
              "      <td>0.118416</td>\n",
              "      <td>0.028632</td>\n",
              "      <td>0.709438</td>\n",
              "    </tr>\n",
              "    <tr>\n",
              "      <th>std</th>\n",
              "      <td>0.153190</td>\n",
              "      <td>0.282339</td>\n",
              "      <td>0.323158</td>\n",
              "      <td>0.166799</td>\n",
              "      <td>0.454102</td>\n",
              "    </tr>\n",
              "    <tr>\n",
              "      <th>min</th>\n",
              "      <td>0.000000</td>\n",
              "      <td>0.000000</td>\n",
              "      <td>0.000000</td>\n",
              "      <td>0.000000</td>\n",
              "      <td>0.000000</td>\n",
              "    </tr>\n",
              "    <tr>\n",
              "      <th>25%</th>\n",
              "      <td>0.000000</td>\n",
              "      <td>0.000000</td>\n",
              "      <td>0.000000</td>\n",
              "      <td>0.000000</td>\n",
              "      <td>0.000000</td>\n",
              "    </tr>\n",
              "    <tr>\n",
              "      <th>50%</th>\n",
              "      <td>0.000000</td>\n",
              "      <td>0.000000</td>\n",
              "      <td>0.000000</td>\n",
              "      <td>0.000000</td>\n",
              "      <td>1.000000</td>\n",
              "    </tr>\n",
              "    <tr>\n",
              "      <th>75%</th>\n",
              "      <td>0.000000</td>\n",
              "      <td>0.000000</td>\n",
              "      <td>0.000000</td>\n",
              "      <td>0.000000</td>\n",
              "      <td>1.000000</td>\n",
              "    </tr>\n",
              "    <tr>\n",
              "      <th>max</th>\n",
              "      <td>1.000000</td>\n",
              "      <td>1.000000</td>\n",
              "      <td>1.000000</td>\n",
              "      <td>1.000000</td>\n",
              "      <td>1.000000</td>\n",
              "    </tr>\n",
              "  </tbody>\n",
              "</table>\n",
              "</div>\n",
              "    <div class=\"colab-df-buttons\">\n",
              "\n",
              "  <div class=\"colab-df-container\">\n",
              "    <button class=\"colab-df-convert\" onclick=\"convertToInteractive('df-2513ac7a-1b1b-4495-9a0e-f843eaee2315')\"\n",
              "            title=\"Convert this dataframe to an interactive table.\"\n",
              "            style=\"display:none;\">\n",
              "\n",
              "  <svg xmlns=\"http://www.w3.org/2000/svg\" height=\"24px\" viewBox=\"0 -960 960 960\">\n",
              "    <path d=\"M120-120v-720h720v720H120Zm60-500h600v-160H180v160Zm220 220h160v-160H400v160Zm0 220h160v-160H400v160ZM180-400h160v-160H180v160Zm440 0h160v-160H620v160ZM180-180h160v-160H180v160Zm440 0h160v-160H620v160Z\"/>\n",
              "  </svg>\n",
              "    </button>\n",
              "\n",
              "  <style>\n",
              "    .colab-df-container {\n",
              "      display:flex;\n",
              "      gap: 12px;\n",
              "    }\n",
              "\n",
              "    .colab-df-convert {\n",
              "      background-color: #E8F0FE;\n",
              "      border: none;\n",
              "      border-radius: 50%;\n",
              "      cursor: pointer;\n",
              "      display: none;\n",
              "      fill: #1967D2;\n",
              "      height: 32px;\n",
              "      padding: 0 0 0 0;\n",
              "      width: 32px;\n",
              "    }\n",
              "\n",
              "    .colab-df-convert:hover {\n",
              "      background-color: #E2EBFA;\n",
              "      box-shadow: 0px 1px 2px rgba(60, 64, 67, 0.3), 0px 1px 3px 1px rgba(60, 64, 67, 0.15);\n",
              "      fill: #174EA6;\n",
              "    }\n",
              "\n",
              "    .colab-df-buttons div {\n",
              "      margin-bottom: 4px;\n",
              "    }\n",
              "\n",
              "    [theme=dark] .colab-df-convert {\n",
              "      background-color: #3B4455;\n",
              "      fill: #D2E3FC;\n",
              "    }\n",
              "\n",
              "    [theme=dark] .colab-df-convert:hover {\n",
              "      background-color: #434B5C;\n",
              "      box-shadow: 0px 1px 3px 1px rgba(0, 0, 0, 0.15);\n",
              "      filter: drop-shadow(0px 1px 2px rgba(0, 0, 0, 0.3));\n",
              "      fill: #FFFFFF;\n",
              "    }\n",
              "  </style>\n",
              "\n",
              "    <script>\n",
              "      const buttonEl =\n",
              "        document.querySelector('#df-2513ac7a-1b1b-4495-9a0e-f843eaee2315 button.colab-df-convert');\n",
              "      buttonEl.style.display =\n",
              "        google.colab.kernel.accessAllowed ? 'block' : 'none';\n",
              "\n",
              "      async function convertToInteractive(key) {\n",
              "        const element = document.querySelector('#df-2513ac7a-1b1b-4495-9a0e-f843eaee2315');\n",
              "        const dataTable =\n",
              "          await google.colab.kernel.invokeFunction('convertToInteractive',\n",
              "                                                    [key], {});\n",
              "        if (!dataTable) return;\n",
              "\n",
              "        const docLinkHtml = 'Like what you see? Visit the ' +\n",
              "          '<a target=\"_blank\" href=https://colab.research.google.com/notebooks/data_table.ipynb>data table notebook</a>'\n",
              "          + ' to learn more about interactive tables.';\n",
              "        element.innerHTML = '';\n",
              "        dataTable['output_type'] = 'display_data';\n",
              "        await google.colab.output.renderOutput(dataTable, element);\n",
              "        const docLink = document.createElement('div');\n",
              "        docLink.innerHTML = docLinkHtml;\n",
              "        element.appendChild(docLink);\n",
              "      }\n",
              "    </script>\n",
              "  </div>\n",
              "\n",
              "\n",
              "<div id=\"df-f3df29a4-254a-4fea-b7a8-f8973081848c\">\n",
              "  <button class=\"colab-df-quickchart\" onclick=\"quickchart('df-f3df29a4-254a-4fea-b7a8-f8973081848c')\"\n",
              "            title=\"Suggest charts\"\n",
              "            style=\"display:none;\">\n",
              "\n",
              "<svg xmlns=\"http://www.w3.org/2000/svg\" height=\"24px\"viewBox=\"0 0 24 24\"\n",
              "     width=\"24px\">\n",
              "    <g>\n",
              "        <path d=\"M19 3H5c-1.1 0-2 .9-2 2v14c0 1.1.9 2 2 2h14c1.1 0 2-.9 2-2V5c0-1.1-.9-2-2-2zM9 17H7v-7h2v7zm4 0h-2V7h2v10zm4 0h-2v-4h2v4z\"/>\n",
              "    </g>\n",
              "</svg>\n",
              "  </button>\n",
              "\n",
              "<style>\n",
              "  .colab-df-quickchart {\n",
              "      --bg-color: #E8F0FE;\n",
              "      --fill-color: #1967D2;\n",
              "      --hover-bg-color: #E2EBFA;\n",
              "      --hover-fill-color: #174EA6;\n",
              "      --disabled-fill-color: #AAA;\n",
              "      --disabled-bg-color: #DDD;\n",
              "  }\n",
              "\n",
              "  [theme=dark] .colab-df-quickchart {\n",
              "      --bg-color: #3B4455;\n",
              "      --fill-color: #D2E3FC;\n",
              "      --hover-bg-color: #434B5C;\n",
              "      --hover-fill-color: #FFFFFF;\n",
              "      --disabled-bg-color: #3B4455;\n",
              "      --disabled-fill-color: #666;\n",
              "  }\n",
              "\n",
              "  .colab-df-quickchart {\n",
              "    background-color: var(--bg-color);\n",
              "    border: none;\n",
              "    border-radius: 50%;\n",
              "    cursor: pointer;\n",
              "    display: none;\n",
              "    fill: var(--fill-color);\n",
              "    height: 32px;\n",
              "    padding: 0;\n",
              "    width: 32px;\n",
              "  }\n",
              "\n",
              "  .colab-df-quickchart:hover {\n",
              "    background-color: var(--hover-bg-color);\n",
              "    box-shadow: 0 1px 2px rgba(60, 64, 67, 0.3), 0 1px 3px 1px rgba(60, 64, 67, 0.15);\n",
              "    fill: var(--button-hover-fill-color);\n",
              "  }\n",
              "\n",
              "  .colab-df-quickchart-complete:disabled,\n",
              "  .colab-df-quickchart-complete:disabled:hover {\n",
              "    background-color: var(--disabled-bg-color);\n",
              "    fill: var(--disabled-fill-color);\n",
              "    box-shadow: none;\n",
              "  }\n",
              "\n",
              "  .colab-df-spinner {\n",
              "    border: 2px solid var(--fill-color);\n",
              "    border-color: transparent;\n",
              "    border-bottom-color: var(--fill-color);\n",
              "    animation:\n",
              "      spin 1s steps(1) infinite;\n",
              "  }\n",
              "\n",
              "  @keyframes spin {\n",
              "    0% {\n",
              "      border-color: transparent;\n",
              "      border-bottom-color: var(--fill-color);\n",
              "      border-left-color: var(--fill-color);\n",
              "    }\n",
              "    20% {\n",
              "      border-color: transparent;\n",
              "      border-left-color: var(--fill-color);\n",
              "      border-top-color: var(--fill-color);\n",
              "    }\n",
              "    30% {\n",
              "      border-color: transparent;\n",
              "      border-left-color: var(--fill-color);\n",
              "      border-top-color: var(--fill-color);\n",
              "      border-right-color: var(--fill-color);\n",
              "    }\n",
              "    40% {\n",
              "      border-color: transparent;\n",
              "      border-right-color: var(--fill-color);\n",
              "      border-top-color: var(--fill-color);\n",
              "    }\n",
              "    60% {\n",
              "      border-color: transparent;\n",
              "      border-right-color: var(--fill-color);\n",
              "    }\n",
              "    80% {\n",
              "      border-color: transparent;\n",
              "      border-right-color: var(--fill-color);\n",
              "      border-bottom-color: var(--fill-color);\n",
              "    }\n",
              "    90% {\n",
              "      border-color: transparent;\n",
              "      border-bottom-color: var(--fill-color);\n",
              "    }\n",
              "  }\n",
              "</style>\n",
              "\n",
              "  <script>\n",
              "    async function quickchart(key) {\n",
              "      const quickchartButtonEl =\n",
              "        document.querySelector('#' + key + ' button');\n",
              "      quickchartButtonEl.disabled = true;  // To prevent multiple clicks.\n",
              "      quickchartButtonEl.classList.add('colab-df-spinner');\n",
              "      try {\n",
              "        const charts = await google.colab.kernel.invokeFunction(\n",
              "            'suggestCharts', [key], {});\n",
              "      } catch (error) {\n",
              "        console.error('Error during call to suggestCharts:', error);\n",
              "      }\n",
              "      quickchartButtonEl.classList.remove('colab-df-spinner');\n",
              "      quickchartButtonEl.classList.add('colab-df-quickchart-complete');\n",
              "    }\n",
              "    (() => {\n",
              "      let quickchartButtonEl =\n",
              "        document.querySelector('#df-f3df29a4-254a-4fea-b7a8-f8973081848c button');\n",
              "      quickchartButtonEl.style.display =\n",
              "        google.colab.kernel.accessAllowed ? 'block' : 'none';\n",
              "    })();\n",
              "  </script>\n",
              "</div>\n",
              "\n",
              "    </div>\n",
              "  </div>\n"
            ],
            "text/plain": [
              "        RACE_Asian   RACE_Black  RACE_Hispanic/Latino   RACE_Other  \\\n",
              "count  2829.000000  2829.000000           2829.000000  2829.000000   \n",
              "mean      0.024037     0.087310              0.118416     0.028632   \n",
              "std       0.153190     0.282339              0.323158     0.166799   \n",
              "min       0.000000     0.000000              0.000000     0.000000   \n",
              "25%       0.000000     0.000000              0.000000     0.000000   \n",
              "50%       0.000000     0.000000              0.000000     0.000000   \n",
              "75%       0.000000     0.000000              0.000000     0.000000   \n",
              "max       1.000000     1.000000              1.000000     1.000000   \n",
              "\n",
              "        RACE_White  \n",
              "count  2829.000000  \n",
              "mean      0.709438  \n",
              "std       0.454102  \n",
              "min       0.000000  \n",
              "25%       0.000000  \n",
              "50%       1.000000  \n",
              "75%       1.000000  \n",
              "max       1.000000  "
            ]
          },
          "execution_count": 24,
          "metadata": {},
          "output_type": "execute_result"
        }
      ],
      "source": [
        "df_enc_oh.describe()"
      ]
    },
    {
      "cell_type": "markdown",
      "metadata": {
        "id": "kokAt9cHjA48"
      },
      "source": [
        "Note that we added a `RACE` prefix to each column name - this prevents overlap between columns, e.g. if we also encoded another feature where “Other” was a possible answer. And, it helps us relate the new columns back to the original survey question that they answer."
      ]
    },
    {
      "cell_type": "markdown",
      "metadata": {
        "id": "3IKXWl-zjA48"
      },
      "source": [
        "For this survey data, we want to preserve information about missing values - if a sample did not have a value for the `RACE` feature, we want it to have a NaN in all `RACE` columns. We can assign NaN to those rows as follows:"
      ]
    },
    {
      "cell_type": "code",
      "execution_count": 25,
      "metadata": {
        "id": "ahXJTXzRjA48"
      },
      "outputs": [],
      "source": [
        "df_enc_oh.loc[df['RACE'].isnull(), df_enc_oh.columns.str.startswith(\"RACE_\")] = float(\"NaN\")"
      ]
    },
    {
      "cell_type": "markdown",
      "metadata": {
        "id": "zkhIXSIwjA49"
      },
      "source": [
        "Now, for respondents where this feature is not available, we have a NaN in all `RACE` columns:"
      ]
    },
    {
      "cell_type": "code",
      "execution_count": 26,
      "metadata": {
        "colab": {
          "base_uri": "https://localhost:8080/"
        },
        "id": "Q99jHnijjA49",
        "outputId": "a4f9bdbe-3692-4722-a581-5f15946d4271"
      },
      "outputs": [
        {
          "data": {
            "text/plain": [
              "RACE_Asian              91\n",
              "RACE_Black              91\n",
              "RACE_Hispanic/Latino    91\n",
              "RACE_Other              91\n",
              "RACE_White              91\n",
              "dtype: int64"
            ]
          },
          "execution_count": 26,
          "metadata": {},
          "output_type": "execute_result"
        }
      ],
      "source": [
        "df_enc_oh.isnull().sum()"
      ]
    },
    {
      "cell_type": "markdown",
      "metadata": {
        "id": "sftHlwfKjA49"
      },
      "source": [
        "### Stack columns"
      ]
    },
    {
      "cell_type": "markdown",
      "metadata": {
        "id": "zP3ztf7XjA4-"
      },
      "source": [
        "Now, we’ll prepare our feature data, by column-wise concatenating the ordinal-encoded feature columns and the one-hot-encoded feature columns:"
      ]
    },
    {
      "cell_type": "code",
      "execution_count": 27,
      "metadata": {
        "id": "zXfePbJ1jA4-"
      },
      "outputs": [],
      "source": [
        "X = pd.concat([df_enc_oh, df_enc_ord], axis=1)"
      ]
    },
    {
      "cell_type": "markdown",
      "metadata": {
        "id": "tRdKv_ROjA4-"
      },
      "source": [
        "### Get training and test indices"
      ]
    },
    {
      "cell_type": "markdown",
      "metadata": {
        "id": "vzs7VkEgjA4_"
      },
      "source": [
        "We’ll be working with many different subsets of this dataset, including different columns.\n",
        "\n",
        "So instead of splitting up the data into training and test sets, we’ll get an array of training indices and an array of test indices using `ShuffleSplit`. Then, we can use these arrays throughout this notebook."
      ]
    },
    {
      "cell_type": "code",
      "execution_count": 28,
      "metadata": {
        "id": "Uh-jm8LhjA4_"
      },
      "outputs": [],
      "source": [
        "idx_tr, idx_ts = next(ShuffleSplit(n_splits = 1, test_size = 0.3, random_state = 3).split(df['PRES']))"
      ]
    },
    {
      "cell_type": "markdown",
      "metadata": {
        "id": "HDIDYcDojA5A"
      },
      "source": [
        "I specified the state of the random number generator for repeatability, so that every time we run this notebook we’ll have the same split. This makes it easier to discuss specific examples."
      ]
    },
    {
      "cell_type": "markdown",
      "metadata": {
        "id": "uey0VCESjA5A"
      },
      "source": [
        "Now, we can use the `pandas` function `.iloc` to get the training and test parts of the data set for any column.\n",
        "\n",
        "For example, if we want the training subset of `y`:"
      ]
    },
    {
      "cell_type": "code",
      "execution_count": 29,
      "metadata": {
        "colab": {
          "base_uri": "https://localhost:8080/"
        },
        "id": "HRBIGGGCjA5A",
        "outputId": "adfe5a5a-77a8-4c86-d851-ed56fd509180"
      },
      "outputs": [
        {
          "data": {
            "text/plain": [
              "1879    1\n",
              "332     1\n",
              "2479    1\n",
              "248     0\n",
              "1606    0\n",
              "       ..\n",
              "2304    0\n",
              "968     0\n",
              "1667    1\n",
              "1688    1\n",
              "1898    1\n",
              "Name: PRES, Length: 1980, dtype: int64"
            ]
          },
          "execution_count": 29,
          "metadata": {},
          "output_type": "execute_result"
        }
      ],
      "source": [
        "y.iloc[idx_tr]"
      ]
    },
    {
      "cell_type": "markdown",
      "metadata": {
        "id": "LdJ-Oz0LjA5B"
      },
      "source": [
        "or the test subset of `y`:"
      ]
    },
    {
      "cell_type": "code",
      "execution_count": 30,
      "metadata": {
        "colab": {
          "base_uri": "https://localhost:8080/"
        },
        "id": "Ga6FLbM3jA5B",
        "outputId": "c201a1ee-3dc9-4fcb-9181-dac6587eef05"
      },
      "outputs": [
        {
          "data": {
            "text/plain": [
              "2439    0\n",
              "1531    0\n",
              "2780    0\n",
              "2254    1\n",
              "2020    0\n",
              "       ..\n",
              "1646    0\n",
              "43      0\n",
              "713     1\n",
              "1958    1\n",
              "1277    1\n",
              "Name: PRES, Length: 849, dtype: int64"
            ]
          },
          "execution_count": 30,
          "metadata": {},
          "output_type": "execute_result"
        }
      ],
      "source": [
        "y.iloc[idx_ts]"
      ]
    },
    {
      "cell_type": "markdown",
      "metadata": {
        "id": "4gct4_xYjA5B"
      },
      "source": [
        "Here are the summary statistics for the training data:"
      ]
    },
    {
      "cell_type": "code",
      "execution_count": 31,
      "metadata": {
        "colab": {
          "base_uri": "https://localhost:8080/",
          "height": 300
        },
        "id": "DG86elD5jA5C",
        "outputId": "cc9e344e-f766-4e44-dd6b-b09d24a27526"
      },
      "outputs": [
        {
          "data": {
            "application/vnd.google.colaboratory.intrinsic+json": {
              "summary": "{\n  \"name\": \"X\",\n  \"rows\": 8,\n  \"fields\": [\n    {\n      \"column\": \"RACE_Asian\",\n      \"properties\": {\n        \"dtype\": \"number\",\n        \"std\": 676.6413914936948,\n        \"min\": 0.0,\n        \"max\": 1914.0,\n        \"num_unique_values\": 5,\n        \"samples\": [\n          0.02612330198537095,\n          1.0,\n          0.1595436429954088\n        ],\n        \"semantic_type\": \"\",\n        \"description\": \"\"\n      }\n    },\n    {\n      \"column\": \"RACE_Black\",\n      \"properties\": {\n        \"dtype\": \"number\",\n        \"std\": 676.6323000868131,\n        \"min\": 0.0,\n        \"max\": 1914.0,\n        \"num_unique_values\": 5,\n        \"samples\": [\n          0.08568443051201671,\n          1.0,\n          0.2799706442269805\n        ],\n        \"semantic_type\": \"\",\n        \"description\": \"\"\n      }\n    },\n    {\n      \"column\": \"RACE_Hispanic/Latino\",\n      \"properties\": {\n        \"dtype\": \"number\",\n        \"std\": 676.6278740715768,\n        \"min\": 0.0,\n        \"max\": 1914.0,\n        \"num_unique_values\": 5,\n        \"samples\": [\n          0.1238244514106583,\n          1.0,\n          0.32946725123606535\n        ],\n        \"semantic_type\": \"\",\n        \"description\": \"\"\n      }\n    },\n    {\n      \"column\": \"RACE_Other\",\n      \"properties\": {\n        \"dtype\": \"number\",\n        \"std\": 676.6419268101743,\n        \"min\": 0.0,\n        \"max\": 1914.0,\n        \"num_unique_values\": 5,\n        \"samples\": [\n          0.023510971786833857,\n          1.0,\n          0.15155925291987682\n        ],\n        \"semantic_type\": \"\",\n        \"description\": \"\"\n      }\n    },\n    {\n      \"column\": \"RACE_White\",\n      \"properties\": {\n        \"dtype\": \"number\",\n        \"std\": 676.490242922579,\n        \"min\": 0.0,\n        \"max\": 1914.0,\n        \"num_unique_values\": 5,\n        \"samples\": [\n          0.7408568443051202,\n          1.0,\n          0.43827883839600323\n        ],\n        \"semantic_type\": \"\",\n        \"description\": \"\"\n      }\n    },\n    {\n      \"column\": \"AGE\",\n      \"properties\": {\n        \"dtype\": \"number\",\n        \"std\": 689.9165395276034,\n        \"min\": 0.0,\n        \"max\": 1952.0,\n        \"num_unique_values\": 6,\n        \"samples\": [\n          1952.0,\n          0.71875,\n          1.0\n        ],\n        \"semantic_type\": \"\",\n        \"description\": \"\"\n      }\n    },\n    {\n      \"column\": \"EDUC12R\",\n      \"properties\": {\n        \"dtype\": \"number\",\n        \"std\": 692.4337559414768,\n        \"min\": 0.0,\n        \"max\": 1959.0,\n        \"num_unique_values\": 7,\n        \"samples\": [\n          1959.0,\n          0.5017866258295048,\n          0.6666666666666667\n        ],\n        \"semantic_type\": \"\",\n        \"description\": \"\"\n      }\n    }\n  ]\n}",
              "type": "dataframe"
            },
            "text/html": [
              "\n",
              "  <div id=\"df-d6833642-5f98-404f-99cb-0150edf58d94\" class=\"colab-df-container\">\n",
              "    <div>\n",
              "<style scoped>\n",
              "    .dataframe tbody tr th:only-of-type {\n",
              "        vertical-align: middle;\n",
              "    }\n",
              "\n",
              "    .dataframe tbody tr th {\n",
              "        vertical-align: top;\n",
              "    }\n",
              "\n",
              "    .dataframe thead th {\n",
              "        text-align: right;\n",
              "    }\n",
              "</style>\n",
              "<table border=\"1\" class=\"dataframe\">\n",
              "  <thead>\n",
              "    <tr style=\"text-align: right;\">\n",
              "      <th></th>\n",
              "      <th>RACE_Asian</th>\n",
              "      <th>RACE_Black</th>\n",
              "      <th>RACE_Hispanic/Latino</th>\n",
              "      <th>RACE_Other</th>\n",
              "      <th>RACE_White</th>\n",
              "      <th>AGE</th>\n",
              "      <th>EDUC12R</th>\n",
              "    </tr>\n",
              "  </thead>\n",
              "  <tbody>\n",
              "    <tr>\n",
              "      <th>count</th>\n",
              "      <td>1914.000000</td>\n",
              "      <td>1914.000000</td>\n",
              "      <td>1914.000000</td>\n",
              "      <td>1914.000000</td>\n",
              "      <td>1914.000000</td>\n",
              "      <td>1952.000000</td>\n",
              "      <td>1959.000000</td>\n",
              "    </tr>\n",
              "    <tr>\n",
              "      <th>mean</th>\n",
              "      <td>0.026123</td>\n",
              "      <td>0.085684</td>\n",
              "      <td>0.123824</td>\n",
              "      <td>0.023511</td>\n",
              "      <td>0.740857</td>\n",
              "      <td>0.718750</td>\n",
              "      <td>0.501787</td>\n",
              "    </tr>\n",
              "    <tr>\n",
              "      <th>std</th>\n",
              "      <td>0.159544</td>\n",
              "      <td>0.279971</td>\n",
              "      <td>0.329467</td>\n",
              "      <td>0.151559</td>\n",
              "      <td>0.438279</td>\n",
              "      <td>0.298957</td>\n",
              "      <td>0.343866</td>\n",
              "    </tr>\n",
              "    <tr>\n",
              "      <th>min</th>\n",
              "      <td>0.000000</td>\n",
              "      <td>0.000000</td>\n",
              "      <td>0.000000</td>\n",
              "      <td>0.000000</td>\n",
              "      <td>0.000000</td>\n",
              "      <td>0.000000</td>\n",
              "      <td>0.000000</td>\n",
              "    </tr>\n",
              "    <tr>\n",
              "      <th>25%</th>\n",
              "      <td>0.000000</td>\n",
              "      <td>0.000000</td>\n",
              "      <td>0.000000</td>\n",
              "      <td>0.000000</td>\n",
              "      <td>0.000000</td>\n",
              "      <td>0.666667</td>\n",
              "      <td>0.333333</td>\n",
              "    </tr>\n",
              "    <tr>\n",
              "      <th>50%</th>\n",
              "      <td>0.000000</td>\n",
              "      <td>0.000000</td>\n",
              "      <td>0.000000</td>\n",
              "      <td>0.000000</td>\n",
              "      <td>1.000000</td>\n",
              "      <td>0.666667</td>\n",
              "      <td>0.666667</td>\n",
              "    </tr>\n",
              "    <tr>\n",
              "      <th>75%</th>\n",
              "      <td>0.000000</td>\n",
              "      <td>0.000000</td>\n",
              "      <td>0.000000</td>\n",
              "      <td>0.000000</td>\n",
              "      <td>1.000000</td>\n",
              "      <td>1.000000</td>\n",
              "      <td>0.666667</td>\n",
              "    </tr>\n",
              "    <tr>\n",
              "      <th>max</th>\n",
              "      <td>1.000000</td>\n",
              "      <td>1.000000</td>\n",
              "      <td>1.000000</td>\n",
              "      <td>1.000000</td>\n",
              "      <td>1.000000</td>\n",
              "      <td>1.000000</td>\n",
              "      <td>1.000000</td>\n",
              "    </tr>\n",
              "  </tbody>\n",
              "</table>\n",
              "</div>\n",
              "    <div class=\"colab-df-buttons\">\n",
              "\n",
              "  <div class=\"colab-df-container\">\n",
              "    <button class=\"colab-df-convert\" onclick=\"convertToInteractive('df-d6833642-5f98-404f-99cb-0150edf58d94')\"\n",
              "            title=\"Convert this dataframe to an interactive table.\"\n",
              "            style=\"display:none;\">\n",
              "\n",
              "  <svg xmlns=\"http://www.w3.org/2000/svg\" height=\"24px\" viewBox=\"0 -960 960 960\">\n",
              "    <path d=\"M120-120v-720h720v720H120Zm60-500h600v-160H180v160Zm220 220h160v-160H400v160Zm0 220h160v-160H400v160ZM180-400h160v-160H180v160Zm440 0h160v-160H620v160ZM180-180h160v-160H180v160Zm440 0h160v-160H620v160Z\"/>\n",
              "  </svg>\n",
              "    </button>\n",
              "\n",
              "  <style>\n",
              "    .colab-df-container {\n",
              "      display:flex;\n",
              "      gap: 12px;\n",
              "    }\n",
              "\n",
              "    .colab-df-convert {\n",
              "      background-color: #E8F0FE;\n",
              "      border: none;\n",
              "      border-radius: 50%;\n",
              "      cursor: pointer;\n",
              "      display: none;\n",
              "      fill: #1967D2;\n",
              "      height: 32px;\n",
              "      padding: 0 0 0 0;\n",
              "      width: 32px;\n",
              "    }\n",
              "\n",
              "    .colab-df-convert:hover {\n",
              "      background-color: #E2EBFA;\n",
              "      box-shadow: 0px 1px 2px rgba(60, 64, 67, 0.3), 0px 1px 3px 1px rgba(60, 64, 67, 0.15);\n",
              "      fill: #174EA6;\n",
              "    }\n",
              "\n",
              "    .colab-df-buttons div {\n",
              "      margin-bottom: 4px;\n",
              "    }\n",
              "\n",
              "    [theme=dark] .colab-df-convert {\n",
              "      background-color: #3B4455;\n",
              "      fill: #D2E3FC;\n",
              "    }\n",
              "\n",
              "    [theme=dark] .colab-df-convert:hover {\n",
              "      background-color: #434B5C;\n",
              "      box-shadow: 0px 1px 3px 1px rgba(0, 0, 0, 0.15);\n",
              "      filter: drop-shadow(0px 1px 2px rgba(0, 0, 0, 0.3));\n",
              "      fill: #FFFFFF;\n",
              "    }\n",
              "  </style>\n",
              "\n",
              "    <script>\n",
              "      const buttonEl =\n",
              "        document.querySelector('#df-d6833642-5f98-404f-99cb-0150edf58d94 button.colab-df-convert');\n",
              "      buttonEl.style.display =\n",
              "        google.colab.kernel.accessAllowed ? 'block' : 'none';\n",
              "\n",
              "      async function convertToInteractive(key) {\n",
              "        const element = document.querySelector('#df-d6833642-5f98-404f-99cb-0150edf58d94');\n",
              "        const dataTable =\n",
              "          await google.colab.kernel.invokeFunction('convertToInteractive',\n",
              "                                                    [key], {});\n",
              "        if (!dataTable) return;\n",
              "\n",
              "        const docLinkHtml = 'Like what you see? Visit the ' +\n",
              "          '<a target=\"_blank\" href=https://colab.research.google.com/notebooks/data_table.ipynb>data table notebook</a>'\n",
              "          + ' to learn more about interactive tables.';\n",
              "        element.innerHTML = '';\n",
              "        dataTable['output_type'] = 'display_data';\n",
              "        await google.colab.output.renderOutput(dataTable, element);\n",
              "        const docLink = document.createElement('div');\n",
              "        docLink.innerHTML = docLinkHtml;\n",
              "        element.appendChild(docLink);\n",
              "      }\n",
              "    </script>\n",
              "  </div>\n",
              "\n",
              "\n",
              "<div id=\"df-2753745d-609e-4f3d-bdb4-f06930643284\">\n",
              "  <button class=\"colab-df-quickchart\" onclick=\"quickchart('df-2753745d-609e-4f3d-bdb4-f06930643284')\"\n",
              "            title=\"Suggest charts\"\n",
              "            style=\"display:none;\">\n",
              "\n",
              "<svg xmlns=\"http://www.w3.org/2000/svg\" height=\"24px\"viewBox=\"0 0 24 24\"\n",
              "     width=\"24px\">\n",
              "    <g>\n",
              "        <path d=\"M19 3H5c-1.1 0-2 .9-2 2v14c0 1.1.9 2 2 2h14c1.1 0 2-.9 2-2V5c0-1.1-.9-2-2-2zM9 17H7v-7h2v7zm4 0h-2V7h2v10zm4 0h-2v-4h2v4z\"/>\n",
              "    </g>\n",
              "</svg>\n",
              "  </button>\n",
              "\n",
              "<style>\n",
              "  .colab-df-quickchart {\n",
              "      --bg-color: #E8F0FE;\n",
              "      --fill-color: #1967D2;\n",
              "      --hover-bg-color: #E2EBFA;\n",
              "      --hover-fill-color: #174EA6;\n",
              "      --disabled-fill-color: #AAA;\n",
              "      --disabled-bg-color: #DDD;\n",
              "  }\n",
              "\n",
              "  [theme=dark] .colab-df-quickchart {\n",
              "      --bg-color: #3B4455;\n",
              "      --fill-color: #D2E3FC;\n",
              "      --hover-bg-color: #434B5C;\n",
              "      --hover-fill-color: #FFFFFF;\n",
              "      --disabled-bg-color: #3B4455;\n",
              "      --disabled-fill-color: #666;\n",
              "  }\n",
              "\n",
              "  .colab-df-quickchart {\n",
              "    background-color: var(--bg-color);\n",
              "    border: none;\n",
              "    border-radius: 50%;\n",
              "    cursor: pointer;\n",
              "    display: none;\n",
              "    fill: var(--fill-color);\n",
              "    height: 32px;\n",
              "    padding: 0;\n",
              "    width: 32px;\n",
              "  }\n",
              "\n",
              "  .colab-df-quickchart:hover {\n",
              "    background-color: var(--hover-bg-color);\n",
              "    box-shadow: 0 1px 2px rgba(60, 64, 67, 0.3), 0 1px 3px 1px rgba(60, 64, 67, 0.15);\n",
              "    fill: var(--button-hover-fill-color);\n",
              "  }\n",
              "\n",
              "  .colab-df-quickchart-complete:disabled,\n",
              "  .colab-df-quickchart-complete:disabled:hover {\n",
              "    background-color: var(--disabled-bg-color);\n",
              "    fill: var(--disabled-fill-color);\n",
              "    box-shadow: none;\n",
              "  }\n",
              "\n",
              "  .colab-df-spinner {\n",
              "    border: 2px solid var(--fill-color);\n",
              "    border-color: transparent;\n",
              "    border-bottom-color: var(--fill-color);\n",
              "    animation:\n",
              "      spin 1s steps(1) infinite;\n",
              "  }\n",
              "\n",
              "  @keyframes spin {\n",
              "    0% {\n",
              "      border-color: transparent;\n",
              "      border-bottom-color: var(--fill-color);\n",
              "      border-left-color: var(--fill-color);\n",
              "    }\n",
              "    20% {\n",
              "      border-color: transparent;\n",
              "      border-left-color: var(--fill-color);\n",
              "      border-top-color: var(--fill-color);\n",
              "    }\n",
              "    30% {\n",
              "      border-color: transparent;\n",
              "      border-left-color: var(--fill-color);\n",
              "      border-top-color: var(--fill-color);\n",
              "      border-right-color: var(--fill-color);\n",
              "    }\n",
              "    40% {\n",
              "      border-color: transparent;\n",
              "      border-right-color: var(--fill-color);\n",
              "      border-top-color: var(--fill-color);\n",
              "    }\n",
              "    60% {\n",
              "      border-color: transparent;\n",
              "      border-right-color: var(--fill-color);\n",
              "    }\n",
              "    80% {\n",
              "      border-color: transparent;\n",
              "      border-right-color: var(--fill-color);\n",
              "      border-bottom-color: var(--fill-color);\n",
              "    }\n",
              "    90% {\n",
              "      border-color: transparent;\n",
              "      border-bottom-color: var(--fill-color);\n",
              "    }\n",
              "  }\n",
              "</style>\n",
              "\n",
              "  <script>\n",
              "    async function quickchart(key) {\n",
              "      const quickchartButtonEl =\n",
              "        document.querySelector('#' + key + ' button');\n",
              "      quickchartButtonEl.disabled = true;  // To prevent multiple clicks.\n",
              "      quickchartButtonEl.classList.add('colab-df-spinner');\n",
              "      try {\n",
              "        const charts = await google.colab.kernel.invokeFunction(\n",
              "            'suggestCharts', [key], {});\n",
              "      } catch (error) {\n",
              "        console.error('Error during call to suggestCharts:', error);\n",
              "      }\n",
              "      quickchartButtonEl.classList.remove('colab-df-spinner');\n",
              "      quickchartButtonEl.classList.add('colab-df-quickchart-complete');\n",
              "    }\n",
              "    (() => {\n",
              "      let quickchartButtonEl =\n",
              "        document.querySelector('#df-2753745d-609e-4f3d-bdb4-f06930643284 button');\n",
              "      quickchartButtonEl.style.display =\n",
              "        google.colab.kernel.accessAllowed ? 'block' : 'none';\n",
              "    })();\n",
              "  </script>\n",
              "</div>\n",
              "\n",
              "    </div>\n",
              "  </div>\n"
            ],
            "text/plain": [
              "        RACE_Asian   RACE_Black  RACE_Hispanic/Latino   RACE_Other  \\\n",
              "count  1914.000000  1914.000000           1914.000000  1914.000000   \n",
              "mean      0.026123     0.085684              0.123824     0.023511   \n",
              "std       0.159544     0.279971              0.329467     0.151559   \n",
              "min       0.000000     0.000000              0.000000     0.000000   \n",
              "25%       0.000000     0.000000              0.000000     0.000000   \n",
              "50%       0.000000     0.000000              0.000000     0.000000   \n",
              "75%       0.000000     0.000000              0.000000     0.000000   \n",
              "max       1.000000     1.000000              1.000000     1.000000   \n",
              "\n",
              "        RACE_White          AGE      EDUC12R  \n",
              "count  1914.000000  1952.000000  1959.000000  \n",
              "mean      0.740857     0.718750     0.501787  \n",
              "std       0.438279     0.298957     0.343866  \n",
              "min       0.000000     0.000000     0.000000  \n",
              "25%       0.000000     0.666667     0.333333  \n",
              "50%       1.000000     0.666667     0.666667  \n",
              "75%       1.000000     1.000000     0.666667  \n",
              "max       1.000000     1.000000     1.000000  "
            ]
          },
          "execution_count": 31,
          "metadata": {},
          "output_type": "execute_result"
        }
      ],
      "source": [
        "X.iloc[idx_tr].describe()"
      ]
    },
    {
      "cell_type": "markdown",
      "metadata": {
        "id": "9T_-yr9FjA5C"
      },
      "source": [
        "## Train a k nearest neighbors classifier"
      ]
    },
    {
      "cell_type": "markdown",
      "metadata": {
        "id": "QeYShhd5jA5D"
      },
      "source": [
        "Now that we have a target variable, a few features, and training and test indices, let’s see what happens if we try to train a K nearest neighbors classifier."
      ]
    },
    {
      "cell_type": "markdown",
      "metadata": {
        "id": "7VskOlq_jA5D"
      },
      "source": [
        "### Baseline: “prediction by mode”"
      ]
    },
    {
      "cell_type": "markdown",
      "metadata": {
        "id": "eScak5MEjA5E"
      },
      "source": [
        "As a baseline against which to judge the performance of our classifier, let’s find out the accuracy of a classifier that gives the majority class label (0) to all samples in our test set:"
      ]
    },
    {
      "cell_type": "code",
      "execution_count": 32,
      "metadata": {
        "colab": {
          "base_uri": "https://localhost:8080/"
        },
        "id": "6steDgO8jA5E",
        "outputId": "ef1d8a78-9215-4167-c13c-3f996b3765e0"
      },
      "outputs": [
        {
          "data": {
            "text/plain": [
              "0.5406360424028268"
            ]
          },
          "execution_count": 32,
          "metadata": {},
          "output_type": "execute_result"
        }
      ],
      "source": [
        "y_pred_baseline = np.repeat(0, len(y.iloc[idx_ts]))\n",
        "accuracy_score(y.iloc[idx_ts], y_pred_baseline)"
      ]
    },
    {
      "cell_type": "markdown",
      "metadata": {
        "id": "O6AUdAfRjA5E"
      },
      "source": [
        "A classifier trained on the data should do *at least* as well as the one that predicts the majority class label. Hopefully, we’ll be able to do much better!"
      ]
    },
    {
      "cell_type": "markdown",
      "metadata": {
        "id": "_hcxqyIljA5F"
      },
      "source": [
        "### `KNeighborsClassifier` does not support data with NaNs"
      ]
    },
    {
      "cell_type": "markdown",
      "metadata": {
        "id": "LXPOARzmjA5F"
      },
      "source": [
        "We’ve previously seen the `sklearn` implementation of a `KNeighborsClassifier`. However, that won’t work for this problem. If we try to train a `KNeighborsClassifier` on our data using the default settings, it will fail with the error message\n",
        "\n",
        "    ValueError: Input contains NaN, infinity or a value too large for dtype('float64').\n",
        "\n",
        "See for yourself:"
      ]
    },
    {
      "cell_type": "code",
      "execution_count": 33,
      "metadata": {
        "colab": {
          "base_uri": "https://localhost:8080/",
          "height": 356
        },
        "id": "gUNL1ucljA5G",
        "outputId": "97cbd384-5e06-4b37-fad5-b7315b650102"
      },
      "outputs": [
        {
          "ename": "ValueError",
          "evalue": "Input X contains NaN.\nKNeighborsClassifier does not accept missing values encoded as NaN natively. For supervised learning, you might want to consider sklearn.ensemble.HistGradientBoostingClassifier and Regressor which accept missing values encoded as NaNs natively. Alternatively, it is possible to preprocess the data, for instance by using an imputer transformer in a pipeline or drop samples with missing values. See https://scikit-learn.org/stable/modules/impute.html You can find a list of all estimators that handle NaN values at the following page: https://scikit-learn.org/stable/modules/impute.html#estimators-that-handle-nan-values",
          "output_type": "error",
          "traceback": [
            "\u001b[0;31m---------------------------------------------------------------------------\u001b[0m",
            "\u001b[0;31mValueError\u001b[0m                                Traceback (most recent call last)",
            "\u001b[0;32m<ipython-input-33-e5f2d31b0001>\u001b[0m in \u001b[0;36m<cell line: 2>\u001b[0;34m()\u001b[0m\n\u001b[1;32m      1\u001b[0m \u001b[0mclf\u001b[0m \u001b[0;34m=\u001b[0m \u001b[0mKNeighborsClassifier\u001b[0m\u001b[0;34m(\u001b[0m\u001b[0mn_neighbors\u001b[0m\u001b[0;34m=\u001b[0m\u001b[0;36m3\u001b[0m\u001b[0;34m)\u001b[0m\u001b[0;34m\u001b[0m\u001b[0;34m\u001b[0m\u001b[0m\n\u001b[0;32m----> 2\u001b[0;31m \u001b[0mclf\u001b[0m\u001b[0;34m.\u001b[0m\u001b[0mfit\u001b[0m\u001b[0;34m(\u001b[0m\u001b[0mX\u001b[0m\u001b[0;34m.\u001b[0m\u001b[0miloc\u001b[0m\u001b[0;34m[\u001b[0m\u001b[0midx_tr\u001b[0m\u001b[0;34m]\u001b[0m\u001b[0;34m,\u001b[0m \u001b[0my\u001b[0m\u001b[0;34m.\u001b[0m\u001b[0miloc\u001b[0m\u001b[0;34m[\u001b[0m\u001b[0midx_tr\u001b[0m\u001b[0;34m]\u001b[0m\u001b[0;34m)\u001b[0m\u001b[0;34m\u001b[0m\u001b[0;34m\u001b[0m\u001b[0m\n\u001b[0m",
            "\u001b[0;32m/usr/local/lib/python3.10/dist-packages/sklearn/neighbors/_classification.py\u001b[0m in \u001b[0;36mfit\u001b[0;34m(self, X, y)\u001b[0m\n\u001b[1;32m    213\u001b[0m         \u001b[0mself\u001b[0m\u001b[0;34m.\u001b[0m\u001b[0m_validate_params\u001b[0m\u001b[0;34m(\u001b[0m\u001b[0;34m)\u001b[0m\u001b[0;34m\u001b[0m\u001b[0;34m\u001b[0m\u001b[0m\n\u001b[1;32m    214\u001b[0m \u001b[0;34m\u001b[0m\u001b[0m\n\u001b[0;32m--> 215\u001b[0;31m         \u001b[0;32mreturn\u001b[0m \u001b[0mself\u001b[0m\u001b[0;34m.\u001b[0m\u001b[0m_fit\u001b[0m\u001b[0;34m(\u001b[0m\u001b[0mX\u001b[0m\u001b[0;34m,\u001b[0m \u001b[0my\u001b[0m\u001b[0;34m)\u001b[0m\u001b[0;34m\u001b[0m\u001b[0;34m\u001b[0m\u001b[0m\n\u001b[0m\u001b[1;32m    216\u001b[0m \u001b[0;34m\u001b[0m\u001b[0m\n\u001b[1;32m    217\u001b[0m     \u001b[0;32mdef\u001b[0m \u001b[0mpredict\u001b[0m\u001b[0;34m(\u001b[0m\u001b[0mself\u001b[0m\u001b[0;34m,\u001b[0m \u001b[0mX\u001b[0m\u001b[0;34m)\u001b[0m\u001b[0;34m:\u001b[0m\u001b[0;34m\u001b[0m\u001b[0;34m\u001b[0m\u001b[0m\n",
            "\u001b[0;32m/usr/local/lib/python3.10/dist-packages/sklearn/neighbors/_base.py\u001b[0m in \u001b[0;36m_fit\u001b[0;34m(self, X, y)\u001b[0m\n\u001b[1;32m    452\u001b[0m         \u001b[0;32mif\u001b[0m \u001b[0mself\u001b[0m\u001b[0;34m.\u001b[0m\u001b[0m_get_tags\u001b[0m\u001b[0;34m(\u001b[0m\u001b[0;34m)\u001b[0m\u001b[0;34m[\u001b[0m\u001b[0;34m\"requires_y\"\u001b[0m\u001b[0;34m]\u001b[0m\u001b[0;34m:\u001b[0m\u001b[0;34m\u001b[0m\u001b[0;34m\u001b[0m\u001b[0m\n\u001b[1;32m    453\u001b[0m             \u001b[0;32mif\u001b[0m \u001b[0;32mnot\u001b[0m \u001b[0misinstance\u001b[0m\u001b[0;34m(\u001b[0m\u001b[0mX\u001b[0m\u001b[0;34m,\u001b[0m \u001b[0;34m(\u001b[0m\u001b[0mKDTree\u001b[0m\u001b[0;34m,\u001b[0m \u001b[0mBallTree\u001b[0m\u001b[0;34m,\u001b[0m \u001b[0mNeighborsBase\u001b[0m\u001b[0;34m)\u001b[0m\u001b[0;34m)\u001b[0m\u001b[0;34m:\u001b[0m\u001b[0;34m\u001b[0m\u001b[0;34m\u001b[0m\u001b[0m\n\u001b[0;32m--> 454\u001b[0;31m                 X, y = self._validate_data(\n\u001b[0m\u001b[1;32m    455\u001b[0m                     \u001b[0mX\u001b[0m\u001b[0;34m,\u001b[0m \u001b[0my\u001b[0m\u001b[0;34m,\u001b[0m \u001b[0maccept_sparse\u001b[0m\u001b[0;34m=\u001b[0m\u001b[0;34m\"csr\"\u001b[0m\u001b[0;34m,\u001b[0m \u001b[0mmulti_output\u001b[0m\u001b[0;34m=\u001b[0m\u001b[0;32mTrue\u001b[0m\u001b[0;34m,\u001b[0m \u001b[0morder\u001b[0m\u001b[0;34m=\u001b[0m\u001b[0;34m\"C\"\u001b[0m\u001b[0;34m\u001b[0m\u001b[0;34m\u001b[0m\u001b[0m\n\u001b[1;32m    456\u001b[0m                 )\n",
            "\u001b[0;32m/usr/local/lib/python3.10/dist-packages/sklearn/base.py\u001b[0m in \u001b[0;36m_validate_data\u001b[0;34m(self, X, y, reset, validate_separately, **check_params)\u001b[0m\n\u001b[1;32m    582\u001b[0m                 \u001b[0my\u001b[0m \u001b[0;34m=\u001b[0m \u001b[0mcheck_array\u001b[0m\u001b[0;34m(\u001b[0m\u001b[0my\u001b[0m\u001b[0;34m,\u001b[0m \u001b[0minput_name\u001b[0m\u001b[0;34m=\u001b[0m\u001b[0;34m\"y\"\u001b[0m\u001b[0;34m,\u001b[0m \u001b[0;34m**\u001b[0m\u001b[0mcheck_y_params\u001b[0m\u001b[0;34m)\u001b[0m\u001b[0;34m\u001b[0m\u001b[0;34m\u001b[0m\u001b[0m\n\u001b[1;32m    583\u001b[0m             \u001b[0;32melse\u001b[0m\u001b[0;34m:\u001b[0m\u001b[0;34m\u001b[0m\u001b[0;34m\u001b[0m\u001b[0m\n\u001b[0;32m--> 584\u001b[0;31m                 \u001b[0mX\u001b[0m\u001b[0;34m,\u001b[0m \u001b[0my\u001b[0m \u001b[0;34m=\u001b[0m \u001b[0mcheck_X_y\u001b[0m\u001b[0;34m(\u001b[0m\u001b[0mX\u001b[0m\u001b[0;34m,\u001b[0m \u001b[0my\u001b[0m\u001b[0;34m,\u001b[0m \u001b[0;34m**\u001b[0m\u001b[0mcheck_params\u001b[0m\u001b[0;34m)\u001b[0m\u001b[0;34m\u001b[0m\u001b[0;34m\u001b[0m\u001b[0m\n\u001b[0m\u001b[1;32m    585\u001b[0m             \u001b[0mout\u001b[0m \u001b[0;34m=\u001b[0m \u001b[0mX\u001b[0m\u001b[0;34m,\u001b[0m \u001b[0my\u001b[0m\u001b[0;34m\u001b[0m\u001b[0;34m\u001b[0m\u001b[0m\n\u001b[1;32m    586\u001b[0m \u001b[0;34m\u001b[0m\u001b[0m\n",
            "\u001b[0;32m/usr/local/lib/python3.10/dist-packages/sklearn/utils/validation.py\u001b[0m in \u001b[0;36mcheck_X_y\u001b[0;34m(X, y, accept_sparse, accept_large_sparse, dtype, order, copy, force_all_finite, ensure_2d, allow_nd, multi_output, ensure_min_samples, ensure_min_features, y_numeric, estimator)\u001b[0m\n\u001b[1;32m   1104\u001b[0m         )\n\u001b[1;32m   1105\u001b[0m \u001b[0;34m\u001b[0m\u001b[0m\n\u001b[0;32m-> 1106\u001b[0;31m     X = check_array(\n\u001b[0m\u001b[1;32m   1107\u001b[0m         \u001b[0mX\u001b[0m\u001b[0;34m,\u001b[0m\u001b[0;34m\u001b[0m\u001b[0;34m\u001b[0m\u001b[0m\n\u001b[1;32m   1108\u001b[0m         \u001b[0maccept_sparse\u001b[0m\u001b[0;34m=\u001b[0m\u001b[0maccept_sparse\u001b[0m\u001b[0;34m,\u001b[0m\u001b[0;34m\u001b[0m\u001b[0;34m\u001b[0m\u001b[0m\n",
            "\u001b[0;32m/usr/local/lib/python3.10/dist-packages/sklearn/utils/validation.py\u001b[0m in \u001b[0;36mcheck_array\u001b[0;34m(array, accept_sparse, accept_large_sparse, dtype, order, copy, force_all_finite, ensure_2d, allow_nd, ensure_min_samples, ensure_min_features, estimator, input_name)\u001b[0m\n\u001b[1;32m    919\u001b[0m \u001b[0;34m\u001b[0m\u001b[0m\n\u001b[1;32m    920\u001b[0m         \u001b[0;32mif\u001b[0m \u001b[0mforce_all_finite\u001b[0m\u001b[0;34m:\u001b[0m\u001b[0;34m\u001b[0m\u001b[0;34m\u001b[0m\u001b[0m\n\u001b[0;32m--> 921\u001b[0;31m             _assert_all_finite(\n\u001b[0m\u001b[1;32m    922\u001b[0m                 \u001b[0marray\u001b[0m\u001b[0;34m,\u001b[0m\u001b[0;34m\u001b[0m\u001b[0;34m\u001b[0m\u001b[0m\n\u001b[1;32m    923\u001b[0m                 \u001b[0minput_name\u001b[0m\u001b[0;34m=\u001b[0m\u001b[0minput_name\u001b[0m\u001b[0;34m,\u001b[0m\u001b[0;34m\u001b[0m\u001b[0;34m\u001b[0m\u001b[0m\n",
            "\u001b[0;32m/usr/local/lib/python3.10/dist-packages/sklearn/utils/validation.py\u001b[0m in \u001b[0;36m_assert_all_finite\u001b[0;34m(X, allow_nan, msg_dtype, estimator_name, input_name)\u001b[0m\n\u001b[1;32m    159\u001b[0m                 \u001b[0;34m\"#estimators-that-handle-nan-values\"\u001b[0m\u001b[0;34m\u001b[0m\u001b[0;34m\u001b[0m\u001b[0m\n\u001b[1;32m    160\u001b[0m             )\n\u001b[0;32m--> 161\u001b[0;31m         \u001b[0;32mraise\u001b[0m \u001b[0mValueError\u001b[0m\u001b[0;34m(\u001b[0m\u001b[0mmsg_err\u001b[0m\u001b[0;34m)\u001b[0m\u001b[0;34m\u001b[0m\u001b[0;34m\u001b[0m\u001b[0m\n\u001b[0m\u001b[1;32m    162\u001b[0m \u001b[0;34m\u001b[0m\u001b[0m\n\u001b[1;32m    163\u001b[0m \u001b[0;34m\u001b[0m\u001b[0m\n",
            "\u001b[0;31mValueError\u001b[0m: Input X contains NaN.\nKNeighborsClassifier does not accept missing values encoded as NaN natively. For supervised learning, you might want to consider sklearn.ensemble.HistGradientBoostingClassifier and Regressor which accept missing values encoded as NaNs natively. Alternatively, it is possible to preprocess the data, for instance by using an imputer transformer in a pipeline or drop samples with missing values. See https://scikit-learn.org/stable/modules/impute.html You can find a list of all estimators that handle NaN values at the following page: https://scikit-learn.org/stable/modules/impute.html#estimators-that-handle-nan-values"
          ]
        }
      ],
      "source": [
        "clf = KNeighborsClassifier(n_neighbors=3)\n",
        "clf.fit(X.iloc[idx_tr], y.iloc[idx_tr])\n"
      ]
    },
    {
      "cell_type": "markdown",
      "metadata": {
        "id": "rDiMUG4mjA5G"
      },
      "source": [
        "This is because we have many missing values in our data. And, as we explained previously, dropping rows with missing values is not a good option for this example."
      ]
    },
    {
      "cell_type": "markdown",
      "metadata": {
        "id": "jnEHByRyjA5H"
      },
      "source": [
        "Although we cannot use the `sklearn` implementation of a `KNeighborsClassifier`, we can write our own. We need a few things:\n",
        "\n",
        "-   a function that implements a distance metric\n",
        "-   a function that accepts a distance matrix and returns the indices of the K smallest values for each row\n",
        "-   a function that returns the majority vote of the training samples represented by those indices\n",
        "\n",
        "and we have to be prepared to address complications at each stage!"
      ]
    },
    {
      "cell_type": "markdown",
      "metadata": {
        "id": "0aEiYP0VjA5H"
      },
      "source": [
        "### Distance metric"
      ]
    },
    {
      "cell_type": "markdown",
      "metadata": {
        "id": "ciPVxV60jA5H"
      },
      "source": [
        "Let’s start with the distance metric. Suppose we use an L1 distance computed over the features that are non-NaN for both samples:"
      ]
    },
    {
      "cell_type": "code",
      "execution_count": 34,
      "metadata": {
        "id": "QggZVojljA5I"
      },
      "outputs": [],
      "source": [
        "def custom_distance(a, b):\n",
        "  dif = np.abs(np.subtract(a,b))    # element-wise absolute difference\n",
        "  # dif will have NaN for each element where either a or b is NaN\n",
        "  l1 = np.nansum(dif, axis=1)  # sum of differences, treating NaN as 0\n",
        "  return l1"
      ]
    },
    {
      "cell_type": "markdown",
      "metadata": {
        "id": "oLauVU3ujA5J"
      },
      "source": [
        "The function above expects a vector for the first argument and a matrix for the second argument, and returns a vector.\n",
        "\n",
        "For example: suppose you pass a test point $x_t$ and a matrix of training samples where each row $x_0, \\ldots, x_n$ is another training sample. It will return a vector $d_t$ with as many elements as there are training samples, and where the $i$th entry is the distance between the test point $x_t$ and training sample $x_i$.\n",
        "\n",
        "To see how to this function is used, let's consider an example with a small number of test samples and training samples."
      ]
    },
    {
      "cell_type": "markdown",
      "metadata": {
        "id": "pPP0rL2NjA5J"
      },
      "source": [
        "Suppose we had this set of test data `a` (sampling some specific examples from the real data):"
      ]
    },
    {
      "cell_type": "code",
      "execution_count": 52,
      "metadata": {
        "colab": {
          "base_uri": "https://localhost:8080/",
          "height": 206
        },
        "id": "L6Zs2GNUjA5K",
        "outputId": "63c9054b-0f5e-4dd3-cb10-2d3e31f94980"
      },
      "outputs": [
        {
          "data": {
            "application/vnd.google.colaboratory.intrinsic+json": {
              "summary": "{\n  \"name\": \"a\",\n  \"rows\": 5,\n  \"fields\": [\n    {\n      \"column\": \"RACE_Asian\",\n      \"properties\": {\n        \"dtype\": \"number\",\n        \"std\": 0.0,\n        \"min\": 0.0,\n        \"max\": 0.0,\n        \"num_unique_values\": 1,\n        \"samples\": [\n          0.0\n        ],\n        \"semantic_type\": \"\",\n        \"description\": \"\"\n      }\n    },\n    {\n      \"column\": \"RACE_Black\",\n      \"properties\": {\n        \"dtype\": \"number\",\n        \"std\": 0.0,\n        \"min\": 0.0,\n        \"max\": 0.0,\n        \"num_unique_values\": 1,\n        \"samples\": [\n          0.0\n        ],\n        \"semantic_type\": \"\",\n        \"description\": \"\"\n      }\n    },\n    {\n      \"column\": \"RACE_Hispanic/Latino\",\n      \"properties\": {\n        \"dtype\": \"number\",\n        \"std\": 0.0,\n        \"min\": 0.0,\n        \"max\": 0.0,\n        \"num_unique_values\": 1,\n        \"samples\": [\n          0.0\n        ],\n        \"semantic_type\": \"\",\n        \"description\": \"\"\n      }\n    },\n    {\n      \"column\": \"RACE_Other\",\n      \"properties\": {\n        \"dtype\": \"number\",\n        \"std\": 0.0,\n        \"min\": 0.0,\n        \"max\": 0.0,\n        \"num_unique_values\": 1,\n        \"samples\": [\n          0.0\n        ],\n        \"semantic_type\": \"\",\n        \"description\": \"\"\n      }\n    },\n    {\n      \"column\": \"RACE_White\",\n      \"properties\": {\n        \"dtype\": \"number\",\n        \"std\": 0.0,\n        \"min\": 1.0,\n        \"max\": 1.0,\n        \"num_unique_values\": 1,\n        \"samples\": [\n          1.0\n        ],\n        \"semantic_type\": \"\",\n        \"description\": \"\"\n      }\n    },\n    {\n      \"column\": \"AGE\",\n      \"properties\": {\n        \"dtype\": \"number\",\n        \"std\": 0.14907119849998596,\n        \"min\": 0.6666666666666667,\n        \"max\": 1.0,\n        \"num_unique_values\": 2,\n        \"samples\": [\n          0.6666666666666667\n        ],\n        \"semantic_type\": \"\",\n        \"description\": \"\"\n      }\n    },\n    {\n      \"column\": \"EDUC12R\",\n      \"properties\": {\n        \"dtype\": \"number\",\n        \"std\": 0.4346134936801766,\n        \"min\": 0.0,\n        \"max\": 1.0,\n        \"num_unique_values\": 4,\n        \"samples\": [\n          0.6666666666666667\n        ],\n        \"semantic_type\": \"\",\n        \"description\": \"\"\n      }\n    }\n  ]\n}",
              "type": "dataframe",
              "variable_name": "a"
            },
            "text/html": [
              "\n",
              "  <div id=\"df-8a10e45a-3e49-4e55-a345-701f7a6e249c\" class=\"colab-df-container\">\n",
              "    <div>\n",
              "<style scoped>\n",
              "    .dataframe tbody tr th:only-of-type {\n",
              "        vertical-align: middle;\n",
              "    }\n",
              "\n",
              "    .dataframe tbody tr th {\n",
              "        vertical-align: top;\n",
              "    }\n",
              "\n",
              "    .dataframe thead th {\n",
              "        text-align: right;\n",
              "    }\n",
              "</style>\n",
              "<table border=\"1\" class=\"dataframe\">\n",
              "  <thead>\n",
              "    <tr style=\"text-align: right;\">\n",
              "      <th></th>\n",
              "      <th>RACE_Asian</th>\n",
              "      <th>RACE_Black</th>\n",
              "      <th>RACE_Hispanic/Latino</th>\n",
              "      <th>RACE_Other</th>\n",
              "      <th>RACE_White</th>\n",
              "      <th>AGE</th>\n",
              "      <th>EDUC12R</th>\n",
              "    </tr>\n",
              "  </thead>\n",
              "  <tbody>\n",
              "    <tr>\n",
              "      <th>400</th>\n",
              "      <td>0.0</td>\n",
              "      <td>0.0</td>\n",
              "      <td>0.0</td>\n",
              "      <td>0.0</td>\n",
              "      <td>1.0</td>\n",
              "      <td>1.000000</td>\n",
              "      <td>0.333333</td>\n",
              "    </tr>\n",
              "    <tr>\n",
              "      <th>510</th>\n",
              "      <td>0.0</td>\n",
              "      <td>0.0</td>\n",
              "      <td>0.0</td>\n",
              "      <td>0.0</td>\n",
              "      <td>1.0</td>\n",
              "      <td>1.000000</td>\n",
              "      <td>0.666667</td>\n",
              "    </tr>\n",
              "    <tr>\n",
              "      <th>234</th>\n",
              "      <td>0.0</td>\n",
              "      <td>0.0</td>\n",
              "      <td>0.0</td>\n",
              "      <td>0.0</td>\n",
              "      <td>1.0</td>\n",
              "      <td>1.000000</td>\n",
              "      <td>0.000000</td>\n",
              "    </tr>\n",
              "    <tr>\n",
              "      <th>110</th>\n",
              "      <td>NaN</td>\n",
              "      <td>NaN</td>\n",
              "      <td>NaN</td>\n",
              "      <td>NaN</td>\n",
              "      <td>NaN</td>\n",
              "      <td>1.000000</td>\n",
              "      <td>1.000000</td>\n",
              "    </tr>\n",
              "    <tr>\n",
              "      <th>426</th>\n",
              "      <td>0.0</td>\n",
              "      <td>0.0</td>\n",
              "      <td>0.0</td>\n",
              "      <td>0.0</td>\n",
              "      <td>1.0</td>\n",
              "      <td>0.666667</td>\n",
              "      <td>0.000000</td>\n",
              "    </tr>\n",
              "  </tbody>\n",
              "</table>\n",
              "</div>\n",
              "    <div class=\"colab-df-buttons\">\n",
              "\n",
              "  <div class=\"colab-df-container\">\n",
              "    <button class=\"colab-df-convert\" onclick=\"convertToInteractive('df-8a10e45a-3e49-4e55-a345-701f7a6e249c')\"\n",
              "            title=\"Convert this dataframe to an interactive table.\"\n",
              "            style=\"display:none;\">\n",
              "\n",
              "  <svg xmlns=\"http://www.w3.org/2000/svg\" height=\"24px\" viewBox=\"0 -960 960 960\">\n",
              "    <path d=\"M120-120v-720h720v720H120Zm60-500h600v-160H180v160Zm220 220h160v-160H400v160Zm0 220h160v-160H400v160ZM180-400h160v-160H180v160Zm440 0h160v-160H620v160ZM180-180h160v-160H180v160Zm440 0h160v-160H620v160Z\"/>\n",
              "  </svg>\n",
              "    </button>\n",
              "\n",
              "  <style>\n",
              "    .colab-df-container {\n",
              "      display:flex;\n",
              "      gap: 12px;\n",
              "    }\n",
              "\n",
              "    .colab-df-convert {\n",
              "      background-color: #E8F0FE;\n",
              "      border: none;\n",
              "      border-radius: 50%;\n",
              "      cursor: pointer;\n",
              "      display: none;\n",
              "      fill: #1967D2;\n",
              "      height: 32px;\n",
              "      padding: 0 0 0 0;\n",
              "      width: 32px;\n",
              "    }\n",
              "\n",
              "    .colab-df-convert:hover {\n",
              "      background-color: #E2EBFA;\n",
              "      box-shadow: 0px 1px 2px rgba(60, 64, 67, 0.3), 0px 1px 3px 1px rgba(60, 64, 67, 0.15);\n",
              "      fill: #174EA6;\n",
              "    }\n",
              "\n",
              "    .colab-df-buttons div {\n",
              "      margin-bottom: 4px;\n",
              "    }\n",
              "\n",
              "    [theme=dark] .colab-df-convert {\n",
              "      background-color: #3B4455;\n",
              "      fill: #D2E3FC;\n",
              "    }\n",
              "\n",
              "    [theme=dark] .colab-df-convert:hover {\n",
              "      background-color: #434B5C;\n",
              "      box-shadow: 0px 1px 3px 1px rgba(0, 0, 0, 0.15);\n",
              "      filter: drop-shadow(0px 1px 2px rgba(0, 0, 0, 0.3));\n",
              "      fill: #FFFFFF;\n",
              "    }\n",
              "  </style>\n",
              "\n",
              "    <script>\n",
              "      const buttonEl =\n",
              "        document.querySelector('#df-8a10e45a-3e49-4e55-a345-701f7a6e249c button.colab-df-convert');\n",
              "      buttonEl.style.display =\n",
              "        google.colab.kernel.accessAllowed ? 'block' : 'none';\n",
              "\n",
              "      async function convertToInteractive(key) {\n",
              "        const element = document.querySelector('#df-8a10e45a-3e49-4e55-a345-701f7a6e249c');\n",
              "        const dataTable =\n",
              "          await google.colab.kernel.invokeFunction('convertToInteractive',\n",
              "                                                    [key], {});\n",
              "        if (!dataTable) return;\n",
              "\n",
              "        const docLinkHtml = 'Like what you see? Visit the ' +\n",
              "          '<a target=\"_blank\" href=https://colab.research.google.com/notebooks/data_table.ipynb>data table notebook</a>'\n",
              "          + ' to learn more about interactive tables.';\n",
              "        element.innerHTML = '';\n",
              "        dataTable['output_type'] = 'display_data';\n",
              "        await google.colab.output.renderOutput(dataTable, element);\n",
              "        const docLink = document.createElement('div');\n",
              "        docLink.innerHTML = docLinkHtml;\n",
              "        element.appendChild(docLink);\n",
              "      }\n",
              "    </script>\n",
              "  </div>\n",
              "\n",
              "\n",
              "<div id=\"df-a8f14f3d-3174-49c4-a92e-c11c80b78dad\">\n",
              "  <button class=\"colab-df-quickchart\" onclick=\"quickchart('df-a8f14f3d-3174-49c4-a92e-c11c80b78dad')\"\n",
              "            title=\"Suggest charts\"\n",
              "            style=\"display:none;\">\n",
              "\n",
              "<svg xmlns=\"http://www.w3.org/2000/svg\" height=\"24px\"viewBox=\"0 0 24 24\"\n",
              "     width=\"24px\">\n",
              "    <g>\n",
              "        <path d=\"M19 3H5c-1.1 0-2 .9-2 2v14c0 1.1.9 2 2 2h14c1.1 0 2-.9 2-2V5c0-1.1-.9-2-2-2zM9 17H7v-7h2v7zm4 0h-2V7h2v10zm4 0h-2v-4h2v4z\"/>\n",
              "    </g>\n",
              "</svg>\n",
              "  </button>\n",
              "\n",
              "<style>\n",
              "  .colab-df-quickchart {\n",
              "      --bg-color: #E8F0FE;\n",
              "      --fill-color: #1967D2;\n",
              "      --hover-bg-color: #E2EBFA;\n",
              "      --hover-fill-color: #174EA6;\n",
              "      --disabled-fill-color: #AAA;\n",
              "      --disabled-bg-color: #DDD;\n",
              "  }\n",
              "\n",
              "  [theme=dark] .colab-df-quickchart {\n",
              "      --bg-color: #3B4455;\n",
              "      --fill-color: #D2E3FC;\n",
              "      --hover-bg-color: #434B5C;\n",
              "      --hover-fill-color: #FFFFFF;\n",
              "      --disabled-bg-color: #3B4455;\n",
              "      --disabled-fill-color: #666;\n",
              "  }\n",
              "\n",
              "  .colab-df-quickchart {\n",
              "    background-color: var(--bg-color);\n",
              "    border: none;\n",
              "    border-radius: 50%;\n",
              "    cursor: pointer;\n",
              "    display: none;\n",
              "    fill: var(--fill-color);\n",
              "    height: 32px;\n",
              "    padding: 0;\n",
              "    width: 32px;\n",
              "  }\n",
              "\n",
              "  .colab-df-quickchart:hover {\n",
              "    background-color: var(--hover-bg-color);\n",
              "    box-shadow: 0 1px 2px rgba(60, 64, 67, 0.3), 0 1px 3px 1px rgba(60, 64, 67, 0.15);\n",
              "    fill: var(--button-hover-fill-color);\n",
              "  }\n",
              "\n",
              "  .colab-df-quickchart-complete:disabled,\n",
              "  .colab-df-quickchart-complete:disabled:hover {\n",
              "    background-color: var(--disabled-bg-color);\n",
              "    fill: var(--disabled-fill-color);\n",
              "    box-shadow: none;\n",
              "  }\n",
              "\n",
              "  .colab-df-spinner {\n",
              "    border: 2px solid var(--fill-color);\n",
              "    border-color: transparent;\n",
              "    border-bottom-color: var(--fill-color);\n",
              "    animation:\n",
              "      spin 1s steps(1) infinite;\n",
              "  }\n",
              "\n",
              "  @keyframes spin {\n",
              "    0% {\n",
              "      border-color: transparent;\n",
              "      border-bottom-color: var(--fill-color);\n",
              "      border-left-color: var(--fill-color);\n",
              "    }\n",
              "    20% {\n",
              "      border-color: transparent;\n",
              "      border-left-color: var(--fill-color);\n",
              "      border-top-color: var(--fill-color);\n",
              "    }\n",
              "    30% {\n",
              "      border-color: transparent;\n",
              "      border-left-color: var(--fill-color);\n",
              "      border-top-color: var(--fill-color);\n",
              "      border-right-color: var(--fill-color);\n",
              "    }\n",
              "    40% {\n",
              "      border-color: transparent;\n",
              "      border-right-color: var(--fill-color);\n",
              "      border-top-color: var(--fill-color);\n",
              "    }\n",
              "    60% {\n",
              "      border-color: transparent;\n",
              "      border-right-color: var(--fill-color);\n",
              "    }\n",
              "    80% {\n",
              "      border-color: transparent;\n",
              "      border-right-color: var(--fill-color);\n",
              "      border-bottom-color: var(--fill-color);\n",
              "    }\n",
              "    90% {\n",
              "      border-color: transparent;\n",
              "      border-bottom-color: var(--fill-color);\n",
              "    }\n",
              "  }\n",
              "</style>\n",
              "\n",
              "  <script>\n",
              "    async function quickchart(key) {\n",
              "      const quickchartButtonEl =\n",
              "        document.querySelector('#' + key + ' button');\n",
              "      quickchartButtonEl.disabled = true;  // To prevent multiple clicks.\n",
              "      quickchartButtonEl.classList.add('colab-df-spinner');\n",
              "      try {\n",
              "        const charts = await google.colab.kernel.invokeFunction(\n",
              "            'suggestCharts', [key], {});\n",
              "      } catch (error) {\n",
              "        console.error('Error during call to suggestCharts:', error);\n",
              "      }\n",
              "      quickchartButtonEl.classList.remove('colab-df-spinner');\n",
              "      quickchartButtonEl.classList.add('colab-df-quickchart-complete');\n",
              "    }\n",
              "    (() => {\n",
              "      let quickchartButtonEl =\n",
              "        document.querySelector('#df-a8f14f3d-3174-49c4-a92e-c11c80b78dad button');\n",
              "      quickchartButtonEl.style.display =\n",
              "        google.colab.kernel.accessAllowed ? 'block' : 'none';\n",
              "    })();\n",
              "  </script>\n",
              "</div>\n",
              "\n",
              "  <div id=\"id_14b16ae2-a26f-4e01-ade9-910fcb1c98e8\">\n",
              "    <style>\n",
              "      .colab-df-generate {\n",
              "        background-color: #E8F0FE;\n",
              "        border: none;\n",
              "        border-radius: 50%;\n",
              "        cursor: pointer;\n",
              "        display: none;\n",
              "        fill: #1967D2;\n",
              "        height: 32px;\n",
              "        padding: 0 0 0 0;\n",
              "        width: 32px;\n",
              "      }\n",
              "\n",
              "      .colab-df-generate:hover {\n",
              "        background-color: #E2EBFA;\n",
              "        box-shadow: 0px 1px 2px rgba(60, 64, 67, 0.3), 0px 1px 3px 1px rgba(60, 64, 67, 0.15);\n",
              "        fill: #174EA6;\n",
              "      }\n",
              "\n",
              "      [theme=dark] .colab-df-generate {\n",
              "        background-color: #3B4455;\n",
              "        fill: #D2E3FC;\n",
              "      }\n",
              "\n",
              "      [theme=dark] .colab-df-generate:hover {\n",
              "        background-color: #434B5C;\n",
              "        box-shadow: 0px 1px 3px 1px rgba(0, 0, 0, 0.15);\n",
              "        filter: drop-shadow(0px 1px 2px rgba(0, 0, 0, 0.3));\n",
              "        fill: #FFFFFF;\n",
              "      }\n",
              "    </style>\n",
              "    <button class=\"colab-df-generate\" onclick=\"generateWithVariable('a')\"\n",
              "            title=\"Generate code using this dataframe.\"\n",
              "            style=\"display:none;\">\n",
              "\n",
              "  <svg xmlns=\"http://www.w3.org/2000/svg\" height=\"24px\"viewBox=\"0 0 24 24\"\n",
              "       width=\"24px\">\n",
              "    <path d=\"M7,19H8.4L18.45,9,17,7.55,7,17.6ZM5,21V16.75L18.45,3.32a2,2,0,0,1,2.83,0l1.4,1.43a1.91,1.91,0,0,1,.58,1.4,1.91,1.91,0,0,1-.58,1.4L9.25,21ZM18.45,9,17,7.55Zm-12,3A5.31,5.31,0,0,0,4.9,8.1,5.31,5.31,0,0,0,1,6.5,5.31,5.31,0,0,0,4.9,4.9,5.31,5.31,0,0,0,6.5,1,5.31,5.31,0,0,0,8.1,4.9,5.31,5.31,0,0,0,12,6.5,5.46,5.46,0,0,0,6.5,12Z\"/>\n",
              "  </svg>\n",
              "    </button>\n",
              "    <script>\n",
              "      (() => {\n",
              "      const buttonEl =\n",
              "        document.querySelector('#id_14b16ae2-a26f-4e01-ade9-910fcb1c98e8 button.colab-df-generate');\n",
              "      buttonEl.style.display =\n",
              "        google.colab.kernel.accessAllowed ? 'block' : 'none';\n",
              "\n",
              "      buttonEl.onclick = () => {\n",
              "        google.colab.notebook.generateWithVariable('a');\n",
              "      }\n",
              "      })();\n",
              "    </script>\n",
              "  </div>\n",
              "\n",
              "    </div>\n",
              "  </div>\n"
            ],
            "text/plain": [
              "     RACE_Asian  RACE_Black  RACE_Hispanic/Latino  RACE_Other  RACE_White  \\\n",
              "400         0.0         0.0                   0.0         0.0         1.0   \n",
              "510         0.0         0.0                   0.0         0.0         1.0   \n",
              "234         0.0         0.0                   0.0         0.0         1.0   \n",
              "110         NaN         NaN                   NaN         NaN         NaN   \n",
              "426         0.0         0.0                   0.0         0.0         1.0   \n",
              "\n",
              "          AGE   EDUC12R  \n",
              "400  1.000000  0.333333  \n",
              "510  1.000000  0.666667  \n",
              "234  1.000000  0.000000  \n",
              "110  1.000000  1.000000  \n",
              "426  0.666667  0.000000  "
            ]
          },
          "execution_count": 52,
          "metadata": {},
          "output_type": "execute_result"
        }
      ],
      "source": [
        "# a_idx = np.array([10296, 510,4827,20937, 22501])\n",
        "# changing the values as it was out of bounds\n",
        "a_idx = np.array([400, 510,234,110, 426])\n",
        "a = X.iloc[a_idx]\n",
        "a\n",
        "\n",
        "\n"
      ]
    },
    {
      "cell_type": "markdown",
      "metadata": {
        "id": "GNCEffqEjA5L"
      },
      "source": [
        "and this set of training data `b`:"
      ]
    },
    {
      "cell_type": "code",
      "execution_count": 44,
      "metadata": {
        "colab": {
          "base_uri": "https://localhost:8080/",
          "height": 488
        },
        "id": "ij-XS8YRjA5M",
        "outputId": "75726808-c3b3-4015-8ae0-dc2519874c25"
      },
      "outputs": [
        {
          "data": {
            "application/vnd.google.colaboratory.intrinsic+json": {
              "summary": "{\n  \"name\": \"b\",\n  \"rows\": 14,\n  \"fields\": [\n    {\n      \"column\": \"RACE_Asian\",\n      \"properties\": {\n        \"dtype\": \"number\",\n        \"std\": 0.0,\n        \"min\": 0.0,\n        \"max\": 0.0,\n        \"num_unique_values\": 1,\n        \"samples\": [\n          0.0\n        ],\n        \"semantic_type\": \"\",\n        \"description\": \"\"\n      }\n    },\n    {\n      \"column\": \"RACE_Black\",\n      \"properties\": {\n        \"dtype\": \"number\",\n        \"std\": 0.2773500981126146,\n        \"min\": 0.0,\n        \"max\": 1.0,\n        \"num_unique_values\": 2,\n        \"samples\": [\n          1.0\n        ],\n        \"semantic_type\": \"\",\n        \"description\": \"\"\n      }\n    },\n    {\n      \"column\": \"RACE_Hispanic/Latino\",\n      \"properties\": {\n        \"dtype\": \"number\",\n        \"std\": 0.37553380809940534,\n        \"min\": 0.0,\n        \"max\": 1.0,\n        \"num_unique_values\": 2,\n        \"samples\": [\n          1.0\n        ],\n        \"semantic_type\": \"\",\n        \"description\": \"\"\n      }\n    },\n    {\n      \"column\": \"RACE_Other\",\n      \"properties\": {\n        \"dtype\": \"number\",\n        \"std\": 0.0,\n        \"min\": 0.0,\n        \"max\": 0.0,\n        \"num_unique_values\": 1,\n        \"samples\": [\n          0.0\n        ],\n        \"semantic_type\": \"\",\n        \"description\": \"\"\n      }\n    },\n    {\n      \"column\": \"RACE_White\",\n      \"properties\": {\n        \"dtype\": \"number\",\n        \"std\": 0.4385290096535146,\n        \"min\": 0.0,\n        \"max\": 1.0,\n        \"num_unique_values\": 2,\n        \"samples\": [\n          0.0\n        ],\n        \"semantic_type\": \"\",\n        \"description\": \"\"\n      }\n    },\n    {\n      \"column\": \"AGE\",\n      \"properties\": {\n        \"dtype\": \"number\",\n        \"std\": 0.21540205755295463,\n        \"min\": 0.3333333333333333,\n        \"max\": 1.0,\n        \"num_unique_values\": 3,\n        \"samples\": [\n          1.0\n        ],\n        \"semantic_type\": \"\",\n        \"description\": \"\"\n      }\n    },\n    {\n      \"column\": \"EDUC12R\",\n      \"properties\": {\n        \"dtype\": \"number\",\n        \"std\": 0.3095942438880217,\n        \"min\": 0.0,\n        \"max\": 1.0,\n        \"num_unique_values\": 4,\n        \"samples\": [\n          1.0\n        ],\n        \"semantic_type\": \"\",\n        \"description\": \"\"\n      }\n    }\n  ]\n}",
              "type": "dataframe",
              "variable_name": "b"
            },
            "text/html": [
              "\n",
              "  <div id=\"df-207594ca-c21f-4942-b8ac-b11bb50d4bfd\" class=\"colab-df-container\">\n",
              "    <div>\n",
              "<style scoped>\n",
              "    .dataframe tbody tr th:only-of-type {\n",
              "        vertical-align: middle;\n",
              "    }\n",
              "\n",
              "    .dataframe tbody tr th {\n",
              "        vertical-align: top;\n",
              "    }\n",
              "\n",
              "    .dataframe thead th {\n",
              "        text-align: right;\n",
              "    }\n",
              "</style>\n",
              "<table border=\"1\" class=\"dataframe\">\n",
              "  <thead>\n",
              "    <tr style=\"text-align: right;\">\n",
              "      <th></th>\n",
              "      <th>RACE_Asian</th>\n",
              "      <th>RACE_Black</th>\n",
              "      <th>RACE_Hispanic/Latino</th>\n",
              "      <th>RACE_Other</th>\n",
              "      <th>RACE_White</th>\n",
              "      <th>AGE</th>\n",
              "      <th>EDUC12R</th>\n",
              "    </tr>\n",
              "  </thead>\n",
              "  <tbody>\n",
              "    <tr>\n",
              "      <th>2256</th>\n",
              "      <td>0.0</td>\n",
              "      <td>0.0</td>\n",
              "      <td>0.0</td>\n",
              "      <td>0.0</td>\n",
              "      <td>1.0</td>\n",
              "      <td>1.000000</td>\n",
              "      <td>0.333333</td>\n",
              "    </tr>\n",
              "    <tr>\n",
              "      <th>343</th>\n",
              "      <td>0.0</td>\n",
              "      <td>0.0</td>\n",
              "      <td>0.0</td>\n",
              "      <td>0.0</td>\n",
              "      <td>1.0</td>\n",
              "      <td>1.000000</td>\n",
              "      <td>1.000000</td>\n",
              "    </tr>\n",
              "    <tr>\n",
              "      <th>359</th>\n",
              "      <td>0.0</td>\n",
              "      <td>1.0</td>\n",
              "      <td>0.0</td>\n",
              "      <td>0.0</td>\n",
              "      <td>0.0</td>\n",
              "      <td>0.666667</td>\n",
              "      <td>0.666667</td>\n",
              "    </tr>\n",
              "    <tr>\n",
              "      <th>28</th>\n",
              "      <td>0.0</td>\n",
              "      <td>0.0</td>\n",
              "      <td>0.0</td>\n",
              "      <td>0.0</td>\n",
              "      <td>1.0</td>\n",
              "      <td>1.000000</td>\n",
              "      <td>0.666667</td>\n",
              "    </tr>\n",
              "    <tr>\n",
              "      <th>226</th>\n",
              "      <td>0.0</td>\n",
              "      <td>0.0</td>\n",
              "      <td>1.0</td>\n",
              "      <td>0.0</td>\n",
              "      <td>0.0</td>\n",
              "      <td>1.000000</td>\n",
              "      <td>0.333333</td>\n",
              "    </tr>\n",
              "    <tr>\n",
              "      <th>131</th>\n",
              "      <td>NaN</td>\n",
              "      <td>NaN</td>\n",
              "      <td>NaN</td>\n",
              "      <td>NaN</td>\n",
              "      <td>NaN</td>\n",
              "      <td>1.000000</td>\n",
              "      <td>0.666667</td>\n",
              "    </tr>\n",
              "    <tr>\n",
              "      <th>1133</th>\n",
              "      <td>0.0</td>\n",
              "      <td>0.0</td>\n",
              "      <td>0.0</td>\n",
              "      <td>0.0</td>\n",
              "      <td>1.0</td>\n",
              "      <td>1.000000</td>\n",
              "      <td>0.666667</td>\n",
              "    </tr>\n",
              "    <tr>\n",
              "      <th>1416</th>\n",
              "      <td>0.0</td>\n",
              "      <td>0.0</td>\n",
              "      <td>0.0</td>\n",
              "      <td>0.0</td>\n",
              "      <td>1.0</td>\n",
              "      <td>1.000000</td>\n",
              "      <td>0.333333</td>\n",
              "    </tr>\n",
              "    <tr>\n",
              "      <th>682</th>\n",
              "      <td>0.0</td>\n",
              "      <td>0.0</td>\n",
              "      <td>0.0</td>\n",
              "      <td>0.0</td>\n",
              "      <td>1.0</td>\n",
              "      <td>0.333333</td>\n",
              "      <td>0.666667</td>\n",
              "    </tr>\n",
              "    <tr>\n",
              "      <th>402</th>\n",
              "      <td>0.0</td>\n",
              "      <td>0.0</td>\n",
              "      <td>0.0</td>\n",
              "      <td>0.0</td>\n",
              "      <td>1.0</td>\n",
              "      <td>0.666667</td>\n",
              "      <td>0.666667</td>\n",
              "    </tr>\n",
              "    <tr>\n",
              "      <th>899</th>\n",
              "      <td>0.0</td>\n",
              "      <td>0.0</td>\n",
              "      <td>1.0</td>\n",
              "      <td>0.0</td>\n",
              "      <td>0.0</td>\n",
              "      <td>0.666667</td>\n",
              "      <td>0.000000</td>\n",
              "    </tr>\n",
              "    <tr>\n",
              "      <th>577</th>\n",
              "      <td>0.0</td>\n",
              "      <td>0.0</td>\n",
              "      <td>0.0</td>\n",
              "      <td>0.0</td>\n",
              "      <td>1.0</td>\n",
              "      <td>1.000000</td>\n",
              "      <td>0.666667</td>\n",
              "    </tr>\n",
              "    <tr>\n",
              "      <th>1758</th>\n",
              "      <td>0.0</td>\n",
              "      <td>0.0</td>\n",
              "      <td>0.0</td>\n",
              "      <td>0.0</td>\n",
              "      <td>1.0</td>\n",
              "      <td>0.666667</td>\n",
              "      <td>1.000000</td>\n",
              "    </tr>\n",
              "    <tr>\n",
              "      <th>1363</th>\n",
              "      <td>0.0</td>\n",
              "      <td>0.0</td>\n",
              "      <td>0.0</td>\n",
              "      <td>0.0</td>\n",
              "      <td>1.0</td>\n",
              "      <td>1.000000</td>\n",
              "      <td>0.000000</td>\n",
              "    </tr>\n",
              "  </tbody>\n",
              "</table>\n",
              "</div>\n",
              "    <div class=\"colab-df-buttons\">\n",
              "\n",
              "  <div class=\"colab-df-container\">\n",
              "    <button class=\"colab-df-convert\" onclick=\"convertToInteractive('df-207594ca-c21f-4942-b8ac-b11bb50d4bfd')\"\n",
              "            title=\"Convert this dataframe to an interactive table.\"\n",
              "            style=\"display:none;\">\n",
              "\n",
              "  <svg xmlns=\"http://www.w3.org/2000/svg\" height=\"24px\" viewBox=\"0 -960 960 960\">\n",
              "    <path d=\"M120-120v-720h720v720H120Zm60-500h600v-160H180v160Zm220 220h160v-160H400v160Zm0 220h160v-160H400v160ZM180-400h160v-160H180v160Zm440 0h160v-160H620v160ZM180-180h160v-160H180v160Zm440 0h160v-160H620v160Z\"/>\n",
              "  </svg>\n",
              "    </button>\n",
              "\n",
              "  <style>\n",
              "    .colab-df-container {\n",
              "      display:flex;\n",
              "      gap: 12px;\n",
              "    }\n",
              "\n",
              "    .colab-df-convert {\n",
              "      background-color: #E8F0FE;\n",
              "      border: none;\n",
              "      border-radius: 50%;\n",
              "      cursor: pointer;\n",
              "      display: none;\n",
              "      fill: #1967D2;\n",
              "      height: 32px;\n",
              "      padding: 0 0 0 0;\n",
              "      width: 32px;\n",
              "    }\n",
              "\n",
              "    .colab-df-convert:hover {\n",
              "      background-color: #E2EBFA;\n",
              "      box-shadow: 0px 1px 2px rgba(60, 64, 67, 0.3), 0px 1px 3px 1px rgba(60, 64, 67, 0.15);\n",
              "      fill: #174EA6;\n",
              "    }\n",
              "\n",
              "    .colab-df-buttons div {\n",
              "      margin-bottom: 4px;\n",
              "    }\n",
              "\n",
              "    [theme=dark] .colab-df-convert {\n",
              "      background-color: #3B4455;\n",
              "      fill: #D2E3FC;\n",
              "    }\n",
              "\n",
              "    [theme=dark] .colab-df-convert:hover {\n",
              "      background-color: #434B5C;\n",
              "      box-shadow: 0px 1px 3px 1px rgba(0, 0, 0, 0.15);\n",
              "      filter: drop-shadow(0px 1px 2px rgba(0, 0, 0, 0.3));\n",
              "      fill: #FFFFFF;\n",
              "    }\n",
              "  </style>\n",
              "\n",
              "    <script>\n",
              "      const buttonEl =\n",
              "        document.querySelector('#df-207594ca-c21f-4942-b8ac-b11bb50d4bfd button.colab-df-convert');\n",
              "      buttonEl.style.display =\n",
              "        google.colab.kernel.accessAllowed ? 'block' : 'none';\n",
              "\n",
              "      async function convertToInteractive(key) {\n",
              "        const element = document.querySelector('#df-207594ca-c21f-4942-b8ac-b11bb50d4bfd');\n",
              "        const dataTable =\n",
              "          await google.colab.kernel.invokeFunction('convertToInteractive',\n",
              "                                                    [key], {});\n",
              "        if (!dataTable) return;\n",
              "\n",
              "        const docLinkHtml = 'Like what you see? Visit the ' +\n",
              "          '<a target=\"_blank\" href=https://colab.research.google.com/notebooks/data_table.ipynb>data table notebook</a>'\n",
              "          + ' to learn more about interactive tables.';\n",
              "        element.innerHTML = '';\n",
              "        dataTable['output_type'] = 'display_data';\n",
              "        await google.colab.output.renderOutput(dataTable, element);\n",
              "        const docLink = document.createElement('div');\n",
              "        docLink.innerHTML = docLinkHtml;\n",
              "        element.appendChild(docLink);\n",
              "      }\n",
              "    </script>\n",
              "  </div>\n",
              "\n",
              "\n",
              "<div id=\"df-c19efb1a-0cfe-42cd-8ff6-297eca471767\">\n",
              "  <button class=\"colab-df-quickchart\" onclick=\"quickchart('df-c19efb1a-0cfe-42cd-8ff6-297eca471767')\"\n",
              "            title=\"Suggest charts\"\n",
              "            style=\"display:none;\">\n",
              "\n",
              "<svg xmlns=\"http://www.w3.org/2000/svg\" height=\"24px\"viewBox=\"0 0 24 24\"\n",
              "     width=\"24px\">\n",
              "    <g>\n",
              "        <path d=\"M19 3H5c-1.1 0-2 .9-2 2v14c0 1.1.9 2 2 2h14c1.1 0 2-.9 2-2V5c0-1.1-.9-2-2-2zM9 17H7v-7h2v7zm4 0h-2V7h2v10zm4 0h-2v-4h2v4z\"/>\n",
              "    </g>\n",
              "</svg>\n",
              "  </button>\n",
              "\n",
              "<style>\n",
              "  .colab-df-quickchart {\n",
              "      --bg-color: #E8F0FE;\n",
              "      --fill-color: #1967D2;\n",
              "      --hover-bg-color: #E2EBFA;\n",
              "      --hover-fill-color: #174EA6;\n",
              "      --disabled-fill-color: #AAA;\n",
              "      --disabled-bg-color: #DDD;\n",
              "  }\n",
              "\n",
              "  [theme=dark] .colab-df-quickchart {\n",
              "      --bg-color: #3B4455;\n",
              "      --fill-color: #D2E3FC;\n",
              "      --hover-bg-color: #434B5C;\n",
              "      --hover-fill-color: #FFFFFF;\n",
              "      --disabled-bg-color: #3B4455;\n",
              "      --disabled-fill-color: #666;\n",
              "  }\n",
              "\n",
              "  .colab-df-quickchart {\n",
              "    background-color: var(--bg-color);\n",
              "    border: none;\n",
              "    border-radius: 50%;\n",
              "    cursor: pointer;\n",
              "    display: none;\n",
              "    fill: var(--fill-color);\n",
              "    height: 32px;\n",
              "    padding: 0;\n",
              "    width: 32px;\n",
              "  }\n",
              "\n",
              "  .colab-df-quickchart:hover {\n",
              "    background-color: var(--hover-bg-color);\n",
              "    box-shadow: 0 1px 2px rgba(60, 64, 67, 0.3), 0 1px 3px 1px rgba(60, 64, 67, 0.15);\n",
              "    fill: var(--button-hover-fill-color);\n",
              "  }\n",
              "\n",
              "  .colab-df-quickchart-complete:disabled,\n",
              "  .colab-df-quickchart-complete:disabled:hover {\n",
              "    background-color: var(--disabled-bg-color);\n",
              "    fill: var(--disabled-fill-color);\n",
              "    box-shadow: none;\n",
              "  }\n",
              "\n",
              "  .colab-df-spinner {\n",
              "    border: 2px solid var(--fill-color);\n",
              "    border-color: transparent;\n",
              "    border-bottom-color: var(--fill-color);\n",
              "    animation:\n",
              "      spin 1s steps(1) infinite;\n",
              "  }\n",
              "\n",
              "  @keyframes spin {\n",
              "    0% {\n",
              "      border-color: transparent;\n",
              "      border-bottom-color: var(--fill-color);\n",
              "      border-left-color: var(--fill-color);\n",
              "    }\n",
              "    20% {\n",
              "      border-color: transparent;\n",
              "      border-left-color: var(--fill-color);\n",
              "      border-top-color: var(--fill-color);\n",
              "    }\n",
              "    30% {\n",
              "      border-color: transparent;\n",
              "      border-left-color: var(--fill-color);\n",
              "      border-top-color: var(--fill-color);\n",
              "      border-right-color: var(--fill-color);\n",
              "    }\n",
              "    40% {\n",
              "      border-color: transparent;\n",
              "      border-right-color: var(--fill-color);\n",
              "      border-top-color: var(--fill-color);\n",
              "    }\n",
              "    60% {\n",
              "      border-color: transparent;\n",
              "      border-right-color: var(--fill-color);\n",
              "    }\n",
              "    80% {\n",
              "      border-color: transparent;\n",
              "      border-right-color: var(--fill-color);\n",
              "      border-bottom-color: var(--fill-color);\n",
              "    }\n",
              "    90% {\n",
              "      border-color: transparent;\n",
              "      border-bottom-color: var(--fill-color);\n",
              "    }\n",
              "  }\n",
              "</style>\n",
              "\n",
              "  <script>\n",
              "    async function quickchart(key) {\n",
              "      const quickchartButtonEl =\n",
              "        document.querySelector('#' + key + ' button');\n",
              "      quickchartButtonEl.disabled = true;  // To prevent multiple clicks.\n",
              "      quickchartButtonEl.classList.add('colab-df-spinner');\n",
              "      try {\n",
              "        const charts = await google.colab.kernel.invokeFunction(\n",
              "            'suggestCharts', [key], {});\n",
              "      } catch (error) {\n",
              "        console.error('Error during call to suggestCharts:', error);\n",
              "      }\n",
              "      quickchartButtonEl.classList.remove('colab-df-spinner');\n",
              "      quickchartButtonEl.classList.add('colab-df-quickchart-complete');\n",
              "    }\n",
              "    (() => {\n",
              "      let quickchartButtonEl =\n",
              "        document.querySelector('#df-c19efb1a-0cfe-42cd-8ff6-297eca471767 button');\n",
              "      quickchartButtonEl.style.display =\n",
              "        google.colab.kernel.accessAllowed ? 'block' : 'none';\n",
              "    })();\n",
              "  </script>\n",
              "</div>\n",
              "\n",
              "  <div id=\"id_62e86ff3-af77-4752-bebb-3d4c5ffb5fab\">\n",
              "    <style>\n",
              "      .colab-df-generate {\n",
              "        background-color: #E8F0FE;\n",
              "        border: none;\n",
              "        border-radius: 50%;\n",
              "        cursor: pointer;\n",
              "        display: none;\n",
              "        fill: #1967D2;\n",
              "        height: 32px;\n",
              "        padding: 0 0 0 0;\n",
              "        width: 32px;\n",
              "      }\n",
              "\n",
              "      .colab-df-generate:hover {\n",
              "        background-color: #E2EBFA;\n",
              "        box-shadow: 0px 1px 2px rgba(60, 64, 67, 0.3), 0px 1px 3px 1px rgba(60, 64, 67, 0.15);\n",
              "        fill: #174EA6;\n",
              "      }\n",
              "\n",
              "      [theme=dark] .colab-df-generate {\n",
              "        background-color: #3B4455;\n",
              "        fill: #D2E3FC;\n",
              "      }\n",
              "\n",
              "      [theme=dark] .colab-df-generate:hover {\n",
              "        background-color: #434B5C;\n",
              "        box-shadow: 0px 1px 3px 1px rgba(0, 0, 0, 0.15);\n",
              "        filter: drop-shadow(0px 1px 2px rgba(0, 0, 0, 0.3));\n",
              "        fill: #FFFFFF;\n",
              "      }\n",
              "    </style>\n",
              "    <button class=\"colab-df-generate\" onclick=\"generateWithVariable('b')\"\n",
              "            title=\"Generate code using this dataframe.\"\n",
              "            style=\"display:none;\">\n",
              "\n",
              "  <svg xmlns=\"http://www.w3.org/2000/svg\" height=\"24px\"viewBox=\"0 0 24 24\"\n",
              "       width=\"24px\">\n",
              "    <path d=\"M7,19H8.4L18.45,9,17,7.55,7,17.6ZM5,21V16.75L18.45,3.32a2,2,0,0,1,2.83,0l1.4,1.43a1.91,1.91,0,0,1,.58,1.4,1.91,1.91,0,0,1-.58,1.4L9.25,21ZM18.45,9,17,7.55Zm-12,3A5.31,5.31,0,0,0,4.9,8.1,5.31,5.31,0,0,0,1,6.5,5.31,5.31,0,0,0,4.9,4.9,5.31,5.31,0,0,0,6.5,1,5.31,5.31,0,0,0,8.1,4.9,5.31,5.31,0,0,0,12,6.5,5.46,5.46,0,0,0,6.5,12Z\"/>\n",
              "  </svg>\n",
              "    </button>\n",
              "    <script>\n",
              "      (() => {\n",
              "      const buttonEl =\n",
              "        document.querySelector('#id_62e86ff3-af77-4752-bebb-3d4c5ffb5fab button.colab-df-generate');\n",
              "      buttonEl.style.display =\n",
              "        google.colab.kernel.accessAllowed ? 'block' : 'none';\n",
              "\n",
              "      buttonEl.onclick = () => {\n",
              "        google.colab.notebook.generateWithVariable('b');\n",
              "      }\n",
              "      })();\n",
              "    </script>\n",
              "  </div>\n",
              "\n",
              "    </div>\n",
              "  </div>\n"
            ],
            "text/plain": [
              "      RACE_Asian  RACE_Black  RACE_Hispanic/Latino  RACE_Other  RACE_White  \\\n",
              "2256         0.0         0.0                   0.0         0.0         1.0   \n",
              "343          0.0         0.0                   0.0         0.0         1.0   \n",
              "359          0.0         1.0                   0.0         0.0         0.0   \n",
              "28           0.0         0.0                   0.0         0.0         1.0   \n",
              "226          0.0         0.0                   1.0         0.0         0.0   \n",
              "131          NaN         NaN                   NaN         NaN         NaN   \n",
              "1133         0.0         0.0                   0.0         0.0         1.0   \n",
              "1416         0.0         0.0                   0.0         0.0         1.0   \n",
              "682          0.0         0.0                   0.0         0.0         1.0   \n",
              "402          0.0         0.0                   0.0         0.0         1.0   \n",
              "899          0.0         0.0                   1.0         0.0         0.0   \n",
              "577          0.0         0.0                   0.0         0.0         1.0   \n",
              "1758         0.0         0.0                   0.0         0.0         1.0   \n",
              "1363         0.0         0.0                   0.0         0.0         1.0   \n",
              "\n",
              "           AGE   EDUC12R  \n",
              "2256  1.000000  0.333333  \n",
              "343   1.000000  1.000000  \n",
              "359   0.666667  0.666667  \n",
              "28    1.000000  0.666667  \n",
              "226   1.000000  0.333333  \n",
              "131   1.000000  0.666667  \n",
              "1133  1.000000  0.666667  \n",
              "1416  1.000000  0.333333  \n",
              "682   0.333333  0.666667  \n",
              "402   0.666667  0.666667  \n",
              "899   0.666667  0.000000  \n",
              "577   1.000000  0.666667  \n",
              "1758  0.666667  1.000000  \n",
              "1363  1.000000  0.000000  "
            ]
          },
          "execution_count": 44,
          "metadata": {},
          "output_type": "execute_result"
        }
      ],
      "source": [
        "b_idx = np.array([2256, 343, 359,  28,  226, 131, 1133, 1416,  682,  402, 899,  577, 1758, 1363])\n",
        "b = X.iloc[b_idx]\n",
        "b"
      ]
    },
    {
      "cell_type": "markdown",
      "metadata": {
        "id": "-7A2hUfNjA5N"
      },
      "source": [
        "We need to compute the distance from each sample in the test data `a`, to each sample in the training data `b`.\n",
        "\n",
        "We will set up a *distance matrix* in which to store the results. In the distance matrix, an entry in row $i$, column $j$ represents the distance between row $i$ of the test set and row $j$ of the training set.\n",
        "\n",
        "So the distance matrix should have as many rows as there are test samples, and as many columns as there are training samples."
      ]
    },
    {
      "cell_type": "code",
      "execution_count": 53,
      "metadata": {
        "colab": {
          "base_uri": "https://localhost:8080/"
        },
        "id": "YrppPQNVjA5O",
        "outputId": "138c8bbb-f4bd-4bb0-a5b3-36652581a463"
      },
      "outputs": [
        {
          "data": {
            "text/plain": [
              "(5, 14)"
            ]
          },
          "execution_count": 53,
          "metadata": {},
          "output_type": "execute_result"
        }
      ],
      "source": [
        "distances_custom = np.zeros(shape=(len(a_idx), len(b_idx)))\n",
        "distances_custom.shape\n"
      ]
    },
    {
      "cell_type": "markdown",
      "metadata": {
        "id": "etCXiLF0jA5P"
      },
      "source": [
        "Now that we have the distance matrix set up, we’re ready to fill it in with distance values. We will loop over each sample in the test set, and call the distance function passing that test sample and the entire training set.\n",
        "\n",
        "Instead of a conventional `for` loop, we will use a [tqdm](https://github.com/tqdm/tqdm) `for` loop. This library conveniently “wraps” the conventional `for` loop with a progress part, so we can see our progress while the loop is running."
      ]
    },
    {
      "cell_type": "code",
      "execution_count": 54,
      "metadata": {
        "colab": {
          "base_uri": "https://localhost:8080/"
        },
        "id": "Jyv-hLfqjA5P",
        "outputId": "f8fcf070-f9cf-4e41-e737-1b59fd3579bc"
      },
      "outputs": [
        {
          "name": "stderr",
          "output_type": "stream",
          "text": [
            "Distance matrix: 100%|██████████| 5/5 [00:00<00:00, 426.88it/s]\n"
          ]
        }
      ],
      "source": [
        "# the first argument to tqdm, range(len(a_idx)), is the list we are looping over\n",
        "for idx in tqdm(range(len(a_idx)),  total=len(a_idx), desc=\"Distance matrix\"):\n",
        "  distances_custom[idx] = custom_distance(X.iloc[a_idx[idx]].values, X.iloc[b_idx].values)"
      ]
    },
    {
      "cell_type": "markdown",
      "metadata": {
        "id": "tC0R2zr3jA5Q"
      },
      "source": [
        "Let’s look at those distances now:"
      ]
    },
    {
      "cell_type": "code",
      "execution_count": 55,
      "metadata": {
        "colab": {
          "base_uri": "https://localhost:8080/"
        },
        "id": "PtWIIGB5jA5Q",
        "outputId": "83c7ab90-9f8b-4a6a-861e-3315fbf751db"
      },
      "outputs": [
        {
          "name": "stdout",
          "output_type": "stream",
          "text": [
            "[[0.   0.67 2.67 0.33 2.   0.33 0.33 0.   1.   0.67 2.67 0.33 1.   0.33]\n",
            " [0.33 0.33 2.33 0.   2.33 0.   0.   0.33 0.67 0.33 3.   0.   0.67 0.67]\n",
            " [0.33 1.   3.   0.67 2.33 0.67 0.67 0.33 1.33 1.   2.33 0.67 1.33 0.  ]\n",
            " [0.67 0.   0.67 0.33 0.67 0.33 0.33 0.67 1.   0.67 1.33 0.33 0.33 1.  ]\n",
            " [0.67 1.33 2.67 1.   2.67 1.   1.   0.67 1.   0.67 2.   1.   1.   0.33]]\n"
          ]
        }
      ],
      "source": [
        "np.set_printoptions(precision=2) # show at most 2 decimal places\n",
        "print(distances_custom)"
      ]
    },
    {
      "cell_type": "markdown",
      "metadata": {
        "id": "5dKrEIcJjA5R"
      },
      "source": [
        "### Find most common class of k nearest neighbors"
      ]
    },
    {
      "cell_type": "markdown",
      "metadata": {
        "id": "7BRYDn8vjA5R"
      },
      "source": [
        "Now that we have this distance matrix, for each test sample, we can:\n",
        "\n",
        "-   get an array of indices from the *distance matrix*, sorted in order of increasing distance\n",
        "-   get the list of the K nearest neighbors as the first K elements from that list,\n",
        "-   from those entries - which are indices with respect to the distance matrix - get the corresponding indices in `X` and `y`,\n",
        "-   and then predict the class of the test sample as the most common value of `y` among the nearest neighbors."
      ]
    },
    {
      "cell_type": "code",
      "execution_count": 56,
      "metadata": {
        "id": "QVv13779jA5S"
      },
      "outputs": [],
      "source": [
        "k = 3\n",
        "# array of indices sorted in order of increasing distance\n",
        "distances_sorted = np.array([np.argsort(row) for row in distances_custom])\n",
        "# first k elements in that list = indices of k nearest neighbors\n",
        "nn_lists = distances_sorted[:, :k]\n",
        "# map indices in distance matrix back to indices in `X` and `y`\n",
        "nn_lists_idx = b_idx[nn_lists]\n",
        "# for each test sample, get the mode of `y` values for the nearest neighbors\n",
        "y_pred =  [y.iloc[nn].mode()[0] for nn in nn_lists_idx]"
      ]
    },
    {
      "cell_type": "markdown",
      "metadata": {
        "id": "YGl23y_IjA5T"
      },
      "source": [
        "### Example: one test sample"
      ]
    },
    {
      "cell_type": "markdown",
      "metadata": {
        "id": "qkDOHLsPjA5U"
      },
      "source": [
        "For example, this was the first test sample:"
      ]
    },
    {
      "cell_type": "code",
      "execution_count": 58,
      "metadata": {
        "colab": {
          "base_uri": "https://localhost:8080/",
          "height": 81
        },
        "id": "PV2QewcRjA5U",
        "outputId": "4468c206-d731-441e-f143-21bbf3d7d443"
      },
      "outputs": [
        {
          "data": {
            "application/vnd.google.colaboratory.intrinsic+json": {
              "summary": "{\n  \"name\": \"X\",\n  \"rows\": 1,\n  \"fields\": [\n    {\n      \"column\": \"RACE_Asian\",\n      \"properties\": {\n        \"dtype\": \"number\",\n        \"std\": null,\n        \"min\": 0.0,\n        \"max\": 0.0,\n        \"num_unique_values\": 1,\n        \"samples\": [\n          0.0\n        ],\n        \"semantic_type\": \"\",\n        \"description\": \"\"\n      }\n    },\n    {\n      \"column\": \"RACE_Black\",\n      \"properties\": {\n        \"dtype\": \"number\",\n        \"std\": null,\n        \"min\": 0.0,\n        \"max\": 0.0,\n        \"num_unique_values\": 1,\n        \"samples\": [\n          0.0\n        ],\n        \"semantic_type\": \"\",\n        \"description\": \"\"\n      }\n    },\n    {\n      \"column\": \"RACE_Hispanic/Latino\",\n      \"properties\": {\n        \"dtype\": \"number\",\n        \"std\": null,\n        \"min\": 0.0,\n        \"max\": 0.0,\n        \"num_unique_values\": 1,\n        \"samples\": [\n          0.0\n        ],\n        \"semantic_type\": \"\",\n        \"description\": \"\"\n      }\n    },\n    {\n      \"column\": \"RACE_Other\",\n      \"properties\": {\n        \"dtype\": \"number\",\n        \"std\": null,\n        \"min\": 0.0,\n        \"max\": 0.0,\n        \"num_unique_values\": 1,\n        \"samples\": [\n          0.0\n        ],\n        \"semantic_type\": \"\",\n        \"description\": \"\"\n      }\n    },\n    {\n      \"column\": \"RACE_White\",\n      \"properties\": {\n        \"dtype\": \"number\",\n        \"std\": null,\n        \"min\": 1.0,\n        \"max\": 1.0,\n        \"num_unique_values\": 1,\n        \"samples\": [\n          1.0\n        ],\n        \"semantic_type\": \"\",\n        \"description\": \"\"\n      }\n    },\n    {\n      \"column\": \"AGE\",\n      \"properties\": {\n        \"dtype\": \"number\",\n        \"std\": null,\n        \"min\": 1.0,\n        \"max\": 1.0,\n        \"num_unique_values\": 1,\n        \"samples\": [\n          1.0\n        ],\n        \"semantic_type\": \"\",\n        \"description\": \"\"\n      }\n    },\n    {\n      \"column\": \"EDUC12R\",\n      \"properties\": {\n        \"dtype\": \"number\",\n        \"std\": null,\n        \"min\": 0.6666666666666667,\n        \"max\": 0.6666666666666667,\n        \"num_unique_values\": 1,\n        \"samples\": [\n          0.6666666666666667\n        ],\n        \"semantic_type\": \"\",\n        \"description\": \"\"\n      }\n    }\n  ]\n}",
              "type": "dataframe"
            },
            "text/html": [
              "\n",
              "  <div id=\"df-f954ac5c-3144-4ae0-a883-94897caabda1\" class=\"colab-df-container\">\n",
              "    <div>\n",
              "<style scoped>\n",
              "    .dataframe tbody tr th:only-of-type {\n",
              "        vertical-align: middle;\n",
              "    }\n",
              "\n",
              "    .dataframe tbody tr th {\n",
              "        vertical-align: top;\n",
              "    }\n",
              "\n",
              "    .dataframe thead th {\n",
              "        text-align: right;\n",
              "    }\n",
              "</style>\n",
              "<table border=\"1\" class=\"dataframe\">\n",
              "  <thead>\n",
              "    <tr style=\"text-align: right;\">\n",
              "      <th></th>\n",
              "      <th>RACE_Asian</th>\n",
              "      <th>RACE_Black</th>\n",
              "      <th>RACE_Hispanic/Latino</th>\n",
              "      <th>RACE_Other</th>\n",
              "      <th>RACE_White</th>\n",
              "      <th>AGE</th>\n",
              "      <th>EDUC12R</th>\n",
              "    </tr>\n",
              "  </thead>\n",
              "  <tbody>\n",
              "    <tr>\n",
              "      <th>1296</th>\n",
              "      <td>0.0</td>\n",
              "      <td>0.0</td>\n",
              "      <td>0.0</td>\n",
              "      <td>0.0</td>\n",
              "      <td>1.0</td>\n",
              "      <td>1.0</td>\n",
              "      <td>0.666667</td>\n",
              "    </tr>\n",
              "  </tbody>\n",
              "</table>\n",
              "</div>\n",
              "    <div class=\"colab-df-buttons\">\n",
              "\n",
              "  <div class=\"colab-df-container\">\n",
              "    <button class=\"colab-df-convert\" onclick=\"convertToInteractive('df-f954ac5c-3144-4ae0-a883-94897caabda1')\"\n",
              "            title=\"Convert this dataframe to an interactive table.\"\n",
              "            style=\"display:none;\">\n",
              "\n",
              "  <svg xmlns=\"http://www.w3.org/2000/svg\" height=\"24px\" viewBox=\"0 -960 960 960\">\n",
              "    <path d=\"M120-120v-720h720v720H120Zm60-500h600v-160H180v160Zm220 220h160v-160H400v160Zm0 220h160v-160H400v160ZM180-400h160v-160H180v160Zm440 0h160v-160H620v160ZM180-180h160v-160H180v160Zm440 0h160v-160H620v160Z\"/>\n",
              "  </svg>\n",
              "    </button>\n",
              "\n",
              "  <style>\n",
              "    .colab-df-container {\n",
              "      display:flex;\n",
              "      gap: 12px;\n",
              "    }\n",
              "\n",
              "    .colab-df-convert {\n",
              "      background-color: #E8F0FE;\n",
              "      border: none;\n",
              "      border-radius: 50%;\n",
              "      cursor: pointer;\n",
              "      display: none;\n",
              "      fill: #1967D2;\n",
              "      height: 32px;\n",
              "      padding: 0 0 0 0;\n",
              "      width: 32px;\n",
              "    }\n",
              "\n",
              "    .colab-df-convert:hover {\n",
              "      background-color: #E2EBFA;\n",
              "      box-shadow: 0px 1px 2px rgba(60, 64, 67, 0.3), 0px 1px 3px 1px rgba(60, 64, 67, 0.15);\n",
              "      fill: #174EA6;\n",
              "    }\n",
              "\n",
              "    .colab-df-buttons div {\n",
              "      margin-bottom: 4px;\n",
              "    }\n",
              "\n",
              "    [theme=dark] .colab-df-convert {\n",
              "      background-color: #3B4455;\n",
              "      fill: #D2E3FC;\n",
              "    }\n",
              "\n",
              "    [theme=dark] .colab-df-convert:hover {\n",
              "      background-color: #434B5C;\n",
              "      box-shadow: 0px 1px 3px 1px rgba(0, 0, 0, 0.15);\n",
              "      filter: drop-shadow(0px 1px 2px rgba(0, 0, 0, 0.3));\n",
              "      fill: #FFFFFF;\n",
              "    }\n",
              "  </style>\n",
              "\n",
              "    <script>\n",
              "      const buttonEl =\n",
              "        document.querySelector('#df-f954ac5c-3144-4ae0-a883-94897caabda1 button.colab-df-convert');\n",
              "      buttonEl.style.display =\n",
              "        google.colab.kernel.accessAllowed ? 'block' : 'none';\n",
              "\n",
              "      async function convertToInteractive(key) {\n",
              "        const element = document.querySelector('#df-f954ac5c-3144-4ae0-a883-94897caabda1');\n",
              "        const dataTable =\n",
              "          await google.colab.kernel.invokeFunction('convertToInteractive',\n",
              "                                                    [key], {});\n",
              "        if (!dataTable) return;\n",
              "\n",
              "        const docLinkHtml = 'Like what you see? Visit the ' +\n",
              "          '<a target=\"_blank\" href=https://colab.research.google.com/notebooks/data_table.ipynb>data table notebook</a>'\n",
              "          + ' to learn more about interactive tables.';\n",
              "        element.innerHTML = '';\n",
              "        dataTable['output_type'] = 'display_data';\n",
              "        await google.colab.output.renderOutput(dataTable, element);\n",
              "        const docLink = document.createElement('div');\n",
              "        docLink.innerHTML = docLinkHtml;\n",
              "        element.appendChild(docLink);\n",
              "      }\n",
              "    </script>\n",
              "  </div>\n",
              "\n",
              "\n",
              "    </div>\n",
              "  </div>\n"
            ],
            "text/plain": [
              "      RACE_Asian  RACE_Black  RACE_Hispanic/Latino  RACE_Other  RACE_White  \\\n",
              "1296         0.0         0.0                   0.0         0.0         1.0   \n",
              "\n",
              "      AGE   EDUC12R  \n",
              "1296  1.0  0.666667  "
            ]
          },
          "execution_count": 58,
          "metadata": {},
          "output_type": "execute_result"
        }
      ],
      "source": [
        "X.iloc[[1296]]  # changing value to within bounds range"
      ]
    },
    {
      "cell_type": "markdown",
      "metadata": {
        "id": "oIbTjxirjA5V"
      },
      "source": [
        "Here is its distance to each of the training samples in our “mini” training set:"
      ]
    },
    {
      "cell_type": "code",
      "execution_count": 59,
      "metadata": {
        "colab": {
          "base_uri": "https://localhost:8080/"
        },
        "id": "XEDl3AYRjA5V",
        "outputId": "a7e13bc8-8078-4d31-8b2e-67cba16fb93a"
      },
      "outputs": [
        {
          "data": {
            "text/plain": [
              "array([0.  , 0.67, 2.67, 0.33, 2.  , 0.33, 0.33, 0.  , 1.  , 0.67, 2.67,\n",
              "       0.33, 1.  , 0.33])"
            ]
          },
          "execution_count": 59,
          "metadata": {},
          "output_type": "execute_result"
        }
      ],
      "source": [
        "distances_custom[0]"
      ]
    },
    {
      "cell_type": "markdown",
      "metadata": {
        "id": "qiLMCgBTjA5W"
      },
      "source": [
        "and here’s the sorted list of indices from that distance matrix - i.e. the index of the training sample with the smallest distance, the index of the training sample with the second-smallest distance, and so on."
      ]
    },
    {
      "cell_type": "code",
      "execution_count": 60,
      "metadata": {
        "colab": {
          "base_uri": "https://localhost:8080/"
        },
        "id": "uwB-Tr1wjA5X",
        "outputId": "575a7813-95b8-4b6a-978a-a5c99a2f75a9"
      },
      "outputs": [
        {
          "data": {
            "text/plain": [
              "array([ 0,  7, 13,  3,  5,  6, 11,  1,  9, 12,  8,  4,  2, 10])"
            ]
          },
          "execution_count": 60,
          "metadata": {},
          "output_type": "execute_result"
        }
      ],
      "source": [
        "distances_sorted[0]"
      ]
    },
    {
      "cell_type": "markdown",
      "metadata": {
        "id": "MY3VRwj-jA5X"
      },
      "source": [
        "The indices (in the “mini” training sample) of the 3 nearest neighbors to this test sample are:"
      ]
    },
    {
      "cell_type": "code",
      "execution_count": 61,
      "metadata": {
        "colab": {
          "base_uri": "https://localhost:8080/"
        },
        "id": "bq55fXwAjA5Y",
        "outputId": "53a4fa69-3ffe-4d53-b034-32a8ca35ed5b"
      },
      "outputs": [
        {
          "data": {
            "text/plain": [
              "array([ 0,  7, 13])"
            ]
          },
          "execution_count": 61,
          "metadata": {},
          "output_type": "execute_result"
        }
      ],
      "source": [
        "nn_lists[0]"
      ]
    },
    {
      "cell_type": "markdown",
      "metadata": {
        "id": "ylH5atNvjA5Y"
      },
      "source": [
        "which corresponds to the following sample indices in the complete data `X`:"
      ]
    },
    {
      "cell_type": "code",
      "execution_count": 62,
      "metadata": {
        "colab": {
          "base_uri": "https://localhost:8080/"
        },
        "id": "OmXR5CJ-jA5Z",
        "outputId": "e388cc88-f71c-444c-d782-521cf02557cf"
      },
      "outputs": [
        {
          "data": {
            "text/plain": [
              "array([2256, 1416, 1363])"
            ]
          },
          "execution_count": 62,
          "metadata": {},
          "output_type": "execute_result"
        }
      ],
      "source": [
        "nn_lists_idx[0]"
      ]
    },
    {
      "cell_type": "markdown",
      "metadata": {
        "id": "c6XiU7ixjA5Z"
      },
      "source": [
        "So, its closest neighbors in the “mini” training set are:"
      ]
    },
    {
      "cell_type": "code",
      "execution_count": 63,
      "metadata": {
        "colab": {
          "base_uri": "https://localhost:8080/",
          "height": 144
        },
        "id": "JsCZWztVjA5Z",
        "outputId": "b54d2a1d-7bba-4295-cc33-529ba8b97c4e"
      },
      "outputs": [
        {
          "data": {
            "application/vnd.google.colaboratory.intrinsic+json": {
              "summary": "{\n  \"name\": \"X\",\n  \"rows\": 3,\n  \"fields\": [\n    {\n      \"column\": \"RACE_Asian\",\n      \"properties\": {\n        \"dtype\": \"number\",\n        \"std\": 0.0,\n        \"min\": 0.0,\n        \"max\": 0.0,\n        \"num_unique_values\": 1,\n        \"samples\": [\n          0.0\n        ],\n        \"semantic_type\": \"\",\n        \"description\": \"\"\n      }\n    },\n    {\n      \"column\": \"RACE_Black\",\n      \"properties\": {\n        \"dtype\": \"number\",\n        \"std\": 0.0,\n        \"min\": 0.0,\n        \"max\": 0.0,\n        \"num_unique_values\": 1,\n        \"samples\": [\n          0.0\n        ],\n        \"semantic_type\": \"\",\n        \"description\": \"\"\n      }\n    },\n    {\n      \"column\": \"RACE_Hispanic/Latino\",\n      \"properties\": {\n        \"dtype\": \"number\",\n        \"std\": 0.0,\n        \"min\": 0.0,\n        \"max\": 0.0,\n        \"num_unique_values\": 1,\n        \"samples\": [\n          0.0\n        ],\n        \"semantic_type\": \"\",\n        \"description\": \"\"\n      }\n    },\n    {\n      \"column\": \"RACE_Other\",\n      \"properties\": {\n        \"dtype\": \"number\",\n        \"std\": 0.0,\n        \"min\": 0.0,\n        \"max\": 0.0,\n        \"num_unique_values\": 1,\n        \"samples\": [\n          0.0\n        ],\n        \"semantic_type\": \"\",\n        \"description\": \"\"\n      }\n    },\n    {\n      \"column\": \"RACE_White\",\n      \"properties\": {\n        \"dtype\": \"number\",\n        \"std\": 0.0,\n        \"min\": 1.0,\n        \"max\": 1.0,\n        \"num_unique_values\": 1,\n        \"samples\": [\n          1.0\n        ],\n        \"semantic_type\": \"\",\n        \"description\": \"\"\n      }\n    },\n    {\n      \"column\": \"AGE\",\n      \"properties\": {\n        \"dtype\": \"number\",\n        \"std\": 0.0,\n        \"min\": 1.0,\n        \"max\": 1.0,\n        \"num_unique_values\": 1,\n        \"samples\": [\n          1.0\n        ],\n        \"semantic_type\": \"\",\n        \"description\": \"\"\n      }\n    },\n    {\n      \"column\": \"EDUC12R\",\n      \"properties\": {\n        \"dtype\": \"number\",\n        \"std\": 0.19245008972987526,\n        \"min\": 0.0,\n        \"max\": 0.3333333333333333,\n        \"num_unique_values\": 2,\n        \"samples\": [\n          0.0\n        ],\n        \"semantic_type\": \"\",\n        \"description\": \"\"\n      }\n    }\n  ]\n}",
              "type": "dataframe"
            },
            "text/html": [
              "\n",
              "  <div id=\"df-799c7cb8-7e2c-40d1-8444-a50470a093a2\" class=\"colab-df-container\">\n",
              "    <div>\n",
              "<style scoped>\n",
              "    .dataframe tbody tr th:only-of-type {\n",
              "        vertical-align: middle;\n",
              "    }\n",
              "\n",
              "    .dataframe tbody tr th {\n",
              "        vertical-align: top;\n",
              "    }\n",
              "\n",
              "    .dataframe thead th {\n",
              "        text-align: right;\n",
              "    }\n",
              "</style>\n",
              "<table border=\"1\" class=\"dataframe\">\n",
              "  <thead>\n",
              "    <tr style=\"text-align: right;\">\n",
              "      <th></th>\n",
              "      <th>RACE_Asian</th>\n",
              "      <th>RACE_Black</th>\n",
              "      <th>RACE_Hispanic/Latino</th>\n",
              "      <th>RACE_Other</th>\n",
              "      <th>RACE_White</th>\n",
              "      <th>AGE</th>\n",
              "      <th>EDUC12R</th>\n",
              "    </tr>\n",
              "  </thead>\n",
              "  <tbody>\n",
              "    <tr>\n",
              "      <th>2256</th>\n",
              "      <td>0.0</td>\n",
              "      <td>0.0</td>\n",
              "      <td>0.0</td>\n",
              "      <td>0.0</td>\n",
              "      <td>1.0</td>\n",
              "      <td>1.0</td>\n",
              "      <td>0.333333</td>\n",
              "    </tr>\n",
              "    <tr>\n",
              "      <th>1416</th>\n",
              "      <td>0.0</td>\n",
              "      <td>0.0</td>\n",
              "      <td>0.0</td>\n",
              "      <td>0.0</td>\n",
              "      <td>1.0</td>\n",
              "      <td>1.0</td>\n",
              "      <td>0.333333</td>\n",
              "    </tr>\n",
              "    <tr>\n",
              "      <th>1363</th>\n",
              "      <td>0.0</td>\n",
              "      <td>0.0</td>\n",
              "      <td>0.0</td>\n",
              "      <td>0.0</td>\n",
              "      <td>1.0</td>\n",
              "      <td>1.0</td>\n",
              "      <td>0.000000</td>\n",
              "    </tr>\n",
              "  </tbody>\n",
              "</table>\n",
              "</div>\n",
              "    <div class=\"colab-df-buttons\">\n",
              "\n",
              "  <div class=\"colab-df-container\">\n",
              "    <button class=\"colab-df-convert\" onclick=\"convertToInteractive('df-799c7cb8-7e2c-40d1-8444-a50470a093a2')\"\n",
              "            title=\"Convert this dataframe to an interactive table.\"\n",
              "            style=\"display:none;\">\n",
              "\n",
              "  <svg xmlns=\"http://www.w3.org/2000/svg\" height=\"24px\" viewBox=\"0 -960 960 960\">\n",
              "    <path d=\"M120-120v-720h720v720H120Zm60-500h600v-160H180v160Zm220 220h160v-160H400v160Zm0 220h160v-160H400v160ZM180-400h160v-160H180v160Zm440 0h160v-160H620v160ZM180-180h160v-160H180v160Zm440 0h160v-160H620v160Z\"/>\n",
              "  </svg>\n",
              "    </button>\n",
              "\n",
              "  <style>\n",
              "    .colab-df-container {\n",
              "      display:flex;\n",
              "      gap: 12px;\n",
              "    }\n",
              "\n",
              "    .colab-df-convert {\n",
              "      background-color: #E8F0FE;\n",
              "      border: none;\n",
              "      border-radius: 50%;\n",
              "      cursor: pointer;\n",
              "      display: none;\n",
              "      fill: #1967D2;\n",
              "      height: 32px;\n",
              "      padding: 0 0 0 0;\n",
              "      width: 32px;\n",
              "    }\n",
              "\n",
              "    .colab-df-convert:hover {\n",
              "      background-color: #E2EBFA;\n",
              "      box-shadow: 0px 1px 2px rgba(60, 64, 67, 0.3), 0px 1px 3px 1px rgba(60, 64, 67, 0.15);\n",
              "      fill: #174EA6;\n",
              "    }\n",
              "\n",
              "    .colab-df-buttons div {\n",
              "      margin-bottom: 4px;\n",
              "    }\n",
              "\n",
              "    [theme=dark] .colab-df-convert {\n",
              "      background-color: #3B4455;\n",
              "      fill: #D2E3FC;\n",
              "    }\n",
              "\n",
              "    [theme=dark] .colab-df-convert:hover {\n",
              "      background-color: #434B5C;\n",
              "      box-shadow: 0px 1px 3px 1px rgba(0, 0, 0, 0.15);\n",
              "      filter: drop-shadow(0px 1px 2px rgba(0, 0, 0, 0.3));\n",
              "      fill: #FFFFFF;\n",
              "    }\n",
              "  </style>\n",
              "\n",
              "    <script>\n",
              "      const buttonEl =\n",
              "        document.querySelector('#df-799c7cb8-7e2c-40d1-8444-a50470a093a2 button.colab-df-convert');\n",
              "      buttonEl.style.display =\n",
              "        google.colab.kernel.accessAllowed ? 'block' : 'none';\n",
              "\n",
              "      async function convertToInteractive(key) {\n",
              "        const element = document.querySelector('#df-799c7cb8-7e2c-40d1-8444-a50470a093a2');\n",
              "        const dataTable =\n",
              "          await google.colab.kernel.invokeFunction('convertToInteractive',\n",
              "                                                    [key], {});\n",
              "        if (!dataTable) return;\n",
              "\n",
              "        const docLinkHtml = 'Like what you see? Visit the ' +\n",
              "          '<a target=\"_blank\" href=https://colab.research.google.com/notebooks/data_table.ipynb>data table notebook</a>'\n",
              "          + ' to learn more about interactive tables.';\n",
              "        element.innerHTML = '';\n",
              "        dataTable['output_type'] = 'display_data';\n",
              "        await google.colab.output.renderOutput(dataTable, element);\n",
              "        const docLink = document.createElement('div');\n",
              "        docLink.innerHTML = docLinkHtml;\n",
              "        element.appendChild(docLink);\n",
              "      }\n",
              "    </script>\n",
              "  </div>\n",
              "\n",
              "\n",
              "<div id=\"df-6d438474-2f04-4b13-ad18-dcf7fa94d365\">\n",
              "  <button class=\"colab-df-quickchart\" onclick=\"quickchart('df-6d438474-2f04-4b13-ad18-dcf7fa94d365')\"\n",
              "            title=\"Suggest charts\"\n",
              "            style=\"display:none;\">\n",
              "\n",
              "<svg xmlns=\"http://www.w3.org/2000/svg\" height=\"24px\"viewBox=\"0 0 24 24\"\n",
              "     width=\"24px\">\n",
              "    <g>\n",
              "        <path d=\"M19 3H5c-1.1 0-2 .9-2 2v14c0 1.1.9 2 2 2h14c1.1 0 2-.9 2-2V5c0-1.1-.9-2-2-2zM9 17H7v-7h2v7zm4 0h-2V7h2v10zm4 0h-2v-4h2v4z\"/>\n",
              "    </g>\n",
              "</svg>\n",
              "  </button>\n",
              "\n",
              "<style>\n",
              "  .colab-df-quickchart {\n",
              "      --bg-color: #E8F0FE;\n",
              "      --fill-color: #1967D2;\n",
              "      --hover-bg-color: #E2EBFA;\n",
              "      --hover-fill-color: #174EA6;\n",
              "      --disabled-fill-color: #AAA;\n",
              "      --disabled-bg-color: #DDD;\n",
              "  }\n",
              "\n",
              "  [theme=dark] .colab-df-quickchart {\n",
              "      --bg-color: #3B4455;\n",
              "      --fill-color: #D2E3FC;\n",
              "      --hover-bg-color: #434B5C;\n",
              "      --hover-fill-color: #FFFFFF;\n",
              "      --disabled-bg-color: #3B4455;\n",
              "      --disabled-fill-color: #666;\n",
              "  }\n",
              "\n",
              "  .colab-df-quickchart {\n",
              "    background-color: var(--bg-color);\n",
              "    border: none;\n",
              "    border-radius: 50%;\n",
              "    cursor: pointer;\n",
              "    display: none;\n",
              "    fill: var(--fill-color);\n",
              "    height: 32px;\n",
              "    padding: 0;\n",
              "    width: 32px;\n",
              "  }\n",
              "\n",
              "  .colab-df-quickchart:hover {\n",
              "    background-color: var(--hover-bg-color);\n",
              "    box-shadow: 0 1px 2px rgba(60, 64, 67, 0.3), 0 1px 3px 1px rgba(60, 64, 67, 0.15);\n",
              "    fill: var(--button-hover-fill-color);\n",
              "  }\n",
              "\n",
              "  .colab-df-quickchart-complete:disabled,\n",
              "  .colab-df-quickchart-complete:disabled:hover {\n",
              "    background-color: var(--disabled-bg-color);\n",
              "    fill: var(--disabled-fill-color);\n",
              "    box-shadow: none;\n",
              "  }\n",
              "\n",
              "  .colab-df-spinner {\n",
              "    border: 2px solid var(--fill-color);\n",
              "    border-color: transparent;\n",
              "    border-bottom-color: var(--fill-color);\n",
              "    animation:\n",
              "      spin 1s steps(1) infinite;\n",
              "  }\n",
              "\n",
              "  @keyframes spin {\n",
              "    0% {\n",
              "      border-color: transparent;\n",
              "      border-bottom-color: var(--fill-color);\n",
              "      border-left-color: var(--fill-color);\n",
              "    }\n",
              "    20% {\n",
              "      border-color: transparent;\n",
              "      border-left-color: var(--fill-color);\n",
              "      border-top-color: var(--fill-color);\n",
              "    }\n",
              "    30% {\n",
              "      border-color: transparent;\n",
              "      border-left-color: var(--fill-color);\n",
              "      border-top-color: var(--fill-color);\n",
              "      border-right-color: var(--fill-color);\n",
              "    }\n",
              "    40% {\n",
              "      border-color: transparent;\n",
              "      border-right-color: var(--fill-color);\n",
              "      border-top-color: var(--fill-color);\n",
              "    }\n",
              "    60% {\n",
              "      border-color: transparent;\n",
              "      border-right-color: var(--fill-color);\n",
              "    }\n",
              "    80% {\n",
              "      border-color: transparent;\n",
              "      border-right-color: var(--fill-color);\n",
              "      border-bottom-color: var(--fill-color);\n",
              "    }\n",
              "    90% {\n",
              "      border-color: transparent;\n",
              "      border-bottom-color: var(--fill-color);\n",
              "    }\n",
              "  }\n",
              "</style>\n",
              "\n",
              "  <script>\n",
              "    async function quickchart(key) {\n",
              "      const quickchartButtonEl =\n",
              "        document.querySelector('#' + key + ' button');\n",
              "      quickchartButtonEl.disabled = true;  // To prevent multiple clicks.\n",
              "      quickchartButtonEl.classList.add('colab-df-spinner');\n",
              "      try {\n",
              "        const charts = await google.colab.kernel.invokeFunction(\n",
              "            'suggestCharts', [key], {});\n",
              "      } catch (error) {\n",
              "        console.error('Error during call to suggestCharts:', error);\n",
              "      }\n",
              "      quickchartButtonEl.classList.remove('colab-df-spinner');\n",
              "      quickchartButtonEl.classList.add('colab-df-quickchart-complete');\n",
              "    }\n",
              "    (() => {\n",
              "      let quickchartButtonEl =\n",
              "        document.querySelector('#df-6d438474-2f04-4b13-ad18-dcf7fa94d365 button');\n",
              "      quickchartButtonEl.style.display =\n",
              "        google.colab.kernel.accessAllowed ? 'block' : 'none';\n",
              "    })();\n",
              "  </script>\n",
              "</div>\n",
              "\n",
              "    </div>\n",
              "  </div>\n"
            ],
            "text/plain": [
              "      RACE_Asian  RACE_Black  RACE_Hispanic/Latino  RACE_Other  RACE_White  \\\n",
              "2256         0.0         0.0                   0.0         0.0         1.0   \n",
              "1416         0.0         0.0                   0.0         0.0         1.0   \n",
              "1363         0.0         0.0                   0.0         0.0         1.0   \n",
              "\n",
              "      AGE   EDUC12R  \n",
              "2256  1.0  0.333333  \n",
              "1416  1.0  0.333333  \n",
              "1363  1.0  0.000000  "
            ]
          },
          "execution_count": 63,
          "metadata": {},
          "output_type": "execute_result"
        }
      ],
      "source": [
        "X.iloc[nn_lists_idx[0]]"
      ]
    },
    {
      "cell_type": "markdown",
      "metadata": {
        "id": "QgQJQTs6jA5a"
      },
      "source": [
        "and their corresponding values in `y` are:"
      ]
    },
    {
      "cell_type": "code",
      "execution_count": 64,
      "metadata": {
        "colab": {
          "base_uri": "https://localhost:8080/"
        },
        "id": "rXQAq33rjA5a",
        "outputId": "b249509d-0a8e-48d2-9cea-5296ad2b9baf"
      },
      "outputs": [
        {
          "data": {
            "text/plain": [
              "2256    1\n",
              "1416    0\n",
              "1363    0\n",
              "Name: PRES, dtype: int64"
            ]
          },
          "execution_count": 64,
          "metadata": {},
          "output_type": "execute_result"
        }
      ],
      "source": [
        "y.iloc[nn_lists_idx[0]]"
      ]
    },
    {
      "cell_type": "markdown",
      "metadata": {
        "id": "ak30mEKmjA5a"
      },
      "source": [
        "and so the predicted label for the first test sample would be:"
      ]
    },
    {
      "cell_type": "code",
      "execution_count": 65,
      "metadata": {
        "colab": {
          "base_uri": "https://localhost:8080/"
        },
        "id": "_2JZIwaTjA5b",
        "outputId": "efac9aba-e564-4e25-a0ca-587f7f0516e5"
      },
      "outputs": [
        {
          "data": {
            "text/plain": [
              "array([0])"
            ]
          },
          "execution_count": 65,
          "metadata": {},
          "output_type": "execute_result"
        }
      ],
      "source": [
        "y.iloc[nn_lists_idx[0]].mode().values"
      ]
    },
    {
      "cell_type": "markdown",
      "metadata": {
        "id": "1AF75MnjjA5b"
      },
      "source": [
        "### Example: entire test set"
      ]
    },
    {
      "cell_type": "markdown",
      "metadata": {
        "id": "prZ6SptjjA5c"
      },
      "source": [
        "Now that we understand how our custom distance function works, let’s compute the distance between every *test* sample and every *training* sample.\n",
        "\n",
        "We’ll store the results in `distances_custom`."
      ]
    },
    {
      "cell_type": "code",
      "execution_count": 66,
      "metadata": {
        "colab": {
          "base_uri": "https://localhost:8080/"
        },
        "id": "1u34SGdWjA5c",
        "outputId": "780eb41a-81f5-49e6-f9c3-28f46e14f506"
      },
      "outputs": [
        {
          "data": {
            "text/plain": [
              "(849, 1980)"
            ]
          },
          "execution_count": 66,
          "metadata": {},
          "output_type": "execute_result"
        }
      ],
      "source": [
        "distances_custom = np.zeros(shape=(len(idx_ts), len(idx_tr)))\n",
        "distances_custom.shape"
      ]
    },
    {
      "cell_type": "markdown",
      "metadata": {
        "id": "w18J98TjjA5c"
      },
      "source": [
        "To compute the distance vector for each test sample, loop over the indices in the *test* set:"
      ]
    },
    {
      "cell_type": "code",
      "execution_count": 67,
      "metadata": {
        "colab": {
          "base_uri": "https://localhost:8080/"
        },
        "id": "yiFDJn-EjA5d",
        "outputId": "5049d180-4eb2-4666-aad5-840ccff81815"
      },
      "outputs": [
        {
          "name": "stderr",
          "output_type": "stream",
          "text": [
            "Distance matrix: 100%|██████████| 849/849 [00:00<00:00, 1742.81it/s]\n"
          ]
        }
      ],
      "source": [
        "for idx in tqdm(range(len(idx_ts)),  total=len(idx_ts), desc=\"Distance matrix\"):\n",
        "  distances_custom[idx] = custom_distance(X.iloc[idx_ts[idx]].values, X.iloc[idx_tr].values)"
      ]
    },
    {
      "cell_type": "markdown",
      "metadata": {
        "id": "c6hgcs09jA5d"
      },
      "source": [
        "Then, we can compute the K nearest neighbors using those distances:"
      ]
    },
    {
      "cell_type": "code",
      "execution_count": 68,
      "metadata": {
        "id": "W7GvD1NKjA5d"
      },
      "outputs": [],
      "source": [
        "k = 3\n",
        "\n",
        "# get nn indices in distance matrix\n",
        "distances_sorted = np.array([np.argsort(row) for row in distances_custom])\n",
        "nn_lists = distances_sorted[:, :k]\n",
        "\n",
        "# get nn indices in training data matrix\n",
        "nn_lists_idx = idx_tr[nn_lists]\n",
        "\n",
        "# predict using mode of nns\n",
        "y_pred =  [y.iloc[nn].mode()[0] for nn in nn_lists_idx]"
      ]
    },
    {
      "cell_type": "code",
      "execution_count": 69,
      "metadata": {
        "colab": {
          "base_uri": "https://localhost:8080/"
        },
        "id": "a2ahta5ajA5d",
        "outputId": "794c853d-a916-4691-8951-ffac7cfb0e25"
      },
      "outputs": [
        {
          "data": {
            "text/plain": [
              "0.6336866902237926"
            ]
          },
          "execution_count": 69,
          "metadata": {},
          "output_type": "execute_result"
        }
      ],
      "source": [
        "accuracy_score(y.iloc[idx_ts], y_pred)"
      ]
    },
    {
      "cell_type": "markdown",
      "metadata": {
        "id": "R0oZmcuCjA5d"
      },
      "source": [
        "That is… not great."
      ]
    },
    {
      "cell_type": "markdown",
      "metadata": {
        "id": "nU-TwUPwjA5e"
      },
      "source": [
        "### Problems with our simple classifier"
      ]
    },
    {
      "cell_type": "markdown",
      "metadata": {
        "id": "yf04oSHwjA5e"
      },
      "source": [
        "The one-sample example we saw above is enough to illustrate some basic problems with our classifier, and to explain some of the reasons for its poor performance:\n",
        "\n",
        "-   the distance metric does not really tell us how *similar* two samples are, when there are samples with missing values,\n",
        "-   and the way that ties are handled - when there are multiple samples in the training set with the same distance - is not ideal.\n",
        "\n",
        "We’ll discuss both of these, but we’ll only fix the second one in this section. Part of *your* assignment will be to address the issue with the custom distance metric in your solution."
      ]
    },
    {
      "cell_type": "markdown",
      "metadata": {
        "id": "E_W836dMjA5e"
      },
      "source": [
        "In the example with the “mini” training and test sets, you may have noticed a problem: training sample 10379, which has all NaN values, has zero distance to *every* test sample according to our distance function. (Note that the first column in the distance matrix, corresponding to the first training sample, is all zeros.)\n",
        "\n",
        "This means that this sample will be a “nearest neighbor” of *every* test sample! But, it’s not necessarily *really* similar to those other test samples. We just *don’t have any information* by which to judge how similar it is to other samples. These values are *unknown*, not *similar*.\n",
        "\n",
        "The case with an all-NaN training sample is a bit extreme, but it illustrates how our simple distance metric is problematic in other situations as well. In general, when there are no missing values, for a pair of samples each feature is either *similar* or *different*. Thus a metric like L1 distance, which explicitly measures the extent to which features are *different*, also implicitly captures the extent to which features are *similar*. When samples can have missing values, though, for a pair of samples each feature is either *similar*, *different*, or *unknown* (one or both samples is missing that value). In this case, a distance metric that only measures the extent of *difference* (like L1 or L2 distance) does not capture whether the features that are not different are *similar* or *unknown*. (Our custom distance metric, which is an L1 distance, treats values that are *unknown* as if they are *similar* - neither one increases the distance.) Similarly, a distance metric that only measures the extent of *similarity* would not capture whether the features that are not similar are *different* or *unknown*.\n",
        "\n",
        "So when there are NaNs, our custom distance metric does not quite behave the way we want - we want distance between two samples to decrease with more similarity, and to increase with more differences. Our distance metric only considers difference, not similarity.\n",
        "\n",
        "For example, consider these two samples from the original data:"
      ]
    },
    {
      "cell_type": "code",
      "execution_count": 70,
      "metadata": {
        "colab": {
          "base_uri": "https://localhost:8080/",
          "height": 112
        },
        "id": "YoMzn9NTjA5f",
        "outputId": "08210352-84a6-444b-8fb9-2c55e703f453"
      },
      "outputs": [
        {
          "data": {
            "application/vnd.google.colaboratory.intrinsic+json": {
              "summary": "{\n  \"name\": \"df\",\n  \"rows\": 2,\n  \"fields\": [\n    {\n      \"column\": \"AGE8\",\n      \"properties\": {\n        \"dtype\": \"string\",\n        \"num_unique_values\": 1,\n        \"samples\": [\n          \"18-24\"\n        ],\n        \"semantic_type\": \"\",\n        \"description\": \"\"\n      }\n    },\n    {\n      \"column\": \"RACE\",\n      \"properties\": {\n        \"dtype\": \"string\",\n        \"num_unique_values\": 1,\n        \"samples\": [\n          \"Hispanic/Latino\"\n        ],\n        \"semantic_type\": \"\",\n        \"description\": \"\"\n      }\n    },\n    {\n      \"column\": \"REGION\",\n      \"properties\": {\n        \"dtype\": \"string\",\n        \"num_unique_values\": 1,\n        \"samples\": [\n          \"West\"\n        ],\n        \"semantic_type\": \"\",\n        \"description\": \"\"\n      }\n    },\n    {\n      \"column\": \"SEX\",\n      \"properties\": {\n        \"dtype\": \"string\",\n        \"num_unique_values\": 1,\n        \"samples\": [\n          \"Female\"\n        ],\n        \"semantic_type\": \"\",\n        \"description\": \"\"\n      }\n    },\n    {\n      \"column\": \"SIZEPLAC\",\n      \"properties\": {\n        \"dtype\": \"string\",\n        \"num_unique_values\": 1,\n        \"samples\": [\n          \"Suburbs\"\n        ],\n        \"semantic_type\": \"\",\n        \"description\": \"\"\n      }\n    },\n    {\n      \"column\": \"STANUM\",\n      \"properties\": {\n        \"dtype\": \"string\",\n        \"num_unique_values\": 1,\n        \"samples\": [\n          \"California\"\n        ],\n        \"semantic_type\": \"\",\n        \"description\": \"\"\n      }\n    },\n    {\n      \"column\": \"EDUC12R\",\n      \"properties\": {\n        \"dtype\": \"string\",\n        \"num_unique_values\": 1,\n        \"samples\": [\n          \"Some college/assoc. degree\"\n        ],\n        \"semantic_type\": \"\",\n        \"description\": \"\"\n      }\n    },\n    {\n      \"column\": \"EDUCCOLL\",\n      \"properties\": {\n        \"dtype\": \"string\",\n        \"num_unique_values\": 1,\n        \"samples\": [\n          \"No college degree\"\n        ],\n        \"semantic_type\": \"\",\n        \"description\": \"\"\n      }\n    },\n    {\n      \"column\": \"INCOME16GEN\",\n      \"properties\": {\n        \"dtype\": \"string\",\n        \"num_unique_values\": 1,\n        \"samples\": [\n          \"Under $30,000\"\n        ],\n        \"semantic_type\": \"\",\n        \"description\": \"\"\n      }\n    },\n    {\n      \"column\": \"ISSUE16\",\n      \"properties\": {\n        \"dtype\": \"string\",\n        \"num_unique_values\": 1,\n        \"samples\": [\n          \"Foreign policy\"\n        ],\n        \"semantic_type\": \"\",\n        \"description\": \"\"\n      }\n    },\n    {\n      \"column\": \"QLT16\",\n      \"properties\": {\n        \"dtype\": \"string\",\n        \"num_unique_values\": 1,\n        \"samples\": [\n          \"Has good judgment\"\n        ],\n        \"semantic_type\": \"\",\n        \"description\": \"\"\n      }\n    },\n    {\n      \"column\": \"VERSION\",\n      \"properties\": {\n        \"dtype\": \"string\",\n        \"num_unique_values\": 2,\n        \"samples\": [\n          \"Version 3\"\n        ],\n        \"semantic_type\": \"\",\n        \"description\": \"\"\n      }\n    }\n  ]\n}",
              "type": "dataframe"
            },
            "text/html": [
              "\n",
              "  <div id=\"df-4429f4ac-bbdc-4ebd-bf6b-48030d7dd669\" class=\"colab-df-container\">\n",
              "    <div>\n",
              "<style scoped>\n",
              "    .dataframe tbody tr th:only-of-type {\n",
              "        vertical-align: middle;\n",
              "    }\n",
              "\n",
              "    .dataframe tbody tr th {\n",
              "        vertical-align: top;\n",
              "    }\n",
              "\n",
              "    .dataframe thead th {\n",
              "        text-align: right;\n",
              "    }\n",
              "</style>\n",
              "<table border=\"1\" class=\"dataframe\">\n",
              "  <thead>\n",
              "    <tr style=\"text-align: right;\">\n",
              "      <th></th>\n",
              "      <th>AGE8</th>\n",
              "      <th>RACE</th>\n",
              "      <th>REGION</th>\n",
              "      <th>SEX</th>\n",
              "      <th>SIZEPLAC</th>\n",
              "      <th>STANUM</th>\n",
              "      <th>EDUC12R</th>\n",
              "      <th>EDUCCOLL</th>\n",
              "      <th>INCOME16GEN</th>\n",
              "      <th>ISSUE16</th>\n",
              "      <th>QLT16</th>\n",
              "      <th>VERSION</th>\n",
              "    </tr>\n",
              "  </thead>\n",
              "  <tbody>\n",
              "    <tr>\n",
              "      <th>0</th>\n",
              "      <td>18-24</td>\n",
              "      <td>Hispanic/Latino</td>\n",
              "      <td>West</td>\n",
              "      <td>Female</td>\n",
              "      <td>Suburbs</td>\n",
              "      <td>California</td>\n",
              "      <td>Some college/assoc. degree</td>\n",
              "      <td>No college degree</td>\n",
              "      <td>Under $30,000</td>\n",
              "      <td>Foreign policy</td>\n",
              "      <td>Has good judgment</td>\n",
              "      <td>Version 1</td>\n",
              "    </tr>\n",
              "    <tr>\n",
              "      <th>1889</th>\n",
              "      <td>NaN</td>\n",
              "      <td>NaN</td>\n",
              "      <td>West</td>\n",
              "      <td>Female</td>\n",
              "      <td>Suburbs</td>\n",
              "      <td>California</td>\n",
              "      <td>NaN</td>\n",
              "      <td>NaN</td>\n",
              "      <td>NaN</td>\n",
              "      <td>NaN</td>\n",
              "      <td>NaN</td>\n",
              "      <td>Version 3</td>\n",
              "    </tr>\n",
              "  </tbody>\n",
              "</table>\n",
              "</div>\n",
              "    <div class=\"colab-df-buttons\">\n",
              "\n",
              "  <div class=\"colab-df-container\">\n",
              "    <button class=\"colab-df-convert\" onclick=\"convertToInteractive('df-4429f4ac-bbdc-4ebd-bf6b-48030d7dd669')\"\n",
              "            title=\"Convert this dataframe to an interactive table.\"\n",
              "            style=\"display:none;\">\n",
              "\n",
              "  <svg xmlns=\"http://www.w3.org/2000/svg\" height=\"24px\" viewBox=\"0 -960 960 960\">\n",
              "    <path d=\"M120-120v-720h720v720H120Zm60-500h600v-160H180v160Zm220 220h160v-160H400v160Zm0 220h160v-160H400v160ZM180-400h160v-160H180v160Zm440 0h160v-160H620v160ZM180-180h160v-160H180v160Zm440 0h160v-160H620v160Z\"/>\n",
              "  </svg>\n",
              "    </button>\n",
              "\n",
              "  <style>\n",
              "    .colab-df-container {\n",
              "      display:flex;\n",
              "      gap: 12px;\n",
              "    }\n",
              "\n",
              "    .colab-df-convert {\n",
              "      background-color: #E8F0FE;\n",
              "      border: none;\n",
              "      border-radius: 50%;\n",
              "      cursor: pointer;\n",
              "      display: none;\n",
              "      fill: #1967D2;\n",
              "      height: 32px;\n",
              "      padding: 0 0 0 0;\n",
              "      width: 32px;\n",
              "    }\n",
              "\n",
              "    .colab-df-convert:hover {\n",
              "      background-color: #E2EBFA;\n",
              "      box-shadow: 0px 1px 2px rgba(60, 64, 67, 0.3), 0px 1px 3px 1px rgba(60, 64, 67, 0.15);\n",
              "      fill: #174EA6;\n",
              "    }\n",
              "\n",
              "    .colab-df-buttons div {\n",
              "      margin-bottom: 4px;\n",
              "    }\n",
              "\n",
              "    [theme=dark] .colab-df-convert {\n",
              "      background-color: #3B4455;\n",
              "      fill: #D2E3FC;\n",
              "    }\n",
              "\n",
              "    [theme=dark] .colab-df-convert:hover {\n",
              "      background-color: #434B5C;\n",
              "      box-shadow: 0px 1px 3px 1px rgba(0, 0, 0, 0.15);\n",
              "      filter: drop-shadow(0px 1px 2px rgba(0, 0, 0, 0.3));\n",
              "      fill: #FFFFFF;\n",
              "    }\n",
              "  </style>\n",
              "\n",
              "    <script>\n",
              "      const buttonEl =\n",
              "        document.querySelector('#df-4429f4ac-bbdc-4ebd-bf6b-48030d7dd669 button.colab-df-convert');\n",
              "      buttonEl.style.display =\n",
              "        google.colab.kernel.accessAllowed ? 'block' : 'none';\n",
              "\n",
              "      async function convertToInteractive(key) {\n",
              "        const element = document.querySelector('#df-4429f4ac-bbdc-4ebd-bf6b-48030d7dd669');\n",
              "        const dataTable =\n",
              "          await google.colab.kernel.invokeFunction('convertToInteractive',\n",
              "                                                    [key], {});\n",
              "        if (!dataTable) return;\n",
              "\n",
              "        const docLinkHtml = 'Like what you see? Visit the ' +\n",
              "          '<a target=\"_blank\" href=https://colab.research.google.com/notebooks/data_table.ipynb>data table notebook</a>'\n",
              "          + ' to learn more about interactive tables.';\n",
              "        element.innerHTML = '';\n",
              "        dataTable['output_type'] = 'display_data';\n",
              "        await google.colab.output.renderOutput(dataTable, element);\n",
              "        const docLink = document.createElement('div');\n",
              "        docLink.innerHTML = docLinkHtml;\n",
              "        element.appendChild(docLink);\n",
              "      }\n",
              "    </script>\n",
              "  </div>\n",
              "\n",
              "\n",
              "<div id=\"df-9445d386-a7e5-42c6-a651-63352c782c0f\">\n",
              "  <button class=\"colab-df-quickchart\" onclick=\"quickchart('df-9445d386-a7e5-42c6-a651-63352c782c0f')\"\n",
              "            title=\"Suggest charts\"\n",
              "            style=\"display:none;\">\n",
              "\n",
              "<svg xmlns=\"http://www.w3.org/2000/svg\" height=\"24px\"viewBox=\"0 0 24 24\"\n",
              "     width=\"24px\">\n",
              "    <g>\n",
              "        <path d=\"M19 3H5c-1.1 0-2 .9-2 2v14c0 1.1.9 2 2 2h14c1.1 0 2-.9 2-2V5c0-1.1-.9-2-2-2zM9 17H7v-7h2v7zm4 0h-2V7h2v10zm4 0h-2v-4h2v4z\"/>\n",
              "    </g>\n",
              "</svg>\n",
              "  </button>\n",
              "\n",
              "<style>\n",
              "  .colab-df-quickchart {\n",
              "      --bg-color: #E8F0FE;\n",
              "      --fill-color: #1967D2;\n",
              "      --hover-bg-color: #E2EBFA;\n",
              "      --hover-fill-color: #174EA6;\n",
              "      --disabled-fill-color: #AAA;\n",
              "      --disabled-bg-color: #DDD;\n",
              "  }\n",
              "\n",
              "  [theme=dark] .colab-df-quickchart {\n",
              "      --bg-color: #3B4455;\n",
              "      --fill-color: #D2E3FC;\n",
              "      --hover-bg-color: #434B5C;\n",
              "      --hover-fill-color: #FFFFFF;\n",
              "      --disabled-bg-color: #3B4455;\n",
              "      --disabled-fill-color: #666;\n",
              "  }\n",
              "\n",
              "  .colab-df-quickchart {\n",
              "    background-color: var(--bg-color);\n",
              "    border: none;\n",
              "    border-radius: 50%;\n",
              "    cursor: pointer;\n",
              "    display: none;\n",
              "    fill: var(--fill-color);\n",
              "    height: 32px;\n",
              "    padding: 0;\n",
              "    width: 32px;\n",
              "  }\n",
              "\n",
              "  .colab-df-quickchart:hover {\n",
              "    background-color: var(--hover-bg-color);\n",
              "    box-shadow: 0 1px 2px rgba(60, 64, 67, 0.3), 0 1px 3px 1px rgba(60, 64, 67, 0.15);\n",
              "    fill: var(--button-hover-fill-color);\n",
              "  }\n",
              "\n",
              "  .colab-df-quickchart-complete:disabled,\n",
              "  .colab-df-quickchart-complete:disabled:hover {\n",
              "    background-color: var(--disabled-bg-color);\n",
              "    fill: var(--disabled-fill-color);\n",
              "    box-shadow: none;\n",
              "  }\n",
              "\n",
              "  .colab-df-spinner {\n",
              "    border: 2px solid var(--fill-color);\n",
              "    border-color: transparent;\n",
              "    border-bottom-color: var(--fill-color);\n",
              "    animation:\n",
              "      spin 1s steps(1) infinite;\n",
              "  }\n",
              "\n",
              "  @keyframes spin {\n",
              "    0% {\n",
              "      border-color: transparent;\n",
              "      border-bottom-color: var(--fill-color);\n",
              "      border-left-color: var(--fill-color);\n",
              "    }\n",
              "    20% {\n",
              "      border-color: transparent;\n",
              "      border-left-color: var(--fill-color);\n",
              "      border-top-color: var(--fill-color);\n",
              "    }\n",
              "    30% {\n",
              "      border-color: transparent;\n",
              "      border-left-color: var(--fill-color);\n",
              "      border-top-color: var(--fill-color);\n",
              "      border-right-color: var(--fill-color);\n",
              "    }\n",
              "    40% {\n",
              "      border-color: transparent;\n",
              "      border-right-color: var(--fill-color);\n",
              "      border-top-color: var(--fill-color);\n",
              "    }\n",
              "    60% {\n",
              "      border-color: transparent;\n",
              "      border-right-color: var(--fill-color);\n",
              "    }\n",
              "    80% {\n",
              "      border-color: transparent;\n",
              "      border-right-color: var(--fill-color);\n",
              "      border-bottom-color: var(--fill-color);\n",
              "    }\n",
              "    90% {\n",
              "      border-color: transparent;\n",
              "      border-bottom-color: var(--fill-color);\n",
              "    }\n",
              "  }\n",
              "</style>\n",
              "\n",
              "  <script>\n",
              "    async function quickchart(key) {\n",
              "      const quickchartButtonEl =\n",
              "        document.querySelector('#' + key + ' button');\n",
              "      quickchartButtonEl.disabled = true;  // To prevent multiple clicks.\n",
              "      quickchartButtonEl.classList.add('colab-df-spinner');\n",
              "      try {\n",
              "        const charts = await google.colab.kernel.invokeFunction(\n",
              "            'suggestCharts', [key], {});\n",
              "      } catch (error) {\n",
              "        console.error('Error during call to suggestCharts:', error);\n",
              "      }\n",
              "      quickchartButtonEl.classList.remove('colab-df-spinner');\n",
              "      quickchartButtonEl.classList.add('colab-df-quickchart-complete');\n",
              "    }\n",
              "    (() => {\n",
              "      let quickchartButtonEl =\n",
              "        document.querySelector('#df-9445d386-a7e5-42c6-a651-63352c782c0f button');\n",
              "      quickchartButtonEl.style.display =\n",
              "        google.colab.kernel.accessAllowed ? 'block' : 'none';\n",
              "    })();\n",
              "  </script>\n",
              "</div>\n",
              "\n",
              "    </div>\n",
              "  </div>\n"
            ],
            "text/plain": [
              "       AGE8             RACE REGION     SEX SIZEPLAC      STANUM  \\\n",
              "0     18-24  Hispanic/Latino   West  Female  Suburbs  California   \n",
              "1889    NaN              NaN   West  Female  Suburbs  California   \n",
              "\n",
              "                         EDUC12R           EDUCCOLL    INCOME16GEN  \\\n",
              "0     Some college/assoc. degree  No college degree  Under $30,000   \n",
              "1889                         NaN                NaN            NaN   \n",
              "\n",
              "             ISSUE16              QLT16    VERSION  \n",
              "0     Foreign policy  Has good judgment  Version 1  \n",
              "1889             NaN                NaN  Version 3  "
            ]
          },
          "execution_count": 70,
          "metadata": {},
          "output_type": "execute_result"
        }
      ],
      "source": [
        "pd.set_option('display.max_columns', 150)\n",
        "disp_features = ['AGE8', 'RACE', 'REGION', 'SEX', 'SIZEPLAC', 'STANUM', 'EDUC12R', 'EDUCCOLL','INCOME16GEN', 'ISSUE16', 'QLT16', 'VERSION']\n",
        "df.iloc[[0,1889]][disp_features]"
      ]
    },
    {
      "cell_type": "markdown",
      "metadata": {
        "id": "2XQvJKjNjA5f"
      },
      "source": [
        "These two samples have some things in common:\n",
        "\n",
        "-   female\n",
        "-   from suburban California\n",
        "\n",
        "but we don’t know much else about what they have in common or what they disagree on.\n",
        "\n",
        "Our distance metric will consider them very similar, because they are identical with respect to every feature that is available in both samples."
      ]
    },
    {
      "cell_type": "code",
      "execution_count": 71,
      "metadata": {
        "colab": {
          "base_uri": "https://localhost:8080/"
        },
        "id": "H5GTRPWMjA5g",
        "outputId": "45ca1103-9b48-4316-b18e-1630395ee7ef"
      },
      "outputs": [
        {
          "data": {
            "text/plain": [
              "array([0.])"
            ]
          },
          "execution_count": 71,
          "metadata": {},
          "output_type": "execute_result"
        }
      ],
      "source": [
        "custom_distance(X.iloc[[0]].values, X.iloc[[1889]].values)"
      ]
    },
    {
      "cell_type": "markdown",
      "metadata": {
        "id": "BvHaR5ikjA5g"
      },
      "source": [
        "On the other hand, consider these two samples:"
      ]
    },
    {
      "cell_type": "code",
      "execution_count": 73,
      "metadata": {
        "colab": {
          "base_uri": "https://localhost:8080/",
          "height": 112
        },
        "id": "WO-HwrcCjA5g",
        "outputId": "5e31197b-fb85-48a9-cf12-bea00cc78043"
      },
      "outputs": [
        {
          "data": {
            "application/vnd.google.colaboratory.intrinsic+json": {
              "summary": "{\n  \"name\": \"df\",\n  \"rows\": 2,\n  \"fields\": [\n    {\n      \"column\": \"AGE8\",\n      \"properties\": {\n        \"dtype\": \"string\",\n        \"num_unique_values\": 2,\n        \"samples\": [\n          \"65 or over\",\n          \"18-24\"\n        ],\n        \"semantic_type\": \"\",\n        \"description\": \"\"\n      }\n    },\n    {\n      \"column\": \"RACE\",\n      \"properties\": {\n        \"dtype\": \"string\",\n        \"num_unique_values\": 2,\n        \"samples\": [\n          \"Other\",\n          \"Hispanic/Latino\"\n        ],\n        \"semantic_type\": \"\",\n        \"description\": \"\"\n      }\n    },\n    {\n      \"column\": \"REGION\",\n      \"properties\": {\n        \"dtype\": \"string\",\n        \"num_unique_values\": 1,\n        \"samples\": [\n          \"West\"\n        ],\n        \"semantic_type\": \"\",\n        \"description\": \"\"\n      }\n    },\n    {\n      \"column\": \"SEX\",\n      \"properties\": {\n        \"dtype\": \"string\",\n        \"num_unique_values\": 2,\n        \"samples\": [\n          \"Male\"\n        ],\n        \"semantic_type\": \"\",\n        \"description\": \"\"\n      }\n    },\n    {\n      \"column\": \"SIZEPLAC\",\n      \"properties\": {\n        \"dtype\": \"string\",\n        \"num_unique_values\": 2,\n        \"samples\": [\n          \"Cities 50,000-500,000\"\n        ],\n        \"semantic_type\": \"\",\n        \"description\": \"\"\n      }\n    },\n    {\n      \"column\": \"STANUM\",\n      \"properties\": {\n        \"dtype\": \"string\",\n        \"num_unique_values\": 2,\n        \"samples\": [\n          \"Washington\"\n        ],\n        \"semantic_type\": \"\",\n        \"description\": \"\"\n      }\n    },\n    {\n      \"column\": \"EDUC12R\",\n      \"properties\": {\n        \"dtype\": \"string\",\n        \"num_unique_values\": 2,\n        \"samples\": [\n          \"College graduate\"\n        ],\n        \"semantic_type\": \"\",\n        \"description\": \"\"\n      }\n    },\n    {\n      \"column\": \"EDUCCOLL\",\n      \"properties\": {\n        \"dtype\": \"string\",\n        \"num_unique_values\": 2,\n        \"samples\": [\n          \"College graduate\"\n        ],\n        \"semantic_type\": \"\",\n        \"description\": \"\"\n      }\n    },\n    {\n      \"column\": \"INCOME16GEN\",\n      \"properties\": {\n        \"dtype\": \"string\",\n        \"num_unique_values\": 1,\n        \"samples\": [\n          \"Under $30,000\"\n        ],\n        \"semantic_type\": \"\",\n        \"description\": \"\"\n      }\n    },\n    {\n      \"column\": \"ISSUE16\",\n      \"properties\": {\n        \"dtype\": \"string\",\n        \"num_unique_values\": 1,\n        \"samples\": [\n          \"Foreign policy\"\n        ],\n        \"semantic_type\": \"\",\n        \"description\": \"\"\n      }\n    },\n    {\n      \"column\": \"QLT16\",\n      \"properties\": {\n        \"dtype\": \"string\",\n        \"num_unique_values\": 1,\n        \"samples\": [\n          \"Has good judgment\"\n        ],\n        \"semantic_type\": \"\",\n        \"description\": \"\"\n      }\n    },\n    {\n      \"column\": \"VERSION\",\n      \"properties\": {\n        \"dtype\": \"string\",\n        \"num_unique_values\": 2,\n        \"samples\": [\n          \"Version 3\"\n        ],\n        \"semantic_type\": \"\",\n        \"description\": \"\"\n      }\n    }\n  ]\n}",
              "type": "dataframe"
            },
            "text/html": [
              "\n",
              "  <div id=\"df-0fe3ab6e-4ff6-45cd-acb2-9bbf6995aeee\" class=\"colab-df-container\">\n",
              "    <div>\n",
              "<style scoped>\n",
              "    .dataframe tbody tr th:only-of-type {\n",
              "        vertical-align: middle;\n",
              "    }\n",
              "\n",
              "    .dataframe tbody tr th {\n",
              "        vertical-align: top;\n",
              "    }\n",
              "\n",
              "    .dataframe thead th {\n",
              "        text-align: right;\n",
              "    }\n",
              "</style>\n",
              "<table border=\"1\" class=\"dataframe\">\n",
              "  <thead>\n",
              "    <tr style=\"text-align: right;\">\n",
              "      <th></th>\n",
              "      <th>AGE8</th>\n",
              "      <th>RACE</th>\n",
              "      <th>REGION</th>\n",
              "      <th>SEX</th>\n",
              "      <th>SIZEPLAC</th>\n",
              "      <th>STANUM</th>\n",
              "      <th>EDUC12R</th>\n",
              "      <th>EDUCCOLL</th>\n",
              "      <th>INCOME16GEN</th>\n",
              "      <th>ISSUE16</th>\n",
              "      <th>QLT16</th>\n",
              "      <th>VERSION</th>\n",
              "    </tr>\n",
              "  </thead>\n",
              "  <tbody>\n",
              "    <tr>\n",
              "      <th>0</th>\n",
              "      <td>18-24</td>\n",
              "      <td>Hispanic/Latino</td>\n",
              "      <td>West</td>\n",
              "      <td>Female</td>\n",
              "      <td>Suburbs</td>\n",
              "      <td>California</td>\n",
              "      <td>Some college/assoc. degree</td>\n",
              "      <td>No college degree</td>\n",
              "      <td>Under $30,000</td>\n",
              "      <td>Foreign policy</td>\n",
              "      <td>Has good judgment</td>\n",
              "      <td>Version 1</td>\n",
              "    </tr>\n",
              "    <tr>\n",
              "      <th>1826</th>\n",
              "      <td>65 or over</td>\n",
              "      <td>Other</td>\n",
              "      <td>West</td>\n",
              "      <td>Male</td>\n",
              "      <td>Cities 50,000-500,000</td>\n",
              "      <td>Washington</td>\n",
              "      <td>College graduate</td>\n",
              "      <td>College graduate</td>\n",
              "      <td>NaN</td>\n",
              "      <td>NaN</td>\n",
              "      <td>NaN</td>\n",
              "      <td>Version 3</td>\n",
              "    </tr>\n",
              "  </tbody>\n",
              "</table>\n",
              "</div>\n",
              "    <div class=\"colab-df-buttons\">\n",
              "\n",
              "  <div class=\"colab-df-container\">\n",
              "    <button class=\"colab-df-convert\" onclick=\"convertToInteractive('df-0fe3ab6e-4ff6-45cd-acb2-9bbf6995aeee')\"\n",
              "            title=\"Convert this dataframe to an interactive table.\"\n",
              "            style=\"display:none;\">\n",
              "\n",
              "  <svg xmlns=\"http://www.w3.org/2000/svg\" height=\"24px\" viewBox=\"0 -960 960 960\">\n",
              "    <path d=\"M120-120v-720h720v720H120Zm60-500h600v-160H180v160Zm220 220h160v-160H400v160Zm0 220h160v-160H400v160ZM180-400h160v-160H180v160Zm440 0h160v-160H620v160ZM180-180h160v-160H180v160Zm440 0h160v-160H620v160Z\"/>\n",
              "  </svg>\n",
              "    </button>\n",
              "\n",
              "  <style>\n",
              "    .colab-df-container {\n",
              "      display:flex;\n",
              "      gap: 12px;\n",
              "    }\n",
              "\n",
              "    .colab-df-convert {\n",
              "      background-color: #E8F0FE;\n",
              "      border: none;\n",
              "      border-radius: 50%;\n",
              "      cursor: pointer;\n",
              "      display: none;\n",
              "      fill: #1967D2;\n",
              "      height: 32px;\n",
              "      padding: 0 0 0 0;\n",
              "      width: 32px;\n",
              "    }\n",
              "\n",
              "    .colab-df-convert:hover {\n",
              "      background-color: #E2EBFA;\n",
              "      box-shadow: 0px 1px 2px rgba(60, 64, 67, 0.3), 0px 1px 3px 1px rgba(60, 64, 67, 0.15);\n",
              "      fill: #174EA6;\n",
              "    }\n",
              "\n",
              "    .colab-df-buttons div {\n",
              "      margin-bottom: 4px;\n",
              "    }\n",
              "\n",
              "    [theme=dark] .colab-df-convert {\n",
              "      background-color: #3B4455;\n",
              "      fill: #D2E3FC;\n",
              "    }\n",
              "\n",
              "    [theme=dark] .colab-df-convert:hover {\n",
              "      background-color: #434B5C;\n",
              "      box-shadow: 0px 1px 3px 1px rgba(0, 0, 0, 0.15);\n",
              "      filter: drop-shadow(0px 1px 2px rgba(0, 0, 0, 0.3));\n",
              "      fill: #FFFFFF;\n",
              "    }\n",
              "  </style>\n",
              "\n",
              "    <script>\n",
              "      const buttonEl =\n",
              "        document.querySelector('#df-0fe3ab6e-4ff6-45cd-acb2-9bbf6995aeee button.colab-df-convert');\n",
              "      buttonEl.style.display =\n",
              "        google.colab.kernel.accessAllowed ? 'block' : 'none';\n",
              "\n",
              "      async function convertToInteractive(key) {\n",
              "        const element = document.querySelector('#df-0fe3ab6e-4ff6-45cd-acb2-9bbf6995aeee');\n",
              "        const dataTable =\n",
              "          await google.colab.kernel.invokeFunction('convertToInteractive',\n",
              "                                                    [key], {});\n",
              "        if (!dataTable) return;\n",
              "\n",
              "        const docLinkHtml = 'Like what you see? Visit the ' +\n",
              "          '<a target=\"_blank\" href=https://colab.research.google.com/notebooks/data_table.ipynb>data table notebook</a>'\n",
              "          + ' to learn more about interactive tables.';\n",
              "        element.innerHTML = '';\n",
              "        dataTable['output_type'] = 'display_data';\n",
              "        await google.colab.output.renderOutput(dataTable, element);\n",
              "        const docLink = document.createElement('div');\n",
              "        docLink.innerHTML = docLinkHtml;\n",
              "        element.appendChild(docLink);\n",
              "      }\n",
              "    </script>\n",
              "  </div>\n",
              "\n",
              "\n",
              "<div id=\"df-7a9a9d54-f249-4d0e-8ba7-b02fb8d5b401\">\n",
              "  <button class=\"colab-df-quickchart\" onclick=\"quickchart('df-7a9a9d54-f249-4d0e-8ba7-b02fb8d5b401')\"\n",
              "            title=\"Suggest charts\"\n",
              "            style=\"display:none;\">\n",
              "\n",
              "<svg xmlns=\"http://www.w3.org/2000/svg\" height=\"24px\"viewBox=\"0 0 24 24\"\n",
              "     width=\"24px\">\n",
              "    <g>\n",
              "        <path d=\"M19 3H5c-1.1 0-2 .9-2 2v14c0 1.1.9 2 2 2h14c1.1 0 2-.9 2-2V5c0-1.1-.9-2-2-2zM9 17H7v-7h2v7zm4 0h-2V7h2v10zm4 0h-2v-4h2v4z\"/>\n",
              "    </g>\n",
              "</svg>\n",
              "  </button>\n",
              "\n",
              "<style>\n",
              "  .colab-df-quickchart {\n",
              "      --bg-color: #E8F0FE;\n",
              "      --fill-color: #1967D2;\n",
              "      --hover-bg-color: #E2EBFA;\n",
              "      --hover-fill-color: #174EA6;\n",
              "      --disabled-fill-color: #AAA;\n",
              "      --disabled-bg-color: #DDD;\n",
              "  }\n",
              "\n",
              "  [theme=dark] .colab-df-quickchart {\n",
              "      --bg-color: #3B4455;\n",
              "      --fill-color: #D2E3FC;\n",
              "      --hover-bg-color: #434B5C;\n",
              "      --hover-fill-color: #FFFFFF;\n",
              "      --disabled-bg-color: #3B4455;\n",
              "      --disabled-fill-color: #666;\n",
              "  }\n",
              "\n",
              "  .colab-df-quickchart {\n",
              "    background-color: var(--bg-color);\n",
              "    border: none;\n",
              "    border-radius: 50%;\n",
              "    cursor: pointer;\n",
              "    display: none;\n",
              "    fill: var(--fill-color);\n",
              "    height: 32px;\n",
              "    padding: 0;\n",
              "    width: 32px;\n",
              "  }\n",
              "\n",
              "  .colab-df-quickchart:hover {\n",
              "    background-color: var(--hover-bg-color);\n",
              "    box-shadow: 0 1px 2px rgba(60, 64, 67, 0.3), 0 1px 3px 1px rgba(60, 64, 67, 0.15);\n",
              "    fill: var(--button-hover-fill-color);\n",
              "  }\n",
              "\n",
              "  .colab-df-quickchart-complete:disabled,\n",
              "  .colab-df-quickchart-complete:disabled:hover {\n",
              "    background-color: var(--disabled-bg-color);\n",
              "    fill: var(--disabled-fill-color);\n",
              "    box-shadow: none;\n",
              "  }\n",
              "\n",
              "  .colab-df-spinner {\n",
              "    border: 2px solid var(--fill-color);\n",
              "    border-color: transparent;\n",
              "    border-bottom-color: var(--fill-color);\n",
              "    animation:\n",
              "      spin 1s steps(1) infinite;\n",
              "  }\n",
              "\n",
              "  @keyframes spin {\n",
              "    0% {\n",
              "      border-color: transparent;\n",
              "      border-bottom-color: var(--fill-color);\n",
              "      border-left-color: var(--fill-color);\n",
              "    }\n",
              "    20% {\n",
              "      border-color: transparent;\n",
              "      border-left-color: var(--fill-color);\n",
              "      border-top-color: var(--fill-color);\n",
              "    }\n",
              "    30% {\n",
              "      border-color: transparent;\n",
              "      border-left-color: var(--fill-color);\n",
              "      border-top-color: var(--fill-color);\n",
              "      border-right-color: var(--fill-color);\n",
              "    }\n",
              "    40% {\n",
              "      border-color: transparent;\n",
              "      border-right-color: var(--fill-color);\n",
              "      border-top-color: var(--fill-color);\n",
              "    }\n",
              "    60% {\n",
              "      border-color: transparent;\n",
              "      border-right-color: var(--fill-color);\n",
              "    }\n",
              "    80% {\n",
              "      border-color: transparent;\n",
              "      border-right-color: var(--fill-color);\n",
              "      border-bottom-color: var(--fill-color);\n",
              "    }\n",
              "    90% {\n",
              "      border-color: transparent;\n",
              "      border-bottom-color: var(--fill-color);\n",
              "    }\n",
              "  }\n",
              "</style>\n",
              "\n",
              "  <script>\n",
              "    async function quickchart(key) {\n",
              "      const quickchartButtonEl =\n",
              "        document.querySelector('#' + key + ' button');\n",
              "      quickchartButtonEl.disabled = true;  // To prevent multiple clicks.\n",
              "      quickchartButtonEl.classList.add('colab-df-spinner');\n",
              "      try {\n",
              "        const charts = await google.colab.kernel.invokeFunction(\n",
              "            'suggestCharts', [key], {});\n",
              "      } catch (error) {\n",
              "        console.error('Error during call to suggestCharts:', error);\n",
              "      }\n",
              "      quickchartButtonEl.classList.remove('colab-df-spinner');\n",
              "      quickchartButtonEl.classList.add('colab-df-quickchart-complete');\n",
              "    }\n",
              "    (() => {\n",
              "      let quickchartButtonEl =\n",
              "        document.querySelector('#df-7a9a9d54-f249-4d0e-8ba7-b02fb8d5b401 button');\n",
              "      quickchartButtonEl.style.display =\n",
              "        google.colab.kernel.accessAllowed ? 'block' : 'none';\n",
              "    })();\n",
              "  </script>\n",
              "</div>\n",
              "\n",
              "    </div>\n",
              "  </div>\n"
            ],
            "text/plain": [
              "            AGE8             RACE REGION     SEX               SIZEPLAC  \\\n",
              "0          18-24  Hispanic/Latino   West  Female                Suburbs   \n",
              "1826  65 or over            Other   West    Male  Cities 50,000-500,000   \n",
              "\n",
              "          STANUM                     EDUC12R           EDUCCOLL  \\\n",
              "0     California  Some college/assoc. degree  No college degree   \n",
              "1826  Washington            College graduate   College graduate   \n",
              "\n",
              "        INCOME16GEN         ISSUE16              QLT16    VERSION  \n",
              "0     Under $30,000  Foreign policy  Has good judgment  Version 1  \n",
              "1826            NaN             NaN                NaN  Version 3  "
            ]
          },
          "execution_count": 73,
          "metadata": {},
          "output_type": "execute_result"
        }
      ],
      "source": [
        "df.iloc[[0,1826]][disp_features]"
      ]
    },
    {
      "cell_type": "markdown",
      "metadata": {
        "id": "ppP9rIfNjA5g"
      },
      "source": [
        "These two samples have many more things in common:\n",
        "\n",
        "-   female\n",
        "-   Latino\n",
        "-   age 18-24\n",
        "-   no college degree\n",
        "-   income less then \\$30,000\n",
        "-   consider foreign policy to be the major issue facing the country\n",
        "-   consider “Has good judgment” to be the most important quality in deciding their presidential vote.\n",
        "\n",
        "However, they also have some differences:\n",
        "\n",
        "-   some college/associate degree vs. high school education or less\n",
        "-   suburban California vs. rural Oklahoma\n",
        "\n",
        "so the distance metric will consider them *less* similar than the previous pair, even though they have a lot in common."
      ]
    },
    {
      "cell_type": "code",
      "execution_count": 75,
      "metadata": {
        "colab": {
          "base_uri": "https://localhost:8080/"
        },
        "id": "-24Y-H45jA5h",
        "outputId": "c90ab5a5-3ccd-40f6-8878-51035fd192fa"
      },
      "outputs": [
        {
          "data": {
            "text/plain": [
              "array([3.33])"
            ]
          },
          "execution_count": 75,
          "metadata": {},
          "output_type": "execute_result"
        }
      ],
      "source": [
        "custom_distance(X.iloc[[0]].values, X.iloc[[1826]].values)"
      ]
    },
    {
      "cell_type": "markdown",
      "metadata": {
        "id": "OgRQcGAnjA5h"
      },
      "source": [
        "A better distance metric will consider the level of disagreement between samples *and* the level of agreement. That will be part of your assignment - to write a new `custom_distance`."
      ]
    },
    {
      "cell_type": "markdown",
      "metadata": {
        "id": "7KEGuocOjA5h"
      },
      "source": [
        "Now, let’s consider the second issue - how ties are handled.\n",
        "\n",
        "Notice that in the example with the “mini” training and test sets, for the first test sample, there was one sample with 0 distance and 3 samples with 0.33 distance. The three nearest neighbors are the sample with 0 distance, and the *first 2* of the 3 samples with 0.33 distance.\n",
        "\n",
        "In other words: ties are broken in favor of the samples that happen to have lower indices in the data."
      ]
    },
    {
      "cell_type": "markdown",
      "metadata": {
        "id": "-ljuLWPyjA5h"
      },
      "source": [
        "On a larger scale, that means that some samples will have too much influence - they will appear over and over again as nearest neighbors, just because they are earlier in the data - while some samples will not appear as nearest neighbors at all simply because of this tiebreaker behavior.\n",
        "\n",
        "If a sample is returned as a nearest neighbor very often because it happens to be closer to the test points than other points, that would be OK. But in this case, that’s not what is going on.\n",
        "\n",
        "For example, here are the nearest neighbors for the first 50 samples in the entire test set. Do you see any repetition?"
      ]
    },
    {
      "cell_type": "code",
      "execution_count": 76,
      "metadata": {
        "colab": {
          "base_uri": "https://localhost:8080/"
        },
        "id": "lNz_3UqojA5h",
        "outputId": "b4718b58-4b20-405b-a446-ca03c767ed64"
      },
      "outputs": [
        {
          "name": "stdout",
          "output_type": "stream",
          "text": [
            "[[2400 2282 1472]\n",
            " [2179 1196  336]\n",
            " [ 426 2334 1527]\n",
            " [1879 1669  115]\n",
            " [ 206 2154 1348]\n",
            " [1125   55 2392]\n",
            " [2179 1905 2163]\n",
            " [1879 1669  115]\n",
            " [ 639  390  715]\n",
            " [2465 1897  505]\n",
            " [2623 1155 2625]\n",
            " [ 412 1935  430]\n",
            " [ 426 2334 1527]\n",
            " [1125   55 2392]\n",
            " [1298 2270  509]\n",
            " [1879 1669  115]\n",
            " [  34 2615 1242]\n",
            " [1879 1669  115]\n",
            " [2179 1196  336]\n",
            " [ 727  734  444]\n",
            " [2647 1647 2223]\n",
            " [1897  679   52]\n",
            " [2623 1155 2625]\n",
            " [1125   55 2392]\n",
            " [2505 1550  412]\n",
            " [2122 1348 2494]\n",
            " [1879 1669  115]\n",
            " [ 134 2622  110]\n",
            " [2736 2161 1563]\n",
            " [ 639  390  715]\n",
            " [1348  138 1742]\n",
            " [ 292 1889 1527]\n",
            " [ 206 2154 1348]\n",
            " [1841   95 1861]\n",
            " [2179 1905 2163]\n",
            " [ 412 1214 2811]\n",
            " [1298 2270  509]\n",
            " [ 639  390  715]\n",
            " [1126 2386 2476]\n",
            " [  34 2615 1242]\n",
            " [2097 2292  412]\n",
            " [ 292 1889 1527]\n",
            " [1053 1241 1889]\n",
            " [2122 1348 2494]\n",
            " [2122 1348 2494]\n",
            " [1053 1241 1889]\n",
            " [2179 1905 2163]\n",
            " [ 135 1861 2463]\n",
            " [1879 1669  115]\n",
            " [1125   55 2392]]\n"
          ]
        }
      ],
      "source": [
        "print(nn_lists_idx[0:50])"
      ]
    },
    {
      "cell_type": "markdown",
      "metadata": {
        "id": "kw6eof4PjA5i"
      },
      "source": [
        "We find that these three samples appear very often as nearest neighbors:"
      ]
    },
    {
      "cell_type": "code",
      "execution_count": 78,
      "metadata": {
        "colab": {
          "base_uri": "https://localhost:8080/",
          "height": 144
        },
        "id": "TZ3-8raqjA5i",
        "outputId": "c8ff9076-c8c7-4029-db8b-954155c587e2"
      },
      "outputs": [
        {
          "data": {
            "application/vnd.google.colaboratory.intrinsic+json": {
              "summary": "{\n  \"name\": \"X\",\n  \"rows\": 3,\n  \"fields\": [\n    {\n      \"column\": \"RACE_Asian\",\n      \"properties\": {\n        \"dtype\": \"number\",\n        \"std\": 0.0,\n        \"min\": 0.0,\n        \"max\": 0.0,\n        \"num_unique_values\": 1,\n        \"samples\": [\n          0.0\n        ],\n        \"semantic_type\": \"\",\n        \"description\": \"\"\n      }\n    },\n    {\n      \"column\": \"RACE_Black\",\n      \"properties\": {\n        \"dtype\": \"number\",\n        \"std\": 0.0,\n        \"min\": 0.0,\n        \"max\": 0.0,\n        \"num_unique_values\": 1,\n        \"samples\": [\n          0.0\n        ],\n        \"semantic_type\": \"\",\n        \"description\": \"\"\n      }\n    },\n    {\n      \"column\": \"RACE_Hispanic/Latino\",\n      \"properties\": {\n        \"dtype\": \"number\",\n        \"std\": 0.0,\n        \"min\": 0.0,\n        \"max\": 0.0,\n        \"num_unique_values\": 1,\n        \"samples\": [\n          0.0\n        ],\n        \"semantic_type\": \"\",\n        \"description\": \"\"\n      }\n    },\n    {\n      \"column\": \"RACE_Other\",\n      \"properties\": {\n        \"dtype\": \"number\",\n        \"std\": 0.0,\n        \"min\": 0.0,\n        \"max\": 0.0,\n        \"num_unique_values\": 1,\n        \"samples\": [\n          0.0\n        ],\n        \"semantic_type\": \"\",\n        \"description\": \"\"\n      }\n    },\n    {\n      \"column\": \"RACE_White\",\n      \"properties\": {\n        \"dtype\": \"number\",\n        \"std\": 0.0,\n        \"min\": 1.0,\n        \"max\": 1.0,\n        \"num_unique_values\": 1,\n        \"samples\": [\n          1.0\n        ],\n        \"semantic_type\": \"\",\n        \"description\": \"\"\n      }\n    },\n    {\n      \"column\": \"AGE\",\n      \"properties\": {\n        \"dtype\": \"number\",\n        \"std\": 0.23570226039551578,\n        \"min\": 0.6666666666666667,\n        \"max\": 1.0,\n        \"num_unique_values\": 2,\n        \"samples\": [\n          0.6666666666666667\n        ],\n        \"semantic_type\": \"\",\n        \"description\": \"\"\n      }\n    },\n    {\n      \"column\": \"EDUC12R\",\n      \"properties\": {\n        \"dtype\": \"number\",\n        \"std\": 0.0,\n        \"min\": 0.3333333333333333,\n        \"max\": 0.3333333333333333,\n        \"num_unique_values\": 1,\n        \"samples\": [\n          0.3333333333333333\n        ],\n        \"semantic_type\": \"\",\n        \"description\": \"\"\n      }\n    }\n  ]\n}",
              "type": "dataframe"
            },
            "text/html": [
              "\n",
              "  <div id=\"df-983bead8-ed70-4b7a-9f40-586579ba7052\" class=\"colab-df-container\">\n",
              "    <div>\n",
              "<style scoped>\n",
              "    .dataframe tbody tr th:only-of-type {\n",
              "        vertical-align: middle;\n",
              "    }\n",
              "\n",
              "    .dataframe tbody tr th {\n",
              "        vertical-align: top;\n",
              "    }\n",
              "\n",
              "    .dataframe thead th {\n",
              "        text-align: right;\n",
              "    }\n",
              "</style>\n",
              "<table border=\"1\" class=\"dataframe\">\n",
              "  <thead>\n",
              "    <tr style=\"text-align: right;\">\n",
              "      <th></th>\n",
              "      <th>RACE_Asian</th>\n",
              "      <th>RACE_Black</th>\n",
              "      <th>RACE_Hispanic/Latino</th>\n",
              "      <th>RACE_Other</th>\n",
              "      <th>RACE_White</th>\n",
              "      <th>AGE</th>\n",
              "      <th>EDUC12R</th>\n",
              "    </tr>\n",
              "  </thead>\n",
              "  <tbody>\n",
              "    <tr>\n",
              "      <th>876</th>\n",
              "      <td>0.0</td>\n",
              "      <td>0.0</td>\n",
              "      <td>0.0</td>\n",
              "      <td>0.0</td>\n",
              "      <td>1.0</td>\n",
              "      <td>NaN</td>\n",
              "      <td>0.333333</td>\n",
              "    </tr>\n",
              "    <tr>\n",
              "      <th>1379</th>\n",
              "      <td>0.0</td>\n",
              "      <td>0.0</td>\n",
              "      <td>0.0</td>\n",
              "      <td>0.0</td>\n",
              "      <td>1.0</td>\n",
              "      <td>1.000000</td>\n",
              "      <td>0.333333</td>\n",
              "    </tr>\n",
              "    <tr>\n",
              "      <th>1883</th>\n",
              "      <td>0.0</td>\n",
              "      <td>0.0</td>\n",
              "      <td>0.0</td>\n",
              "      <td>0.0</td>\n",
              "      <td>1.0</td>\n",
              "      <td>0.666667</td>\n",
              "      <td>0.333333</td>\n",
              "    </tr>\n",
              "  </tbody>\n",
              "</table>\n",
              "</div>\n",
              "    <div class=\"colab-df-buttons\">\n",
              "\n",
              "  <div class=\"colab-df-container\">\n",
              "    <button class=\"colab-df-convert\" onclick=\"convertToInteractive('df-983bead8-ed70-4b7a-9f40-586579ba7052')\"\n",
              "            title=\"Convert this dataframe to an interactive table.\"\n",
              "            style=\"display:none;\">\n",
              "\n",
              "  <svg xmlns=\"http://www.w3.org/2000/svg\" height=\"24px\" viewBox=\"0 -960 960 960\">\n",
              "    <path d=\"M120-120v-720h720v720H120Zm60-500h600v-160H180v160Zm220 220h160v-160H400v160Zm0 220h160v-160H400v160ZM180-400h160v-160H180v160Zm440 0h160v-160H620v160ZM180-180h160v-160H180v160Zm440 0h160v-160H620v160Z\"/>\n",
              "  </svg>\n",
              "    </button>\n",
              "\n",
              "  <style>\n",
              "    .colab-df-container {\n",
              "      display:flex;\n",
              "      gap: 12px;\n",
              "    }\n",
              "\n",
              "    .colab-df-convert {\n",
              "      background-color: #E8F0FE;\n",
              "      border: none;\n",
              "      border-radius: 50%;\n",
              "      cursor: pointer;\n",
              "      display: none;\n",
              "      fill: #1967D2;\n",
              "      height: 32px;\n",
              "      padding: 0 0 0 0;\n",
              "      width: 32px;\n",
              "    }\n",
              "\n",
              "    .colab-df-convert:hover {\n",
              "      background-color: #E2EBFA;\n",
              "      box-shadow: 0px 1px 2px rgba(60, 64, 67, 0.3), 0px 1px 3px 1px rgba(60, 64, 67, 0.15);\n",
              "      fill: #174EA6;\n",
              "    }\n",
              "\n",
              "    .colab-df-buttons div {\n",
              "      margin-bottom: 4px;\n",
              "    }\n",
              "\n",
              "    [theme=dark] .colab-df-convert {\n",
              "      background-color: #3B4455;\n",
              "      fill: #D2E3FC;\n",
              "    }\n",
              "\n",
              "    [theme=dark] .colab-df-convert:hover {\n",
              "      background-color: #434B5C;\n",
              "      box-shadow: 0px 1px 3px 1px rgba(0, 0, 0, 0.15);\n",
              "      filter: drop-shadow(0px 1px 2px rgba(0, 0, 0, 0.3));\n",
              "      fill: #FFFFFF;\n",
              "    }\n",
              "  </style>\n",
              "\n",
              "    <script>\n",
              "      const buttonEl =\n",
              "        document.querySelector('#df-983bead8-ed70-4b7a-9f40-586579ba7052 button.colab-df-convert');\n",
              "      buttonEl.style.display =\n",
              "        google.colab.kernel.accessAllowed ? 'block' : 'none';\n",
              "\n",
              "      async function convertToInteractive(key) {\n",
              "        const element = document.querySelector('#df-983bead8-ed70-4b7a-9f40-586579ba7052');\n",
              "        const dataTable =\n",
              "          await google.colab.kernel.invokeFunction('convertToInteractive',\n",
              "                                                    [key], {});\n",
              "        if (!dataTable) return;\n",
              "\n",
              "        const docLinkHtml = 'Like what you see? Visit the ' +\n",
              "          '<a target=\"_blank\" href=https://colab.research.google.com/notebooks/data_table.ipynb>data table notebook</a>'\n",
              "          + ' to learn more about interactive tables.';\n",
              "        element.innerHTML = '';\n",
              "        dataTable['output_type'] = 'display_data';\n",
              "        await google.colab.output.renderOutput(dataTable, element);\n",
              "        const docLink = document.createElement('div');\n",
              "        docLink.innerHTML = docLinkHtml;\n",
              "        element.appendChild(docLink);\n",
              "      }\n",
              "    </script>\n",
              "  </div>\n",
              "\n",
              "\n",
              "<div id=\"df-3217867f-54f8-462b-92db-772a7a73f968\">\n",
              "  <button class=\"colab-df-quickchart\" onclick=\"quickchart('df-3217867f-54f8-462b-92db-772a7a73f968')\"\n",
              "            title=\"Suggest charts\"\n",
              "            style=\"display:none;\">\n",
              "\n",
              "<svg xmlns=\"http://www.w3.org/2000/svg\" height=\"24px\"viewBox=\"0 0 24 24\"\n",
              "     width=\"24px\">\n",
              "    <g>\n",
              "        <path d=\"M19 3H5c-1.1 0-2 .9-2 2v14c0 1.1.9 2 2 2h14c1.1 0 2-.9 2-2V5c0-1.1-.9-2-2-2zM9 17H7v-7h2v7zm4 0h-2V7h2v10zm4 0h-2v-4h2v4z\"/>\n",
              "    </g>\n",
              "</svg>\n",
              "  </button>\n",
              "\n",
              "<style>\n",
              "  .colab-df-quickchart {\n",
              "      --bg-color: #E8F0FE;\n",
              "      --fill-color: #1967D2;\n",
              "      --hover-bg-color: #E2EBFA;\n",
              "      --hover-fill-color: #174EA6;\n",
              "      --disabled-fill-color: #AAA;\n",
              "      --disabled-bg-color: #DDD;\n",
              "  }\n",
              "\n",
              "  [theme=dark] .colab-df-quickchart {\n",
              "      --bg-color: #3B4455;\n",
              "      --fill-color: #D2E3FC;\n",
              "      --hover-bg-color: #434B5C;\n",
              "      --hover-fill-color: #FFFFFF;\n",
              "      --disabled-bg-color: #3B4455;\n",
              "      --disabled-fill-color: #666;\n",
              "  }\n",
              "\n",
              "  .colab-df-quickchart {\n",
              "    background-color: var(--bg-color);\n",
              "    border: none;\n",
              "    border-radius: 50%;\n",
              "    cursor: pointer;\n",
              "    display: none;\n",
              "    fill: var(--fill-color);\n",
              "    height: 32px;\n",
              "    padding: 0;\n",
              "    width: 32px;\n",
              "  }\n",
              "\n",
              "  .colab-df-quickchart:hover {\n",
              "    background-color: var(--hover-bg-color);\n",
              "    box-shadow: 0 1px 2px rgba(60, 64, 67, 0.3), 0 1px 3px 1px rgba(60, 64, 67, 0.15);\n",
              "    fill: var(--button-hover-fill-color);\n",
              "  }\n",
              "\n",
              "  .colab-df-quickchart-complete:disabled,\n",
              "  .colab-df-quickchart-complete:disabled:hover {\n",
              "    background-color: var(--disabled-bg-color);\n",
              "    fill: var(--disabled-fill-color);\n",
              "    box-shadow: none;\n",
              "  }\n",
              "\n",
              "  .colab-df-spinner {\n",
              "    border: 2px solid var(--fill-color);\n",
              "    border-color: transparent;\n",
              "    border-bottom-color: var(--fill-color);\n",
              "    animation:\n",
              "      spin 1s steps(1) infinite;\n",
              "  }\n",
              "\n",
              "  @keyframes spin {\n",
              "    0% {\n",
              "      border-color: transparent;\n",
              "      border-bottom-color: var(--fill-color);\n",
              "      border-left-color: var(--fill-color);\n",
              "    }\n",
              "    20% {\n",
              "      border-color: transparent;\n",
              "      border-left-color: var(--fill-color);\n",
              "      border-top-color: var(--fill-color);\n",
              "    }\n",
              "    30% {\n",
              "      border-color: transparent;\n",
              "      border-left-color: var(--fill-color);\n",
              "      border-top-color: var(--fill-color);\n",
              "      border-right-color: var(--fill-color);\n",
              "    }\n",
              "    40% {\n",
              "      border-color: transparent;\n",
              "      border-right-color: var(--fill-color);\n",
              "      border-top-color: var(--fill-color);\n",
              "    }\n",
              "    60% {\n",
              "      border-color: transparent;\n",
              "      border-right-color: var(--fill-color);\n",
              "    }\n",
              "    80% {\n",
              "      border-color: transparent;\n",
              "      border-right-color: var(--fill-color);\n",
              "      border-bottom-color: var(--fill-color);\n",
              "    }\n",
              "    90% {\n",
              "      border-color: transparent;\n",
              "      border-bottom-color: var(--fill-color);\n",
              "    }\n",
              "  }\n",
              "</style>\n",
              "\n",
              "  <script>\n",
              "    async function quickchart(key) {\n",
              "      const quickchartButtonEl =\n",
              "        document.querySelector('#' + key + ' button');\n",
              "      quickchartButtonEl.disabled = true;  // To prevent multiple clicks.\n",
              "      quickchartButtonEl.classList.add('colab-df-spinner');\n",
              "      try {\n",
              "        const charts = await google.colab.kernel.invokeFunction(\n",
              "            'suggestCharts', [key], {});\n",
              "      } catch (error) {\n",
              "        console.error('Error during call to suggestCharts:', error);\n",
              "      }\n",
              "      quickchartButtonEl.classList.remove('colab-df-spinner');\n",
              "      quickchartButtonEl.classList.add('colab-df-quickchart-complete');\n",
              "    }\n",
              "    (() => {\n",
              "      let quickchartButtonEl =\n",
              "        document.querySelector('#df-3217867f-54f8-462b-92db-772a7a73f968 button');\n",
              "      quickchartButtonEl.style.display =\n",
              "        google.colab.kernel.accessAllowed ? 'block' : 'none';\n",
              "    })();\n",
              "  </script>\n",
              "</div>\n",
              "\n",
              "    </div>\n",
              "  </div>\n"
            ],
            "text/plain": [
              "      RACE_Asian  RACE_Black  RACE_Hispanic/Latino  RACE_Other  RACE_White  \\\n",
              "876          0.0         0.0                   0.0         0.0         1.0   \n",
              "1379         0.0         0.0                   0.0         0.0         1.0   \n",
              "1883         0.0         0.0                   0.0         0.0         1.0   \n",
              "\n",
              "           AGE   EDUC12R  \n",
              "876        NaN  0.333333  \n",
              "1379  1.000000  0.333333  \n",
              "1883  0.666667  0.333333  "
            ]
          },
          "execution_count": 78,
          "metadata": {},
          "output_type": "execute_result"
        }
      ],
      "source": [
        "X.iloc[[876, 1379,  1883]]"
      ]
    },
    {
      "cell_type": "markdown",
      "metadata": {
        "id": "Dv8Q-36ijA5i"
      },
      "source": [
        "But other samples that have the same distance - that are actually identical in `X`! - do not appear in the nearest neighbors list at all:"
      ]
    },
    {
      "cell_type": "code",
      "execution_count": 79,
      "metadata": {
        "colab": {
          "base_uri": "https://localhost:8080/",
          "height": 206
        },
        "id": "6RdgaE7BjA5i",
        "outputId": "f418899a-dbaa-43e4-fef5-c7c4829185ac"
      },
      "outputs": [
        {
          "data": {
            "application/vnd.google.colaboratory.intrinsic+json": {
              "summary": "{\n  \"name\": \"  & X['EDUC12R']\",\n  \"rows\": 5,\n  \"fields\": [\n    {\n      \"column\": \"RACE_Asian\",\n      \"properties\": {\n        \"dtype\": \"number\",\n        \"std\": 0.0,\n        \"min\": 0.0,\n        \"max\": 0.0,\n        \"num_unique_values\": 1,\n        \"samples\": [\n          0.0\n        ],\n        \"semantic_type\": \"\",\n        \"description\": \"\"\n      }\n    },\n    {\n      \"column\": \"RACE_Black\",\n      \"properties\": {\n        \"dtype\": \"number\",\n        \"std\": 0.0,\n        \"min\": 0.0,\n        \"max\": 0.0,\n        \"num_unique_values\": 1,\n        \"samples\": [\n          0.0\n        ],\n        \"semantic_type\": \"\",\n        \"description\": \"\"\n      }\n    },\n    {\n      \"column\": \"RACE_Hispanic/Latino\",\n      \"properties\": {\n        \"dtype\": \"number\",\n        \"std\": 0.0,\n        \"min\": 0.0,\n        \"max\": 0.0,\n        \"num_unique_values\": 1,\n        \"samples\": [\n          0.0\n        ],\n        \"semantic_type\": \"\",\n        \"description\": \"\"\n      }\n    },\n    {\n      \"column\": \"RACE_Other\",\n      \"properties\": {\n        \"dtype\": \"number\",\n        \"std\": 0.0,\n        \"min\": 0.0,\n        \"max\": 0.0,\n        \"num_unique_values\": 1,\n        \"samples\": [\n          0.0\n        ],\n        \"semantic_type\": \"\",\n        \"description\": \"\"\n      }\n    },\n    {\n      \"column\": \"RACE_White\",\n      \"properties\": {\n        \"dtype\": \"number\",\n        \"std\": 0.0,\n        \"min\": 1.0,\n        \"max\": 1.0,\n        \"num_unique_values\": 1,\n        \"samples\": [\n          1.0\n        ],\n        \"semantic_type\": \"\",\n        \"description\": \"\"\n      }\n    },\n    {\n      \"column\": \"AGE\",\n      \"properties\": {\n        \"dtype\": \"number\",\n        \"std\": null,\n        \"min\": null,\n        \"max\": null,\n        \"num_unique_values\": 0,\n        \"samples\": [],\n        \"semantic_type\": \"\",\n        \"description\": \"\"\n      }\n    },\n    {\n      \"column\": \"EDUC12R\",\n      \"properties\": {\n        \"dtype\": \"number\",\n        \"std\": 0.0,\n        \"min\": 0.3333333333333333,\n        \"max\": 0.3333333333333333,\n        \"num_unique_values\": 1,\n        \"samples\": [],\n        \"semantic_type\": \"\",\n        \"description\": \"\"\n      }\n    }\n  ]\n}",
              "type": "dataframe"
            },
            "text/html": [
              "\n",
              "  <div id=\"df-539cefb9-8598-4dcb-b6d6-0c1827aa116f\" class=\"colab-df-container\">\n",
              "    <div>\n",
              "<style scoped>\n",
              "    .dataframe tbody tr th:only-of-type {\n",
              "        vertical-align: middle;\n",
              "    }\n",
              "\n",
              "    .dataframe tbody tr th {\n",
              "        vertical-align: top;\n",
              "    }\n",
              "\n",
              "    .dataframe thead th {\n",
              "        text-align: right;\n",
              "    }\n",
              "</style>\n",
              "<table border=\"1\" class=\"dataframe\">\n",
              "  <thead>\n",
              "    <tr style=\"text-align: right;\">\n",
              "      <th></th>\n",
              "      <th>RACE_Asian</th>\n",
              "      <th>RACE_Black</th>\n",
              "      <th>RACE_Hispanic/Latino</th>\n",
              "      <th>RACE_Other</th>\n",
              "      <th>RACE_White</th>\n",
              "      <th>AGE</th>\n",
              "      <th>EDUC12R</th>\n",
              "    </tr>\n",
              "  </thead>\n",
              "  <tbody>\n",
              "    <tr>\n",
              "      <th>34</th>\n",
              "      <td>0.0</td>\n",
              "      <td>0.0</td>\n",
              "      <td>0.0</td>\n",
              "      <td>0.0</td>\n",
              "      <td>1.0</td>\n",
              "      <td>NaN</td>\n",
              "      <td>0.333333</td>\n",
              "    </tr>\n",
              "    <tr>\n",
              "      <th>876</th>\n",
              "      <td>0.0</td>\n",
              "      <td>0.0</td>\n",
              "      <td>0.0</td>\n",
              "      <td>0.0</td>\n",
              "      <td>1.0</td>\n",
              "      <td>NaN</td>\n",
              "      <td>0.333333</td>\n",
              "    </tr>\n",
              "    <tr>\n",
              "      <th>923</th>\n",
              "      <td>0.0</td>\n",
              "      <td>0.0</td>\n",
              "      <td>0.0</td>\n",
              "      <td>0.0</td>\n",
              "      <td>1.0</td>\n",
              "      <td>NaN</td>\n",
              "      <td>0.333333</td>\n",
              "    </tr>\n",
              "    <tr>\n",
              "      <th>1220</th>\n",
              "      <td>0.0</td>\n",
              "      <td>0.0</td>\n",
              "      <td>0.0</td>\n",
              "      <td>0.0</td>\n",
              "      <td>1.0</td>\n",
              "      <td>NaN</td>\n",
              "      <td>0.333333</td>\n",
              "    </tr>\n",
              "    <tr>\n",
              "      <th>1618</th>\n",
              "      <td>0.0</td>\n",
              "      <td>0.0</td>\n",
              "      <td>0.0</td>\n",
              "      <td>0.0</td>\n",
              "      <td>1.0</td>\n",
              "      <td>NaN</td>\n",
              "      <td>0.333333</td>\n",
              "    </tr>\n",
              "  </tbody>\n",
              "</table>\n",
              "</div>\n",
              "    <div class=\"colab-df-buttons\">\n",
              "\n",
              "  <div class=\"colab-df-container\">\n",
              "    <button class=\"colab-df-convert\" onclick=\"convertToInteractive('df-539cefb9-8598-4dcb-b6d6-0c1827aa116f')\"\n",
              "            title=\"Convert this dataframe to an interactive table.\"\n",
              "            style=\"display:none;\">\n",
              "\n",
              "  <svg xmlns=\"http://www.w3.org/2000/svg\" height=\"24px\" viewBox=\"0 -960 960 960\">\n",
              "    <path d=\"M120-120v-720h720v720H120Zm60-500h600v-160H180v160Zm220 220h160v-160H400v160Zm0 220h160v-160H400v160ZM180-400h160v-160H180v160Zm440 0h160v-160H620v160ZM180-180h160v-160H180v160Zm440 0h160v-160H620v160Z\"/>\n",
              "  </svg>\n",
              "    </button>\n",
              "\n",
              "  <style>\n",
              "    .colab-df-container {\n",
              "      display:flex;\n",
              "      gap: 12px;\n",
              "    }\n",
              "\n",
              "    .colab-df-convert {\n",
              "      background-color: #E8F0FE;\n",
              "      border: none;\n",
              "      border-radius: 50%;\n",
              "      cursor: pointer;\n",
              "      display: none;\n",
              "      fill: #1967D2;\n",
              "      height: 32px;\n",
              "      padding: 0 0 0 0;\n",
              "      width: 32px;\n",
              "    }\n",
              "\n",
              "    .colab-df-convert:hover {\n",
              "      background-color: #E2EBFA;\n",
              "      box-shadow: 0px 1px 2px rgba(60, 64, 67, 0.3), 0px 1px 3px 1px rgba(60, 64, 67, 0.15);\n",
              "      fill: #174EA6;\n",
              "    }\n",
              "\n",
              "    .colab-df-buttons div {\n",
              "      margin-bottom: 4px;\n",
              "    }\n",
              "\n",
              "    [theme=dark] .colab-df-convert {\n",
              "      background-color: #3B4455;\n",
              "      fill: #D2E3FC;\n",
              "    }\n",
              "\n",
              "    [theme=dark] .colab-df-convert:hover {\n",
              "      background-color: #434B5C;\n",
              "      box-shadow: 0px 1px 3px 1px rgba(0, 0, 0, 0.15);\n",
              "      filter: drop-shadow(0px 1px 2px rgba(0, 0, 0, 0.3));\n",
              "      fill: #FFFFFF;\n",
              "    }\n",
              "  </style>\n",
              "\n",
              "    <script>\n",
              "      const buttonEl =\n",
              "        document.querySelector('#df-539cefb9-8598-4dcb-b6d6-0c1827aa116f button.colab-df-convert');\n",
              "      buttonEl.style.display =\n",
              "        google.colab.kernel.accessAllowed ? 'block' : 'none';\n",
              "\n",
              "      async function convertToInteractive(key) {\n",
              "        const element = document.querySelector('#df-539cefb9-8598-4dcb-b6d6-0c1827aa116f');\n",
              "        const dataTable =\n",
              "          await google.colab.kernel.invokeFunction('convertToInteractive',\n",
              "                                                    [key], {});\n",
              "        if (!dataTable) return;\n",
              "\n",
              "        const docLinkHtml = 'Like what you see? Visit the ' +\n",
              "          '<a target=\"_blank\" href=https://colab.research.google.com/notebooks/data_table.ipynb>data table notebook</a>'\n",
              "          + ' to learn more about interactive tables.';\n",
              "        element.innerHTML = '';\n",
              "        dataTable['output_type'] = 'display_data';\n",
              "        await google.colab.output.renderOutput(dataTable, element);\n",
              "        const docLink = document.createElement('div');\n",
              "        docLink.innerHTML = docLinkHtml;\n",
              "        element.appendChild(docLink);\n",
              "      }\n",
              "    </script>\n",
              "  </div>\n",
              "\n",
              "\n",
              "<div id=\"df-8d66933d-be45-4bd0-ada4-670bfb6de4bb\">\n",
              "  <button class=\"colab-df-quickchart\" onclick=\"quickchart('df-8d66933d-be45-4bd0-ada4-670bfb6de4bb')\"\n",
              "            title=\"Suggest charts\"\n",
              "            style=\"display:none;\">\n",
              "\n",
              "<svg xmlns=\"http://www.w3.org/2000/svg\" height=\"24px\"viewBox=\"0 0 24 24\"\n",
              "     width=\"24px\">\n",
              "    <g>\n",
              "        <path d=\"M19 3H5c-1.1 0-2 .9-2 2v14c0 1.1.9 2 2 2h14c1.1 0 2-.9 2-2V5c0-1.1-.9-2-2-2zM9 17H7v-7h2v7zm4 0h-2V7h2v10zm4 0h-2v-4h2v4z\"/>\n",
              "    </g>\n",
              "</svg>\n",
              "  </button>\n",
              "\n",
              "<style>\n",
              "  .colab-df-quickchart {\n",
              "      --bg-color: #E8F0FE;\n",
              "      --fill-color: #1967D2;\n",
              "      --hover-bg-color: #E2EBFA;\n",
              "      --hover-fill-color: #174EA6;\n",
              "      --disabled-fill-color: #AAA;\n",
              "      --disabled-bg-color: #DDD;\n",
              "  }\n",
              "\n",
              "  [theme=dark] .colab-df-quickchart {\n",
              "      --bg-color: #3B4455;\n",
              "      --fill-color: #D2E3FC;\n",
              "      --hover-bg-color: #434B5C;\n",
              "      --hover-fill-color: #FFFFFF;\n",
              "      --disabled-bg-color: #3B4455;\n",
              "      --disabled-fill-color: #666;\n",
              "  }\n",
              "\n",
              "  .colab-df-quickchart {\n",
              "    background-color: var(--bg-color);\n",
              "    border: none;\n",
              "    border-radius: 50%;\n",
              "    cursor: pointer;\n",
              "    display: none;\n",
              "    fill: var(--fill-color);\n",
              "    height: 32px;\n",
              "    padding: 0;\n",
              "    width: 32px;\n",
              "  }\n",
              "\n",
              "  .colab-df-quickchart:hover {\n",
              "    background-color: var(--hover-bg-color);\n",
              "    box-shadow: 0 1px 2px rgba(60, 64, 67, 0.3), 0 1px 3px 1px rgba(60, 64, 67, 0.15);\n",
              "    fill: var(--button-hover-fill-color);\n",
              "  }\n",
              "\n",
              "  .colab-df-quickchart-complete:disabled,\n",
              "  .colab-df-quickchart-complete:disabled:hover {\n",
              "    background-color: var(--disabled-bg-color);\n",
              "    fill: var(--disabled-fill-color);\n",
              "    box-shadow: none;\n",
              "  }\n",
              "\n",
              "  .colab-df-spinner {\n",
              "    border: 2px solid var(--fill-color);\n",
              "    border-color: transparent;\n",
              "    border-bottom-color: var(--fill-color);\n",
              "    animation:\n",
              "      spin 1s steps(1) infinite;\n",
              "  }\n",
              "\n",
              "  @keyframes spin {\n",
              "    0% {\n",
              "      border-color: transparent;\n",
              "      border-bottom-color: var(--fill-color);\n",
              "      border-left-color: var(--fill-color);\n",
              "    }\n",
              "    20% {\n",
              "      border-color: transparent;\n",
              "      border-left-color: var(--fill-color);\n",
              "      border-top-color: var(--fill-color);\n",
              "    }\n",
              "    30% {\n",
              "      border-color: transparent;\n",
              "      border-left-color: var(--fill-color);\n",
              "      border-top-color: var(--fill-color);\n",
              "      border-right-color: var(--fill-color);\n",
              "    }\n",
              "    40% {\n",
              "      border-color: transparent;\n",
              "      border-right-color: var(--fill-color);\n",
              "      border-top-color: var(--fill-color);\n",
              "    }\n",
              "    60% {\n",
              "      border-color: transparent;\n",
              "      border-right-color: var(--fill-color);\n",
              "    }\n",
              "    80% {\n",
              "      border-color: transparent;\n",
              "      border-right-color: var(--fill-color);\n",
              "      border-bottom-color: var(--fill-color);\n",
              "    }\n",
              "    90% {\n",
              "      border-color: transparent;\n",
              "      border-bottom-color: var(--fill-color);\n",
              "    }\n",
              "  }\n",
              "</style>\n",
              "\n",
              "  <script>\n",
              "    async function quickchart(key) {\n",
              "      const quickchartButtonEl =\n",
              "        document.querySelector('#' + key + ' button');\n",
              "      quickchartButtonEl.disabled = true;  // To prevent multiple clicks.\n",
              "      quickchartButtonEl.classList.add('colab-df-spinner');\n",
              "      try {\n",
              "        const charts = await google.colab.kernel.invokeFunction(\n",
              "            'suggestCharts', [key], {});\n",
              "      } catch (error) {\n",
              "        console.error('Error during call to suggestCharts:', error);\n",
              "      }\n",
              "      quickchartButtonEl.classList.remove('colab-df-spinner');\n",
              "      quickchartButtonEl.classList.add('colab-df-quickchart-complete');\n",
              "    }\n",
              "    (() => {\n",
              "      let quickchartButtonEl =\n",
              "        document.querySelector('#df-8d66933d-be45-4bd0-ada4-670bfb6de4bb button');\n",
              "      quickchartButtonEl.style.display =\n",
              "        google.colab.kernel.accessAllowed ? 'block' : 'none';\n",
              "    })();\n",
              "  </script>\n",
              "</div>\n",
              "\n",
              "    </div>\n",
              "  </div>\n"
            ],
            "text/plain": [
              "      RACE_Asian  RACE_Black  RACE_Hispanic/Latino  RACE_Other  RACE_White  \\\n",
              "34           0.0         0.0                   0.0         0.0         1.0   \n",
              "876          0.0         0.0                   0.0         0.0         1.0   \n",
              "923          0.0         0.0                   0.0         0.0         1.0   \n",
              "1220         0.0         0.0                   0.0         0.0         1.0   \n",
              "1618         0.0         0.0                   0.0         0.0         1.0   \n",
              "\n",
              "      AGE   EDUC12R  \n",
              "34    NaN  0.333333  \n",
              "876   NaN  0.333333  \n",
              "923   NaN  0.333333  \n",
              "1220  NaN  0.333333  \n",
              "1618  NaN  0.333333  "
            ]
          },
          "execution_count": 79,
          "metadata": {},
          "output_type": "execute_result"
        }
      ],
      "source": [
        "X[X['RACE_Hispanic/Latino'].eq(0) & X['RACE_Asian'].eq(0) & X['RACE_Other'].eq(0)\n",
        "  & X['RACE_Black'].eq(0) &  X['RACE_White'].eq(1)\n",
        "  & X['EDUC12R'].eq(1/3.0) & pd.isnull(X['AGE'])  ]"
      ]
    },
    {
      "cell_type": "markdown",
      "metadata": {
        "id": "pPNEK16djA5j"
      },
      "source": [
        "A better tiebreaker behavior would be to randomly sample from neighbors with equal distance. Fortunately, this is an easy fix:\n",
        "\n",
        "-   We had been using `argsort` to get the K smallest distances to each test point. However, if there are more than K training samples that are at the minimum distance for a particular test point (i.e. a tie of more than K values, all having the minimum distance), `argsort` will return the first K of those in order of their index in the distance matrix (their order in `idx_tr`).\n",
        "-   Now, we will use an alternative, `lexsort`, that sorts first by the second argument, then by the first argument; and we will pass a random array as the first argument:"
      ]
    },
    {
      "cell_type": "code",
      "execution_count": 80,
      "metadata": {
        "id": "-Plg7dJxjA5j"
      },
      "outputs": [],
      "source": [
        "k = 3\n",
        "# make a random matrix\n",
        "r_matrix = np.random.random(size=(distances_custom.shape))\n",
        "# sort using lexsort - first sort by distances_custom, then by random matrix in case of tie\n",
        "nn_lists = np.array([np.lexsort((r, row))[:k] for r, row in zip(r_matrix,distances_custom)])\n",
        "nn_lists_idx = idx_tr[nn_lists]\n",
        "y_pred =  [y.iloc[nn].mode()[0] for nn in nn_lists_idx]"
      ]
    },
    {
      "cell_type": "markdown",
      "metadata": {
        "id": "SoWBU4GujA5j"
      },
      "source": [
        "Now, we don’t see nearly as much repitition of individual training samples among the nearest neighbors:"
      ]
    },
    {
      "cell_type": "code",
      "execution_count": 81,
      "metadata": {
        "colab": {
          "base_uri": "https://localhost:8080/"
        },
        "id": "rpQqKA5PjA5k",
        "outputId": "8a2685d1-25c8-42b9-e216-8ebfd0f5bd91"
      },
      "outputs": [
        {
          "name": "stdout",
          "output_type": "stream",
          "text": [
            "[[1021 1980 2505]\n",
            " [ 354 2362 2302]\n",
            " [1889 2577  681]\n",
            " [1695 1240 1361]\n",
            " [2292  411 1210]\n",
            " [2449 2452 2238]\n",
            " [ 819 1729 1413]\n",
            " [ 176  672  831]\n",
            " [ 342 1137 2009]\n",
            " [1598 1993 2465]\n",
            " [ 913 2649 1527]\n",
            " [1782 1600 1348]\n",
            " [ 203  752 1366]\n",
            " [2828 1226 1214]\n",
            " [2277 2544 1633]\n",
            " [1669 2710 1556]\n",
            " [ 683 1070 1220]\n",
            " [ 847 1334 2431]\n",
            " [1196 2179 1861]\n",
            " [1861  740 1021]\n",
            " [1647 2223 1178]\n",
            " [2644 2828   52]\n",
            " [1897  412  784]\n",
            " [2787  815 2615]\n",
            " [ 675 2286 1889]\n",
            " [2716 2691   33]\n",
            " [1515  465 2444]\n",
            " [ 110 2725  291]\n",
            " [2276 1563 2434]\n",
            " [ 343 1184 2234]\n",
            " [1742  138  754]\n",
            " [2179 1861 1348]\n",
            " [  64  412  241]\n",
            " [1432 2059 1196]\n",
            " [1419 2052 2092]\n",
            " [2804 1214 1802]\n",
            " [2260  882 1428]\n",
            " [2522  180 1896]\n",
            " [ 104  412 1669]\n",
            " [  99 1841 1196]\n",
            " [1595 2018 1348]\n",
            " [1861 1348 1889]\n",
            " [1056 1781 1573]\n",
            " [2759  552  836]\n",
            " [2145 2686 2465]\n",
            " [1241 2615  145]\n",
            " [1557  201 1913]\n",
            " [2463  135 1897]\n",
            " [ 452 1527 2310]\n",
            " [ 163 2218 1526]]\n"
          ]
        }
      ],
      "source": [
        "print(nn_lists_idx[0:50])"
      ]
    },
    {
      "cell_type": "markdown",
      "metadata": {
        "id": "Zziu3Hq9jA5k"
      },
      "source": [
        "Let’s get the accuracy of *this* classifier, with the better tiebreaker behavior:"
      ]
    },
    {
      "cell_type": "code",
      "execution_count": 82,
      "metadata": {
        "colab": {
          "base_uri": "https://localhost:8080/"
        },
        "id": "L2lP1DMfjA5k",
        "outputId": "ce4a9e1f-72da-4b64-a7cc-136d03a9e4fc"
      },
      "outputs": [
        {
          "data": {
            "text/plain": [
              "0.5312131919905771"
            ]
          },
          "execution_count": 82,
          "metadata": {},
          "output_type": "execute_result"
        }
      ],
      "source": [
        "accuracy_score(y.iloc[idx_ts], y_pred)"
      ]
    },
    {
      "cell_type": "markdown",
      "metadata": {
        "id": "5PJQ_l8tjA5k"
      },
      "source": [
        "This classifier is less “fragile” - less sensitive to the draw of training data.\n",
        "\n",
        "(Depending on the random draw of training and test data, it may or may not have better performance for a particular split - but on average, across all splits of training and test data, it should be better.)"
      ]
    },
    {
      "cell_type": "markdown",
      "metadata": {
        "id": "DWsOiBAFjA5k"
      },
      "source": [
        "### Use K-fold CV to select the number of neighbors"
      ]
    },
    {
      "cell_type": "markdown",
      "metadata": {
        "id": "RQCpNoWAjA5k"
      },
      "source": [
        "In the previous example, we set the number of neighbors to 3, rather than letting this value be dictated by the data."
      ]
    },
    {
      "cell_type": "markdown",
      "metadata": {
        "id": "c-H1TP1mjA5l"
      },
      "source": [
        "As a next step, to improve the classifier performance, we can use K-fold CV to select the number of neighbors. Note that depending how we do it, this can be *very* computationally expensive, or it can be not much more computationally expensive than just fixing the number of neighbors ourselves.\n",
        "\n",
        "The most expensive part of the algorithm is computing the distance to the training samples. This is $O(nd)$ for each test sample, where $n$ is the number of training samples and $d$ is the number of features. If we can make sure this computation happens only once, instead of once per fold, this process will be fast."
      ]
    },
    {
      "cell_type": "markdown",
      "metadata": {
        "id": "hD1-tMUGjA5l"
      },
      "source": [
        "Here, we pre-compute our distance matrix for *every* training sample:"
      ]
    },
    {
      "cell_type": "code",
      "execution_count": 83,
      "metadata": {
        "colab": {
          "base_uri": "https://localhost:8080/"
        },
        "id": "Q7ZP3npEjA5l",
        "outputId": "14e89497-2f55-4149-e51b-b82d6aed8410"
      },
      "outputs": [
        {
          "name": "stderr",
          "output_type": "stream",
          "text": [
            "Distance matrix: 100%|██████████| 1980/1980 [00:01<00:00, 1658.80it/s]\n"
          ]
        }
      ],
      "source": [
        "# pre-compute a distance matrix of training vs. training data\n",
        "distances_kfold = np.zeros(shape=(len(idx_tr), len(idx_tr)))\n",
        "\n",
        "for idx in tqdm(range(len(idx_tr)),  total=len(idx_tr), desc=\"Distance matrix\"):\n",
        "  distances_kfold[idx] = custom_distance(X.iloc[idx_tr[idx]].values, X.iloc[idx_tr].values)"
      ]
    },
    {
      "cell_type": "markdown",
      "metadata": {
        "id": "olYmrTNjjA5l"
      },
      "source": [
        "Now, we’ll use K-fold CV.\n",
        "\n",
        "In each fold, as always, we’ll further divide the training data into validation and training sets.\n",
        "\n",
        "Then, we’ll select the *rows* of the pre-computed distance matrix corresponding to the *validation* data in this fold, and the *columns* of the pre-computed distance matrix corresponding to the *training* data in this fold."
      ]
    },
    {
      "cell_type": "code",
      "execution_count": 84,
      "metadata": {
        "colab": {
          "base_uri": "https://localhost:8080/"
        },
        "id": "-3BpoJNhjA5l",
        "outputId": "11717d71-96dc-4e6e-ea05-008a2c217a95"
      },
      "outputs": [
        {
          "name": "stdout",
          "output_type": "stream",
          "text": [
            "Iteration 0\n",
            "Iteration 1\n",
            "Iteration 2\n",
            "Iteration 3\n",
            "Iteration 4\n"
          ]
        }
      ],
      "source": [
        "n_fold = 5\n",
        "k_list = np.arange(1, 301, 10)\n",
        "n_k = len(k_list)\n",
        "acc_list = np.zeros((n_k, n_fold))\n",
        "\n",
        "kf = KFold(n_splits=5, shuffle=True)\n",
        "\n",
        "for isplit, idx_k in enumerate(kf.split(idx_tr)):\n",
        "\n",
        "  print(\"Iteration %d\" % isplit)\n",
        "\n",
        "  # Outer loop: select training vs. validation data (out of training data!)\n",
        "  idx_tr_k, idx_val_k = idx_k\n",
        "\n",
        "  # get target variable values for validation data\n",
        "  y_val_kfold = y.iloc[idx_tr[idx_val_k]]\n",
        "\n",
        "  # get distance matrix for validation set vs. training set\n",
        "  distances_val_kfold   = distances_kfold[idx_val_k[:, None], idx_tr_k]\n",
        "\n",
        "  # generate a random matrix for tie breaking\n",
        "  r_matrix = np.random.random(size=(distances_val_kfold.shape))\n",
        "\n",
        "  # loop over the rows of the distance matrix and the random matrix together with zip\n",
        "  # for each pair of rows, return sorted indices from distances_val_kfold\n",
        "  distances_sorted = np.array([np.lexsort((r, row)) for r, row in zip(r_matrix,distances_val_kfold)])\n",
        "\n",
        "  # Inner loop: select value of K, number of neighbors\n",
        "  for idx_k, k in enumerate(k_list):\n",
        "\n",
        "    # now we select the indices of the K smallest, for different values of K\n",
        "    # the indices in  distances_sorted are with respect to distances_val_kfold\n",
        "    # from those - get indices in idx_tr_k, then in X\n",
        "    nn_lists_idx = idx_tr[idx_tr_k[distances_sorted[:,:k]]]\n",
        "\n",
        "    # get validation accuracy for this value of k\n",
        "    y_pred =  [y.iloc[nn].mode()[0] for nn in nn_lists_idx]\n",
        "    acc_list[idx_k, isplit] = accuracy_score(y_val_kfold, y_pred)"
      ]
    },
    {
      "cell_type": "markdown",
      "metadata": {
        "id": "FvOKaHCnjA5m"
      },
      "source": [
        "Here’s how the validation accuracy changes with number of neighbors:"
      ]
    },
    {
      "cell_type": "code",
      "execution_count": 85,
      "metadata": {
        "colab": {
          "base_uri": "https://localhost:8080/",
          "height": 449
        },
        "id": "O-x7Knl_jA5m",
        "outputId": "92d0dfaf-446f-4f93-8f7d-2f8ec2ccba91"
      },
      "outputs": [
        {
          "data": {
            "image/png": "[encoded data removed]",
            "text/plain": [
              "<Figure size 640x480 with 1 Axes>"
            ]
          },
          "metadata": {},
          "output_type": "display_data"
        }
      ],
      "source": [
        "plt.errorbar(x=k_list, y=acc_list.mean(axis=1), yerr=acc_list.std(axis=1)/np.sqrt(n_fold-1));\n",
        "\n",
        "plt.xlabel(\"k (number of neighbors)\");\n",
        "plt.ylabel(\"K-fold accuracy\");"
      ]
    },
    {
      "cell_type": "markdown",
      "metadata": {
        "id": "5WY7X1VPjA5m"
      },
      "source": [
        "Using this, we can find a better choice for k (number of neighbors):"
      ]
    },
    {
      "cell_type": "code",
      "execution_count": 86,
      "metadata": {
        "colab": {
          "base_uri": "https://localhost:8080/"
        },
        "id": "evXEZZ40jA5n",
        "outputId": "b74f6f9b-1c81-41f8-b35d-90cde96d32b2"
      },
      "outputs": [
        {
          "name": "stdout",
          "output_type": "stream",
          "text": [
            "181\n"
          ]
        }
      ],
      "source": [
        "best_k = k_list[np.argmax(acc_list.mean(axis=1))]\n",
        "print(best_k)"
      ]
    },
    {
      "cell_type": "markdown",
      "metadata": {
        "id": "gV7f0sxcjA5n"
      },
      "source": [
        "Now, let’s re-run our KNN algorithm using the entire training set and this `best_k` number of neighbors, and check its accuracy?"
      ]
    },
    {
      "cell_type": "code",
      "execution_count": 87,
      "metadata": {
        "id": "SEN_AHFWjA5n"
      },
      "outputs": [],
      "source": [
        "r_matrix = np.random.random(size=(distances_custom.shape))\n",
        "nn_lists = np.array([np.lexsort((r, row))[:best_k] for r, row in zip(r_matrix,distances_custom)])\n",
        "nn_lists_idx = idx_tr[nn_lists]\n",
        "y_pred =  [y.iloc[nn].mode()[0] for nn in nn_lists_idx]"
      ]
    },
    {
      "cell_type": "code",
      "execution_count": 88,
      "metadata": {
        "colab": {
          "base_uri": "https://localhost:8080/"
        },
        "id": "J_dnWnd0jA5o",
        "outputId": "5b2c1c27-2258-42c2-c26f-84dbf2a6e446"
      },
      "outputs": [
        {
          "data": {
            "text/plain": [
              "0.6419316843345112"
            ]
          },
          "execution_count": 88,
          "metadata": {},
          "output_type": "execute_result"
        }
      ],
      "source": [
        "accuracy_score(y.iloc[idx_ts], y_pred)"
      ]
    },
    {
      "cell_type": "markdown",
      "metadata": {
        "id": "uVSzh9d3jA5o"
      },
      "source": [
        "### Summarizing our basic classifier"
      ]
    },
    {
      "cell_type": "markdown",
      "metadata": {
        "id": "BupBbokBjA5o"
      },
      "source": [
        "Our basic classifier:\n",
        "\n",
        "-   uses three features (age, race, and education) to predict a respondent’s vote\n",
        "-   doesn’t mind if there are NaNs in the data (unlike the `sklearn` implementation, which throws an error)\n",
        "-   uses a random tiebreaker if there are multiple training samples with the same distance to the test sample\n",
        "-   uses the number of neighbors with the best validation accuracy, according to K-fold CV.\n",
        "\n",
        "But, there are some outstanding issues:\n",
        "\n",
        "-   we have only used three features, out of many more available features.\n",
        "-   the distance metric only cares about the degree of disagreement (difference) between two samples, and doesn’t balance it against the degree of agreement (similarity).\n",
        "\n",
        "For this assignment, you will create an even better classifier by improving on those two issues."
      ]
    },
    {
      "cell_type": "markdown",
      "metadata": {
        "id": "mij4p72ljA5p"
      },
      "source": [
        "## Create a better classifier"
      ]
    },
    {
      "cell_type": "markdown",
      "metadata": {
        "id": "YJhBO6MAjA5p"
      },
      "source": [
        "In the remaining sections of this notebook, you’ll need to fill in code to:\n",
        "\n",
        "-   implement a custom distance metric\n",
        "-   encode more features\n",
        "-   implement feature weighting\n",
        "-   “train” and evaluate your final classifier, including K-Fold CV to select the best value for number of neighbors."
      ]
    },
    {
      "cell_type": "markdown",
      "metadata": {
        "id": "EYAjCNACjA5p"
      },
      "source": [
        "### Create a better distance metric"
      ]
    },
    {
      "cell_type": "markdown",
      "metadata": {
        "id": "-CfqriLjjA5p"
      },
      "source": [
        "Your first task is to improve on the basic distance metric we used above. There is no one correct answer - there are many ways to compute a distance - but for full credit, your distance metric should satisfy the following criteria:\n",
        "\n",
        "1.  if two samples are identical, the distance between them should be zero.\n",
        "2.  as the extent of *difference* between two samples increases, the distance should increase.\n",
        "3.  as the extent of *similarity* between two samples increases, the distance should decrease.\n",
        "4.  if in a pair of samples one or both have a NaN value for a given feature, the similarity or difference of this feature is *unknown*. Your distance metric should compute a smaller distance for a pair of samples with many similarities (even if there is some small difference) than for a pair of samples with mostly unknown similarity.\n",
        "\n",
        "You should also avoid explicit `for` loops inside the `custom_distance` function - use efficient `numpy` functions instead. Note that `numpy` includes many functions that are helpful when working with arrays that have NaN values, including mathematical functions like [sum](https://numpy.org/doc/stable/reference/generated/numpy.nansum.html), [product](https://numpy.org/doc/stable/reference/generated/numpy.nanprod.html), [max](https://numpy.org/doc/stable/reference/generated/numpy.nanmax.html) and [min](https://numpy.org/doc/stable/reference/generated/numpy.nanmin.html), and logic functions like [isnan](https://numpy.org/doc/stable/reference/generated/numpy.isnan.html)."
      ]
    },
    {
      "cell_type": "markdown",
      "metadata": {
        "id": "1aCnwui3jA5q"
      },
      "source": [
        "#### 📝 Specific requirements\n",
        "\n",
        "**Function signature**:\n",
        "\n",
        "-   Your `custom_distance` should accept a 1D array `a` (representing a single sample) as its first argument, and a 2D array `b` (representing a set of training samples) as its second argument. Then, it returns an array of distances from `a` (which is one row), to each row in `b` (which has multiple rows).\n",
        "-   The array that is returned will have many *columns* as there are *rows* in `b`.\n",
        "-   Your `custom_distance` should also accept an optional `debug` argument, which defaults to `False`. If set to `True`, it will return some additional intermediate variables, as explained below.\n",
        "\n",
        "**Missing values**: Your `custom_distance` function should *not* impute 0s or any other value in place of `NaN` values in either `a` or `b`.\n",
        "\n",
        "**Intermediate variables**: Your function should compute the following values, again using `a` against each row in `b`:\n",
        "\n",
        "-   `total_dif` = total magnitude of “disagreements”/“known dissimilarity” between `a` and each row in `b` (This is the L1 distance for known values)\n",
        "-   `total_nan` = total number of NaN/“unknown” values where either `a` *OR* the corresponding row of `b` (or both!) has a NaN\n",
        "\n",
        "and you should use these (*not* only `total_dif`) in computing your distances. Also, when `debug = True` is passed to the function, you should return these intermediate variables in a dictionary, as shown in the example below."
      ]
    },
    {
      "cell_type": "markdown",
      "metadata": {
        "id": "gUWsoBebjA5q"
      },
      "source": [
        "#### Implement your distance metric"
      ]
    },
    {
      "cell_type": "code",
      "execution_count": 169,
      "metadata": {
        "id": "Ns6IIKo4jA5q"
      },
      "outputs": [],
      "source": [
        "# TODO - implement distance metric\n",
        "\n",
        "def custom_distance(a, b, debug=False):\n",
        "\n",
        "  # fill in your solution here!\n",
        "\n",
        "    # Create a mask for NaNs\n",
        "    nan_mask_a = np.isnan(a)\n",
        "    nan_mask_b = np.isnan(b)\n",
        "    nan_mask = nan_mask_a | nan_mask_b\n",
        "\n",
        "    # Compute the differences ignoring NaNs\n",
        "    differences = np.abs(a - b)\n",
        "    differences[nan_mask] = 0  # Set differences to 0 where NaNs are present\n",
        "\n",
        "    # Compute the total difference (L1 distance for known values)\n",
        "    total_dif = np.nansum(differences, axis=1)\n",
        "\n",
        "    # Compute the number of NaNs in either a or b\n",
        "    total_nan = np.sum(nan_mask, axis=1)\n",
        "\n",
        "    # Calculate the distance by considering both total_dif and total_nan\n",
        "    # Adding a small constant to avoid zero max_diff issue\n",
        "    max_diff = np.nanmax(differences) + 1e-8\n",
        "\n",
        "    # Adjust distances: add a penalty for NaNs, ensuring it doesn't dominate\n",
        "    distances = total_dif + total_nan * (max_diff * 0.5)\n",
        "\n",
        "    if debug:\n",
        "        # Return distances along with intermediate variables if debug is True\n",
        "        return distances, {'total_dif': total_dif, 'total_nan': total_nan}\n",
        "    else:\n",
        "        # Return only the distances if debug is False\n",
        "        return distances\n"
      ]
    },
    {
      "cell_type": "markdown",
      "metadata": {
        "id": "Zwmg9uKOjA5q"
      },
      "source": [
        "#### Test cases for your distance metric"
      ]
    },
    {
      "cell_type": "markdown",
      "metadata": {
        "id": "_IBG_FwHjA5q"
      },
      "source": [
        "You can use these test samples to check your work. (But, your metric should also satisfy the criteria in general - not only for these specific cases!)"
      ]
    },
    {
      "cell_type": "markdown",
      "metadata": {
        "id": "Y9RAlQfqjA5r"
      },
      "source": [
        "First criteria: if two samples are identical, the distance between them should be zero."
      ]
    },
    {
      "cell_type": "code",
      "execution_count": 170,
      "metadata": {
        "id": "QTxbAckMjA5r"
      },
      "outputs": [],
      "source": [
        "a = np.array([[0, 1, 0,      1, 0, 0.3]] )  # A0 - test sample\n",
        "b = np.array([[0, 1, 0,      1, 0, 0.3]] )  # B0 - same as A0, should have 0 distance\n"
      ]
    },
    {
      "cell_type": "code",
      "execution_count": 171,
      "metadata": {
        "colab": {
          "base_uri": "https://localhost:8080/"
        },
        "id": "zoTyJolajA5r",
        "outputId": "2af36bc9-ae6c-4ce5-831b-0b12d25e04d1"
      },
      "outputs": [
        {
          "name": "stdout",
          "output_type": "stream",
          "text": [
            "[[0.]]\n"
          ]
        }
      ],
      "source": [
        "distances_ex = np.zeros(shape=(len(a), len(b)))\n",
        "for idx, a_i in enumerate(a):\n",
        "  distances_ex[idx] = custom_distance(a_i, b)\n",
        "\n",
        "print(distances_ex)"
      ]
    },
    {
      "cell_type": "markdown",
      "metadata": {
        "id": "k4H9mMGXjA5r"
      },
      "source": [
        "Second criteria: as the extent of *difference* between two samples increases, the distance should increase."
      ]
    },
    {
      "cell_type": "markdown",
      "metadata": {
        "id": "NGl3l0W0jA5s"
      },
      "source": [
        "These should have *increasing* distance:"
      ]
    },
    {
      "cell_type": "code",
      "execution_count": 172,
      "metadata": {
        "id": "e1sjxgPPjA5s"
      },
      "outputs": [],
      "source": [
        "a = np.array([[0, 1, 0,      1, 0, 0.3]] )  # A0 - test sample\n",
        "b = np.array([[0, 1, 0,      1, 0, 0.3],              # B0 - same as A0, should have 0 distance\n",
        "              [0, 1, 0,      1, 0, 0.5],              # B1 - has one small difference, should have larger distance than B0\n",
        "              [0, 1, 0,      1, 0, 1  ],              # B2 - has more difference, should have larger distance than B1\n",
        "              [0, 0, 0,      1, 0, 0  ],              # B3 - has even more difference\n",
        "              [1, 0, 1,      0, 1, 0  ]])             # B4 - has the most difference"
      ]
    },
    {
      "cell_type": "code",
      "execution_count": 173,
      "metadata": {
        "colab": {
          "base_uri": "https://localhost:8080/"
        },
        "id": "AyDkwwy0jA5s",
        "outputId": "04690177-b038-4927-a858-dc2efcc1d844"
      },
      "outputs": [
        {
          "name": "stdout",
          "output_type": "stream",
          "text": [
            "[[0.  0.2 0.7 1.3 5.3]]\n"
          ]
        }
      ],
      "source": [
        "distances_ex = np.zeros(shape=(len(a), len(b)))\n",
        "for idx, a_i in enumerate(a):\n",
        "  distances_ex[idx] = custom_distance(a_i, b)\n",
        "\n",
        "print(distances_ex)"
      ]
    },
    {
      "cell_type": "markdown",
      "metadata": {
        "id": "gpbGnWa6jA5s"
      },
      "source": [
        "These should have *decreasing* distance:"
      ]
    },
    {
      "cell_type": "code",
      "execution_count": 174,
      "metadata": {
        "id": "iUKhTDuHjA5s"
      },
      "outputs": [],
      "source": [
        "a = np.array([[0, 1, 0, 1, 0, 1]] )            # A0 - test sample\n",
        "b = np.array([[1, 0, 1, 0, 1, 0],              # B0 - completely different, should have large distance\n",
        "              [1, 0, 1, 0, 1, np.nan],         # B1 - less difference than B0, should have less distance\n",
        "              [1, 0, 1, 0, np.nan, np.nan]])   # B2 - even less difference than B1, should have less distance"
      ]
    },
    {
      "cell_type": "code",
      "execution_count": 175,
      "metadata": {
        "colab": {
          "base_uri": "https://localhost:8080/"
        },
        "id": "J0NtdFDGjA5s",
        "outputId": "95c12321-14f8-4b70-ac1b-f95e5f997390"
      },
      "outputs": [
        {
          "name": "stdout",
          "output_type": "stream",
          "text": [
            "[[6.  5.5 5. ]]\n"
          ]
        }
      ],
      "source": [
        "distances_ex = np.zeros(shape=(len(a), len(b)))\n",
        "for idx, a_i in enumerate(a):\n",
        "  distances_ex[idx] = custom_distance(a_i, b)\n",
        "\n",
        "print(distances_ex)"
      ]
    },
    {
      "cell_type": "markdown",
      "metadata": {
        "id": "u0ntmmnPjA5t"
      },
      "source": [
        "Third criteria: as the extent of *similarity* between two samples increases, the distance should decrease."
      ]
    },
    {
      "cell_type": "markdown",
      "metadata": {
        "id": "kX1HFC1MjA5t"
      },
      "source": [
        "These should have *increasing* distance:"
      ]
    },
    {
      "cell_type": "code",
      "execution_count": 176,
      "metadata": {
        "id": "SSzIviHrjA5t"
      },
      "outputs": [],
      "source": [
        "a = np.array([[0, 1, 0, 1, 0, 0.3]] )  # A0 - test sample\n",
        "b = np.array([[0, 1, 0, 1, 0, 0.3],              # B0 - same as A0, should have 0 distance\n",
        "              [0, 1, 0, 1, 0, np.nan],           # B1 - has less similarity than B0, should have larger distance\n",
        "              [0, 1, 0, 1, np.nan, np.nan],      # B2 - has even less similarity, should have larger distance\n",
        "              [0, np.nan, np.nan, np.nan, np.nan, np.nan]])     # B3 - has least similarity, should have larger distance"
      ]
    },
    {
      "cell_type": "code",
      "execution_count": 177,
      "metadata": {
        "colab": {
          "base_uri": "https://localhost:8080/"
        },
        "id": "eqlk6KWyjA5t",
        "outputId": "5664d26c-ab57-4734-d993-348e335d7dad"
      },
      "outputs": [
        {
          "name": "stdout",
          "output_type": "stream",
          "text": [
            "[[0. 0. 0. 0.]]\n"
          ]
        }
      ],
      "source": [
        "distances_ex = np.zeros(shape=(len(a), len(b)))\n",
        "for idx, a_i in enumerate(a):\n",
        "  distances_ex[idx] = custom_distance(a_i, b)\n",
        "\n",
        "print(distances_ex)"
      ]
    },
    {
      "cell_type": "markdown",
      "metadata": {
        "id": "QP7ekiMKjA5t"
      },
      "source": [
        "Fourth criteria: if in a pair of samples one or both have a NaN value for a given feature, the similarity or difference of this feature is *unknown*. Your distance metric should compute a smaller distance for a pair of samples with many similarities (even if there is some small difference) than for a pair of samples with mostly unknown similarity."
      ]
    },
    {
      "cell_type": "markdown",
      "metadata": {
        "id": "Aw5j2dBfjA5u"
      },
      "source": [
        "These should have *increasing* distance:"
      ]
    },
    {
      "cell_type": "code",
      "execution_count": 178,
      "metadata": {
        "id": "8DBzGWYyjA5u"
      },
      "outputs": [],
      "source": [
        "a = np.array([[0, np.nan, 0, 1, np.nan, 0.3]] )  # A0 - test sample\n",
        "b = np.array([[0, np.nan, 0, 1, 0,      0.5],                # B0 - three similar features, one small difference\n",
        "              [0, np.nan, np.nan, np.nan, np.nan, np.nan]])  # B1 - much less similarity than B0, should have larger distance\n"
      ]
    },
    {
      "cell_type": "code",
      "execution_count": 179,
      "metadata": {
        "colab": {
          "base_uri": "https://localhost:8080/"
        },
        "id": "q_7rcdaMjA5u",
        "outputId": "0fea48ab-bf35-4d63-ac0c-c3cce176b33b"
      },
      "outputs": [
        {
          "name": "stdout",
          "output_type": "stream",
          "text": [
            "[[0.4 0.5]]\n"
          ]
        }
      ],
      "source": [
        "distances_ex = np.zeros(shape=(len(a), len(b)))\n",
        "for idx, a_i in enumerate(a):\n",
        "  distances_ex[idx] = custom_distance(a_i, b)\n",
        "\n",
        "print(distances_ex)"
      ]
    },
    {
      "cell_type": "markdown",
      "metadata": {
        "id": "XARtcCI0jA5v"
      },
      "source": [
        "### Encode more features"
      ]
    },
    {
      "cell_type": "markdown",
      "metadata": {
        "id": "NVCaug8IjA5v"
      },
      "source": [
        "Our basic classifier used three features: age, race, and education. But there are many more features in this data that may be predictive of vote:\n",
        "\n",
        "-   More demographic information: `INCOME16GEN`, `MARRIED`, `RELIGN10`, `ATTEND16`, `LGBT`, `VETVOTER`, `SEX`\n",
        "-   Opinions about political issues and about what factors are most important in determining which candidate to vote for: `TRACK`, `SUPREME16`, `FINSIT`, `IMMWALL`, `ISIS16`, `LIFE`, `TRADE16`, `HEALTHCARE16`, `GOVTDO10`, `GOVTANGR16`, `QLT16`, `ISSUE16`, `NEC`\n",
        "\n",
        "in addition to the features `AGE`, `RACE`, and `EDUC12R`.\n",
        "\n",
        "You will try to improve the model by adding some of these features.\n",
        "\n",
        "(Note that we will *not* use questions that directly ask the participants how they feel about individual candidates, or about their party affiliation or political leaning. These features are a close proxy for the target variable, and we’re going to assume that these are not available to the model.)"
      ]
    },
    {
      "cell_type": "markdown",
      "metadata": {
        "id": "dD7md9GojA5v"
      },
      "source": [
        "Refer to the PDF documentation to see the question and the possible answers corresponding to each of these features. You may also choose to do some exploratory data analysis, to help you understand these features better.\n",
        "\n",
        "For your convenience, here are all the possible answers to those survey questions:"
      ]
    },
    {
      "cell_type": "code",
      "execution_count": 180,
      "metadata": {
        "colab": {
          "base_uri": "https://localhost:8080/"
        },
        "id": "ua1AjFrRjA5w",
        "outputId": "5b1a42ad-568b-45df-a1e8-6fb132a6d868"
      },
      "outputs": [
        {
          "name": "stdout",
          "output_type": "stream",
          "text": [
            "INCOME16GEN\n",
            "INCOME16GEN\n",
            "$50,000-$99,999      307\n",
            "$100,000-$199,999    223\n",
            "$30,000-$49,999      214\n",
            "Under $30,000        206\n",
            "$250,000 or more      54\n",
            "$200.000-$249,999     40\n",
            "Name: count, dtype: int64\n",
            "***************************************************\n",
            "MARRIED\n",
            "MARRIED\n",
            "Yes    567\n",
            "No     369\n",
            "Name: count, dtype: int64\n",
            "***************************************************\n",
            "RELIGN10\n",
            "RELIGN10\n",
            "Protestant         201\n",
            "Catholic            58\n",
            "Other christian     14\n",
            "Jewish               3\n",
            "Other                3\n",
            "Name: count, dtype: int64\n",
            "***************************************************\n",
            "ATTEND16\n",
            "ATTEND16\n",
            "Once a week or more    124\n",
            "A few times a year      82\n",
            "Never                   68\n",
            "A few times a month     59\n",
            "Name: count, dtype: int64\n",
            "***************************************************\n",
            "LGBT\n",
            "LGBT\n",
            "No     313\n",
            "Yes     11\n",
            "Name: count, dtype: int64\n",
            "***************************************************\n",
            "VETVOTER\n",
            "VETVOTER\n",
            "No     503\n",
            "Yes    108\n",
            "Name: count, dtype: int64\n",
            "***************************************************\n",
            "SEX\n",
            "SEX\n",
            "Female    1561\n",
            "Male      1267\n",
            "Name: count, dtype: int64\n",
            "***************************************************\n",
            "TRACK\n",
            "TRACK\n",
            "Seriously off on the wrong track          201\n",
            "Generally going in the right direction    110\n",
            "Omit                                       28\n",
            "Name: count, dtype: int64\n",
            "***************************************************\n",
            "SUPREME16\n",
            "SUPREME16\n",
            "An important factor          155\n",
            "The most important factor     80\n",
            "Not a factor at all           51\n",
            "A minor factor                39\n",
            "Omit                          14\n",
            "Name: count, dtype: int64\n",
            "***************************************************\n",
            "FINSIT\n",
            "FINSIT\n",
            "About the same    284\n",
            "Better today      161\n",
            "Worse today       160\n",
            "Omit                8\n",
            "Name: count, dtype: int64\n",
            "***************************************************\n",
            "IMMWALL\n",
            "IMMWALL\n",
            "Oppose     335\n",
            "Support    226\n",
            "Omit        52\n",
            "Name: count, dtype: int64\n",
            "***************************************************\n",
            "ISIS16\n",
            "ISIS16\n",
            "Somewhat well     219\n",
            "Somewhat badly    150\n",
            "Very badly        142\n",
            "Omit               64\n",
            "Very well          38\n",
            "Name: count, dtype: int64\n",
            "***************************************************\n",
            "LIFE\n",
            "LIFE\n",
            "Worse than life today     223\n",
            "Better than life today    199\n",
            "About the same            143\n",
            "Omit                       65\n",
            "Name: count, dtype: int64\n",
            "***************************************************\n",
            "TRADE16\n",
            "TRADE16\n",
            "Takes away U.S. jobs          237\n",
            "Creates more U.S. jobs        208\n",
            "Omit                          104\n",
            "Has no effect on U.S. jobs     81\n",
            "Name: count, dtype: int64\n",
            "***************************************************\n",
            "HEALTHCARE16\n",
            "HEALTHCARE16\n",
            "Went too far             276\n",
            "Did not go far enough    202\n",
            "Was about right           94\n",
            "Omit                      58\n",
            "Name: count, dtype: int64\n",
            "***************************************************\n",
            "GOVTDO10\n",
            "GOVTDO10\n",
            "Government is doing too many things better left to businesses and individuals    331\n",
            "Government should do more to solve problems                                      249\n",
            "Omit                                                                              50\n",
            "Name: count, dtype: int64\n",
            "***************************************************\n",
            "GOVTANGR16\n",
            "GOVTANGR16\n",
            "Dissatisfied, but not angry        280\n",
            "Angry                              168\n",
            "Satisfied, but not enthusiastic    155\n",
            "Enthusiastic                        23\n",
            "Omit                                10\n",
            "Name: count, dtype: int64\n",
            "***************************************************\n",
            "QLT16\n",
            "QLT16\n",
            "Can bring needed change       361\n",
            "Has the right experience      322\n",
            "Has good judgment             295\n",
            "Cares about people like me    206\n",
            "Omit                           62\n",
            "Name: count, dtype: int64\n",
            "***************************************************\n",
            "ISSUE16\n",
            "ISSUE16\n",
            "The economy       571\n",
            "Terrorism         258\n",
            "Foreign policy    182\n",
            "Immigration       164\n",
            "Omit               71\n",
            "Name: count, dtype: int64\n",
            "***************************************************\n",
            "NEC\n",
            "NEC\n",
            "Good           221\n",
            "Not so good    219\n",
            "Poor           160\n",
            "Excellent       28\n",
            "Omit             8\n",
            "Name: count, dtype: int64\n",
            "***************************************************\n"
          ]
        }
      ],
      "source": [
        "features = ['INCOME16GEN', 'MARRIED', 'RELIGN10', 'ATTEND16', 'LGBT', 'VETVOTER',\n",
        "            'SEX', 'TRACK', 'SUPREME16',  'FINSIT', 'IMMWALL', 'ISIS16', 'LIFE',\n",
        "            'TRADE16', 'HEALTHCARE16', 'GOVTDO10', 'GOVTANGR16', 'QLT16',\n",
        "            'ISSUE16', 'NEC']\n",
        "\n",
        "for f in features:\n",
        "  print(f)\n",
        "  print(df[f].value_counts())\n",
        "  print(\"***************************************************\")\n"
      ]
    },
    {
      "cell_type": "markdown",
      "metadata": {
        "id": "9J9QilAbjA5w"
      },
      "source": [
        "#### 📝 Specific requirements\n",
        "\n",
        "It is up to you to decide which features to include in your model, from the features in the following list: `INCOME16GEN`, `MARRIED`, `RELIGN10`, `ATTEND16`, `LGBT`, `VETVOTER`, `SEX`, `TRACK`, `SUPREME16`, `FINSIT`, `IMMWALL`, `ISIS16`, `LIFE`, `TRADE16`, `HEALTHCARE16`, `GOVTDO10`, `GOVTANGR16`, `QLT16`, `ISSUE16`, `NEC`, `AGE`, `RACE`, `EDUC12R`.\n",
        "\n",
        "However, you must encode at least eight features, including:\n",
        "\n",
        "-   at least four features that are encoded using an ordinal encoder because they have a logical order (and you should include an explicit mapping for these), and\n",
        "-   at least four features that are encoded using one-hot encoding because they have no logical order.\n",
        "\n",
        "Binary features - features that can take on only two values - “count” toward either category.\n",
        "\n",
        "(If you decide to use the features I used above, they do “count” as part of the four. For example, you could use age, education, and two additional ordinal-encoded features, and race and three other one-hot-encoded features.)\n",
        "\n",
        "You will also be required to justify your decision, specifically with respect to the “missing values” aspect. Make sure you are including some informative features from *each* of the survey versions. After feature encoding, you should compute the number of non-missing values per row, and report some summary statistics about this value."
      ]
    },
    {
      "cell_type": "markdown",
      "metadata": {
        "id": "IXT_NDmmjA5x"
      },
      "source": [
        "#### Encode ordinal features"
      ]
    },
    {
      "cell_type": "markdown",
      "metadata": {
        "id": "B_IVfcIpjA5x"
      },
      "source": [
        "In the following cells, prepare your ordinal encoded features as demonstrated in the “Prepare data \\> Encode ordinal features” section earlier in this notebook.\n",
        "\n",
        "Use at least four features that are encoded using an ordinal encoder. (You can choose which features to include, but they should be either binary features, or features for which the values have a logical ordering that should be preserved in the distance computations!)\n",
        "\n",
        "Also:\n",
        "\n",
        "-   Save the ordinal-encoded columnns in a data frame called `df_enc_ord`.\n",
        "-   You should explicitly specify the mappings for these, so that you can be sure that they are encoded using the correct logical order.\n",
        "-   For some questions, there is also an “Omit” answer - if a respondent left that question blank on the questionnaire, the value for that question will be “Omit”. Since “Omit” has no logical place in the order, we’re going to treat these as missing values: don’t include “Omit” in your `mapping_ord` dictionary, and then these Omit values will be encoded as NaN.\n",
        "-   Make sure to scale each column to the range 0-1, as demonstrated in the “Prepare data \\> Encode ordinal features” section earlier in this notebook."
      ]
    },
    {
      "cell_type": "code",
      "execution_count": 181,
      "metadata": {
        "colab": {
          "base_uri": "https://localhost:8080/"
        },
        "id": "_L6rbOp4jA5x",
        "outputId": "bf2e1d03-991d-40ee-ad64-4add3abcb654"
      },
      "outputs": [
        {
          "name": "stdout",
          "output_type": "stream",
          "text": [
            "        AGE   EDUC12R  FINSIT  TRACK\n",
            "0  0.000000  0.333333     NaN    NaN\n",
            "1  0.000000  0.666667     NaN    NaN\n",
            "2  0.333333  0.666667     NaN    NaN\n",
            "3  0.333333  0.333333     NaN    NaN\n",
            "4  0.666667  1.000000     NaN    NaN\n"
          ]
        }
      ],
      "source": [
        "# TODO - encode ordinal features\n",
        "\n",
        "# set up mapping dictionary and list of features to encode with ordinal encoding\n",
        "\n",
        "from sklearn.preprocessing import OrdinalEncoder, MinMaxScaler\n",
        "import numpy as np\n",
        "\n",
        "# Define mappings for ordinal and binary encoding\n",
        "mapping_dict_age = {'18-29': 0, '30-44': 1, '45-65': 2, '65+': 3}\n",
        "mapping_dict_educ12r = {'High school or less': 0, 'Some college/assoc. degree': 1, 'College graduate': 2, 'Postgraduate study': 3}\n",
        "mapping_dict_finsit = {'Better today': 0, 'Worse today': 2, 'About the same': 1}\n",
        "mapping_dict_track = {'Generally going in the right direction': 0, 'Seriously off on the wrong track': 1}\n",
        "\n",
        "# Apply mappings\n",
        "df['AGE'] = df['AGE'].map(mapping_dict_age)\n",
        "df['EDUC12R'] = df['EDUC12R'].map(mapping_dict_educ12r)\n",
        "df['FINSIT'] = df['FINSIT'].map(mapping_dict_finsit)\n",
        "df['TRACK'] = df['TRACK'].map(mapping_dict_track)\n",
        "\n",
        "# Handle missing values by filling them with a value that makes sense in the context\n",
        "#df.fillna({'AGE': df['AGE'].min(), 'EDUC12R': df['EDUC12R'].min(), 'FINSIT': df['FINSIT'].min(), 'TRACK': df['TRACK'].min()}, inplace=True)\n",
        "df.replace('Omit', np.nan, inplace=True)\n",
        "\n",
        "# Scaling\n",
        "scaler = MinMaxScaler()\n",
        "df[['AGE', 'EDUC12R', 'FINSIT', 'TRACK']] = scaler.fit_transform(df[['AGE', 'EDUC12R', 'FINSIT', 'TRACK']])\n",
        "\n",
        "# Combine columns into the final DataFrame\n",
        "df_enc_ord = df[['AGE', 'EDUC12R', 'FINSIT', 'TRACK']]\n",
        "\n",
        "# Display the DataFrame to check the transformation\n",
        "print(df_enc_ord.head())\n"
      ]
    },
    {
      "cell_type": "markdown",
      "metadata": {
        "id": "x-maJEDljA5x"
      },
      "source": [
        "Look at the encoded data to check your work:"
      ]
    },
    {
      "cell_type": "code",
      "execution_count": 182,
      "metadata": {
        "colab": {
          "base_uri": "https://localhost:8080/",
          "height": 300
        },
        "id": "pY1FGPCSjA5y",
        "outputId": "57c23f1b-df6a-42ad-9507-a91f99d7db97"
      },
      "outputs": [
        {
          "data": {
            "application/vnd.google.colaboratory.intrinsic+json": {
              "summary": "{\n  \"name\": \"df_enc_ord\",\n  \"rows\": 8,\n  \"fields\": [\n    {\n      \"column\": \"AGE\",\n      \"properties\": {\n        \"dtype\": \"number\",\n        \"std\": 985.4871302499416,\n        \"min\": 0.0,\n        \"max\": 2788.0,\n        \"num_unique_values\": 6,\n        \"samples\": [\n          2788.0,\n          0.7185557149689145,\n          1.0\n        ],\n        \"semantic_type\": \"\",\n        \"description\": \"\"\n      }\n    },\n    {\n      \"column\": \"EDUC12R\",\n      \"properties\": {\n        \"dtype\": \"number\",\n        \"std\": 988.3581270019936,\n        \"min\": 0.0,\n        \"max\": 2796.0,\n        \"num_unique_values\": 7,\n        \"samples\": [\n          2796.0,\n          0.49856938483547925,\n          0.6666666666666666\n        ],\n        \"semantic_type\": \"\",\n        \"description\": \"\"\n      }\n    },\n    {\n      \"column\": \"FINSIT\",\n      \"properties\": {\n        \"dtype\": \"number\",\n        \"std\": 213.7302493585099,\n        \"min\": 0.0,\n        \"max\": 605.0,\n        \"num_unique_values\": 6,\n        \"samples\": [\n          605.0,\n          0.4991735537190083,\n          1.0\n        ],\n        \"semantic_type\": \"\",\n        \"description\": \"\"\n      }\n    },\n    {\n      \"column\": \"TRACK\",\n      \"properties\": {\n        \"dtype\": \"number\",\n        \"std\": 109.74754237573909,\n        \"min\": 0.0,\n        \"max\": 311.0,\n        \"num_unique_values\": 5,\n        \"samples\": [\n          0.6463022508038585,\n          1.0,\n          0.4788873111044529\n        ],\n        \"semantic_type\": \"\",\n        \"description\": \"\"\n      }\n    }\n  ]\n}",
              "type": "dataframe"
            },
            "text/html": [
              "\n",
              "  <div id=\"df-0fa57562-16b9-4b36-b6ce-21de43987cd8\" class=\"colab-df-container\">\n",
              "    <div>\n",
              "<style scoped>\n",
              "    .dataframe tbody tr th:only-of-type {\n",
              "        vertical-align: middle;\n",
              "    }\n",
              "\n",
              "    .dataframe tbody tr th {\n",
              "        vertical-align: top;\n",
              "    }\n",
              "\n",
              "    .dataframe thead th {\n",
              "        text-align: right;\n",
              "    }\n",
              "</style>\n",
              "<table border=\"1\" class=\"dataframe\">\n",
              "  <thead>\n",
              "    <tr style=\"text-align: right;\">\n",
              "      <th></th>\n",
              "      <th>AGE</th>\n",
              "      <th>EDUC12R</th>\n",
              "      <th>FINSIT</th>\n",
              "      <th>TRACK</th>\n",
              "    </tr>\n",
              "  </thead>\n",
              "  <tbody>\n",
              "    <tr>\n",
              "      <th>count</th>\n",
              "      <td>2788.000000</td>\n",
              "      <td>2796.000000</td>\n",
              "      <td>605.000000</td>\n",
              "      <td>311.000000</td>\n",
              "    </tr>\n",
              "    <tr>\n",
              "      <th>mean</th>\n",
              "      <td>0.718556</td>\n",
              "      <td>0.498569</td>\n",
              "      <td>0.499174</td>\n",
              "      <td>0.646302</td>\n",
              "    </tr>\n",
              "    <tr>\n",
              "      <th>std</th>\n",
              "      <td>0.299533</td>\n",
              "      <td>0.343086</td>\n",
              "      <td>0.364505</td>\n",
              "      <td>0.478887</td>\n",
              "    </tr>\n",
              "    <tr>\n",
              "      <th>min</th>\n",
              "      <td>0.000000</td>\n",
              "      <td>0.000000</td>\n",
              "      <td>0.000000</td>\n",
              "      <td>0.000000</td>\n",
              "    </tr>\n",
              "    <tr>\n",
              "      <th>25%</th>\n",
              "      <td>0.666667</td>\n",
              "      <td>0.333333</td>\n",
              "      <td>0.000000</td>\n",
              "      <td>0.000000</td>\n",
              "    </tr>\n",
              "    <tr>\n",
              "      <th>50%</th>\n",
              "      <td>0.666667</td>\n",
              "      <td>0.666667</td>\n",
              "      <td>0.500000</td>\n",
              "      <td>1.000000</td>\n",
              "    </tr>\n",
              "    <tr>\n",
              "      <th>75%</th>\n",
              "      <td>1.000000</td>\n",
              "      <td>0.666667</td>\n",
              "      <td>1.000000</td>\n",
              "      <td>1.000000</td>\n",
              "    </tr>\n",
              "    <tr>\n",
              "      <th>max</th>\n",
              "      <td>1.000000</td>\n",
              "      <td>1.000000</td>\n",
              "      <td>1.000000</td>\n",
              "      <td>1.000000</td>\n",
              "    </tr>\n",
              "  </tbody>\n",
              "</table>\n",
              "</div>\n",
              "    <div class=\"colab-df-buttons\">\n",
              "\n",
              "  <div class=\"colab-df-container\">\n",
              "    <button class=\"colab-df-convert\" onclick=\"convertToInteractive('df-0fa57562-16b9-4b36-b6ce-21de43987cd8')\"\n",
              "            title=\"Convert this dataframe to an interactive table.\"\n",
              "            style=\"display:none;\">\n",
              "\n",
              "  <svg xmlns=\"http://www.w3.org/2000/svg\" height=\"24px\" viewBox=\"0 -960 960 960\">\n",
              "    <path d=\"M120-120v-720h720v720H120Zm60-500h600v-160H180v160Zm220 220h160v-160H400v160Zm0 220h160v-160H400v160ZM180-400h160v-160H180v160Zm440 0h160v-160H620v160ZM180-180h160v-160H180v160Zm440 0h160v-160H620v160Z\"/>\n",
              "  </svg>\n",
              "    </button>\n",
              "\n",
              "  <style>\n",
              "    .colab-df-container {\n",
              "      display:flex;\n",
              "      gap: 12px;\n",
              "    }\n",
              "\n",
              "    .colab-df-convert {\n",
              "      background-color: #E8F0FE;\n",
              "      border: none;\n",
              "      border-radius: 50%;\n",
              "      cursor: pointer;\n",
              "      display: none;\n",
              "      fill: #1967D2;\n",
              "      height: 32px;\n",
              "      padding: 0 0 0 0;\n",
              "      width: 32px;\n",
              "    }\n",
              "\n",
              "    .colab-df-convert:hover {\n",
              "      background-color: #E2EBFA;\n",
              "      box-shadow: 0px 1px 2px rgba(60, 64, 67, 0.3), 0px 1px 3px 1px rgba(60, 64, 67, 0.15);\n",
              "      fill: #174EA6;\n",
              "    }\n",
              "\n",
              "    .colab-df-buttons div {\n",
              "      margin-bottom: 4px;\n",
              "    }\n",
              "\n",
              "    [theme=dark] .colab-df-convert {\n",
              "      background-color: #3B4455;\n",
              "      fill: #D2E3FC;\n",
              "    }\n",
              "\n",
              "    [theme=dark] .colab-df-convert:hover {\n",
              "      background-color: #434B5C;\n",
              "      box-shadow: 0px 1px 3px 1px rgba(0, 0, 0, 0.15);\n",
              "      filter: drop-shadow(0px 1px 2px rgba(0, 0, 0, 0.3));\n",
              "      fill: #FFFFFF;\n",
              "    }\n",
              "  </style>\n",
              "\n",
              "    <script>\n",
              "      const buttonEl =\n",
              "        document.querySelector('#df-0fa57562-16b9-4b36-b6ce-21de43987cd8 button.colab-df-convert');\n",
              "      buttonEl.style.display =\n",
              "        google.colab.kernel.accessAllowed ? 'block' : 'none';\n",
              "\n",
              "      async function convertToInteractive(key) {\n",
              "        const element = document.querySelector('#df-0fa57562-16b9-4b36-b6ce-21de43987cd8');\n",
              "        const dataTable =\n",
              "          await google.colab.kernel.invokeFunction('convertToInteractive',\n",
              "                                                    [key], {});\n",
              "        if (!dataTable) return;\n",
              "\n",
              "        const docLinkHtml = 'Like what you see? Visit the ' +\n",
              "          '<a target=\"_blank\" href=https://colab.research.google.com/notebooks/data_table.ipynb>data table notebook</a>'\n",
              "          + ' to learn more about interactive tables.';\n",
              "        element.innerHTML = '';\n",
              "        dataTable['output_type'] = 'display_data';\n",
              "        await google.colab.output.renderOutput(dataTable, element);\n",
              "        const docLink = document.createElement('div');\n",
              "        docLink.innerHTML = docLinkHtml;\n",
              "        element.appendChild(docLink);\n",
              "      }\n",
              "    </script>\n",
              "  </div>\n",
              "\n",
              "\n",
              "<div id=\"df-faa0c59e-7a87-47be-b1f7-b2f9e3a05539\">\n",
              "  <button class=\"colab-df-quickchart\" onclick=\"quickchart('df-faa0c59e-7a87-47be-b1f7-b2f9e3a05539')\"\n",
              "            title=\"Suggest charts\"\n",
              "            style=\"display:none;\">\n",
              "\n",
              "<svg xmlns=\"http://www.w3.org/2000/svg\" height=\"24px\"viewBox=\"0 0 24 24\"\n",
              "     width=\"24px\">\n",
              "    <g>\n",
              "        <path d=\"M19 3H5c-1.1 0-2 .9-2 2v14c0 1.1.9 2 2 2h14c1.1 0 2-.9 2-2V5c0-1.1-.9-2-2-2zM9 17H7v-7h2v7zm4 0h-2V7h2v10zm4 0h-2v-4h2v4z\"/>\n",
              "    </g>\n",
              "</svg>\n",
              "  </button>\n",
              "\n",
              "<style>\n",
              "  .colab-df-quickchart {\n",
              "      --bg-color: #E8F0FE;\n",
              "      --fill-color: #1967D2;\n",
              "      --hover-bg-color: #E2EBFA;\n",
              "      --hover-fill-color: #174EA6;\n",
              "      --disabled-fill-color: #AAA;\n",
              "      --disabled-bg-color: #DDD;\n",
              "  }\n",
              "\n",
              "  [theme=dark] .colab-df-quickchart {\n",
              "      --bg-color: #3B4455;\n",
              "      --fill-color: #D2E3FC;\n",
              "      --hover-bg-color: #434B5C;\n",
              "      --hover-fill-color: #FFFFFF;\n",
              "      --disabled-bg-color: #3B4455;\n",
              "      --disabled-fill-color: #666;\n",
              "  }\n",
              "\n",
              "  .colab-df-quickchart {\n",
              "    background-color: var(--bg-color);\n",
              "    border: none;\n",
              "    border-radius: 50%;\n",
              "    cursor: pointer;\n",
              "    display: none;\n",
              "    fill: var(--fill-color);\n",
              "    height: 32px;\n",
              "    padding: 0;\n",
              "    width: 32px;\n",
              "  }\n",
              "\n",
              "  .colab-df-quickchart:hover {\n",
              "    background-color: var(--hover-bg-color);\n",
              "    box-shadow: 0 1px 2px rgba(60, 64, 67, 0.3), 0 1px 3px 1px rgba(60, 64, 67, 0.15);\n",
              "    fill: var(--button-hover-fill-color);\n",
              "  }\n",
              "\n",
              "  .colab-df-quickchart-complete:disabled,\n",
              "  .colab-df-quickchart-complete:disabled:hover {\n",
              "    background-color: var(--disabled-bg-color);\n",
              "    fill: var(--disabled-fill-color);\n",
              "    box-shadow: none;\n",
              "  }\n",
              "\n",
              "  .colab-df-spinner {\n",
              "    border: 2px solid var(--fill-color);\n",
              "    border-color: transparent;\n",
              "    border-bottom-color: var(--fill-color);\n",
              "    animation:\n",
              "      spin 1s steps(1) infinite;\n",
              "  }\n",
              "\n",
              "  @keyframes spin {\n",
              "    0% {\n",
              "      border-color: transparent;\n",
              "      border-bottom-color: var(--fill-color);\n",
              "      border-left-color: var(--fill-color);\n",
              "    }\n",
              "    20% {\n",
              "      border-color: transparent;\n",
              "      border-left-color: var(--fill-color);\n",
              "      border-top-color: var(--fill-color);\n",
              "    }\n",
              "    30% {\n",
              "      border-color: transparent;\n",
              "      border-left-color: var(--fill-color);\n",
              "      border-top-color: var(--fill-color);\n",
              "      border-right-color: var(--fill-color);\n",
              "    }\n",
              "    40% {\n",
              "      border-color: transparent;\n",
              "      border-right-color: var(--fill-color);\n",
              "      border-top-color: var(--fill-color);\n",
              "    }\n",
              "    60% {\n",
              "      border-color: transparent;\n",
              "      border-right-color: var(--fill-color);\n",
              "    }\n",
              "    80% {\n",
              "      border-color: transparent;\n",
              "      border-right-color: var(--fill-color);\n",
              "      border-bottom-color: var(--fill-color);\n",
              "    }\n",
              "    90% {\n",
              "      border-color: transparent;\n",
              "      border-bottom-color: var(--fill-color);\n",
              "    }\n",
              "  }\n",
              "</style>\n",
              "\n",
              "  <script>\n",
              "    async function quickchart(key) {\n",
              "      const quickchartButtonEl =\n",
              "        document.querySelector('#' + key + ' button');\n",
              "      quickchartButtonEl.disabled = true;  // To prevent multiple clicks.\n",
              "      quickchartButtonEl.classList.add('colab-df-spinner');\n",
              "      try {\n",
              "        const charts = await google.colab.kernel.invokeFunction(\n",
              "            'suggestCharts', [key], {});\n",
              "      } catch (error) {\n",
              "        console.error('Error during call to suggestCharts:', error);\n",
              "      }\n",
              "      quickchartButtonEl.classList.remove('colab-df-spinner');\n",
              "      quickchartButtonEl.classList.add('colab-df-quickchart-complete');\n",
              "    }\n",
              "    (() => {\n",
              "      let quickchartButtonEl =\n",
              "        document.querySelector('#df-faa0c59e-7a87-47be-b1f7-b2f9e3a05539 button');\n",
              "      quickchartButtonEl.style.display =\n",
              "        google.colab.kernel.accessAllowed ? 'block' : 'none';\n",
              "    })();\n",
              "  </script>\n",
              "</div>\n",
              "\n",
              "    </div>\n",
              "  </div>\n"
            ],
            "text/plain": [
              "               AGE      EDUC12R      FINSIT       TRACK\n",
              "count  2788.000000  2796.000000  605.000000  311.000000\n",
              "mean      0.718556     0.498569    0.499174    0.646302\n",
              "std       0.299533     0.343086    0.364505    0.478887\n",
              "min       0.000000     0.000000    0.000000    0.000000\n",
              "25%       0.666667     0.333333    0.000000    0.000000\n",
              "50%       0.666667     0.666667    0.500000    1.000000\n",
              "75%       1.000000     0.666667    1.000000    1.000000\n",
              "max       1.000000     1.000000    1.000000    1.000000"
            ]
          },
          "execution_count": 182,
          "metadata": {},
          "output_type": "execute_result"
        }
      ],
      "source": [
        "df_enc_ord.describe()"
      ]
    },
    {
      "cell_type": "markdown",
      "metadata": {
        "id": "n_0me4i3jA5y"
      },
      "source": [
        "#### Encode categorical features"
      ]
    },
    {
      "cell_type": "markdown",
      "metadata": {
        "id": "V1NhN4nPjA5y"
      },
      "source": [
        "In the following cells, prepare your categorical encoded features as demonstrated in the “Prepare data \\> Encode categorical features” section earlier in this notebook.\n",
        "\n",
        "Use at least four features that are encoded using an categorical encoder. (You can choose which features to include, but they should be either binary features, or features for which the values do *not* have a logical ordering that should be preserved in the distance computations!)\n",
        "\n",
        "Also:\n",
        "\n",
        "-   Save the categorical-encoded columnns in a data frame called `df_enc_oh`.\n",
        "-   For some questions, there is also an “Omit” answer - if a respondent left that question blank on the questionnaire, the value for that question will be “Omit”. We’re going to treat these as missing values. Before encoding the NaN values, you should drop the column corresponding to the “Omit” value from the data frame."
      ]
    },
    {
      "cell_type": "code",
      "execution_count": 183,
      "metadata": {
        "colab": {
          "base_uri": "https://localhost:8080/"
        },
        "id": "QBWC2e09jA5y",
        "outputId": "98a0a4c0-cd6d-4c14-ad59-6bc42ac0c50b"
      },
      "outputs": [
        {
          "name": "stdout",
          "output_type": "stream",
          "text": [
            "   MARRIED_No  MARRIED_Yes  ISSUE16_Foreign policy  ISSUE16_Immigration  \\\n",
            "0         0.0          1.0                     1.0                  0.0   \n",
            "1         0.0          1.0                     0.0                  0.0   \n",
            "2         0.0          1.0                     1.0                  0.0   \n",
            "3         1.0          0.0                     0.0                  0.0   \n",
            "4         1.0          0.0                     0.0                  0.0   \n",
            "\n",
            "   ISSUE16_Terrorism  ISSUE16_The economy  LGBT_No  LGBT_Yes  RACE_Asian  \\\n",
            "0                0.0                  0.0      NaN       NaN         0.0   \n",
            "1                0.0                  1.0      NaN       NaN         0.0   \n",
            "2                0.0                  0.0      NaN       NaN         1.0   \n",
            "3                0.0                  1.0      NaN       NaN         0.0   \n",
            "4                1.0                  0.0      NaN       NaN         0.0   \n",
            "\n",
            "   RACE_Black  RACE_Hispanic/Latino  RACE_Other  RACE_White  \n",
            "0         0.0                   1.0         0.0         0.0  \n",
            "1         0.0                   1.0         0.0         0.0  \n",
            "2         0.0                   0.0         0.0         0.0  \n",
            "3         0.0                   0.0         1.0         0.0  \n",
            "4         1.0                   0.0         0.0         0.0  \n"
          ]
        }
      ],
      "source": [
        "# TODO - encode categorical features\n",
        "\n",
        "\n",
        "# use get_dummies to get the encoded columns, stack and save in df_enc_oh\n",
        "columns_to_encode = ['MARRIED', 'ISSUE16', 'LGBT',  'RACE']\n",
        "\n",
        "# Use get_dummies to encode the columns as one-hot encoding\n",
        "# Specify the data type as np.int32\n",
        "df_encoded = pd.get_dummies(df[columns_to_encode], dtype=np.int32)\n",
        "\n",
        "# Check for any missing values and if a sample did not have a value for a particular feature,\n",
        "# assign NaN to all columns corresponding to that feature for that sample\n",
        "for col in columns_to_encode:\n",
        "    missing_mask = df[col].isna()  # Find where the original data was NaN\n",
        "    encoded_cols = df_encoded.columns[df_encoded.columns.str.startswith(col + '_')]  # Get all dummy columns for the feature\n",
        "    df_encoded.loc[missing_mask, encoded_cols] = pd.NA  # Set dummies to NaN where original was NaN\n",
        "\n",
        "# Save the final result in a DataFrame named df_enc_oh\n",
        "df_enc_oh = df_encoded\n",
        "\n",
        "# Display the DataFrame to check the transformation\n",
        "print(df_enc_oh.head())\n",
        "# drop the Omit columns, if any of these are in the data frame\n",
        "df_enc_oh.drop(['ISSUE16_Omit', 'QLT16_Omit', 'TRACK_Omit','IMMWALL_Omit','GOVTDO10_Omit'],\n",
        "                axis=1, inplace=True, errors='ignore')\n",
        "\n",
        "# if a respondent did not answer a question, make sure they have NaN in all the columns corresonding to that question"
      ]
    },
    {
      "cell_type": "markdown",
      "metadata": {
        "id": "z-9wLfJXjA5z"
      },
      "source": [
        "#### Stack columns"
      ]
    },
    {
      "cell_type": "markdown",
      "metadata": {
        "id": "IaFppTL0jA5z"
      },
      "source": [
        "Now, we’ll create a combined data frame with all of the encoded features:"
      ]
    },
    {
      "cell_type": "code",
      "execution_count": 184,
      "metadata": {
        "id": "9slaGK36jA5z"
      },
      "outputs": [],
      "source": [
        "X = pd.concat([df_enc_oh, df_enc_ord], axis=1)"
      ]
    },
    {
      "cell_type": "code",
      "execution_count": 185,
      "metadata": {
        "colab": {
          "base_uri": "https://localhost:8080/",
          "height": 337
        },
        "id": "SYUfslc8jA5z",
        "outputId": "a471ecce-4b85-40be-f99c-4d3b0f5f5989"
      },
      "outputs": [
        {
          "data": {
            "application/vnd.google.colaboratory.intrinsic+json": {
              "summary": "{\n  \"name\": \"X\",\n  \"rows\": 8,\n  \"fields\": [\n    {\n      \"column\": \"MARRIED_No\",\n      \"properties\": {\n        \"dtype\": \"number\",\n        \"std\": 330.7806118025205,\n        \"min\": 0.0,\n        \"max\": 936.0,\n        \"num_unique_values\": 5,\n        \"samples\": [\n          0.3942307692307692,\n          1.0,\n          0.4889460958597788\n        ],\n        \"semantic_type\": \"\",\n        \"description\": \"\"\n      }\n    },\n    {\n      \"column\": \"MARRIED_Yes\",\n      \"properties\": {\n        \"dtype\": \"number\",\n        \"std\": 330.71942074416967,\n        \"min\": 0.0,\n        \"max\": 936.0,\n        \"num_unique_values\": 5,\n        \"samples\": [\n          0.6057692307692307,\n          1.0,\n          0.48894609585977866\n        ],\n        \"semantic_type\": \"\",\n        \"description\": \"\"\n      }\n    },\n    {\n      \"column\": \"ISSUE16_Foreign policy\",\n      \"properties\": {\n        \"dtype\": \"number\",\n        \"std\": 415.34876350991493,\n        \"min\": 0.0,\n        \"max\": 1175.0,\n        \"num_unique_values\": 5,\n        \"samples\": [\n          0.1548936170212766,\n          1.0,\n          0.3619572971016765\n        ],\n        \"semantic_type\": \"\",\n        \"description\": \"\"\n      }\n    },\n    {\n      \"column\": \"ISSUE16_Immigration\",\n      \"properties\": {\n        \"dtype\": \"number\",\n        \"std\": 415.3503078493703,\n        \"min\": 0.0,\n        \"max\": 1175.0,\n        \"num_unique_values\": 5,\n        \"samples\": [\n          0.13957446808510637,\n          1.0,\n          0.3466925585909208\n        ],\n        \"semantic_type\": \"\",\n        \"description\": \"\"\n      }\n    },\n    {\n      \"column\": \"ISSUE16_Terrorism\",\n      \"properties\": {\n        \"dtype\": \"number\",\n        \"std\": 415.3428633670607,\n        \"min\": 0.0,\n        \"max\": 1175.0,\n        \"num_unique_values\": 5,\n        \"samples\": [\n          0.2195744680851064,\n          1.0,\n          0.41413462167169407\n        ],\n        \"semantic_type\": \"\",\n        \"description\": \"\"\n      }\n    },\n    {\n      \"column\": \"ISSUE16_The economy\",\n      \"properties\": {\n        \"dtype\": \"number\",\n        \"std\": 415.2746280797743,\n        \"min\": 0.0,\n        \"max\": 1175.0,\n        \"num_unique_values\": 5,\n        \"samples\": [\n          0.48595744680851066,\n          1.0,\n          0.500015585679012\n        ],\n        \"semantic_type\": \"\",\n        \"description\": \"\"\n      }\n    },\n    {\n      \"column\": \"LGBT_No\",\n      \"properties\": {\n        \"dtype\": \"number\",\n        \"std\": 114.2920520818057,\n        \"min\": 0.0,\n        \"max\": 324.0,\n        \"num_unique_values\": 5,\n        \"samples\": [\n          0.9660493827160493,\n          1.0,\n          0.18138223336826878\n        ],\n        \"semantic_type\": \"\",\n        \"description\": \"\"\n      }\n    },\n    {\n      \"column\": \"LGBT_Yes\",\n      \"properties\": {\n        \"dtype\": \"number\",\n        \"std\": 114.49042845958405,\n        \"min\": 0.0,\n        \"max\": 324.0,\n        \"num_unique_values\": 5,\n        \"samples\": [\n          0.033950617283950615,\n          1.0,\n          0.18138223336826878\n        ],\n        \"semantic_type\": \"\",\n        \"description\": \"\"\n      }\n    },\n    {\n      \"column\": \"RACE_Asian\",\n      \"properties\": {\n        \"dtype\": \"number\",\n        \"std\": 967.9696207265944,\n        \"min\": 0.0,\n        \"max\": 2738.0,\n        \"num_unique_values\": 5,\n        \"samples\": [\n          0.02483564645726808,\n          1.0,\n          0.1556524519636742\n        ],\n        \"semantic_type\": \"\",\n        \"description\": \"\"\n      }\n    },\n    {\n      \"column\": \"RACE_Black\",\n      \"properties\": {\n        \"dtype\": \"number\",\n        \"std\": 967.959707581225,\n        \"min\": 0.0,\n        \"max\": 2738.0,\n        \"num_unique_values\": 5,\n        \"samples\": [\n          0.0902118334550767,\n          1.0,\n          0.286537336628079\n        ],\n        \"semantic_type\": \"\",\n        \"description\": \"\"\n      }\n    },\n    {\n      \"column\": \"RACE_Hispanic/Latino\",\n      \"properties\": {\n        \"dtype\": \"number\",\n        \"std\": 967.9560027922795,\n        \"min\": 0.0,\n        \"max\": 2738.0,\n        \"num_unique_values\": 5,\n        \"samples\": [\n          0.12235208181154127,\n          1.0,\n          0.32775186250187865\n        ],\n        \"semantic_type\": \"\",\n        \"description\": \"\"\n      }\n    },\n    {\n      \"column\": \"RACE_Other\",\n      \"properties\": {\n        \"dtype\": \"number\",\n        \"std\": 967.968683080926,\n        \"min\": 0.0,\n        \"max\": 2738.0,\n        \"num_unique_values\": 5,\n        \"samples\": [\n          0.0295836376917458,\n          1.0,\n          0.16946661940352778\n        ],\n        \"semantic_type\": \"\",\n        \"description\": \"\"\n      }\n    },\n    {\n      \"column\": \"RACE_White\",\n      \"properties\": {\n        \"dtype\": \"number\",\n        \"std\": 967.818381496072,\n        \"min\": 0.0,\n        \"max\": 2738.0,\n        \"num_unique_values\": 5,\n        \"samples\": [\n          0.7330168005843681,\n          1.0,\n          0.4424643188416428\n        ],\n        \"semantic_type\": \"\",\n        \"description\": \"\"\n      }\n    },\n    {\n      \"column\": \"AGE\",\n      \"properties\": {\n        \"dtype\": \"number\",\n        \"std\": 985.4871302499416,\n        \"min\": 0.0,\n        \"max\": 2788.0,\n        \"num_unique_values\": 6,\n        \"samples\": [\n          2788.0,\n          0.7185557149689145,\n          1.0\n        ],\n        \"semantic_type\": \"\",\n        \"description\": \"\"\n      }\n    },\n    {\n      \"column\": \"EDUC12R\",\n      \"properties\": {\n        \"dtype\": \"number\",\n        \"std\": 988.3581270019936,\n        \"min\": 0.0,\n        \"max\": 2796.0,\n        \"num_unique_values\": 7,\n        \"samples\": [\n          2796.0,\n          0.49856938483547925,\n          0.6666666666666666\n        ],\n        \"semantic_type\": \"\",\n        \"description\": \"\"\n      }\n    },\n    {\n      \"column\": \"FINSIT\",\n      \"properties\": {\n        \"dtype\": \"number\",\n        \"std\": 213.7302493585099,\n        \"min\": 0.0,\n        \"max\": 605.0,\n        \"num_unique_values\": 6,\n        \"samples\": [\n          605.0,\n          0.4991735537190083,\n          1.0\n        ],\n        \"semantic_type\": \"\",\n        \"description\": \"\"\n      }\n    },\n    {\n      \"column\": \"TRACK\",\n      \"properties\": {\n        \"dtype\": \"number\",\n        \"std\": 109.74754237573909,\n        \"min\": 0.0,\n        \"max\": 311.0,\n        \"num_unique_values\": 5,\n        \"samples\": [\n          0.6463022508038585,\n          1.0,\n          0.4788873111044529\n        ],\n        \"semantic_type\": \"\",\n        \"description\": \"\"\n      }\n    }\n  ]\n}",
              "type": "dataframe"
            },
            "text/html": [
              "\n",
              "  <div id=\"df-aa1ea103-4eef-4f07-8fbb-d3d9db9462e6\" class=\"colab-df-container\">\n",
              "    <div>\n",
              "<style scoped>\n",
              "    .dataframe tbody tr th:only-of-type {\n",
              "        vertical-align: middle;\n",
              "    }\n",
              "\n",
              "    .dataframe tbody tr th {\n",
              "        vertical-align: top;\n",
              "    }\n",
              "\n",
              "    .dataframe thead th {\n",
              "        text-align: right;\n",
              "    }\n",
              "</style>\n",
              "<table border=\"1\" class=\"dataframe\">\n",
              "  <thead>\n",
              "    <tr style=\"text-align: right;\">\n",
              "      <th></th>\n",
              "      <th>MARRIED_No</th>\n",
              "      <th>MARRIED_Yes</th>\n",
              "      <th>ISSUE16_Foreign policy</th>\n",
              "      <th>ISSUE16_Immigration</th>\n",
              "      <th>ISSUE16_Terrorism</th>\n",
              "      <th>ISSUE16_The economy</th>\n",
              "      <th>LGBT_No</th>\n",
              "      <th>LGBT_Yes</th>\n",
              "      <th>RACE_Asian</th>\n",
              "      <th>RACE_Black</th>\n",
              "      <th>RACE_Hispanic/Latino</th>\n",
              "      <th>RACE_Other</th>\n",
              "      <th>RACE_White</th>\n",
              "      <th>AGE</th>\n",
              "      <th>EDUC12R</th>\n",
              "      <th>FINSIT</th>\n",
              "      <th>TRACK</th>\n",
              "    </tr>\n",
              "  </thead>\n",
              "  <tbody>\n",
              "    <tr>\n",
              "      <th>count</th>\n",
              "      <td>936.000000</td>\n",
              "      <td>936.000000</td>\n",
              "      <td>1175.000000</td>\n",
              "      <td>1175.000000</td>\n",
              "      <td>1175.000000</td>\n",
              "      <td>1175.000000</td>\n",
              "      <td>324.000000</td>\n",
              "      <td>324.000000</td>\n",
              "      <td>2738.000000</td>\n",
              "      <td>2738.000000</td>\n",
              "      <td>2738.000000</td>\n",
              "      <td>2738.000000</td>\n",
              "      <td>2738.000000</td>\n",
              "      <td>2788.000000</td>\n",
              "      <td>2796.000000</td>\n",
              "      <td>605.000000</td>\n",
              "      <td>311.000000</td>\n",
              "    </tr>\n",
              "    <tr>\n",
              "      <th>mean</th>\n",
              "      <td>0.394231</td>\n",
              "      <td>0.605769</td>\n",
              "      <td>0.154894</td>\n",
              "      <td>0.139574</td>\n",
              "      <td>0.219574</td>\n",
              "      <td>0.485957</td>\n",
              "      <td>0.966049</td>\n",
              "      <td>0.033951</td>\n",
              "      <td>0.024836</td>\n",
              "      <td>0.090212</td>\n",
              "      <td>0.122352</td>\n",
              "      <td>0.029584</td>\n",
              "      <td>0.733017</td>\n",
              "      <td>0.718556</td>\n",
              "      <td>0.498569</td>\n",
              "      <td>0.499174</td>\n",
              "      <td>0.646302</td>\n",
              "    </tr>\n",
              "    <tr>\n",
              "      <th>std</th>\n",
              "      <td>0.488946</td>\n",
              "      <td>0.488946</td>\n",
              "      <td>0.361957</td>\n",
              "      <td>0.346693</td>\n",
              "      <td>0.414135</td>\n",
              "      <td>0.500016</td>\n",
              "      <td>0.181382</td>\n",
              "      <td>0.181382</td>\n",
              "      <td>0.155652</td>\n",
              "      <td>0.286537</td>\n",
              "      <td>0.327752</td>\n",
              "      <td>0.169467</td>\n",
              "      <td>0.442464</td>\n",
              "      <td>0.299533</td>\n",
              "      <td>0.343086</td>\n",
              "      <td>0.364505</td>\n",
              "      <td>0.478887</td>\n",
              "    </tr>\n",
              "    <tr>\n",
              "      <th>min</th>\n",
              "      <td>0.000000</td>\n",
              "      <td>0.000000</td>\n",
              "      <td>0.000000</td>\n",
              "      <td>0.000000</td>\n",
              "      <td>0.000000</td>\n",
              "      <td>0.000000</td>\n",
              "      <td>0.000000</td>\n",
              "      <td>0.000000</td>\n",
              "      <td>0.000000</td>\n",
              "      <td>0.000000</td>\n",
              "      <td>0.000000</td>\n",
              "      <td>0.000000</td>\n",
              "      <td>0.000000</td>\n",
              "      <td>0.000000</td>\n",
              "      <td>0.000000</td>\n",
              "      <td>0.000000</td>\n",
              "      <td>0.000000</td>\n",
              "    </tr>\n",
              "    <tr>\n",
              "      <th>25%</th>\n",
              "      <td>0.000000</td>\n",
              "      <td>0.000000</td>\n",
              "      <td>0.000000</td>\n",
              "      <td>0.000000</td>\n",
              "      <td>0.000000</td>\n",
              "      <td>0.000000</td>\n",
              "      <td>1.000000</td>\n",
              "      <td>0.000000</td>\n",
              "      <td>0.000000</td>\n",
              "      <td>0.000000</td>\n",
              "      <td>0.000000</td>\n",
              "      <td>0.000000</td>\n",
              "      <td>0.000000</td>\n",
              "      <td>0.666667</td>\n",
              "      <td>0.333333</td>\n",
              "      <td>0.000000</td>\n",
              "      <td>0.000000</td>\n",
              "    </tr>\n",
              "    <tr>\n",
              "      <th>50%</th>\n",
              "      <td>0.000000</td>\n",
              "      <td>1.000000</td>\n",
              "      <td>0.000000</td>\n",
              "      <td>0.000000</td>\n",
              "      <td>0.000000</td>\n",
              "      <td>0.000000</td>\n",
              "      <td>1.000000</td>\n",
              "      <td>0.000000</td>\n",
              "      <td>0.000000</td>\n",
              "      <td>0.000000</td>\n",
              "      <td>0.000000</td>\n",
              "      <td>0.000000</td>\n",
              "      <td>1.000000</td>\n",
              "      <td>0.666667</td>\n",
              "      <td>0.666667</td>\n",
              "      <td>0.500000</td>\n",
              "      <td>1.000000</td>\n",
              "    </tr>\n",
              "    <tr>\n",
              "      <th>75%</th>\n",
              "      <td>1.000000</td>\n",
              "      <td>1.000000</td>\n",
              "      <td>0.000000</td>\n",
              "      <td>0.000000</td>\n",
              "      <td>0.000000</td>\n",
              "      <td>1.000000</td>\n",
              "      <td>1.000000</td>\n",
              "      <td>0.000000</td>\n",
              "      <td>0.000000</td>\n",
              "      <td>0.000000</td>\n",
              "      <td>0.000000</td>\n",
              "      <td>0.000000</td>\n",
              "      <td>1.000000</td>\n",
              "      <td>1.000000</td>\n",
              "      <td>0.666667</td>\n",
              "      <td>1.000000</td>\n",
              "      <td>1.000000</td>\n",
              "    </tr>\n",
              "    <tr>\n",
              "      <th>max</th>\n",
              "      <td>1.000000</td>\n",
              "      <td>1.000000</td>\n",
              "      <td>1.000000</td>\n",
              "      <td>1.000000</td>\n",
              "      <td>1.000000</td>\n",
              "      <td>1.000000</td>\n",
              "      <td>1.000000</td>\n",
              "      <td>1.000000</td>\n",
              "      <td>1.000000</td>\n",
              "      <td>1.000000</td>\n",
              "      <td>1.000000</td>\n",
              "      <td>1.000000</td>\n",
              "      <td>1.000000</td>\n",
              "      <td>1.000000</td>\n",
              "      <td>1.000000</td>\n",
              "      <td>1.000000</td>\n",
              "      <td>1.000000</td>\n",
              "    </tr>\n",
              "  </tbody>\n",
              "</table>\n",
              "</div>\n",
              "    <div class=\"colab-df-buttons\">\n",
              "\n",
              "  <div class=\"colab-df-container\">\n",
              "    <button class=\"colab-df-convert\" onclick=\"convertToInteractive('df-aa1ea103-4eef-4f07-8fbb-d3d9db9462e6')\"\n",
              "            title=\"Convert this dataframe to an interactive table.\"\n",
              "            style=\"display:none;\">\n",
              "\n",
              "  <svg xmlns=\"http://www.w3.org/2000/svg\" height=\"24px\" viewBox=\"0 -960 960 960\">\n",
              "    <path d=\"M120-120v-720h720v720H120Zm60-500h600v-160H180v160Zm220 220h160v-160H400v160Zm0 220h160v-160H400v160ZM180-400h160v-160H180v160Zm440 0h160v-160H620v160ZM180-180h160v-160H180v160Zm440 0h160v-160H620v160Z\"/>\n",
              "  </svg>\n",
              "    </button>\n",
              "\n",
              "  <style>\n",
              "    .colab-df-container {\n",
              "      display:flex;\n",
              "      gap: 12px;\n",
              "    }\n",
              "\n",
              "    .colab-df-convert {\n",
              "      background-color: #E8F0FE;\n",
              "      border: none;\n",
              "      border-radius: 50%;\n",
              "      cursor: pointer;\n",
              "      display: none;\n",
              "      fill: #1967D2;\n",
              "      height: 32px;\n",
              "      padding: 0 0 0 0;\n",
              "      width: 32px;\n",
              "    }\n",
              "\n",
              "    .colab-df-convert:hover {\n",
              "      background-color: #E2EBFA;\n",
              "      box-shadow: 0px 1px 2px rgba(60, 64, 67, 0.3), 0px 1px 3px 1px rgba(60, 64, 67, 0.15);\n",
              "      fill: #174EA6;\n",
              "    }\n",
              "\n",
              "    .colab-df-buttons div {\n",
              "      margin-bottom: 4px;\n",
              "    }\n",
              "\n",
              "    [theme=dark] .colab-df-convert {\n",
              "      background-color: #3B4455;\n",
              "      fill: #D2E3FC;\n",
              "    }\n",
              "\n",
              "    [theme=dark] .colab-df-convert:hover {\n",
              "      background-color: #434B5C;\n",
              "      box-shadow: 0px 1px 3px 1px rgba(0, 0, 0, 0.15);\n",
              "      filter: drop-shadow(0px 1px 2px rgba(0, 0, 0, 0.3));\n",
              "      fill: #FFFFFF;\n",
              "    }\n",
              "  </style>\n",
              "\n",
              "    <script>\n",
              "      const buttonEl =\n",
              "        document.querySelector('#df-aa1ea103-4eef-4f07-8fbb-d3d9db9462e6 button.colab-df-convert');\n",
              "      buttonEl.style.display =\n",
              "        google.colab.kernel.accessAllowed ? 'block' : 'none';\n",
              "\n",
              "      async function convertToInteractive(key) {\n",
              "        const element = document.querySelector('#df-aa1ea103-4eef-4f07-8fbb-d3d9db9462e6');\n",
              "        const dataTable =\n",
              "          await google.colab.kernel.invokeFunction('convertToInteractive',\n",
              "                                                    [key], {});\n",
              "        if (!dataTable) return;\n",
              "\n",
              "        const docLinkHtml = 'Like what you see? Visit the ' +\n",
              "          '<a target=\"_blank\" href=https://colab.research.google.com/notebooks/data_table.ipynb>data table notebook</a>'\n",
              "          + ' to learn more about interactive tables.';\n",
              "        element.innerHTML = '';\n",
              "        dataTable['output_type'] = 'display_data';\n",
              "        await google.colab.output.renderOutput(dataTable, element);\n",
              "        const docLink = document.createElement('div');\n",
              "        docLink.innerHTML = docLinkHtml;\n",
              "        element.appendChild(docLink);\n",
              "      }\n",
              "    </script>\n",
              "  </div>\n",
              "\n",
              "\n",
              "<div id=\"df-53726cde-8ff7-4b7c-9c23-3fe102eda185\">\n",
              "  <button class=\"colab-df-quickchart\" onclick=\"quickchart('df-53726cde-8ff7-4b7c-9c23-3fe102eda185')\"\n",
              "            title=\"Suggest charts\"\n",
              "            style=\"display:none;\">\n",
              "\n",
              "<svg xmlns=\"http://www.w3.org/2000/svg\" height=\"24px\"viewBox=\"0 0 24 24\"\n",
              "     width=\"24px\">\n",
              "    <g>\n",
              "        <path d=\"M19 3H5c-1.1 0-2 .9-2 2v14c0 1.1.9 2 2 2h14c1.1 0 2-.9 2-2V5c0-1.1-.9-2-2-2zM9 17H7v-7h2v7zm4 0h-2V7h2v10zm4 0h-2v-4h2v4z\"/>\n",
              "    </g>\n",
              "</svg>\n",
              "  </button>\n",
              "\n",
              "<style>\n",
              "  .colab-df-quickchart {\n",
              "      --bg-color: #E8F0FE;\n",
              "      --fill-color: #1967D2;\n",
              "      --hover-bg-color: #E2EBFA;\n",
              "      --hover-fill-color: #174EA6;\n",
              "      --disabled-fill-color: #AAA;\n",
              "      --disabled-bg-color: #DDD;\n",
              "  }\n",
              "\n",
              "  [theme=dark] .colab-df-quickchart {\n",
              "      --bg-color: #3B4455;\n",
              "      --fill-color: #D2E3FC;\n",
              "      --hover-bg-color: #434B5C;\n",
              "      --hover-fill-color: #FFFFFF;\n",
              "      --disabled-bg-color: #3B4455;\n",
              "      --disabled-fill-color: #666;\n",
              "  }\n",
              "\n",
              "  .colab-df-quickchart {\n",
              "    background-color: var(--bg-color);\n",
              "    border: none;\n",
              "    border-radius: 50%;\n",
              "    cursor: pointer;\n",
              "    display: none;\n",
              "    fill: var(--fill-color);\n",
              "    height: 32px;\n",
              "    padding: 0;\n",
              "    width: 32px;\n",
              "  }\n",
              "\n",
              "  .colab-df-quickchart:hover {\n",
              "    background-color: var(--hover-bg-color);\n",
              "    box-shadow: 0 1px 2px rgba(60, 64, 67, 0.3), 0 1px 3px 1px rgba(60, 64, 67, 0.15);\n",
              "    fill: var(--button-hover-fill-color);\n",
              "  }\n",
              "\n",
              "  .colab-df-quickchart-complete:disabled,\n",
              "  .colab-df-quickchart-complete:disabled:hover {\n",
              "    background-color: var(--disabled-bg-color);\n",
              "    fill: var(--disabled-fill-color);\n",
              "    box-shadow: none;\n",
              "  }\n",
              "\n",
              "  .colab-df-spinner {\n",
              "    border: 2px solid var(--fill-color);\n",
              "    border-color: transparent;\n",
              "    border-bottom-color: var(--fill-color);\n",
              "    animation:\n",
              "      spin 1s steps(1) infinite;\n",
              "  }\n",
              "\n",
              "  @keyframes spin {\n",
              "    0% {\n",
              "      border-color: transparent;\n",
              "      border-bottom-color: var(--fill-color);\n",
              "      border-left-color: var(--fill-color);\n",
              "    }\n",
              "    20% {\n",
              "      border-color: transparent;\n",
              "      border-left-color: var(--fill-color);\n",
              "      border-top-color: var(--fill-color);\n",
              "    }\n",
              "    30% {\n",
              "      border-color: transparent;\n",
              "      border-left-color: var(--fill-color);\n",
              "      border-top-color: var(--fill-color);\n",
              "      border-right-color: var(--fill-color);\n",
              "    }\n",
              "    40% {\n",
              "      border-color: transparent;\n",
              "      border-right-color: var(--fill-color);\n",
              "      border-top-color: var(--fill-color);\n",
              "    }\n",
              "    60% {\n",
              "      border-color: transparent;\n",
              "      border-right-color: var(--fill-color);\n",
              "    }\n",
              "    80% {\n",
              "      border-color: transparent;\n",
              "      border-right-color: var(--fill-color);\n",
              "      border-bottom-color: var(--fill-color);\n",
              "    }\n",
              "    90% {\n",
              "      border-color: transparent;\n",
              "      border-bottom-color: var(--fill-color);\n",
              "    }\n",
              "  }\n",
              "</style>\n",
              "\n",
              "  <script>\n",
              "    async function quickchart(key) {\n",
              "      const quickchartButtonEl =\n",
              "        document.querySelector('#' + key + ' button');\n",
              "      quickchartButtonEl.disabled = true;  // To prevent multiple clicks.\n",
              "      quickchartButtonEl.classList.add('colab-df-spinner');\n",
              "      try {\n",
              "        const charts = await google.colab.kernel.invokeFunction(\n",
              "            'suggestCharts', [key], {});\n",
              "      } catch (error) {\n",
              "        console.error('Error during call to suggestCharts:', error);\n",
              "      }\n",
              "      quickchartButtonEl.classList.remove('colab-df-spinner');\n",
              "      quickchartButtonEl.classList.add('colab-df-quickchart-complete');\n",
              "    }\n",
              "    (() => {\n",
              "      let quickchartButtonEl =\n",
              "        document.querySelector('#df-53726cde-8ff7-4b7c-9c23-3fe102eda185 button');\n",
              "      quickchartButtonEl.style.display =\n",
              "        google.colab.kernel.accessAllowed ? 'block' : 'none';\n",
              "    })();\n",
              "  </script>\n",
              "</div>\n",
              "\n",
              "    </div>\n",
              "  </div>\n"
            ],
            "text/plain": [
              "       MARRIED_No  MARRIED_Yes  ISSUE16_Foreign policy  ISSUE16_Immigration  \\\n",
              "count  936.000000   936.000000             1175.000000          1175.000000   \n",
              "mean     0.394231     0.605769                0.154894             0.139574   \n",
              "std      0.488946     0.488946                0.361957             0.346693   \n",
              "min      0.000000     0.000000                0.000000             0.000000   \n",
              "25%      0.000000     0.000000                0.000000             0.000000   \n",
              "50%      0.000000     1.000000                0.000000             0.000000   \n",
              "75%      1.000000     1.000000                0.000000             0.000000   \n",
              "max      1.000000     1.000000                1.000000             1.000000   \n",
              "\n",
              "       ISSUE16_Terrorism  ISSUE16_The economy     LGBT_No    LGBT_Yes  \\\n",
              "count        1175.000000          1175.000000  324.000000  324.000000   \n",
              "mean            0.219574             0.485957    0.966049    0.033951   \n",
              "std             0.414135             0.500016    0.181382    0.181382   \n",
              "min             0.000000             0.000000    0.000000    0.000000   \n",
              "25%             0.000000             0.000000    1.000000    0.000000   \n",
              "50%             0.000000             0.000000    1.000000    0.000000   \n",
              "75%             0.000000             1.000000    1.000000    0.000000   \n",
              "max             1.000000             1.000000    1.000000    1.000000   \n",
              "\n",
              "        RACE_Asian   RACE_Black  RACE_Hispanic/Latino   RACE_Other  \\\n",
              "count  2738.000000  2738.000000           2738.000000  2738.000000   \n",
              "mean      0.024836     0.090212              0.122352     0.029584   \n",
              "std       0.155652     0.286537              0.327752     0.169467   \n",
              "min       0.000000     0.000000              0.000000     0.000000   \n",
              "25%       0.000000     0.000000              0.000000     0.000000   \n",
              "50%       0.000000     0.000000              0.000000     0.000000   \n",
              "75%       0.000000     0.000000              0.000000     0.000000   \n",
              "max       1.000000     1.000000              1.000000     1.000000   \n",
              "\n",
              "        RACE_White          AGE      EDUC12R      FINSIT       TRACK  \n",
              "count  2738.000000  2788.000000  2796.000000  605.000000  311.000000  \n",
              "mean      0.733017     0.718556     0.498569    0.499174    0.646302  \n",
              "std       0.442464     0.299533     0.343086    0.364505    0.478887  \n",
              "min       0.000000     0.000000     0.000000    0.000000    0.000000  \n",
              "25%       0.000000     0.666667     0.333333    0.000000    0.000000  \n",
              "50%       1.000000     0.666667     0.666667    0.500000    1.000000  \n",
              "75%       1.000000     1.000000     0.666667    1.000000    1.000000  \n",
              "max       1.000000     1.000000     1.000000    1.000000    1.000000  "
            ]
          },
          "execution_count": 185,
          "metadata": {},
          "output_type": "execute_result"
        }
      ],
      "source": [
        "X.describe()"
      ]
    },
    {
      "cell_type": "markdown",
      "metadata": {
        "id": "W1-hUKbcjA5z"
      },
      "source": [
        "#### TODO - describe your choice of features to encode"
      ]
    },
    {
      "cell_type": "markdown",
      "metadata": {
        "id": "HNK2SFwWjA5z"
      },
      "source": [
        "In a text cell, discuss the features you chose to include.\n",
        "\n",
        "Also show, for each version of the survey (1, 2, 3, 4, 5), which of the features you included are on that survey?"
      ]
    },
    {
      "cell_type": "markdown",
      "metadata": {
        "id": "GpaZ8eLLjA50"
      },
      "source": [
        "### Feature weighting"
      ]
    },
    {
      "cell_type": "markdown",
      "metadata": {
        "id": "VaM7RCP8jA50"
      },
      "source": [
        "Because the K nearest neighbor classifier weights each feature equally in the distance metric, including features that are not relevant for predicting the target variable can actually make performance worse.\n",
        "\n",
        "To improve performance, we will use feature weights, so that more important features are scaled up and less important features are scaled down."
      ]
    },
    {
      "cell_type": "markdown",
      "metadata": {
        "id": "DcRJy5HLjA50"
      },
      "source": [
        "#### 📝 Specific requirements\n",
        "\n",
        "There are many options for feature selection or feature weighting - there isn’t one right answer here! In our lesson on feature selection/weighting, we discussed two parts to the problem of identifying the best subset of features:\n",
        "\n",
        "-   **Search**: the strategy you use to determine the features or feature subsets to evaluate.\n",
        "-   **Evaluate**: the approach you use to evaluate the “goodness” of a feature or feature subset. Since this dataset has the added complication of missing values, you must also consider how you handle missing values in your evaluation.\n",
        "\n",
        "For this assignment, you will use a naive search strategy (score each feature independently). But,\n",
        "\n",
        "-   First, divide the training set into a training and validation subset (single hold-out validation set).\n",
        "-   I want you to consider **two** different scoring functions of your choice - i.e., compute two sets of “goodness” scores.\n",
        "-   When computing scores, you should not impute 0s or any other value for `NaN` values in the data. Instead, you should compute the score for a feature using only the rows in the training data where *that* feature is not missing.\n",
        "\n",
        "Then, use the hold-out validation set to decide which of the two scoring functions to use. For each scoring function,\n",
        "\n",
        "-   “Fit” a KNN model (with your custom distance function, random tie break, etc. as discussed above) on the training subset of the weighted feature data.\n",
        "-   Evaluate the model by computing its accuracy score on the held-out validation subset.\n",
        "\n",
        "Also, for full credit,\n",
        "\n",
        "-   Your solution should not assign the same weight to all features.\n",
        "-   Your solution should not weight highly the features that are least useful for predicting the target variable.\n",
        "-   Your solution *should* weight highly the features are are most useful for predicting the target variable.\n",
        "-   Your implementation should satisfy the requirements above generally, not only for this specific data. (It will be evaluated on other data.)\n",
        "-   Your solution must be well justified."
      ]
    },
    {
      "cell_type": "markdown",
      "metadata": {
        "id": "1WQfEu9QjA50"
      },
      "source": [
        "In the following cell and additional code cells as needed, implement feature weighting following the requirements described above, and return the results in `X_trans`:\n",
        "\n",
        "-   `X_trans` should have the same dimensions of `X`, but instead of each column being in the range 0-1, each column will be scaled according to its importance (more important features will be scaled up, less important features will be scaled down). You should create a variable `feat_wt` which has a weight for every feature in `X`. Then, you’ll multiply `X` by `feat_wt` to get `X_trans`.\n",
        "\n",
        "Some important notes:\n",
        "\n",
        "-   The goal is to write code for feature weighting, not to find it by manual inspection! Don’t hard-code any values.\n",
        "-   Although `X_trans` will include all rows of the data, you should not use the test data in the process of finding `feat_wt`! Feature selection and feature weighting are considered part of model fitting, and so only the training data may be used in this process.\n",
        "-   You are free to use an `sklearn` function to compute feature scores, but make sure you understand what it does and are sure it is a good fit for the data and the model."
      ]
    },
    {
      "cell_type": "code",
      "execution_count": 188,
      "metadata": {
        "id": "m9O2z0fsjA51"
      },
      "outputs": [],
      "source": [
        "# TODO - feature weighting\n",
        "\n",
        "# Xtr_fw, Xvl_fw, ytr_fw, yvl_fw = train_test_split(...) # divide training data intro training and validation split\n",
        "\n",
        "# score_1 = ... # array of scores per column for first scoring function\n",
        "# score_2 - ... # array of scores per column for second scoring function\n",
        "from sklearn.neighbors import KNeighborsClassifier\n",
        "from sklearn.metrics import accuracy_score\n",
        "from sklearn.feature_selection import mutual_info_classif\n",
        "from sklearn.model_selection import train_test_split\n",
        "# First scoring function: Mutual Information\n",
        "Xtr_fw, Xvl_fw, ytr_fw, yvl_fw = train_test_split( X.iloc[idx_tr], y.iloc[idx_tr],  test_size = 0.375, shuffle=False)\n",
        "score_1 = mutual_info_classif(Xtr_fw.fillna(0), ytr_fw)\n",
        "score_1 = score_1 / score_1.sum()  # Normalize scores\n",
        "score_2 = Xtr_fw.apply(lambda col: abs(col.corr(ytr_fw)), axis=0).fillna(0).to_numpy()\n",
        "score_2 = score_2 / score_2.sum()  # Normalize scores\n",
        "Xtr_fw_filled = Xtr_fw.fillna(Xtr_fw.mean())\n",
        "Xvl_fw_filled = Xvl_fw.fillna(Xvl_fw.mean())\n",
        "\n",
        "# Fit a KNN model using score_1 for feature weights\n",
        "feat_wt_1 = score_1\n",
        "Xtr_fw_wt_1 = Xtr_fw_filled.multiply(feat_wt_1)\n",
        "Xvl_fw_wt_1 = Xvl_fw_filled.multiply(feat_wt_1)\n",
        "\n",
        "knn_1 = KNeighborsClassifier()\n",
        "knn_1.fit(Xtr_fw_wt_1, ytr_fw)\n",
        "yvl_pred_1 = knn_1.predict(Xvl_fw_wt_1)\n",
        "acc_1 = accuracy_score(yvl_fw, yvl_pred_1)\n",
        "\n",
        "# Fit a KNN model using score_2 for feature weights\n",
        "feat_wt_2 = score_2\n",
        "Xtr_fw_wt_2 = Xtr_fw_filled.multiply(feat_wt_2)\n",
        "Xvl_fw_wt_2 = Xvl_fw_filled.multiply(feat_wt_2)\n",
        "\n",
        "knn_2 = KNeighborsClassifier()\n",
        "knn_2.fit(Xtr_fw_wt_2, ytr_fw)\n",
        "yvl_pred_2 = knn_2.predict(Xvl_fw_wt_2)\n",
        "acc_2 = accuracy_score(yvl_fw, yvl_pred_2)\n",
        "\n",
        "# feat_wt = ... # final feature weights (whichever of score_1 or score_2 is better)\n",
        "if acc_1 > acc_2:\n",
        "    feat_wt = feat_wt_1\n",
        "else:\n",
        "    feat_wt = feat_wt_2\n",
        "# X_trans = X.multiply(feat_wt)\n",
        "X_filled = X.fillna(X.mean())  # Fill NaN values in the original data\n",
        "X_trans = X_filled.multiply(feat_wt)"
      ]
    },
    {
      "cell_type": "markdown",
      "metadata": {
        "id": "LwGh-dRljA51"
      },
      "source": [
        "Check your work:"
      ]
    },
    {
      "cell_type": "code",
      "execution_count": 189,
      "metadata": {
        "colab": {
          "base_uri": "https://localhost:8080/",
          "height": 337
        },
        "id": "GsudfjD5jA51",
        "outputId": "093200bd-e11b-4009-a577-eb04dc443a34"
      },
      "outputs": [
        {
          "data": {
            "application/vnd.google.colaboratory.intrinsic+json": {
              "summary": "{\n  \"name\": \"X_trans\",\n  \"rows\": 8,\n  \"fields\": [\n    {\n      \"column\": \"MARRIED_No\",\n      \"properties\": {\n        \"dtype\": \"number\",\n        \"std\": 1000.1967480759953,\n        \"min\": 0.0,\n        \"max\": 2829.0,\n        \"num_unique_values\": 6,\n        \"samples\": [\n          2829.0,\n          0.015823327989717133,\n          0.04013722221781906\n        ],\n        \"semantic_type\": \"\",\n        \"description\": \"\"\n      }\n    },\n    {\n      \"column\": \"MARRIED_Yes\",\n      \"properties\": {\n        \"dtype\": \"number\",\n        \"std\": 1000.1950327286645,\n        \"min\": 0.0,\n        \"max\": 2829.0,\n        \"num_unique_values\": 5,\n        \"samples\": [\n          0.02431389422810193,\n          0.04013722221781906,\n          0.011284294150910439\n        ],\n        \"semantic_type\": \"\",\n        \"description\": \"\"\n      }\n    },\n    {\n      \"column\": \"ISSUE16_Foreign policy\",\n      \"properties\": {\n        \"dtype\": \"number\",\n        \"std\": 1000.2000235048331,\n        \"min\": 0.0,\n        \"max\": 2829.0,\n        \"num_unique_values\": 5,\n        \"samples\": [\n          0.0045489679043712395,\n          0.029368336745253878,\n          0.006849060991145889\n        ],\n        \"semantic_type\": \"\",\n        \"description\": \"\"\n      }\n    },\n    {\n      \"column\": \"ISSUE16_Immigration\",\n      \"properties\": {\n        \"dtype\": \"number\",\n        \"std\": 1000.1981382213663,\n        \"min\": 0.0,\n        \"max\": 2829.0,\n        \"num_unique_values\": 5,\n        \"samples\": [\n          0.007411189923298991,\n          0.05309846438948973,\n          0.011860986931425862\n        ],\n        \"semantic_type\": \"\",\n        \"description\": \"\"\n      }\n    },\n    {\n      \"column\": \"ISSUE16_Terrorism\",\n      \"properties\": {\n        \"dtype\": \"number\",\n        \"std\": 1000.2005748644548,\n        \"min\": 0.0,\n        \"max\": 2829.0,\n        \"num_unique_values\": 5,\n        \"samples\": [\n          0.0044412505996531135,\n          0.020226625792993832,\n          0.005397085830166005\n        ],\n        \"semantic_type\": \"\",\n        \"description\": \"\"\n      }\n    },\n    {\n      \"column\": \"ISSUE16_The economy\",\n      \"properties\": {\n        \"dtype\": \"number\",\n        \"std\": 1000.1972252479222,\n        \"min\": 0.0,\n        \"max\": 2829.0,\n        \"num_unique_values\": 5,\n        \"samples\": [\n          0.015662982865792853,\n          0.032231181904214715,\n          0.01038374749664702\n        ],\n        \"semantic_type\": \"\",\n        \"description\": \"\"\n      }\n    },\n    {\n      \"column\": \"LGBT_No\",\n      \"properties\": {\n        \"dtype\": \"number\",\n        \"std\": 1000.1870400253387,\n        \"min\": 0.0,\n        \"max\": 2829.0,\n        \"num_unique_values\": 6,\n        \"samples\": [\n          2829.0,\n          0.06019894470799648,\n          0.06231456257313373\n        ],\n        \"semantic_type\": \"\",\n        \"description\": \"\"\n      }\n    },\n    {\n      \"column\": \"LGBT_Yes\",\n      \"properties\": {\n        \"dtype\": \"number\",\n        \"std\": 1000.1987744998213,\n        \"min\": 0.0,\n        \"max\": 2829.0,\n        \"num_unique_values\": 6,\n        \"samples\": [\n          2829.0,\n          0.0021156178651372567,\n          0.06231456257313373\n        ],\n        \"semantic_type\": \"\",\n        \"description\": \"\"\n      }\n    },\n    {\n      \"column\": \"RACE_Asian\",\n      \"properties\": {\n        \"dtype\": \"number\",\n        \"std\": 1000.2016712999533,\n        \"min\": 0.0,\n        \"max\": 2829.0,\n        \"num_unique_values\": 5,\n        \"samples\": [\n          0.00036345931657453206,\n          0.01463458248207454,\n          0.0022409594562922018\n        ],\n        \"semantic_type\": \"\",\n        \"description\": \"\"\n      }\n    },\n    {\n      \"column\": \"RACE_Black\",\n      \"properties\": {\n        \"dtype\": \"number\",\n        \"std\": 1000.1962156754694,\n        \"min\": 0.0,\n        \"max\": 2829.0,\n        \"num_unique_values\": 5,\n        \"samples\": [\n          0.008235774950265187,\n          0.09129373203978171,\n          0.025734745463963253\n        ],\n        \"semantic_type\": \"\",\n        \"description\": \"\"\n      }\n    },\n    {\n      \"column\": \"RACE_Hispanic/Latino\",\n      \"properties\": {\n        \"dtype\": \"number\",\n        \"std\": 1000.200199904506,\n        \"min\": 0.0,\n        \"max\": 2829.0,\n        \"num_unique_values\": 5,\n        \"samples\": [\n          0.003927028309528322,\n          0.03209612988504043,\n          0.010348931999023024\n        ],\n        \"semantic_type\": \"\",\n        \"description\": \"\"\n      }\n    },\n    {\n      \"column\": \"RACE_Other\",\n      \"properties\": {\n        \"dtype\": \"number\",\n        \"std\": 1000.2023005095742,\n        \"min\": 0.0,\n        \"max\": 2829.0,\n        \"num_unique_values\": 5,\n        \"samples\": [\n          0.00011823190684560099,\n          0.0039965303820155,\n          0.000666292586393091\n        ],\n        \"semantic_type\": \"\",\n        \"description\": \"\"\n      }\n    },\n    {\n      \"column\": \"RACE_White\",\n      \"properties\": {\n        \"dtype\": \"number\",\n        \"std\": 1000.1832564154682,\n        \"min\": 0.0,\n        \"max\": 2829.0,\n        \"num_unique_values\": 5,\n        \"samples\": [\n          0.06715013871702655,\n          0.09160791221087129,\n          0.03987575653694178\n        ],\n        \"semantic_type\": \"\",\n        \"description\": \"\"\n      }\n    },\n    {\n      \"column\": \"AGE\",\n      \"properties\": {\n        \"dtype\": \"number\",\n        \"std\": 1000.1973043724079,\n        \"min\": 0.0,\n        \"max\": 2829.0,\n        \"num_unique_values\": 6,\n        \"samples\": [\n          2829.0,\n          0.017132714818587004,\n          0.023843265680975324\n        ],\n        \"semantic_type\": \"\",\n        \"description\": \"\"\n      }\n    },\n    {\n      \"column\": \"EDUC12R\",\n      \"properties\": {\n        \"dtype\": \"number\",\n        \"std\": 1000.1987421023263,\n        \"min\": 0.0,\n        \"max\": 2829.0,\n        \"num_unique_values\": 8,\n        \"samples\": [\n          0.011236394875614777,\n          0.011236394875614775,\n          2829.0\n        ],\n        \"semantic_type\": \"\",\n        \"description\": \"\"\n      }\n    },\n    {\n      \"column\": \"FINSIT\",\n      \"properties\": {\n        \"dtype\": \"number\",\n        \"std\": 1000.1797684477635,\n        \"min\": 0.0,\n        \"max\": 2829.0,\n        \"num_unique_values\": 5,\n        \"samples\": [\n          0.07111275457533549,\n          0.1424609818479403,\n          0.023998142787830388\n        ],\n        \"semantic_type\": \"\",\n        \"description\": \"\"\n      }\n    },\n    {\n      \"column\": \"TRACK\",\n      \"properties\": {\n        \"dtype\": \"number\",\n        \"std\": 1000.1575981755068,\n        \"min\": 0.0,\n        \"max\": 2829.0,\n        \"num_unique_values\": 6,\n        \"samples\": [\n          2829.0,\n          0.15362695822440037,\n          0.23770141297407224\n        ],\n        \"semantic_type\": \"\",\n        \"description\": \"\"\n      }\n    }\n  ]\n}",
              "type": "dataframe"
            },
            "text/html": [
              "\n",
              "  <div id=\"df-68c60655-9a64-4d76-b2fa-ee79c429f301\" class=\"colab-df-container\">\n",
              "    <div>\n",
              "<style scoped>\n",
              "    .dataframe tbody tr th:only-of-type {\n",
              "        vertical-align: middle;\n",
              "    }\n",
              "\n",
              "    .dataframe tbody tr th {\n",
              "        vertical-align: top;\n",
              "    }\n",
              "\n",
              "    .dataframe thead th {\n",
              "        text-align: right;\n",
              "    }\n",
              "</style>\n",
              "<table border=\"1\" class=\"dataframe\">\n",
              "  <thead>\n",
              "    <tr style=\"text-align: right;\">\n",
              "      <th></th>\n",
              "      <th>MARRIED_No</th>\n",
              "      <th>MARRIED_Yes</th>\n",
              "      <th>ISSUE16_Foreign policy</th>\n",
              "      <th>ISSUE16_Immigration</th>\n",
              "      <th>ISSUE16_Terrorism</th>\n",
              "      <th>ISSUE16_The economy</th>\n",
              "      <th>LGBT_No</th>\n",
              "      <th>LGBT_Yes</th>\n",
              "      <th>RACE_Asian</th>\n",
              "      <th>RACE_Black</th>\n",
              "      <th>RACE_Hispanic/Latino</th>\n",
              "      <th>RACE_Other</th>\n",
              "      <th>RACE_White</th>\n",
              "      <th>AGE</th>\n",
              "      <th>EDUC12R</th>\n",
              "      <th>FINSIT</th>\n",
              "      <th>TRACK</th>\n",
              "    </tr>\n",
              "  </thead>\n",
              "  <tbody>\n",
              "    <tr>\n",
              "      <th>count</th>\n",
              "      <td>2829.000000</td>\n",
              "      <td>2829.000000</td>\n",
              "      <td>2829.000000</td>\n",
              "      <td>2829.000000</td>\n",
              "      <td>2829.000000</td>\n",
              "      <td>2829.000000</td>\n",
              "      <td>2829.000000</td>\n",
              "      <td>2829.000000</td>\n",
              "      <td>2829.000000</td>\n",
              "      <td>2829.000000</td>\n",
              "      <td>2829.000000</td>\n",
              "      <td>2829.000000</td>\n",
              "      <td>2829.000000</td>\n",
              "      <td>2829.000000</td>\n",
              "      <td>2829.000000</td>\n",
              "      <td>2829.000000</td>\n",
              "      <td>2829.000000</td>\n",
              "    </tr>\n",
              "    <tr>\n",
              "      <th>mean</th>\n",
              "      <td>0.015823</td>\n",
              "      <td>0.024314</td>\n",
              "      <td>0.004549</td>\n",
              "      <td>0.007411</td>\n",
              "      <td>0.004441</td>\n",
              "      <td>0.015663</td>\n",
              "      <td>0.060199</td>\n",
              "      <td>0.002116</td>\n",
              "      <td>0.000363</td>\n",
              "      <td>0.008236</td>\n",
              "      <td>0.003927</td>\n",
              "      <td>0.000118</td>\n",
              "      <td>0.067150</td>\n",
              "      <td>0.017133</td>\n",
              "      <td>0.011236</td>\n",
              "      <td>0.071113</td>\n",
              "      <td>0.153627</td>\n",
              "    </tr>\n",
              "    <tr>\n",
              "      <th>std</th>\n",
              "      <td>0.011284</td>\n",
              "      <td>0.011284</td>\n",
              "      <td>0.006849</td>\n",
              "      <td>0.011861</td>\n",
              "      <td>0.005397</td>\n",
              "      <td>0.010384</td>\n",
              "      <td>0.003820</td>\n",
              "      <td>0.003820</td>\n",
              "      <td>0.002241</td>\n",
              "      <td>0.025735</td>\n",
              "      <td>0.010349</td>\n",
              "      <td>0.000666</td>\n",
              "      <td>0.039876</td>\n",
              "      <td>0.007090</td>\n",
              "      <td>0.007687</td>\n",
              "      <td>0.023998</td>\n",
              "      <td>0.037688</td>\n",
              "    </tr>\n",
              "    <tr>\n",
              "      <th>min</th>\n",
              "      <td>0.000000</td>\n",
              "      <td>0.000000</td>\n",
              "      <td>0.000000</td>\n",
              "      <td>0.000000</td>\n",
              "      <td>0.000000</td>\n",
              "      <td>0.000000</td>\n",
              "      <td>0.000000</td>\n",
              "      <td>0.000000</td>\n",
              "      <td>0.000000</td>\n",
              "      <td>0.000000</td>\n",
              "      <td>0.000000</td>\n",
              "      <td>0.000000</td>\n",
              "      <td>0.000000</td>\n",
              "      <td>0.000000</td>\n",
              "      <td>0.000000</td>\n",
              "      <td>0.000000</td>\n",
              "      <td>0.000000</td>\n",
              "    </tr>\n",
              "    <tr>\n",
              "      <th>25%</th>\n",
              "      <td>0.015823</td>\n",
              "      <td>0.024314</td>\n",
              "      <td>0.000000</td>\n",
              "      <td>0.000000</td>\n",
              "      <td>0.000000</td>\n",
              "      <td>0.015663</td>\n",
              "      <td>0.060199</td>\n",
              "      <td>0.002116</td>\n",
              "      <td>0.000000</td>\n",
              "      <td>0.000000</td>\n",
              "      <td>0.000000</td>\n",
              "      <td>0.000000</td>\n",
              "      <td>0.000000</td>\n",
              "      <td>0.015896</td>\n",
              "      <td>0.007512</td>\n",
              "      <td>0.071113</td>\n",
              "      <td>0.153627</td>\n",
              "    </tr>\n",
              "    <tr>\n",
              "      <th>50%</th>\n",
              "      <td>0.015823</td>\n",
              "      <td>0.024314</td>\n",
              "      <td>0.004549</td>\n",
              "      <td>0.007411</td>\n",
              "      <td>0.004441</td>\n",
              "      <td>0.015663</td>\n",
              "      <td>0.060199</td>\n",
              "      <td>0.002116</td>\n",
              "      <td>0.000000</td>\n",
              "      <td>0.000000</td>\n",
              "      <td>0.000000</td>\n",
              "      <td>0.000000</td>\n",
              "      <td>0.091608</td>\n",
              "      <td>0.015896</td>\n",
              "      <td>0.011236</td>\n",
              "      <td>0.071113</td>\n",
              "      <td>0.153627</td>\n",
              "    </tr>\n",
              "    <tr>\n",
              "      <th>75%</th>\n",
              "      <td>0.015823</td>\n",
              "      <td>0.024314</td>\n",
              "      <td>0.004549</td>\n",
              "      <td>0.007411</td>\n",
              "      <td>0.004441</td>\n",
              "      <td>0.015663</td>\n",
              "      <td>0.060199</td>\n",
              "      <td>0.002116</td>\n",
              "      <td>0.000000</td>\n",
              "      <td>0.000000</td>\n",
              "      <td>0.000000</td>\n",
              "      <td>0.000000</td>\n",
              "      <td>0.091608</td>\n",
              "      <td>0.023843</td>\n",
              "      <td>0.015025</td>\n",
              "      <td>0.071113</td>\n",
              "      <td>0.153627</td>\n",
              "    </tr>\n",
              "    <tr>\n",
              "      <th>max</th>\n",
              "      <td>0.040137</td>\n",
              "      <td>0.040137</td>\n",
              "      <td>0.029368</td>\n",
              "      <td>0.053098</td>\n",
              "      <td>0.020227</td>\n",
              "      <td>0.032231</td>\n",
              "      <td>0.062315</td>\n",
              "      <td>0.062315</td>\n",
              "      <td>0.014635</td>\n",
              "      <td>0.091294</td>\n",
              "      <td>0.032096</td>\n",
              "      <td>0.003997</td>\n",
              "      <td>0.091608</td>\n",
              "      <td>0.023843</td>\n",
              "      <td>0.022537</td>\n",
              "      <td>0.142461</td>\n",
              "      <td>0.237701</td>\n",
              "    </tr>\n",
              "  </tbody>\n",
              "</table>\n",
              "</div>\n",
              "    <div class=\"colab-df-buttons\">\n",
              "\n",
              "  <div class=\"colab-df-container\">\n",
              "    <button class=\"colab-df-convert\" onclick=\"convertToInteractive('df-68c60655-9a64-4d76-b2fa-ee79c429f301')\"\n",
              "            title=\"Convert this dataframe to an interactive table.\"\n",
              "            style=\"display:none;\">\n",
              "\n",
              "  <svg xmlns=\"http://www.w3.org/2000/svg\" height=\"24px\" viewBox=\"0 -960 960 960\">\n",
              "    <path d=\"M120-120v-720h720v720H120Zm60-500h600v-160H180v160Zm220 220h160v-160H400v160Zm0 220h160v-160H400v160ZM180-400h160v-160H180v160Zm440 0h160v-160H620v160ZM180-180h160v-160H180v160Zm440 0h160v-160H620v160Z\"/>\n",
              "  </svg>\n",
              "    </button>\n",
              "\n",
              "  <style>\n",
              "    .colab-df-container {\n",
              "      display:flex;\n",
              "      gap: 12px;\n",
              "    }\n",
              "\n",
              "    .colab-df-convert {\n",
              "      background-color: #E8F0FE;\n",
              "      border: none;\n",
              "      border-radius: 50%;\n",
              "      cursor: pointer;\n",
              "      display: none;\n",
              "      fill: #1967D2;\n",
              "      height: 32px;\n",
              "      padding: 0 0 0 0;\n",
              "      width: 32px;\n",
              "    }\n",
              "\n",
              "    .colab-df-convert:hover {\n",
              "      background-color: #E2EBFA;\n",
              "      box-shadow: 0px 1px 2px rgba(60, 64, 67, 0.3), 0px 1px 3px 1px rgba(60, 64, 67, 0.15);\n",
              "      fill: #174EA6;\n",
              "    }\n",
              "\n",
              "    .colab-df-buttons div {\n",
              "      margin-bottom: 4px;\n",
              "    }\n",
              "\n",
              "    [theme=dark] .colab-df-convert {\n",
              "      background-color: #3B4455;\n",
              "      fill: #D2E3FC;\n",
              "    }\n",
              "\n",
              "    [theme=dark] .colab-df-convert:hover {\n",
              "      background-color: #434B5C;\n",
              "      box-shadow: 0px 1px 3px 1px rgba(0, 0, 0, 0.15);\n",
              "      filter: drop-shadow(0px 1px 2px rgba(0, 0, 0, 0.3));\n",
              "      fill: #FFFFFF;\n",
              "    }\n",
              "  </style>\n",
              "\n",
              "    <script>\n",
              "      const buttonEl =\n",
              "        document.querySelector('#df-68c60655-9a64-4d76-b2fa-ee79c429f301 button.colab-df-convert');\n",
              "      buttonEl.style.display =\n",
              "        google.colab.kernel.accessAllowed ? 'block' : 'none';\n",
              "\n",
              "      async function convertToInteractive(key) {\n",
              "        const element = document.querySelector('#df-68c60655-9a64-4d76-b2fa-ee79c429f301');\n",
              "        const dataTable =\n",
              "          await google.colab.kernel.invokeFunction('convertToInteractive',\n",
              "                                                    [key], {});\n",
              "        if (!dataTable) return;\n",
              "\n",
              "        const docLinkHtml = 'Like what you see? Visit the ' +\n",
              "          '<a target=\"_blank\" href=https://colab.research.google.com/notebooks/data_table.ipynb>data table notebook</a>'\n",
              "          + ' to learn more about interactive tables.';\n",
              "        element.innerHTML = '';\n",
              "        dataTable['output_type'] = 'display_data';\n",
              "        await google.colab.output.renderOutput(dataTable, element);\n",
              "        const docLink = document.createElement('div');\n",
              "        docLink.innerHTML = docLinkHtml;\n",
              "        element.appendChild(docLink);\n",
              "      }\n",
              "    </script>\n",
              "  </div>\n",
              "\n",
              "\n",
              "<div id=\"df-27c238c3-de85-4962-959d-faeedb6aa1fc\">\n",
              "  <button class=\"colab-df-quickchart\" onclick=\"quickchart('df-27c238c3-de85-4962-959d-faeedb6aa1fc')\"\n",
              "            title=\"Suggest charts\"\n",
              "            style=\"display:none;\">\n",
              "\n",
              "<svg xmlns=\"http://www.w3.org/2000/svg\" height=\"24px\"viewBox=\"0 0 24 24\"\n",
              "     width=\"24px\">\n",
              "    <g>\n",
              "        <path d=\"M19 3H5c-1.1 0-2 .9-2 2v14c0 1.1.9 2 2 2h14c1.1 0 2-.9 2-2V5c0-1.1-.9-2-2-2zM9 17H7v-7h2v7zm4 0h-2V7h2v10zm4 0h-2v-4h2v4z\"/>\n",
              "    </g>\n",
              "</svg>\n",
              "  </button>\n",
              "\n",
              "<style>\n",
              "  .colab-df-quickchart {\n",
              "      --bg-color: #E8F0FE;\n",
              "      --fill-color: #1967D2;\n",
              "      --hover-bg-color: #E2EBFA;\n",
              "      --hover-fill-color: #174EA6;\n",
              "      --disabled-fill-color: #AAA;\n",
              "      --disabled-bg-color: #DDD;\n",
              "  }\n",
              "\n",
              "  [theme=dark] .colab-df-quickchart {\n",
              "      --bg-color: #3B4455;\n",
              "      --fill-color: #D2E3FC;\n",
              "      --hover-bg-color: #434B5C;\n",
              "      --hover-fill-color: #FFFFFF;\n",
              "      --disabled-bg-color: #3B4455;\n",
              "      --disabled-fill-color: #666;\n",
              "  }\n",
              "\n",
              "  .colab-df-quickchart {\n",
              "    background-color: var(--bg-color);\n",
              "    border: none;\n",
              "    border-radius: 50%;\n",
              "    cursor: pointer;\n",
              "    display: none;\n",
              "    fill: var(--fill-color);\n",
              "    height: 32px;\n",
              "    padding: 0;\n",
              "    width: 32px;\n",
              "  }\n",
              "\n",
              "  .colab-df-quickchart:hover {\n",
              "    background-color: var(--hover-bg-color);\n",
              "    box-shadow: 0 1px 2px rgba(60, 64, 67, 0.3), 0 1px 3px 1px rgba(60, 64, 67, 0.15);\n",
              "    fill: var(--button-hover-fill-color);\n",
              "  }\n",
              "\n",
              "  .colab-df-quickchart-complete:disabled,\n",
              "  .colab-df-quickchart-complete:disabled:hover {\n",
              "    background-color: var(--disabled-bg-color);\n",
              "    fill: var(--disabled-fill-color);\n",
              "    box-shadow: none;\n",
              "  }\n",
              "\n",
              "  .colab-df-spinner {\n",
              "    border: 2px solid var(--fill-color);\n",
              "    border-color: transparent;\n",
              "    border-bottom-color: var(--fill-color);\n",
              "    animation:\n",
              "      spin 1s steps(1) infinite;\n",
              "  }\n",
              "\n",
              "  @keyframes spin {\n",
              "    0% {\n",
              "      border-color: transparent;\n",
              "      border-bottom-color: var(--fill-color);\n",
              "      border-left-color: var(--fill-color);\n",
              "    }\n",
              "    20% {\n",
              "      border-color: transparent;\n",
              "      border-left-color: var(--fill-color);\n",
              "      border-top-color: var(--fill-color);\n",
              "    }\n",
              "    30% {\n",
              "      border-color: transparent;\n",
              "      border-left-color: var(--fill-color);\n",
              "      border-top-color: var(--fill-color);\n",
              "      border-right-color: var(--fill-color);\n",
              "    }\n",
              "    40% {\n",
              "      border-color: transparent;\n",
              "      border-right-color: var(--fill-color);\n",
              "      border-top-color: var(--fill-color);\n",
              "    }\n",
              "    60% {\n",
              "      border-color: transparent;\n",
              "      border-right-color: var(--fill-color);\n",
              "    }\n",
              "    80% {\n",
              "      border-color: transparent;\n",
              "      border-right-color: var(--fill-color);\n",
              "      border-bottom-color: var(--fill-color);\n",
              "    }\n",
              "    90% {\n",
              "      border-color: transparent;\n",
              "      border-bottom-color: var(--fill-color);\n",
              "    }\n",
              "  }\n",
              "</style>\n",
              "\n",
              "  <script>\n",
              "    async function quickchart(key) {\n",
              "      const quickchartButtonEl =\n",
              "        document.querySelector('#' + key + ' button');\n",
              "      quickchartButtonEl.disabled = true;  // To prevent multiple clicks.\n",
              "      quickchartButtonEl.classList.add('colab-df-spinner');\n",
              "      try {\n",
              "        const charts = await google.colab.kernel.invokeFunction(\n",
              "            'suggestCharts', [key], {});\n",
              "      } catch (error) {\n",
              "        console.error('Error during call to suggestCharts:', error);\n",
              "      }\n",
              "      quickchartButtonEl.classList.remove('colab-df-spinner');\n",
              "      quickchartButtonEl.classList.add('colab-df-quickchart-complete');\n",
              "    }\n",
              "    (() => {\n",
              "      let quickchartButtonEl =\n",
              "        document.querySelector('#df-27c238c3-de85-4962-959d-faeedb6aa1fc button');\n",
              "      quickchartButtonEl.style.display =\n",
              "        google.colab.kernel.accessAllowed ? 'block' : 'none';\n",
              "    })();\n",
              "  </script>\n",
              "</div>\n",
              "\n",
              "    </div>\n",
              "  </div>\n"
            ],
            "text/plain": [
              "        MARRIED_No  MARRIED_Yes  ISSUE16_Foreign policy  ISSUE16_Immigration  \\\n",
              "count  2829.000000  2829.000000             2829.000000          2829.000000   \n",
              "mean      0.015823     0.024314                0.004549             0.007411   \n",
              "std       0.011284     0.011284                0.006849             0.011861   \n",
              "min       0.000000     0.000000                0.000000             0.000000   \n",
              "25%       0.015823     0.024314                0.000000             0.000000   \n",
              "50%       0.015823     0.024314                0.004549             0.007411   \n",
              "75%       0.015823     0.024314                0.004549             0.007411   \n",
              "max       0.040137     0.040137                0.029368             0.053098   \n",
              "\n",
              "       ISSUE16_Terrorism  ISSUE16_The economy      LGBT_No     LGBT_Yes  \\\n",
              "count        2829.000000          2829.000000  2829.000000  2829.000000   \n",
              "mean            0.004441             0.015663     0.060199     0.002116   \n",
              "std             0.005397             0.010384     0.003820     0.003820   \n",
              "min             0.000000             0.000000     0.000000     0.000000   \n",
              "25%             0.000000             0.015663     0.060199     0.002116   \n",
              "50%             0.004441             0.015663     0.060199     0.002116   \n",
              "75%             0.004441             0.015663     0.060199     0.002116   \n",
              "max             0.020227             0.032231     0.062315     0.062315   \n",
              "\n",
              "        RACE_Asian   RACE_Black  RACE_Hispanic/Latino   RACE_Other  \\\n",
              "count  2829.000000  2829.000000           2829.000000  2829.000000   \n",
              "mean      0.000363     0.008236              0.003927     0.000118   \n",
              "std       0.002241     0.025735              0.010349     0.000666   \n",
              "min       0.000000     0.000000              0.000000     0.000000   \n",
              "25%       0.000000     0.000000              0.000000     0.000000   \n",
              "50%       0.000000     0.000000              0.000000     0.000000   \n",
              "75%       0.000000     0.000000              0.000000     0.000000   \n",
              "max       0.014635     0.091294              0.032096     0.003997   \n",
              "\n",
              "        RACE_White          AGE      EDUC12R       FINSIT        TRACK  \n",
              "count  2829.000000  2829.000000  2829.000000  2829.000000  2829.000000  \n",
              "mean      0.067150     0.017133     0.011236     0.071113     0.153627  \n",
              "std       0.039876     0.007090     0.007687     0.023998     0.037688  \n",
              "min       0.000000     0.000000     0.000000     0.000000     0.000000  \n",
              "25%       0.000000     0.015896     0.007512     0.071113     0.153627  \n",
              "50%       0.091608     0.015896     0.011236     0.071113     0.153627  \n",
              "75%       0.091608     0.023843     0.015025     0.071113     0.153627  \n",
              "max       0.091608     0.023843     0.022537     0.142461     0.237701  "
            ]
          },
          "execution_count": 189,
          "metadata": {},
          "output_type": "execute_result"
        }
      ],
      "source": [
        "X_trans.describe()"
      ]
    },
    {
      "cell_type": "markdown",
      "metadata": {
        "id": "ARLZjrmrjA51"
      },
      "source": [
        "#### TODO - describe your approach to feature weighting"
      ]
    },
    {
      "cell_type": "markdown",
      "metadata": {
        "id": "EqG2WoBtjA51"
      },
      "source": [
        "In a text cell, describe the approach you used for feature weighting. Your answer should include the following parts, in paragraph form:\n",
        "\n",
        "-   Describe the two alternative scoring functions you used to evaluate the “goodness” of a feature or feature subset. Why did you think these might be well suited for *this data* and *this model*?\n",
        "-   Discuss the results on the held-out validation set - which scoring function had better performance? (You must refer to specific values from your evaluation.)"
      ]
    },
    {
      "cell_type": "markdown",
      "metadata": {
        "id": "Bxp99vZRjA52"
      },
      "source": [
        "### Evaluate final classifier"
      ]
    },
    {
      "cell_type": "markdown",
      "metadata": {
        "id": "RpiOxqH_jA52"
      },
      "source": [
        "Finally, you’ll repeat the process of finding the best number of neighbors using K-fold CV, with your “transformed” data (`X_trans`) and your new custom distance metric.\n",
        "\n",
        "Then, you’ll evaluate the performance of your model on the *test* data, using that optimal number of neighbors."
      ]
    },
    {
      "cell_type": "code",
      "execution_count": 210,
      "metadata": {
        "colab": {
          "base_uri": "https://localhost:8080/"
        },
        "id": "QUqY6XNkjA52",
        "outputId": "77af622f-75ba-47b3-8c72-cd2703a9d2a3"
      },
      "outputs": [
        {
          "name": "stderr",
          "output_type": "stream",
          "text": [
            "<ipython-input-210-8df07c9be574>:17: DeprecationWarning: Conversion of an array with ndim > 0 to a scalar is deprecated, and will error in future. Ensure you extract a single element from your array before performing this operation. (Deprecated NumPy 1.25.)\n",
            "  distances_kfold[i, j] = custom_distance(a, b)\n"
          ]
        }
      ],
      "source": [
        "# TODO - evaluate - pre-compute distance matrix of training vs. training data\n",
        "\n",
        "if isinstance(X_trans, pd.DataFrame):\n",
        "    X_trans = X_trans.values\n",
        "\n",
        "n_samples = X_trans.shape[0]\n",
        "distances_kfold = np.zeros((n_samples, n_samples))\n",
        "\n",
        "for i in range(n_samples):\n",
        "    for j in range(n_samples):\n",
        "        # Grabbing 1D arrays for each sample and adding a new axis to match expected dimensions\n",
        "        a = X_trans[i][np.newaxis]  # Change shape from (17,) to (1, 17)\n",
        "        b = X_trans[j][np.newaxis]  # Change shape from (17,) to (1, 17)\n",
        "\n",
        "        try:\n",
        "            # Since custom_distance might expect a 2D input, provide it as such\n",
        "            distances_kfold[i, j] = custom_distance(a, b)\n",
        "        except np.AxisError as e:\n",
        "            print(f\"Axis error with arrays a: {a}, b: {b}, error: {e}\")\n",
        "            # Optional: Handle the error or reformat the data as needed"
      ]
    },
    {
      "cell_type": "code",
      "execution_count": 225,
      "metadata": {
        "colab": {
          "base_uri": "https://localhost:8080/"
        },
        "id": "YlPBh35bjA52",
        "outputId": "10db1699-f26d-40f9-f12e-7ff181075fde"
      },
      "outputs": [
        {
          "name": "stdout",
          "output_type": "stream",
          "text": [
            "Training features shape: (2829, 17)\n",
            "Training labels length: 2121\n"
          ]
        }
      ],
      "source": [
        "# TODO - evaluate - use K-fold CV, fill in acc_list\n",
        "\n",
        "from sklearn.model_selection import train_test_split\n",
        "\n",
        "X_train, X_test, y_train, y_test = train_test_split(X_trans, y, test_size=0.25, random_state=42)\n",
        "\n",
        "print(\"Training features shape:\", X_trans.shape)\n",
        "print(\"Training labels length:\", len(y_train))\n",
        "\n",
        "\n",
        "n_splits = 5\n",
        "kf = KFold(n_splits=n_splits, shuffle=True, random_state=3)\n",
        "k_list = np.arange(1, 31, 10)  # Example: testing k from 1 to 30 with step 10\n",
        "acc_list = np.zeros((len(k_list), n_splits))\n",
        "\n",
        "for isplit, (train_idx, test_idx) in enumerate(kf.split(X_trans)):\n",
        "    distances_train = distances_kfold[train_idx][:, train_idx]\n",
        "    distances_test = distances_kfold[test_idx][:, train_idx]\n",
        "    y_train, y_test = y[train_idx], y[test_idx]\n",
        "\n",
        "    for idx_k, k in enumerate(k_list):\n",
        "        model = KNeighborsClassifier(n_neighbors=k, metric='precomputed')\n",
        "        model.fit(distances_train, y_train)\n",
        "        y_pred = model.predict(distances_test)\n",
        "        acc_list[idx_k, isplit] = accuracy_score(y_test, y_pred)\n",
        "\n",
        "# Visualize the accuracy for different k values\n",
        "import matplotlib.pyplot as plt\n",
        "\n",
        "mean_acc = np.mean(acc_list, axis=1)\n",
        "std_acc = np.std(acc_list, axis=1)\n",
        "\n"
      ]
    },
    {
      "cell_type": "code",
      "execution_count": 224,
      "metadata": {
        "colab": {
          "base_uri": "https://localhost:8080/"
        },
        "id": "zM_txY50UeLa",
        "outputId": "9c15bd85-9966-4a9c-df32-9e1896401a15"
      },
      "outputs": [
        {
          "name": "stdout",
          "output_type": "stream",
          "text": [
            "Training features shape: (2829, 17)\n",
            "Training labels length: 2264\n"
          ]
        }
      ],
      "source": [
        "print(\"Training features shape:\", X_trans.shape)\n",
        "print(\"Training labels length:\", len(y_train))\n"
      ]
    },
    {
      "cell_type": "markdown",
      "metadata": {
        "id": "JvkcGPmqjA52"
      },
      "source": [
        "See how the validation accuracy changes with number of neighbors:"
      ]
    },
    {
      "cell_type": "code",
      "execution_count": 212,
      "metadata": {
        "colab": {
          "base_uri": "https://localhost:8080/",
          "height": 472
        },
        "id": "ZkUTV9NMjA52",
        "outputId": "fd217c07-7cff-44e3-db13-3cef0293e322"
      },
      "outputs": [
        {
          "data": {
            "image/png": "[encoded data removed]",
            "text/plain": [
              "<Figure size 640x480 with 1 Axes>"
            ]
          },
          "metadata": {},
          "output_type": "display_data"
        }
      ],
      "source": [
        "plt.errorbar(x=k_list, y=acc_list.mean(axis=1), yerr=acc_list.std(axis=1)/np.sqrt(n_fold-1));\n",
        "\n",
        "plt.xlabel(\"k (number of neighbors)\");\n",
        "plt.ylabel(\"K-fold accuracy\");\n",
        "plt.title('K-fold Accuracy by Number of Neighbors')\n",
        "plt.show()\n"
      ]
    },
    {
      "cell_type": "markdown",
      "metadata": {
        "id": "bL6WS6eFjA53"
      },
      "source": [
        "Find the best choice for k (number of neighbors) using the “highest validation accuracy” rule:"
      ]
    },
    {
      "cell_type": "code",
      "execution_count": 213,
      "metadata": {
        "colab": {
          "base_uri": "https://localhost:8080/"
        },
        "id": "2WEnCR11jA53",
        "outputId": "1a0cdb11-f3e4-45b0-8fa0-beb31a750c69"
      },
      "outputs": [
        {
          "name": "stdout",
          "output_type": "stream",
          "text": [
            "Best k by validation accuracy: 21\n"
          ]
        }
      ],
      "source": [
        "# TODO - evaluate - find best k\n",
        "best_k_idx = np.argmax(mean_acc)\n",
        "best_k = k_list[best_k_idx]\n",
        "print(f\"Best k by validation accuracy: {best_k}\")"
      ]
    },
    {
      "cell_type": "code",
      "execution_count": 220,
      "metadata": {
        "colab": {
          "base_uri": "https://localhost:8080/"
        },
        "id": "t7iKbjv6Oq0T",
        "outputId": "7049d8d9-c67f-4654-e34b-11e00d3f743b"
      },
      "outputs": [
        {
          "name": "stdout",
          "output_type": "stream",
          "text": [
            "Expected number of samples (rows in distances_kfold): 2829\n",
            "Actual number of samples in y_train: 2264\n"
          ]
        }
      ],
      "source": [
        "# Checking dimensions of distances_kfold and y_train\n",
        "# Print the number of samples expected vs. the actual number of samples in y_train\n",
        "print(\"Expected number of samples (rows in distances_kfold):\", distances_kfold.shape[0])\n",
        "print(\"Actual number of samples in y_train:\", len(y_train))\n",
        "\n",
        "\n"
      ]
    },
    {
      "cell_type": "markdown",
      "metadata": {
        "id": "LSvXmL_IjA53"
      },
      "source": [
        "Finally, re-run our KNN algorithm using the entire training set and this `best_k` number of neighbors. Check its accuracy on the test data."
      ]
    },
    {
      "cell_type": "code",
      "execution_count": 229,
      "metadata": {
        "colab": {
          "base_uri": "https://localhost:8080/"
        },
        "id": "SJ3cRjz0jA53",
        "outputId": "807f51b4-b378-4baa-9f4c-ee834e3a8f03"
      },
      "outputs": [
        {
          "name": "stdout",
          "output_type": "stream",
          "text": [
            "Test accuracy with best k: 0.6973451327433628\n"
          ]
        }
      ],
      "source": [
        "# TODO - evaluate - find accuracy\n",
        "# compute distance matrix for test vs. training data\n",
        "# use KNN with best_k to find y_pred for test data\n",
        "# Assuming the dimensions now match and continuing with the KNN fitting and prediction\n",
        "# Assuming distances_kfold is the original full matrix and y_train has the correct number of rows you want to use\n",
        "if distances_kfold.shape[0] > len(y_train):\n",
        "    distances_kfold2 = distances_kfold[:len(y_train), :len(y_train)]\n",
        "else:\n",
        "    distances_kfold2 = distances_kfold  # No slicing needed if they already match\n",
        "\n",
        "# Fit the model on the newly adjusted distance matrix\n",
        "model = KNeighborsClassifier(n_neighbors=best_k, metric='precomputed')\n",
        "model.fit(distances_kfold2, y_train)  # Fit using the adjusted training distance matrix and labels\n",
        "\n",
        "# Ensure distances_test is correctly sized and corresponds to the test set size\n",
        "y_pred = model.predict(distances_test)  # Use the test distance matrix\n",
        "\n",
        "# Evaluate the accuracy\n",
        "test_accuracy = accuracy_score(y_test, y_pred)\n",
        "print(f\"Test accuracy with best k: {test_accuracy}\")\n",
        "acc =test_accuracy\n"
      ]
    },
    {
      "cell_type": "code",
      "execution_count": 230,
      "metadata": {
        "colab": {
          "base_uri": "https://localhost:8080/"
        },
        "id": "1qd38noijA54",
        "outputId": "d84b7f54-530c-4135-a3db-b8e13cd3ab45"
      },
      "outputs": [
        {
          "name": "stdout",
          "output_type": "stream",
          "text": [
            "0.6973451327433628\n"
          ]
        }
      ],
      "source": [
        "print(acc)"
      ]
    }
  ],
  "metadata": {
    "colab": {
      "provenance": []
    },
    "kernelspec": {
      "display_name": "Python 3",
      "language": "python",
      "name": "python3"
    }
  },
  "nbformat": 4,
  "nbformat_minor": 0
}
